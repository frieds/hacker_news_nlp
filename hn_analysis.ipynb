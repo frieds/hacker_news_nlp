{
 "cells": [
  {
   "cell_type": "markdown",
   "metadata": {},
   "source": [
    "# Table of Contents"
   ]
  },
  {
   "cell_type": "markdown",
   "metadata": {},
   "source": [
    "## Import Modules"
   ]
  },
  {
   "cell_type": "markdown",
   "metadata": {},
   "source": [
    "Let's important modules for analysis, visualizations and modeling."
   ]
  },
  {
   "cell_type": "code",
   "execution_count": 56,
   "metadata": {
    "collapsed": false
   },
   "outputs": [],
   "source": [
    "import numpy as np\n",
    "import pandas as pd\n",
    "from pymongo import MongoClient\n",
    "import time\n",
    "import re\n",
    "import html\n",
    "from sklearn.decomposition import TruncatedSVD, LatentDirichletAllocation, NMF\n",
    "from sklearn.preprocessing import Normalizer\n",
    "import matplotlib.pyplot as plt\n",
    "%matplotlib inline\n",
    "import nltk\n",
    "from nltk import word_tokenize\n",
    "from nltk.corpus import stopwords\n",
    "from nltk.stem import WordNetLemmatizer \n",
    "from sklearn.feature_extraction.text import TfidfVectorizer, CountVectorizer\n",
    "from sklearn.pipeline import make_pipeline\n",
    "from sklearn.cluster import KMeans, MiniBatchKMeans, DBSCAN\n",
    "from sklearn.metrics import silhouette_score, silhouette_samples\n",
    "from gensim import corpora, models, similarities, matutils\n",
    "import logging"
   ]
  },
  {
   "cell_type": "code",
   "execution_count": 57,
   "metadata": {
    "collapsed": true
   },
   "outputs": [],
   "source": [
    "logging.basicConfig(format='%(asctime)s : %(levelname)s : %(message)s', level=logging.INFO)"
   ]
  },
  {
   "cell_type": "markdown",
   "metadata": {},
   "source": [
    "## Fetch Data from Database"
   ]
  },
  {
   "cell_type": "markdown",
   "metadata": {},
   "source": [
    "I previously made a query to my MongoDB database to fetch all the Hacker News documents recorded. Once I had enough data, I pickled a dataframe to use for analysis. "
   ]
  },
  {
   "cell_type": "code",
   "execution_count": 58,
   "metadata": {
    "collapsed": false
   },
   "outputs": [],
   "source": [
    "# client = MongoClient(\"mongodb:/{ip_address_for_mongo_server}/hacker_news_database\")\n",
    "# mydb = client.hacker_news_database  # names a database\n",
    "# collection = mydb.hacker_news_collection  # refers to my collection\n",
    "# data = pd.DataFrame(list(collection.find()))"
   ]
  },
  {
   "cell_type": "markdown",
   "metadata": {},
   "source": [
    "Turn our observations (Hacker News posts/comments) into rows. Each key from an API request is seen here as a column with its corresponding value for each observation."
   ]
  },
  {
   "cell_type": "code",
   "execution_count": 59,
   "metadata": {
    "collapsed": false
   },
   "outputs": [],
   "source": [
    "data = pd.read_pickle('three_hundred_K_hn_posts_df')"
   ]
  },
  {
   "cell_type": "code",
   "execution_count": 60,
   "metadata": {
    "collapsed": false
   },
   "outputs": [
    {
     "data": {
      "text/html": [
       "<div>\n",
       "<table border=\"1\" class=\"dataframe\">\n",
       "  <thead>\n",
       "    <tr style=\"text-align: right;\">\n",
       "      <th></th>\n",
       "      <th>_id</th>\n",
       "      <th>by</th>\n",
       "      <th>dead</th>\n",
       "      <th>deleted</th>\n",
       "      <th>descendants</th>\n",
       "      <th>kids</th>\n",
       "      <th>parent</th>\n",
       "      <th>parts</th>\n",
       "      <th>poll</th>\n",
       "      <th>score</th>\n",
       "      <th>text</th>\n",
       "      <th>time</th>\n",
       "      <th>title</th>\n",
       "      <th>type</th>\n",
       "      <th>url</th>\n",
       "    </tr>\n",
       "  </thead>\n",
       "  <tbody>\n",
       "    <tr>\n",
       "      <th>0</th>\n",
       "      <td>14170376</td>\n",
       "      <td>dragonwriter</td>\n",
       "      <td>NaN</td>\n",
       "      <td>NaN</td>\n",
       "      <td>NaN</td>\n",
       "      <td>[14170821]</td>\n",
       "      <td>14169290.0</td>\n",
       "      <td>NaN</td>\n",
       "      <td>NaN</td>\n",
       "      <td>NaN</td>\n",
       "      <td>Well, there&amp;#x27;s an interesting, tangentiall...</td>\n",
       "      <td>1492819269</td>\n",
       "      <td>NaN</td>\n",
       "      <td>comment</td>\n",
       "      <td>NaN</td>\n",
       "    </tr>\n",
       "    <tr>\n",
       "      <th>1</th>\n",
       "      <td>14170375</td>\n",
       "      <td>uncensored</td>\n",
       "      <td>NaN</td>\n",
       "      <td>NaN</td>\n",
       "      <td>NaN</td>\n",
       "      <td>NaN</td>\n",
       "      <td>14170058.0</td>\n",
       "      <td>NaN</td>\n",
       "      <td>NaN</td>\n",
       "      <td>NaN</td>\n",
       "      <td>Substansively? Tons of replies are not substan...</td>\n",
       "      <td>1492819230</td>\n",
       "      <td>NaN</td>\n",
       "      <td>comment</td>\n",
       "      <td>NaN</td>\n",
       "    </tr>\n",
       "    <tr>\n",
       "      <th>2</th>\n",
       "      <td>14170374</td>\n",
       "      <td>supernumerary</td>\n",
       "      <td>NaN</td>\n",
       "      <td>NaN</td>\n",
       "      <td>NaN</td>\n",
       "      <td>[14170677, 14170866, 14173394]</td>\n",
       "      <td>14168157.0</td>\n",
       "      <td>NaN</td>\n",
       "      <td>NaN</td>\n",
       "      <td>NaN</td>\n",
       "      <td>Regarding chicago this: \\n&lt;a href=\"https:&amp;#x2F...</td>\n",
       "      <td>1492819229</td>\n",
       "      <td>NaN</td>\n",
       "      <td>comment</td>\n",
       "      <td>NaN</td>\n",
       "    </tr>\n",
       "    <tr>\n",
       "      <th>3</th>\n",
       "      <td>14170373</td>\n",
       "      <td>bobsil1</td>\n",
       "      <td>NaN</td>\n",
       "      <td>NaN</td>\n",
       "      <td>NaN</td>\n",
       "      <td>NaN</td>\n",
       "      <td>14169489.0</td>\n",
       "      <td>NaN</td>\n",
       "      <td>NaN</td>\n",
       "      <td>NaN</td>\n",
       "      <td>Parking lots we don&amp;#x27;t need after autonomo...</td>\n",
       "      <td>1492819210</td>\n",
       "      <td>NaN</td>\n",
       "      <td>comment</td>\n",
       "      <td>NaN</td>\n",
       "    </tr>\n",
       "    <tr>\n",
       "      <th>4</th>\n",
       "      <td>14170372</td>\n",
       "      <td>thecrazyone</td>\n",
       "      <td>NaN</td>\n",
       "      <td>NaN</td>\n",
       "      <td>NaN</td>\n",
       "      <td>NaN</td>\n",
       "      <td>14168900.0</td>\n",
       "      <td>NaN</td>\n",
       "      <td>NaN</td>\n",
       "      <td>NaN</td>\n",
       "      <td>It&amp;#x27;s good to have this as a general remin...</td>\n",
       "      <td>1492819202</td>\n",
       "      <td>NaN</td>\n",
       "      <td>comment</td>\n",
       "      <td>NaN</td>\n",
       "    </tr>\n",
       "  </tbody>\n",
       "</table>\n",
       "</div>"
      ],
      "text/plain": [
       "        _id             by dead deleted  descendants  \\\n",
       "0  14170376   dragonwriter  NaN     NaN          NaN   \n",
       "1  14170375     uncensored  NaN     NaN          NaN   \n",
       "2  14170374  supernumerary  NaN     NaN          NaN   \n",
       "3  14170373        bobsil1  NaN     NaN          NaN   \n",
       "4  14170372    thecrazyone  NaN     NaN          NaN   \n",
       "\n",
       "                             kids      parent parts  poll  score  \\\n",
       "0                      [14170821]  14169290.0   NaN   NaN    NaN   \n",
       "1                             NaN  14170058.0   NaN   NaN    NaN   \n",
       "2  [14170677, 14170866, 14173394]  14168157.0   NaN   NaN    NaN   \n",
       "3                             NaN  14169489.0   NaN   NaN    NaN   \n",
       "4                             NaN  14168900.0   NaN   NaN    NaN   \n",
       "\n",
       "                                                text        time title  \\\n",
       "0  Well, there&#x27;s an interesting, tangentiall...  1492819269   NaN   \n",
       "1  Substansively? Tons of replies are not substan...  1492819230   NaN   \n",
       "2  Regarding chicago this: \\n<a href=\"https:&#x2F...  1492819229   NaN   \n",
       "3  Parking lots we don&#x27;t need after autonomo...  1492819210   NaN   \n",
       "4  It&#x27;s good to have this as a general remin...  1492819202   NaN   \n",
       "\n",
       "      type  url  \n",
       "0  comment  NaN  \n",
       "1  comment  NaN  \n",
       "2  comment  NaN  \n",
       "3  comment  NaN  \n",
       "4  comment  NaN  "
      ]
     },
     "execution_count": 60,
     "metadata": {},
     "output_type": "execute_result"
    }
   ],
   "source": [
    "data.head()"
   ]
  },
  {
   "cell_type": "markdown",
   "metadata": {},
   "source": [
    "296,745 documents in our MongoDB collection"
   ]
  },
  {
   "cell_type": "code",
   "execution_count": 61,
   "metadata": {
    "collapsed": false
   },
   "outputs": [
    {
     "data": {
      "text/plain": [
       "296745"
      ]
     },
     "execution_count": 61,
     "metadata": {},
     "output_type": "execute_result"
    }
   ],
   "source": [
    "len(data.index)"
   ]
  },
  {
   "cell_type": "markdown",
   "metadata": {},
   "source": [
    "## Clean Data"
   ]
  },
  {
   "cell_type": "code",
   "execution_count": 62,
   "metadata": {
    "collapsed": false
   },
   "outputs": [
    {
     "name": "stdout",
     "output_type": "stream",
     "text": [
      "<class 'pandas.core.frame.DataFrame'>\n",
      "RangeIndex: 296745 entries, 0 to 296744\n",
      "Data columns (total 15 columns):\n",
      "_id            296745 non-null int64\n",
      "by             287920 non-null object\n",
      "dead           14071 non-null object\n",
      "deleted        8824 non-null object\n",
      "descendants    32306 non-null float64\n",
      "kids           125967 non-null object\n",
      "parent         253433 non-null float64\n",
      "parts          4 non-null object\n",
      "poll           11 non-null float64\n",
      "score          41742 non-null float64\n",
      "text           248388 non-null object\n",
      "time           296745 non-null int64\n",
      "title          41731 non-null object\n",
      "type           296745 non-null object\n",
      "url            39260 non-null object\n",
      "dtypes: float64(4), int64(2), object(9)\n",
      "memory usage: 34.0+ MB\n"
     ]
    }
   ],
   "source": [
    "data.info()"
   ]
  },
  {
   "cell_type": "markdown",
   "metadata": {},
   "source": [
    "We have 296,745 observations (Hacker News posts/comments)"
   ]
  },
  {
   "cell_type": "code",
   "execution_count": 63,
   "metadata": {
    "collapsed": false
   },
   "outputs": [
    {
     "data": {
      "text/plain": [
       "RangeIndex(start=0, stop=296745, step=1)"
      ]
     },
     "execution_count": 63,
     "metadata": {},
     "output_type": "execute_result"
    }
   ],
   "source": [
    "data.index"
   ]
  },
  {
   "cell_type": "markdown",
   "metadata": {},
   "source": [
    "I noticed the first few Hacker News posts contained characters not seen on the site. There were HTML tags and escape characters. We ought to remove them so they don't skew our natural language processing insights.\n",
    "\n",
    "I noticed some text values appear as NaN values that are floats too."
   ]
  },
  {
   "cell_type": "code",
   "execution_count": 64,
   "metadata": {
    "collapsed": false
   },
   "outputs": [],
   "source": [
    "df = data.dropna(subset=['text'])"
   ]
  },
  {
   "cell_type": "code",
   "execution_count": 65,
   "metadata": {
    "collapsed": true
   },
   "outputs": [],
   "source": [
    "def remove_html(hn_comment):\n",
    "    \"\"\"\n",
    "    Convert all numeric character references like &gt and &#62 into corresponding unicode characters. \n",
    "    Remove HTML tags for paragraphs and italics.\n",
    "    Source: https://docs.python.org/3/library/html.html\n",
    "    \"\"\"\n",
    "    hn_comment = html.unescape(hn_comment)\n",
    "    return hn_comment"
   ]
  },
  {
   "cell_type": "markdown",
   "metadata": {},
   "source": [
    "Apply remove_html function to text column in our dataframe"
   ]
  },
  {
   "cell_type": "code",
   "execution_count": 66,
   "metadata": {
    "collapsed": false,
    "scrolled": true
   },
   "outputs": [
    {
     "name": "stderr",
     "output_type": "stream",
     "text": [
      "/Users/dan/anaconda/lib/python3.6/site-packages/pandas/core/generic.py:2773: SettingWithCopyWarning: \n",
      "A value is trying to be set on a copy of a slice from a DataFrame.\n",
      "Try using .loc[row_indexer,col_indexer] = value instead\n",
      "\n",
      "See the caveats in the documentation: http://pandas.pydata.org/pandas-docs/stable/indexing.html#indexing-view-versus-copy\n",
      "  self[name] = value\n"
     ]
    }
   ],
   "source": [
    "df.text = df.text.apply(remove_html)"
   ]
  },
  {
   "cell_type": "code",
   "execution_count": 67,
   "metadata": {
    "collapsed": false
   },
   "outputs": [
    {
     "data": {
      "text/html": [
       "<div>\n",
       "<table border=\"1\" class=\"dataframe\">\n",
       "  <thead>\n",
       "    <tr style=\"text-align: right;\">\n",
       "      <th></th>\n",
       "      <th>_id</th>\n",
       "      <th>by</th>\n",
       "      <th>dead</th>\n",
       "      <th>deleted</th>\n",
       "      <th>descendants</th>\n",
       "      <th>kids</th>\n",
       "      <th>parent</th>\n",
       "      <th>parts</th>\n",
       "      <th>poll</th>\n",
       "      <th>score</th>\n",
       "      <th>text</th>\n",
       "      <th>time</th>\n",
       "      <th>title</th>\n",
       "      <th>type</th>\n",
       "      <th>url</th>\n",
       "    </tr>\n",
       "  </thead>\n",
       "  <tbody>\n",
       "    <tr>\n",
       "      <th>0</th>\n",
       "      <td>14170376</td>\n",
       "      <td>dragonwriter</td>\n",
       "      <td>NaN</td>\n",
       "      <td>NaN</td>\n",
       "      <td>NaN</td>\n",
       "      <td>[14170821]</td>\n",
       "      <td>14169290.0</td>\n",
       "      <td>NaN</td>\n",
       "      <td>NaN</td>\n",
       "      <td>NaN</td>\n",
       "      <td>Well, there's an interesting, tangentially rel...</td>\n",
       "      <td>1492819269</td>\n",
       "      <td>NaN</td>\n",
       "      <td>comment</td>\n",
       "      <td>NaN</td>\n",
       "    </tr>\n",
       "    <tr>\n",
       "      <th>1</th>\n",
       "      <td>14170375</td>\n",
       "      <td>uncensored</td>\n",
       "      <td>NaN</td>\n",
       "      <td>NaN</td>\n",
       "      <td>NaN</td>\n",
       "      <td>NaN</td>\n",
       "      <td>14170058.0</td>\n",
       "      <td>NaN</td>\n",
       "      <td>NaN</td>\n",
       "      <td>NaN</td>\n",
       "      <td>Substansively? Tons of replies are not substan...</td>\n",
       "      <td>1492819230</td>\n",
       "      <td>NaN</td>\n",
       "      <td>comment</td>\n",
       "      <td>NaN</td>\n",
       "    </tr>\n",
       "    <tr>\n",
       "      <th>2</th>\n",
       "      <td>14170374</td>\n",
       "      <td>supernumerary</td>\n",
       "      <td>NaN</td>\n",
       "      <td>NaN</td>\n",
       "      <td>NaN</td>\n",
       "      <td>[14170677, 14170866, 14173394]</td>\n",
       "      <td>14168157.0</td>\n",
       "      <td>NaN</td>\n",
       "      <td>NaN</td>\n",
       "      <td>NaN</td>\n",
       "      <td>Regarding chicago this: \\n&lt;a href=\"https://en....</td>\n",
       "      <td>1492819229</td>\n",
       "      <td>NaN</td>\n",
       "      <td>comment</td>\n",
       "      <td>NaN</td>\n",
       "    </tr>\n",
       "    <tr>\n",
       "      <th>3</th>\n",
       "      <td>14170373</td>\n",
       "      <td>bobsil1</td>\n",
       "      <td>NaN</td>\n",
       "      <td>NaN</td>\n",
       "      <td>NaN</td>\n",
       "      <td>NaN</td>\n",
       "      <td>14169489.0</td>\n",
       "      <td>NaN</td>\n",
       "      <td>NaN</td>\n",
       "      <td>NaN</td>\n",
       "      <td>Parking lots we don't need after autonomous cars.</td>\n",
       "      <td>1492819210</td>\n",
       "      <td>NaN</td>\n",
       "      <td>comment</td>\n",
       "      <td>NaN</td>\n",
       "    </tr>\n",
       "    <tr>\n",
       "      <th>4</th>\n",
       "      <td>14170372</td>\n",
       "      <td>thecrazyone</td>\n",
       "      <td>NaN</td>\n",
       "      <td>NaN</td>\n",
       "      <td>NaN</td>\n",
       "      <td>NaN</td>\n",
       "      <td>14168900.0</td>\n",
       "      <td>NaN</td>\n",
       "      <td>NaN</td>\n",
       "      <td>NaN</td>\n",
       "      <td>It's good to have this as a general reminder: ...</td>\n",
       "      <td>1492819202</td>\n",
       "      <td>NaN</td>\n",
       "      <td>comment</td>\n",
       "      <td>NaN</td>\n",
       "    </tr>\n",
       "  </tbody>\n",
       "</table>\n",
       "</div>"
      ],
      "text/plain": [
       "        _id             by dead deleted  descendants  \\\n",
       "0  14170376   dragonwriter  NaN     NaN          NaN   \n",
       "1  14170375     uncensored  NaN     NaN          NaN   \n",
       "2  14170374  supernumerary  NaN     NaN          NaN   \n",
       "3  14170373        bobsil1  NaN     NaN          NaN   \n",
       "4  14170372    thecrazyone  NaN     NaN          NaN   \n",
       "\n",
       "                             kids      parent parts  poll  score  \\\n",
       "0                      [14170821]  14169290.0   NaN   NaN    NaN   \n",
       "1                             NaN  14170058.0   NaN   NaN    NaN   \n",
       "2  [14170677, 14170866, 14173394]  14168157.0   NaN   NaN    NaN   \n",
       "3                             NaN  14169489.0   NaN   NaN    NaN   \n",
       "4                             NaN  14168900.0   NaN   NaN    NaN   \n",
       "\n",
       "                                                text        time title  \\\n",
       "0  Well, there's an interesting, tangentially rel...  1492819269   NaN   \n",
       "1  Substansively? Tons of replies are not substan...  1492819230   NaN   \n",
       "2  Regarding chicago this: \\n<a href=\"https://en....  1492819229   NaN   \n",
       "3  Parking lots we don't need after autonomous cars.  1492819210   NaN   \n",
       "4  It's good to have this as a general reminder: ...  1492819202   NaN   \n",
       "\n",
       "      type  url  \n",
       "0  comment  NaN  \n",
       "1  comment  NaN  \n",
       "2  comment  NaN  \n",
       "3  comment  NaN  \n",
       "4  comment  NaN  "
      ]
     },
     "execution_count": 67,
     "metadata": {},
     "output_type": "execute_result"
    }
   ],
   "source": [
    "df.head()"
   ]
  },
  {
   "cell_type": "markdown",
   "metadata": {},
   "source": [
    "We still have HTML tags and \\n in our comments. Let's use regex to remove them."
   ]
  },
  {
   "cell_type": "code",
   "execution_count": 68,
   "metadata": {
    "collapsed": false,
    "scrolled": true
   },
   "outputs": [
    {
     "name": "stderr",
     "output_type": "stream",
     "text": [
      "/Users/dan/anaconda/lib/python3.6/site-packages/ipykernel/__main__.py:4: SettingWithCopyWarning: \n",
      "A value is trying to be set on a copy of a slice from a DataFrame.\n",
      "Try using .loc[row_indexer,col_indexer] = value instead\n",
      "\n",
      "See the caveats in the documentation: http://pandas.pydata.org/pandas-docs/stable/indexing.html#indexing-view-versus-copy\n"
     ]
    }
   ],
   "source": [
    "# wanted to pass parameter inplace=True but kept on getting an error; so making a copy instead\n",
    "pattern = r\"<.*?>\"\n",
    "replace = \" \"\n",
    "df['text'] = df['text'].str.replace(pattern, replace)"
   ]
  },
  {
   "cell_type": "code",
   "execution_count": 69,
   "metadata": {
    "collapsed": false
   },
   "outputs": [
    {
     "name": "stderr",
     "output_type": "stream",
     "text": [
      "/Users/dan/anaconda/lib/python3.6/site-packages/ipykernel/__main__.py:3: SettingWithCopyWarning: \n",
      "A value is trying to be set on a copy of a slice from a DataFrame.\n",
      "Try using .loc[row_indexer,col_indexer] = value instead\n",
      "\n",
      "See the caveats in the documentation: http://pandas.pydata.org/pandas-docs/stable/indexing.html#indexing-view-versus-copy\n",
      "  app.launch_new_instance()\n"
     ]
    }
   ],
   "source": [
    "pattern = r\"\\n\"\n",
    "replace = \" \"\n",
    "df['text'] = df['text'].str.replace(pattern, replace)"
   ]
  },
  {
   "cell_type": "markdown",
   "metadata": {},
   "source": [
    "Create a dataframe just of the text comment values from HN posts. We'll start with NLP analysis of just these."
   ]
  },
  {
   "cell_type": "code",
   "execution_count": 70,
   "metadata": {
    "collapsed": false
   },
   "outputs": [],
   "source": [
    "df_type_comments = df.loc[df.type == 'comment']"
   ]
  },
  {
   "cell_type": "markdown",
   "metadata": {},
   "source": [
    "## Create Vector Space from Text"
   ]
  },
  {
   "cell_type": "markdown",
   "metadata": {},
   "source": [
    "We want to derive meaning from the natural language of Hacker News comments. We must map the langauge to a vector space for analysis."
   ]
  },
  {
   "cell_type": "markdown",
   "metadata": {},
   "source": [
    "[Stemming](https://en.wikipedia.org/wiki/Stemming) allows us to reduce derived words to their word stem - aka base or root form.\n",
    "\n",
    "\"Amazon's catalog contains\" -> \"Amazon catalog contain\"\n",
    "\n",
    "Notice how the possessive form of Amazon was removed and the \"s\" ending in the word \"contains.\"\n",
    "\n",
    "[Lemmatization](https://en.wikipedia.org/wiki/Lemmatisation) is often viewed as the more powerful form of stemming. Lemming understands vocabulary and morphological analysis. Essentially, it removes inflectional endings to return the word to its base or dictionary form of a word, defined as the lemma.\n",
    "\n",
    "[Sklearn doc on using Nltk Lemmatizer](http://scikit-learn.org/stable/modules/feature_extraction.html#customizing-the-vectorizer-classes)"
   ]
  },
  {
   "cell_type": "code",
   "execution_count": 71,
   "metadata": {
    "collapsed": true
   },
   "outputs": [],
   "source": [
    "class LemmaTokenizer(object):\n",
    "    \"\"\"\n",
    "    References NLTK Lemmatization class and functionality to modify words in corpus\n",
    "    \"\"\"\n",
    "    def __init__(self):\n",
    "        self.wnl = WordNetLemmatizer()  # a call to NLTK\n",
    "    def __call__(self, doc):\n",
    "        return [self.wnl.lemmatize(t) for t in word_tokenize(doc)]  # apply lematize for each word"
   ]
  },
  {
   "cell_type": "markdown",
   "metadata": {},
   "source": [
    "The LemmaTokenizer may have caused some issue "
   ]
  },
  {
   "cell_type": "code",
   "execution_count": 72,
   "metadata": {
    "collapsed": false
   },
   "outputs": [],
   "source": [
    "count_vectorizer = CountVectorizer(min_df=10,\n",
    "                                   stop_words='english', \n",
    "                                   token_pattern='[a-z][a-z]+', \n",
    "                                   ngram_range=(1,2))\n",
    "count_vect_matrix = count_vectorizer.fit_transform(df_type_comments.text)"
   ]
  },
  {
   "cell_type": "markdown",
   "metadata": {},
   "source": [
    "TfidfVectorizer counts words in each document, and weights the counts relative to how those words appear across all documents.\n",
    "\n",
    "- min_df=10 only includes words we've seen at least 10 times\n",
    "- stop_words='english' exludes words that have very little semantic value (such as 'a', 'an', etc)\n",
    "- token_pattern='[a-z][a-z]+' makes sure we only include alphabetical-based words, not numbers.\n",
    "- ngram_range=(1,2) sets lower and upper boundary of n-values; for features we'll have words and 2-word phrases (aka bigrams)\n",
    "\n",
    "We call fit_transform() on our data to transform our data into our new features into a dimensional space that corresponds to our parameters with Tfidf\n",
    "\n",
    "[Sklearn documentation on TfidfVectorizer](http://scikit-learn.org/stable/modules/generated/sklearn.feature_extraction.text.TfidfVectorizer.html)"
   ]
  },
  {
   "cell_type": "code",
   "execution_count": 73,
   "metadata": {
    "collapsed": false
   },
   "outputs": [],
   "source": [
    "vectorizer = TfidfVectorizer(min_df = 10,\n",
    "                             stop_words = 'english',\n",
    "                             token_pattern = '[a-z][a-z]+',\n",
    "                             ngram_range = (1,2))\n",
    "X = vectorizer.fit_transform(df_type_comments.text)  # returns a Scipy sparse matrix"
   ]
  },
  {
   "cell_type": "markdown",
   "metadata": {},
   "source": [
    "We have 83,175 features after our Tfidf vectorizer"
   ]
  },
  {
   "cell_type": "code",
   "execution_count": 74,
   "metadata": {
    "collapsed": false
   },
   "outputs": [
    {
     "data": {
      "text/plain": [
       "83175"
      ]
     },
     "execution_count": 74,
     "metadata": {},
     "output_type": "execute_result"
    }
   ],
   "source": [
    "len(vectorizer.get_feature_names())"
   ]
  },
  {
   "cell_type": "markdown",
   "metadata": {},
   "source": [
    "We want to reduce the number of features under consideration, while minimizing information loss in our data. We'll use dimensionality reduction to reduce the number of features, but create new ones that help explain the most variance in our data. The first principal component has the largest possible variance and each succeeding component in turn has the higest variance possible and uncorrelated with the preceding components. \n",
    "\n",
    "We use Truncated SVD (singular value decomposition through latent samentic analysis) because it works with sparse matrices efficiently. SVD works on Tfidf matrixes as well. \n",
    "\n",
    "[Sklearn documentation on TruncatedSVD](http://scikit-learn.org/stable/modules/generated/sklearn.decomposition.TruncatedSVD.html)\n",
    "\n",
    "- n_components=40 examines first 40 principal components (latent semantic features)"
   ]
  },
  {
   "cell_type": "code",
   "execution_count": 75,
   "metadata": {
    "collapsed": false
   },
   "outputs": [
    {
     "data": {
      "text/plain": [
       "<246175x83175 sparse matrix of type '<class 'numpy.float64'>'\n",
       "\twith 7508820 stored elements in Compressed Sparse Row format>"
      ]
     },
     "execution_count": 75,
     "metadata": {},
     "output_type": "execute_result"
    }
   ],
   "source": [
    "X"
   ]
  },
  {
   "cell_type": "markdown",
   "metadata": {},
   "source": [
    "I want to see what our matrix decomposition looks like under the hood."
   ]
  },
  {
   "cell_type": "code",
   "execution_count": 76,
   "metadata": {
    "collapsed": true
   },
   "outputs": [],
   "source": [
    "from sklearn.utils.extmath import randomized_svd\n",
    "\n",
    "U, Sigma, VT = randomized_svd(X, \n",
    "                              n_components=15,\n",
    "                              n_iter=5,\n",
    "                              random_state=None)"
   ]
  },
  {
   "cell_type": "code",
   "execution_count": 77,
   "metadata": {
    "collapsed": false
   },
   "outputs": [
    {
     "data": {
      "text/plain": [
       "array([[ 0.00184738,  0.00022025,  0.00050301, ..., -0.00115457,\n",
       "        -0.00234192,  0.00020745],\n",
       "       [ 0.00083195, -0.00038486, -0.00026842, ...,  0.00496335,\n",
       "        -0.00031413, -0.00135294],\n",
       "       [ 0.00342035,  0.00406801,  0.00965432, ...,  0.00115994,\n",
       "         0.00016543,  0.00089364],\n",
       "       ..., \n",
       "       [ 0.00152403, -0.00050143, -0.0001921 , ..., -0.00035186,\n",
       "        -0.00014684, -0.00037306],\n",
       "       [ 0.0016524 , -0.00054557, -0.00039051, ..., -0.00282791,\n",
       "        -0.00438656,  0.00125054],\n",
       "       [ 0.00093931, -0.00042672, -0.00022989, ..., -0.00039535,\n",
       "         0.00016842, -0.00048218]])"
      ]
     },
     "execution_count": 77,
     "metadata": {},
     "output_type": "execute_result"
    }
   ],
   "source": [
    "U"
   ]
  },
  {
   "cell_type": "code",
   "execution_count": 78,
   "metadata": {
    "collapsed": false
   },
   "outputs": [
    {
     "data": {
      "text/plain": [
       "array([ 38.19621221,  31.0574047 ,  25.62477408,  23.24427463,\n",
       "        18.8195793 ,  18.30812046,  17.51070779,  16.95583995,\n",
       "        16.66351314,  16.58736918,  15.52554755,  15.23777116,\n",
       "        15.154738  ,  15.01380169,  14.83673161])"
      ]
     },
     "execution_count": 78,
     "metadata": {},
     "output_type": "execute_result"
    }
   ],
   "source": [
    "Sigma"
   ]
  },
  {
   "cell_type": "code",
   "execution_count": 79,
   "metadata": {
    "collapsed": false
   },
   "outputs": [
    {
     "data": {
      "text/plain": [
       "array([[  1.06167549e-03,   9.15462554e-04,   1.78764062e-04, ...,\n",
       "          4.45853518e-04,   2.24947076e-04,   1.20783508e-04],\n",
       "       [  3.43585846e-04,  -3.70381319e-04,  -5.93248948e-05, ...,\n",
       "          2.08787206e-05,  -2.85200863e-05,  -3.83400741e-05],\n",
       "       [  7.41168100e-04,  -1.59251858e-04,  -1.51800972e-05, ...,\n",
       "          1.43440778e-04,   5.37893230e-05,   6.21964131e-06],\n",
       "       ..., \n",
       "       [ -1.54683210e-04,   9.15389737e-06,  -1.42116875e-05, ...,\n",
       "         -2.64270490e-04,   6.70619141e-05,   7.44102927e-05],\n",
       "       [ -6.42444255e-04,  -5.23082239e-05,   1.72739159e-05, ...,\n",
       "         -8.34697983e-04,   6.50970536e-05,   7.61175970e-05],\n",
       "       [  2.78141165e-04,   3.95328078e-04,  -1.11011067e-04, ...,\n",
       "         -1.43343031e-04,   1.08659656e-04,  -2.37087356e-05]])"
      ]
     },
     "execution_count": 79,
     "metadata": {},
     "output_type": "execute_result"
    }
   ],
   "source": [
    "VT"
   ]
  },
  {
   "cell_type": "code",
   "execution_count": 80,
   "metadata": {
    "collapsed": true
   },
   "outputs": [],
   "source": [
    "number_of_principle_components = 40\n",
    "svd = TruncatedSVD(n_components=number_of_principle_components)"
   ]
  },
  {
   "cell_type": "markdown",
   "metadata": {},
   "source": [
    "Normalization helps scale individual samples to have unit norm. This is useful as we plan to use the dot product of matrices to quantify the similarity of pairs of samples. \n",
    "\n",
    "Normalization is important if you have different length documents (ex. a two word document versus a 200 word document). https://stats.stackexchange.com/questions/69157/why-do-we-need-to-normalize-data-before-analysis\n",
    "\n",
    "\n",
    "[Sklearn documentation on Normalizer](http://scikit-learn.org/stable/modules/generated/sklearn.preprocessing.Normalizer.html#sklearn.preprocessing.Normalizer)\n",
    "\n",
    "\n"
   ]
  },
  {
   "cell_type": "code",
   "execution_count": 81,
   "metadata": {
    "collapsed": true
   },
   "outputs": [],
   "source": [
    "normalizer = Normalizer(copy=False)"
   ]
  },
  {
   "cell_type": "markdown",
   "metadata": {},
   "source": [
    "Think of this pipeline as just a grouping for a procedure of steps.\n",
    "\n",
    "[Sklearn documentation on make_pipeline](http://scikit-learn.org/stable/modules/generated/sklearn.pipeline.make_pipeline.html)"
   ]
  },
  {
   "cell_type": "code",
   "execution_count": 82,
   "metadata": {
    "collapsed": true
   },
   "outputs": [],
   "source": [
    "lsa = make_pipeline(svd, normalizer)"
   ]
  },
  {
   "cell_type": "markdown",
   "metadata": {},
   "source": [
    "We call fit_transform becaause we're transforming our data to be returned in a new matrix with new (latent semantic) features."
   ]
  },
  {
   "cell_type": "code",
   "execution_count": 83,
   "metadata": {
    "collapsed": false
   },
   "outputs": [],
   "source": [
    "X = lsa.fit_transform(X)"
   ]
  },
  {
   "cell_type": "markdown",
   "metadata": {},
   "source": [
    "These values below represent our new linear coefficients that came from the transformation from our original space into the PCA space.\n",
    "\n",
    "Each of these eigenvalues for each observation corresponds to the amount of variance explained by that component."
   ]
  },
  {
   "cell_type": "markdown",
   "metadata": {},
   "source": [
    "As expected, we now have observations of all our HN comments, and just 40 new components."
   ]
  },
  {
   "cell_type": "code",
   "execution_count": 84,
   "metadata": {
    "collapsed": false
   },
   "outputs": [
    {
     "data": {
      "text/plain": [
       "(246175, 40)"
      ]
     },
     "execution_count": 84,
     "metadata": {},
     "output_type": "execute_result"
    }
   ],
   "source": [
    "X.shape"
   ]
  },
  {
   "cell_type": "code",
   "execution_count": 85,
   "metadata": {
    "collapsed": false
   },
   "outputs": [
    {
     "data": {
      "text/plain": [
       "array([[  1.06167495e-03,   9.15463427e-04,   1.78763874e-04, ...,\n",
       "          4.45855519e-04,   2.24947278e-04,   1.20783831e-04],\n",
       "       [  3.43556669e-04,  -3.70419434e-04,  -5.93272842e-05, ...,\n",
       "          2.09248317e-05,  -2.85367001e-05,  -3.83561974e-05],\n",
       "       [  7.40702966e-04,  -1.59168724e-04,  -1.50517673e-05, ...,\n",
       "          1.42989358e-04,   5.37577816e-05,   6.19336690e-06],\n",
       "       [ -1.23573847e-03,  -5.59917603e-05,  -4.63726918e-05, ...,\n",
       "         -3.02805762e-04,  -1.10066801e-04,  -3.28637341e-05],\n",
       "       [  1.09214495e-04,  -1.38763584e-05,   5.49586122e-06, ...,\n",
       "         -8.23294474e-05,   3.29855486e-05,  -7.18665130e-06]])"
      ]
     },
     "execution_count": 85,
     "metadata": {},
     "output_type": "execute_result"
    }
   ],
   "source": [
    "eigvecs = svd.components_\n",
    "eigvecs[0:5]"
   ]
  },
  {
   "cell_type": "markdown",
   "metadata": {},
   "source": [
    "The values below detail the variance of the principle components from one another. We have a tradeoff; we want fewer principle components in order to make a simpler model, but we don't want to oversimplify. There's diminishing margins of returns for additional principle components. We're looking for the \"elbow\" below - a break between useful principle components and residual noise. The ideal principle components is probably around 9.\n",
    "\n",
    "There's an issue here - in which our first principal component explains less variance than the next few principal components. It may be an issue with Sklearn. I'll investigate more.\n"
   ]
  },
  {
   "cell_type": "code",
   "execution_count": 86,
   "metadata": {
    "collapsed": false
   },
   "outputs": [
    {
     "data": {
      "text/plain": [
       "array([ 0.00135986,  0.00390105,  0.00268937,  0.00221295,  0.00144631,\n",
       "        0.00137348,  0.00125472,  0.00118229,  0.00114262,  0.00112774,\n",
       "        0.00100116,  0.00096526,  0.00095952,  0.00094668,  0.00093267,\n",
       "        0.00091068,  0.00090357,  0.00087436,  0.00086438,  0.00084561,\n",
       "        0.0008383 ,  0.00080671,  0.00078518,  0.00077217,  0.0007638 ,\n",
       "        0.00074437,  0.00073954,  0.00072643,  0.0007146 ,  0.00069311,\n",
       "        0.00067354,  0.00067085,  0.00066333,  0.00065203,  0.00063871,\n",
       "        0.00063761,  0.00062904,  0.00062326,  0.000619  ,  0.00060209])"
      ]
     },
     "execution_count": 86,
     "metadata": {},
     "output_type": "execute_result"
    }
   ],
   "source": [
    "svd.explained_variance_ratio_"
   ]
  },
  {
   "cell_type": "code",
   "execution_count": 87,
   "metadata": {
    "collapsed": false
   },
   "outputs": [
    {
     "data": {
      "text/plain": [
       "array([ 0.00134868,  0.00386898,  0.00266726,  0.00219476,  0.00143442,\n",
       "        0.00136219,  0.0012444 ,  0.00117257,  0.00113322,  0.00111847,\n",
       "        0.00099293,  0.00095732,  0.00095163,  0.0009389 ,  0.000925  ,\n",
       "        0.00090319,  0.00089614,  0.00086718,  0.00085727,  0.00083866,\n",
       "        0.00083141,  0.00080008,  0.00077872,  0.00076582,  0.00075752,\n",
       "        0.00073825,  0.00073346,  0.00072046,  0.00070873,  0.00068741,\n",
       "        0.000668  ,  0.00066534,  0.00065787,  0.00064667,  0.00063345,\n",
       "        0.00063237,  0.00062387,  0.00061814,  0.00061391,  0.00059714])"
      ]
     },
     "execution_count": 87,
     "metadata": {},
     "output_type": "execute_result"
    }
   ],
   "source": [
    "svd.explained_variance_"
   ]
  },
  {
   "cell_type": "code",
   "execution_count": 88,
   "metadata": {
    "collapsed": false
   },
   "outputs": [
    {
     "data": {
      "text/plain": [
       "array([ 0.13598576,  0.39010486,  0.26893719,  0.22129542,  0.14463096,\n",
       "        0.13734834,  0.12547183,  0.11822904,  0.11426152,  0.11277441,\n",
       "        0.10011631,  0.09652557,  0.09595175,  0.09466846,  0.09326654,\n",
       "        0.09106778,  0.09035656,  0.08743638,  0.08643779,  0.08456071,\n",
       "        0.08382978,  0.08067089,  0.07851789,  0.07721712,  0.07637973,\n",
       "        0.07443727,  0.07395378,  0.07264284,  0.07146044,  0.06931095,\n",
       "        0.06735403,  0.06708509,  0.06633265,  0.06520337,  0.06387051,\n",
       "        0.06376131,  0.06290418,  0.06232591,  0.06190032,  0.06020919])"
      ]
     },
     "execution_count": 88,
     "metadata": {},
     "output_type": "execute_result"
    }
   ],
   "source": [
    "percent_explained_variance_features = svd.explained_variance_ratio_*100\n",
    "percent_explained_variance_features"
   ]
  },
  {
   "cell_type": "markdown",
   "metadata": {},
   "source": [
    "With these new 40 features, we can now explain 5.4% of the variance in total between these 40 features."
   ]
  },
  {
   "cell_type": "code",
   "execution_count": 89,
   "metadata": {
    "collapsed": false
   },
   "outputs": [
    {
     "data": {
      "text/plain": [
       "4.0887944234197509"
      ]
     },
     "execution_count": 89,
     "metadata": {},
     "output_type": "execute_result"
    }
   ],
   "source": [
    "sum_explained_variance = svd.explained_variance_ratio_.sum()*100\n",
    "sum_explained_variance"
   ]
  },
  {
   "cell_type": "code",
   "execution_count": 90,
   "metadata": {
    "collapsed": false
   },
   "outputs": [
    {
     "data": {
      "text/plain": [
       "<matplotlib.text.Text at 0x17ced8160>"
      ]
     },
     "execution_count": 90,
     "metadata": {},
     "output_type": "execute_result"
    },
    {
     "data": {
      "image/png": "[encoded data removed]",
      "text/plain": [
       "<matplotlib.figure.Figure at 0x140f8b400>"
      ]
     },
     "metadata": {},
     "output_type": "display_data"
    }
   ],
   "source": [
    "plt.bar(list(range(1, number_of_principle_components+1)), percent_explained_variance_features)\n",
    "plt.xlabel('Principle Component')\n",
    "plt.ylabel('Percent Explained')\n",
    "plt.title('Explained Variance')"
   ]
  },
  {
   "cell_type": "code",
   "execution_count": 91,
   "metadata": {
    "collapsed": false
   },
   "outputs": [
    {
     "data": {
      "text/plain": [
       "array([ 0.13598576,  0.52609061,  0.7950278 ,  1.01632323,  1.16095418,\n",
       "        1.29830253,  1.42377435,  1.54200339,  1.65626492,  1.76903933,\n",
       "        1.86915564,  1.96568121,  2.06163297,  2.15630142,  2.24956796,\n",
       "        2.34063574,  2.4309923 ,  2.51842868,  2.60486646,  2.68942717,\n",
       "        2.77325695,  2.85392784,  2.93244573,  3.00966285,  3.08604258,\n",
       "        3.16047985,  3.23443364,  3.30707647,  3.37853691,  3.44784787,\n",
       "        3.5152019 ,  3.58228698,  3.64861963,  3.713823  ,  3.77769351,\n",
       "        3.84145482,  3.904359  ,  3.96668491,  4.02858523,  4.08879442])"
      ]
     },
     "execution_count": 91,
     "metadata": {},
     "output_type": "execute_result"
    }
   ],
   "source": [
    "cum_sum_explained_variance = np.cumsum(percent_explained_variance_features)\n",
    "cum_sum_explained_variance"
   ]
  },
  {
   "cell_type": "code",
   "execution_count": 92,
   "metadata": {
    "collapsed": false
   },
   "outputs": [
    {
     "data": {
      "text/plain": [
       "<matplotlib.text.Text at 0x16ae47cc0>"
      ]
     },
     "execution_count": 92,
     "metadata": {},
     "output_type": "execute_result"
    },
    {
     "data": {
      "image/png": "[encoded data removed]",
      "text/plain": [
       "<matplotlib.figure.Figure at 0x1626eedd8>"
      ]
     },
     "metadata": {},
     "output_type": "display_data"
    }
   ],
   "source": [
    "plt.bar(list(range(1, number_of_principle_components+1)), cum_sum_explained_variance)\n",
    "plt.xlabel('Principal Component')\n",
    "plt.ylabel('Cumulative Explained Variance')\n",
    "plt.title(\"Total Components' Explained Variance\")"
   ]
  },
  {
   "cell_type": "markdown",
   "metadata": {},
   "source": [
    "Our SVD (of 40 latent features) only explains ~4% of variance of the data. There's a huge amount of variance over our millions of Hacker News comments because topics range from business, to programming, to science and nearly everything else. Therefore, ~4% is fairly reasonable. If we were using data for fairly homogenous documents, we'd expect the sum of our components to explain much closer to 100% variance."
   ]
  },
  {
   "cell_type": "markdown",
   "metadata": {},
   "source": [
    "## Clustering"
   ]
  },
  {
   "cell_type": "markdown",
   "metadata": {},
   "source": [
    "The Hacker News comments data set doesn't have labels. It's an instructured data set and we're trying to make meaning/structure out of it by grouping documents based on their features and features' values (Tfidf weights) "
   ]
  },
  {
   "cell_type": "markdown",
   "metadata": {},
   "source": [
    "Intertia is the sum of square distances in each cluster. A low inertia value = high density of points of observations around the center of its cluster. More clusters likely equates to a lower inertia value for our KMeans model. If we fit our model multiple times, we'd get slightly different inertia values. We want to minimize our inertia values for a given number of clusters.\n",
    "\n",
    "We want to find a good estimate for the number of clusters we should utilize for a KMeans model. To do this, let's plot our inertia values over several values of clusters. We're looking for the elbow in the plot - the point of diminishing inertia values for each additional cluster.\n",
    "\n",
    "However, upon implementing the code below, I had massive fluctuations in inertia with each incremental number of clusters. The problem with using inertia is that it doesn't penalize for additional number of clusters. Generally, we want fewer clusters in order to easily make understandable groups."
   ]
  },
  {
   "cell_type": "code",
   "execution_count": 93,
   "metadata": {
    "collapsed": true
   },
   "outputs": [],
   "source": [
    "# inertia_values = []\n",
    "# range_of_K_values = range(1, 25)\n",
    "# for num_clusters in range_of_K_values:\n",
    "#     kmeans = KMeans(n_clusters=number_of_clusters, init='k-means++', max_iter=100, n_init=1, n_jobs=-1)\n",
    "#     kmeans.fit(X)\n",
    "#     inertia_values.append(kmeans.inertia_)\n",
    "\n",
    "# inertia_values\n",
    "\n",
    "# # graph inertia over number of clusters\n",
    "# plt.plot(list(range_of_K_values), inertia_values)\n",
    "# plt.xlabel('Number of Clusters')\n",
    "# plt.ylabel('Kmeans Inertia')\n",
    "# plt.title('Cluster Density')"
   ]
  },
  {
   "cell_type": "markdown",
   "metadata": {},
   "source": [
    "Instead, I tested out various number of clusters - from 8 to 25. I found 20 clusters to be optimal. At 20 clusters, I noticed clusters that revealed words across documents that were within the scope of documents on Hacker News - for words around programming languages, tech companies, code, etc. \n",
    "\n",
    "For example, one cluster may talk about \"app, microsoft, linux\" while another \"free, open, open source\" and another \"money, market, uber\". \n",
    "\n",
    "I tried out many combinations of clusters smaller than 20, but couldn't glean major differences between clusters with generic words such as \"work, time, great\". These words could be associated with nearly any forum site; however, Hacker News is generally more tech/science/business oriented so I cared more about words in these clusters."
   ]
  },
  {
   "cell_type": "markdown",
   "metadata": {},
   "source": [
    "‘k-means++’ selects initial cluster centers for KMeans clustering in a smart way to speed up convergence. This is especially helpful as we have high dimensionality data.\n",
    "\n",
    "[sklearn documentation on KMeans](http://scikit-learn.org/stable/modules/generated/sklearn.cluster.KMeans.html#sklearn.cluster.KMeans)"
   ]
  },
  {
   "cell_type": "code",
   "execution_count": 94,
   "metadata": {
    "collapsed": true
   },
   "outputs": [],
   "source": [
    "number_of_clusters = 20\n",
    "km = KMeans(n_clusters=number_of_clusters, init='k-means++', max_iter=100, n_init=1, n_jobs=-1)"
   ]
  },
  {
   "cell_type": "markdown",
   "metadata": {},
   "source": [
    "I also tried getting the silhouette score (below). That can be considered a good metric to help identify your optimal number of clusters. However, I couldn't get it to work as my Kernal would die everytime. I believe 200K samples is outside the performance capable of this algorithm to get silhouette scores.\n",
    "\n",
    "[sklearn documentation on silhouette score](http://scikit-learn.org/stable/auto_examples/cluster/plot_kmeans_silhouette_analysis.html#sphx-glr-auto-examples-cluster-plot-kmeans-silhouette-analysis-py)"
   ]
  },
  {
   "cell_type": "code",
   "execution_count": 95,
   "metadata": {
    "collapsed": true
   },
   "outputs": [],
   "source": [
    "# X.shape\n",
    "# predicted_labels = km.fit_predict(X)\n",
    "# predicted_labels.shape\n",
    "# predicted_labels[0:100]\n",
    "# set(predicted_labels)\n",
    "# silhouette_avg = silhouette_score(X, predicted_labels)"
   ]
  },
  {
   "cell_type": "markdown",
   "metadata": {},
   "source": [
    "We already did fit_transform above with SVD to get our new matrix shape that contains our 40 latent samentic features. Here, we can simply fit our data to our KMeans model."
   ]
  },
  {
   "cell_type": "code",
   "execution_count": 96,
   "metadata": {
    "collapsed": false
   },
   "outputs": [
    {
     "data": {
      "text/plain": [
       "KMeans(algorithm='auto', copy_x=True, init='k-means++', max_iter=100,\n",
       "    n_clusters=20, n_init=1, n_jobs=-1, precompute_distances='auto',\n",
       "    random_state=None, tol=0.0001, verbose=0)"
      ]
     },
     "execution_count": 96,
     "metadata": {},
     "output_type": "execute_result"
    }
   ],
   "source": [
    "km.fit(X)"
   ]
  },
  {
   "cell_type": "markdown",
   "metadata": {},
   "source": [
    "km.cluster_centers_ takes coordinates of cluster centers\n",
    "\n",
    "svd.inverse_transform transforms the dataset of cluster centers back to the corresponding dataset before SVD truncatation (which is after Tfidf vectorizing). So we have the Tfidf weights as values in our matrix"
   ]
  },
  {
   "cell_type": "markdown",
   "metadata": {},
   "source": [
    "We have 20 clusters, and 40 latent semantic features. So each cluster has coordinates in 40-dimensional space."
   ]
  },
  {
   "cell_type": "code",
   "execution_count": 97,
   "metadata": {
    "collapsed": false
   },
   "outputs": [
    {
     "data": {
      "text/plain": [
       "(20, 40)"
      ]
     },
     "execution_count": 97,
     "metadata": {},
     "output_type": "execute_result"
    }
   ],
   "source": [
    "km.cluster_centers_.shape"
   ]
  },
  {
   "cell_type": "code",
   "execution_count": 98,
   "metadata": {
    "collapsed": false
   },
   "outputs": [
    {
     "data": {
      "text/plain": [
       "array([ 0.39620947, -0.119902  , -0.05627003,  0.014505  ,  0.03419883,\n",
       "        0.02918329,  0.04877089,  0.07289593, -0.07694694, -0.02672751,\n",
       "       -0.16119874, -0.01501859, -0.00937057, -0.07997836, -0.05260556,\n",
       "        0.24681106,  0.03055058,  0.03311661, -0.05080965,  0.03037132,\n",
       "       -0.03740265, -0.148166  ,  0.05908974,  0.40807326, -0.09541083,\n",
       "       -0.03822647, -0.15304457,  0.01979978, -0.03672623,  0.04611517,\n",
       "       -0.00622793, -0.00368075,  0.04702796,  0.01673997,  0.0061776 ,\n",
       "       -0.02864281, -0.03912132,  0.01664593, -0.02237636, -0.02151007])"
      ]
     },
     "execution_count": 98,
     "metadata": {},
     "output_type": "execute_result"
    }
   ],
   "source": [
    "km.cluster_centers_[0]"
   ]
  },
  {
   "cell_type": "markdown",
   "metadata": {},
   "source": [
    ".argsort returns the indices that would sort the array from its smallest values to largest\n",
    "\n",
    "[numpy documentation on argsort](https://www.google.com/url?sa=t&rct=j&q=&esrc=s&source=web&cd=1&ved=0ahUKEwiWj6fNhJbUAhUGRiYKHVeWA0sQFggoMAA&url=https%3A%2F%2Fdocs.scipy.org%2Fdoc%2Fnumpy%2Freference%2Fgenerated%2Fnumpy.argsort.html&usg=AFQjCNEIZw-eAurbq7M8XJpjdmaPTFdxtw&sig2=192Af96YCi6cKgajcMVOCQ)\n",
    "\n",
    "[:, ::-1] gets all values from list, starting at highest index\n",
    "\n",
    "So order_centroids returns us rows as cluster values - with each value being the largest Tfidf values for that cluster"
   ]
  },
  {
   "cell_type": "code",
   "execution_count": 99,
   "metadata": {
    "collapsed": true
   },
   "outputs": [],
   "source": [
    "original_space_centroids = svd.inverse_transform(km.cluster_centers_)\n",
    "order_centroids = original_space_centroids.argsort()[:, ::-1]"
   ]
  },
  {
   "cell_type": "code",
   "execution_count": 100,
   "metadata": {
    "collapsed": false
   },
   "outputs": [
    {
     "data": {
      "text/plain": [
       "array([[77403, 63074, 77627, ..., 31738, 11357, 28664],\n",
       "       [80739, 35330, 81294, ..., 66131, 74608, 37681],\n",
       "       [31609, 31688, 11069, ..., 83059, 79039, 83056],\n",
       "       ..., \n",
       "       [58348, 35736, 39161, ..., 11357, 30996, 40386],\n",
       "       [75796, 35736, 76336, ..., 82384, 11357, 83059],\n",
       "       [79118,  5760, 28664, ..., 31820, 74608, 69761]])"
      ]
     },
     "execution_count": 100,
     "metadata": {},
     "output_type": "execute_result"
    }
   ],
   "source": [
    "order_centroids[0:10]"
   ]
  },
  {
   "cell_type": "code",
   "execution_count": 101,
   "metadata": {
    "collapsed": false
   },
   "outputs": [
    {
     "data": {
      "text/plain": [
       "(20, 83175)"
      ]
     },
     "execution_count": 101,
     "metadata": {},
     "output_type": "execute_result"
    }
   ],
   "source": [
    "order_centroids.shape"
   ]
  },
  {
   "cell_type": "markdown",
   "metadata": {},
   "source": [
    "We want to get the feature names after the Tfidf vectorizer"
   ]
  },
  {
   "cell_type": "code",
   "execution_count": 102,
   "metadata": {
    "collapsed": true
   },
   "outputs": [],
   "source": [
    "terms = vectorizer.get_feature_names()"
   ]
  },
  {
   "cell_type": "code",
   "execution_count": 103,
   "metadata": {
    "collapsed": false
   },
   "outputs": [
    {
     "name": "stdout",
     "output_type": "stream",
     "text": [
      "Top terms per cluster by Tfidf ranking:\n",
      "Cluster 0: \n",
      " ve\n",
      " seen\n",
      " ve seen\n",
      " got\n",
      " used\n",
      " heard\n",
      " ve heard\n",
      " years\n",
      " just\n",
      " read\n",
      " did\n",
      " actually\n",
      " things\n",
      " ve got\n",
      " like\n",
      " people\n",
      " lot\n",
      " don\n",
      " using\n",
      " probably\n",
      " \n",
      " \n",
      "Cluster 1: \n",
      " work\n",
      " job\n",
      " working\n",
      " day\n",
      " company\n",
      " doesn\n",
      " time\n",
      " people\n",
      " just\n",
      " hours\n",
      " like\n",
      " doing\n",
      " need\n",
      " hard\n",
      " way\n",
      " lot\n",
      " home\n",
      " does\n",
      " think\n",
      " pay\n",
      " \n",
      " \n",
      "Cluster 2: \n",
      " http\n",
      " http www\n",
      " com\n",
      " www\n",
      " org\n",
      " news\n",
      " html\n",
      " article\n",
      " like\n",
      " uk\n",
      " net\n",
      " blog\n",
      " data\n",
      " app\n",
      " just\n",
      " way\n",
      " did\n",
      " https www\n",
      " doesn\n",
      " people\n",
      " \n",
      " \n",
      "Cluster 3: \n",
      " money\n",
      " uber\n",
      " company\n",
      " pay\n",
      " market\n",
      " companies\n",
      " business\n",
      " tax\n",
      " new\n",
      " cost\n",
      " year\n",
      " make\n",
      " price\n",
      " government\n",
      " free\n",
      " service\n",
      " going\n",
      " car\n",
      " high\n",
      " product\n",
      " \n",
      " \n",
      "Cluster 4: \n",
      " does\n",
      " google\n",
      " code\n",
      " thanks\n",
      " yes\n",
      " data\n",
      " years\n",
      " source\n",
      " did\n",
      " article\n",
      " language\n",
      " doesn\n",
      " mean\n",
      " want\n",
      " open\n",
      " read\n",
      " make\n",
      " need\n",
      " ago\n",
      " thank\n",
      " \n",
      " \n",
      "Cluster 5: \n",
      " like\n",
      " looks\n",
      " sounds\n",
      " looks like\n",
      " sounds like\n",
      " things\n",
      " look\n",
      " feel\n",
      " way\n",
      " things like\n",
      " don\n",
      " just\n",
      " feel like\n",
      " lot\n",
      " make\n",
      " thing\n",
      " new\n",
      " just like\n",
      " doesn\n",
      " look like\n",
      " \n",
      " \n",
      "Cluster 6: \n",
      " windows\n",
      " using\n",
      " app\n",
      " linux\n",
      " web\n",
      " new\n",
      " software\n",
      " support\n",
      " apps\n",
      " desktop\n",
      " user\n",
      " os\n",
      " need\n",
      " run\n",
      " apple\n",
      " used\n",
      " users\n",
      " data\n",
      " make\n",
      " different\n",
      " \n",
      " \n",
      "Cluster 7: \n",
      " really\n",
      " just\n",
      " like\n",
      " didn\n",
      " doesn\n",
      " great\n",
      " interesting\n",
      " need\n",
      " think\n",
      " isn\n",
      " want\n",
      " people\n",
      " don\n",
      " maybe\n",
      " things\n",
      " point\n",
      " cool\n",
      " say\n",
      " ve\n",
      " pretty\n",
      " \n",
      " \n",
      "Cluster 8: \n",
      " use\n",
      " just\n",
      " used\n",
      " like\n",
      " case\n",
      " don\n",
      " want\n",
      " data\n",
      " using\n",
      " people\n",
      " language\n",
      " better\n",
      " don use\n",
      " time\n",
      " isn\n",
      " use case\n",
      " just use\n",
      " instead\n",
      " does\n",
      " app\n",
      " \n",
      " \n",
      "Cluster 9: \n",
      " way\n",
      " better\n",
      " great\n",
      " things\n",
      " sure\n",
      " make\n",
      " lot\n",
      " new\n",
      " pretty\n",
      " probably\n",
      " interesting\n",
      " isn\n",
      " going\n",
      " ll\n",
      " actually\n",
      " thing\n",
      " doing\n",
      " years\n",
      " ve\n",
      " day\n",
      " \n",
      " \n",
      "Cluster 10: \n",
      " wikipedia\n",
      " org\n",
      " wiki\n",
      " org wiki\n",
      " wikipedia org\n",
      " https en\n",
      " en wikipedia\n",
      " en\n",
      " https\n",
      " www\n",
      " like\n",
      " https www\n",
      " people\n",
      " http\n",
      " just\n",
      " article\n",
      " time\n",
      " way\n",
      " think\n",
      " used\n",
      " \n",
      " \n",
      "Cluster 11: \n",
      " article\n",
      " point\n",
      " problem\n",
      " isn\n",
      " way\n",
      " doesn\n",
      " thing\n",
      " used\n",
      " read\n",
      " data\n",
      " right\n",
      " actually\n",
      " different\n",
      " case\n",
      " didn\n",
      " say\n",
      " true\n",
      " comment\n",
      " said\n",
      " government\n",
      " \n",
      " \n",
      "Cluster 12: \n",
      " just\n",
      " like\n",
      " need\n",
      " doesn\n",
      " thing\n",
      " way\n",
      " just like\n",
      " don\n",
      " want\n",
      " different\n",
      " actually\n",
      " new\n",
      " point\n",
      " sure\n",
      " say\n",
      " probably\n",
      " isn\n",
      " did\n",
      " things\n",
      " know\n",
      " \n",
      " \n",
      "Cluster 13: \n",
      " right\n",
      " maybe\n",
      " say\n",
      " things\n",
      " make\n",
      " wrong\n",
      " just\n",
      " going\n",
      " long\n",
      " way\n",
      " like\n",
      " want\n",
      " left\n",
      " doing\n",
      " government\n",
      " problem\n",
      " world\n",
      " business\n",
      " bad\n",
      " think\n",
      " \n",
      " \n",
      "Cluster 14: \n",
      " good\n",
      " point\n",
      " idea\n",
      " pretty\n",
      " thing\n",
      " bad\n",
      " just\n",
      " like\n",
      " people\n",
      " better\n",
      " luck\n",
      " good idea\n",
      " good point\n",
      " think\n",
      " good luck\n",
      " pretty good\n",
      " job\n",
      " things\n",
      " make\n",
      " way\n",
      " \n",
      " \n",
      "Cluster 15: \n",
      " people\n",
      " like\n",
      " just\n",
      " lot\n",
      " want\n",
      " don\n",
      " think\n",
      " make\n",
      " know\n",
      " things\n",
      " problem\n",
      " say\n",
      " world\n",
      " actually\n",
      " money\n",
      " people don\n",
      " different\n",
      " better\n",
      " thing\n",
      " person\n",
      " \n",
      " \n",
      "Cluster 16: \n",
      " https\n",
      " com\n",
      " https www\n",
      " www\n",
      " github\n",
      " github com\n",
      " https github\n",
      " news\n",
      " ycombinator\n",
      " ycombinator com\n",
      " news ycombinator\n",
      " https news\n",
      " youtube com\n",
      " www youtube\n",
      " youtube\n",
      " id\n",
      " com watch\n",
      " item id\n",
      " com item\n",
      " item\n",
      " \n",
      " \n",
      "Cluster 17: \n",
      " time\n",
      " long\n",
      " point\n",
      " just\n",
      " long time\n",
      " lot\n",
      " like\n",
      " going\n",
      " ll\n",
      " new\n",
      " using\n",
      " things\n",
      " years\n",
      " day\n",
      " people\n",
      " think\n",
      " spend\n",
      " real\n",
      " working\n",
      " hours\n",
      " \n",
      " \n",
      "Cluster 18: \n",
      " think\n",
      " don think\n",
      " don\n",
      " people\n",
      " just\n",
      " like\n",
      " point\n",
      " way\n",
      " did\n",
      " better\n",
      " lot\n",
      " makes\n",
      " going\n",
      " different\n",
      " actually\n",
      " probably\n",
      " sure\n",
      " agree\n",
      " does\n",
      " things\n",
      " \n",
      " \n",
      "Cluster 19: \n",
      " don\n",
      " know\n",
      " don know\n",
      " want\n",
      " need\n",
      " don think\n",
      " like\n",
      " just\n",
      " understand\n",
      " people\n",
      " don want\n",
      " make\n",
      " way\n",
      " problem\n",
      " don need\n",
      " things\n",
      " care\n",
      " didn\n",
      " say\n",
      " doesn\n",
      " \n",
      " \n",
      "\n"
     ]
    }
   ],
   "source": [
    "print(\"Top terms per cluster by Tfidf ranking:\")\n",
    "for i in range(number_of_clusters):\n",
    "    print(\"Cluster %d:\" % i, end='')\n",
    "    print(\" \")\n",
    "    for ind in order_centroids[i, :20]:\n",
    "        print(' %s' % terms[ind], end='')  # print phrases in clusters\n",
    "        print(\"\")\n",
    "    print(\" \")\n",
    "    print(\" \")\n",
    "print()"
   ]
  },
  {
   "cell_type": "markdown",
   "metadata": {},
   "source": [
    "### Clarification of Clusters\n",
    "\n",
    "All the documents that typically have the words in a cluster are likely to be clustered together. But this doesn't detail anything about distances between words in documents. So we still don't know the meaning of these words or in what context they're used in sentences."
   ]
  },
  {
   "cell_type": "markdown",
   "metadata": {},
   "source": [
    "___"
   ]
  },
  {
   "cell_type": "markdown",
   "metadata": {},
   "source": [
    "What about other types clustering models?\n",
    "\n",
    "[sklearn documentation on agglomerative clustering](http://scikit-learn.org/stable/modules/generated/sklearn.cluster.AgglomerativeClustering.html)\n",
    "\n",
    "Hierarchical clustering (broader strategy of agglomerative clustering) is 0*n^2*log(n) which makes this operation too slow for large dataset such as mine..\n",
    "\n",
    "My HN comments are often very dissimilar so I don't think cosinse similarity would be very helpful.\n",
    "\n",
    "DBScan and Mini Batch KMeans both work well with a large number of samples. I could try those and compare results of clusters.\n",
    "\n",
    "[sklearn documentation on DBScan](http://scikit-learn.org/stable/modules/generated/sklearn.cluster.DBSCAN.html)\n",
    "\n",
    "[sklearn documentation on Mini Batch K Means](http://scikit-learn.org/stable/modules/generated/sklearn.cluster.MiniBatchKMeans.html)\n",
    "\n",
    "Lessons learned: DBScan took an incredibly long amount of time to run. It may not be best for my large number of samples - especially because I'd want to utilize grid search on DBScan to optimally find clusters and can't without GPUs or a higher performance computer."
   ]
  },
  {
   "cell_type": "markdown",
   "metadata": {},
   "source": [
    "Mini Batch K Means is incredibly fast! "
   ]
  },
  {
   "cell_type": "code",
   "execution_count": 104,
   "metadata": {
    "collapsed": false
   },
   "outputs": [],
   "source": [
    "mini_batch_kmeans = MiniBatchKMeans(init='k-means++', init_size=1000,\n",
    "                                   batch_size=200)"
   ]
  },
  {
   "cell_type": "code",
   "execution_count": 105,
   "metadata": {
    "collapsed": false
   },
   "outputs": [
    {
     "data": {
      "text/plain": [
       "MiniBatchKMeans(batch_size=200, compute_labels=True, init='k-means++',\n",
       "        init_size=1000, max_iter=100, max_no_improvement=10, n_clusters=8,\n",
       "        n_init=3, random_state=None, reassignment_ratio=0.01, tol=0.0,\n",
       "        verbose=0)"
      ]
     },
     "execution_count": 105,
     "metadata": {},
     "output_type": "execute_result"
    }
   ],
   "source": [
    "mini_batch_kmeans.fit(X)"
   ]
  },
  {
   "cell_type": "code",
   "execution_count": 106,
   "metadata": {
    "collapsed": true
   },
   "outputs": [],
   "source": [
    "original_space_centroids = svd.inverse_transform(km.cluster_centers_)\n",
    "order_centroids = original_space_centroids.argsort()[:, ::-1]"
   ]
  },
  {
   "cell_type": "code",
   "execution_count": 107,
   "metadata": {
    "collapsed": true
   },
   "outputs": [],
   "source": [
    "terms = vectorizer.get_feature_names()"
   ]
  },
  {
   "cell_type": "code",
   "execution_count": 108,
   "metadata": {
    "collapsed": false
   },
   "outputs": [
    {
     "name": "stdout",
     "output_type": "stream",
     "text": [
      "Top terms per cluster by Tfidf ranking:\n",
      "Cluster 0: \n",
      " ve\n",
      " seen\n",
      " ve seen\n",
      " got\n",
      " used\n",
      " heard\n",
      " ve heard\n",
      " years\n",
      " just\n",
      " read\n",
      " did\n",
      " actually\n",
      " things\n",
      " ve got\n",
      " like\n",
      " people\n",
      " lot\n",
      " don\n",
      " using\n",
      " probably\n",
      " \n",
      " \n",
      "Cluster 1: \n",
      " work\n",
      " job\n",
      " working\n",
      " day\n",
      " company\n",
      " doesn\n",
      " time\n",
      " people\n",
      " just\n",
      " hours\n",
      " like\n",
      " doing\n",
      " need\n",
      " hard\n",
      " way\n",
      " lot\n",
      " home\n",
      " does\n",
      " think\n",
      " pay\n",
      " \n",
      " \n",
      "Cluster 2: \n",
      " http\n",
      " http www\n",
      " com\n",
      " www\n",
      " org\n",
      " news\n",
      " html\n",
      " article\n",
      " like\n",
      " uk\n",
      " net\n",
      " blog\n",
      " data\n",
      " app\n",
      " just\n",
      " way\n",
      " did\n",
      " https www\n",
      " doesn\n",
      " people\n",
      " \n",
      " \n",
      "Cluster 3: \n",
      " money\n",
      " uber\n",
      " company\n",
      " pay\n",
      " market\n",
      " companies\n",
      " business\n",
      " tax\n",
      " new\n",
      " cost\n",
      " year\n",
      " make\n",
      " price\n",
      " government\n",
      " free\n",
      " service\n",
      " going\n",
      " car\n",
      " high\n",
      " product\n",
      " \n",
      " \n",
      "Cluster 4: \n",
      " does\n",
      " google\n",
      " code\n",
      " thanks\n",
      " yes\n",
      " data\n",
      " years\n",
      " source\n",
      " did\n",
      " article\n",
      " language\n",
      " doesn\n",
      " mean\n",
      " want\n",
      " open\n",
      " read\n",
      " make\n",
      " need\n",
      " ago\n",
      " thank\n",
      " \n",
      " \n",
      "Cluster 5: \n",
      " like\n",
      " looks\n",
      " sounds\n",
      " looks like\n",
      " sounds like\n",
      " things\n",
      " look\n",
      " feel\n",
      " way\n",
      " things like\n",
      " don\n",
      " just\n",
      " feel like\n",
      " lot\n",
      " make\n",
      " thing\n",
      " new\n",
      " just like\n",
      " doesn\n",
      " look like\n",
      " \n",
      " \n",
      "Cluster 6: \n",
      " windows\n",
      " using\n",
      " app\n",
      " linux\n",
      " web\n",
      " new\n",
      " software\n",
      " support\n",
      " apps\n",
      " desktop\n",
      " user\n",
      " os\n",
      " need\n",
      " run\n",
      " apple\n",
      " used\n",
      " users\n",
      " data\n",
      " make\n",
      " different\n",
      " \n",
      " \n",
      "Cluster 7: \n",
      " really\n",
      " just\n",
      " like\n",
      " didn\n",
      " doesn\n",
      " great\n",
      " interesting\n",
      " need\n",
      " think\n",
      " isn\n",
      " want\n",
      " people\n",
      " don\n",
      " maybe\n",
      " things\n",
      " point\n",
      " cool\n",
      " say\n",
      " ve\n",
      " pretty\n",
      " \n",
      " \n",
      "Cluster 8: \n",
      " use\n",
      " just\n",
      " used\n",
      " like\n",
      " case\n",
      " don\n",
      " want\n",
      " data\n",
      " using\n",
      " people\n",
      " language\n",
      " better\n",
      " don use\n",
      " time\n",
      " isn\n",
      " use case\n",
      " just use\n",
      " instead\n",
      " does\n",
      " app\n",
      " \n",
      " \n",
      "Cluster 9: \n",
      " way\n",
      " better\n",
      " great\n",
      " things\n",
      " sure\n",
      " make\n",
      " lot\n",
      " new\n",
      " pretty\n",
      " probably\n",
      " interesting\n",
      " isn\n",
      " going\n",
      " ll\n",
      " actually\n",
      " thing\n",
      " doing\n",
      " years\n",
      " ve\n",
      " day\n",
      " \n",
      " \n",
      "Cluster 10: \n",
      " wikipedia\n",
      " org\n",
      " wiki\n",
      " org wiki\n",
      " wikipedia org\n",
      " https en\n",
      " en wikipedia\n",
      " en\n",
      " https\n",
      " www\n",
      " like\n",
      " https www\n",
      " people\n",
      " http\n",
      " just\n",
      " article\n",
      " time\n",
      " way\n",
      " think\n",
      " used\n",
      " \n",
      " \n",
      "Cluster 11: \n",
      " article\n",
      " point\n",
      " problem\n",
      " isn\n",
      " way\n",
      " doesn\n",
      " thing\n",
      " used\n",
      " read\n",
      " data\n",
      " right\n",
      " actually\n",
      " different\n",
      " case\n",
      " didn\n",
      " say\n",
      " true\n",
      " comment\n",
      " said\n",
      " government\n",
      " \n",
      " \n",
      "Cluster 12: \n",
      " just\n",
      " like\n",
      " need\n",
      " doesn\n",
      " thing\n",
      " way\n",
      " just like\n",
      " don\n",
      " want\n",
      " different\n",
      " actually\n",
      " new\n",
      " point\n",
      " sure\n",
      " say\n",
      " probably\n",
      " isn\n",
      " did\n",
      " things\n",
      " know\n",
      " \n",
      " \n",
      "Cluster 13: \n",
      " right\n",
      " maybe\n",
      " say\n",
      " things\n",
      " make\n",
      " wrong\n",
      " just\n",
      " going\n",
      " long\n",
      " way\n",
      " like\n",
      " want\n",
      " left\n",
      " doing\n",
      " government\n",
      " problem\n",
      " world\n",
      " business\n",
      " bad\n",
      " think\n",
      " \n",
      " \n",
      "Cluster 14: \n",
      " good\n",
      " point\n",
      " idea\n",
      " pretty\n",
      " thing\n",
      " bad\n",
      " just\n",
      " like\n",
      " people\n",
      " better\n",
      " luck\n",
      " good idea\n",
      " good point\n",
      " think\n",
      " good luck\n",
      " pretty good\n",
      " job\n",
      " things\n",
      " make\n",
      " way\n",
      " \n",
      " \n",
      "Cluster 15: \n",
      " people\n",
      " like\n",
      " just\n",
      " lot\n",
      " want\n",
      " don\n",
      " think\n",
      " make\n",
      " know\n",
      " things\n",
      " problem\n",
      " say\n",
      " world\n",
      " actually\n",
      " money\n",
      " people don\n",
      " different\n",
      " better\n",
      " thing\n",
      " person\n",
      " \n",
      " \n",
      "Cluster 16: \n",
      " https\n",
      " com\n",
      " https www\n",
      " www\n",
      " github\n",
      " github com\n",
      " https github\n",
      " news\n",
      " ycombinator\n",
      " ycombinator com\n",
      " news ycombinator\n",
      " https news\n",
      " youtube com\n",
      " www youtube\n",
      " youtube\n",
      " id\n",
      " com watch\n",
      " item id\n",
      " com item\n",
      " item\n",
      " \n",
      " \n",
      "Cluster 17: \n",
      " time\n",
      " long\n",
      " point\n",
      " just\n",
      " long time\n",
      " lot\n",
      " like\n",
      " going\n",
      " ll\n",
      " new\n",
      " using\n",
      " things\n",
      " years\n",
      " day\n",
      " people\n",
      " think\n",
      " spend\n",
      " real\n",
      " working\n",
      " hours\n",
      " \n",
      " \n",
      "Cluster 18: \n",
      " think\n",
      " don think\n",
      " don\n",
      " people\n",
      " just\n",
      " like\n",
      " point\n",
      " way\n",
      " did\n",
      " better\n",
      " lot\n",
      " makes\n",
      " going\n",
      " different\n",
      " actually\n",
      " probably\n",
      " sure\n",
      " agree\n",
      " does\n",
      " things\n",
      " \n",
      " \n",
      "Cluster 19: \n",
      " don\n",
      " know\n",
      " don know\n",
      " want\n",
      " need\n",
      " don think\n",
      " like\n",
      " just\n",
      " understand\n",
      " people\n",
      " don want\n",
      " make\n",
      " way\n",
      " problem\n",
      " don need\n",
      " things\n",
      " care\n",
      " didn\n",
      " say\n",
      " doesn\n",
      " \n",
      " \n",
      "\n"
     ]
    }
   ],
   "source": [
    "print(\"Top terms per cluster by Tfidf ranking:\")\n",
    "for i in range(number_of_clusters):\n",
    "    print(\"Cluster %d:\" % i, end='')\n",
    "    print(\" \")\n",
    "    for ind in order_centroids[i, :20]:\n",
    "        print(' %s' % terms[ind], end='')  # print phrases in clusters\n",
    "        print(\"\")\n",
    "    print(\" \")\n",
    "    print(\" \")\n",
    "print()"
   ]
  },
  {
   "cell_type": "markdown",
   "metadata": {},
   "source": [
    "Ultimately, these clusters included words that often didn't appear as top words in other clusters. Therefore, they were fairly distinguished from one another. The only issue is that clustering used a bag of words approach. So words like \"use\", \"like\" and \"master\" are vague because I don't know in what context they appeared. There are certainly better ways we can get insights from these Hacker News comments."
   ]
  },
  {
   "cell_type": "markdown",
   "metadata": {},
   "source": [
    "___"
   ]
  },
  {
   "cell_type": "markdown",
   "metadata": {},
   "source": [
    "## Topic Extraction"
   ]
  },
  {
   "cell_type": "markdown",
   "metadata": {},
   "source": [
    "### LDA"
   ]
  },
  {
   "cell_type": "markdown",
   "metadata": {},
   "source": [
    "Latent Dirichlet Allocation (LDA) is a way of discovering topics that documents contain. You pass, as a parameter, a value for the number of topics you want to create. \n",
    "\n",
    "LDA is a learning model.\n",
    "\n",
    "With each topic, you can see words and probabilities associated with seeing each of those words across all the Hacker News comments. You don't get an exact topic name; but based on words like \"computer, python and java\", you can infer the topic is about computer programming.\n",
    "\n",
    "Great [Quora post on LDA](https://www.quora.com/What-is-a-good-explanation-of-Latent-Dirichlet-Allocation)"
   ]
  },
  {
   "cell_type": "markdown",
   "metadata": {},
   "source": [
    "[SKlearn documentation on LDA](http://scikit-learn.org/stable/modules/generated/sklearn.decomposition.LatentDirichletAllocation.html)\n",
    "\n",
    "I tried using LDA through SKlearn but the process took a very long time and never finished. Instead, I've heard Gensim is much better performance-wise.\n",
    "\n",
    "[Gensim documentation on LDA](https://radimrehurek.com/gensim/models/ldamodel.html)"
   ]
  },
  {
   "cell_type": "markdown",
   "metadata": {
    "collapsed": true
   },
   "source": [
    "With LDA, we map text documents from a word space to a topic space - that gives us the topic distribution of different documents in our corpus; it also allows us to make conceptual comparisions of documents in this reduced topic space."
   ]
  },
  {
   "cell_type": "markdown",
   "metadata": {},
   "source": [
    "#### Topic Modeling with Gensim"
   ]
  },
  {
   "cell_type": "markdown",
   "metadata": {},
   "source": [
    "We transpose our Count Vectorizer matrix so the terms are rows"
   ]
  },
  {
   "cell_type": "code",
   "execution_count": 109,
   "metadata": {
    "collapsed": true
   },
   "outputs": [],
   "source": [
    "counts = count_vect_matrix.transpose()"
   ]
  },
  {
   "cell_type": "code",
   "execution_count": 110,
   "metadata": {
    "collapsed": false
   },
   "outputs": [
    {
     "data": {
      "text/plain": [
       "(83175, 246175)"
      ]
     },
     "execution_count": 110,
     "metadata": {},
     "output_type": "execute_result"
    }
   ],
   "source": [
    "counts.shape"
   ]
  },
  {
   "cell_type": "markdown",
   "metadata": {},
   "source": [
    "We need to convert our sparse scipy matrix to a gensim-friendly objected called a Corpus."
   ]
  },
  {
   "cell_type": "code",
   "execution_count": 111,
   "metadata": {
    "collapsed": true
   },
   "outputs": [],
   "source": [
    "corpus = matutils.Sparse2Corpus(counts)"
   ]
  },
  {
   "cell_type": "code",
   "execution_count": 112,
   "metadata": {
    "collapsed": false
   },
   "outputs": [
    {
     "data": {
      "text/plain": [
       "gensim.matutils.Sparse2Corpus"
      ]
     },
     "execution_count": 112,
     "metadata": {},
     "output_type": "execute_result"
    }
   ],
   "source": [
    "type(corpus)"
   ]
  },
  {
   "cell_type": "markdown",
   "metadata": {},
   "source": [
    "The term \"flying car\" is at feature index 25052"
   ]
  },
  {
   "cell_type": "code",
   "execution_count": 113,
   "metadata": {
    "collapsed": false
   },
   "outputs": [
    {
     "data": {
      "text/plain": [
       "25052"
      ]
     },
     "execution_count": 113,
     "metadata": {},
     "output_type": "execute_result"
    }
   ],
   "source": [
    "count_vectorizer.vocabulary_['flying car']"
   ]
  },
  {
   "cell_type": "markdown",
   "metadata": {},
   "source": [
    "We need to save a mapping (dict) of row id to word (token) for later use by gensim. We call the variable id2word but that can include bigrams - as seen above in \"flying car\""
   ]
  },
  {
   "cell_type": "code",
   "execution_count": 114,
   "metadata": {
    "collapsed": true
   },
   "outputs": [],
   "source": [
    "id2word = dict((v, k) for k, v in count_vectorizer.vocabulary_.items())"
   ]
  },
  {
   "cell_type": "code",
   "execution_count": 115,
   "metadata": {
    "collapsed": false
   },
   "outputs": [
    {
     "data": {
      "text/plain": [
       "83175"
      ]
     },
     "execution_count": 115,
     "metadata": {},
     "output_type": "execute_result"
    }
   ],
   "source": [
    "len(id2word)"
   ]
  },
  {
   "cell_type": "markdown",
   "metadata": {
    "collapsed": true
   },
   "source": [
    "Create our LDA model. It requires our corpus of word counts, mapping of row ids to words, and the number of topics. \n",
    "\n",
    "We're doing unsupervised learning so there's no perfect answer on the number of topics we need. I'll start with 15."
   ]
  },
  {
   "cell_type": "code",
   "execution_count": 116,
   "metadata": {
    "collapsed": false
   },
   "outputs": [
    {
     "name": "stderr",
     "output_type": "stream",
     "text": [
      "2017-06-05 20:56:09,339 : INFO : using symmetric alpha at 0.06666666666666667\n",
      "2017-06-05 20:56:09,340 : INFO : using symmetric eta at 1.20228434025e-05\n",
      "2017-06-05 20:56:09,356 : INFO : using serial LDA version on this node\n",
      "2017-06-05 20:56:15,417 : INFO : running online LDA training, 15 topics, 1 passes over the supplied corpus of 246175 documents, updating model once every 2000 documents, evaluating perplexity every 20000 documents, iterating 50x with a convergence threshold of 0.001000\n",
      "2017-06-05 20:56:15,451 : INFO : PROGRESS: pass 0, at document #2000/246175\n",
      "2017-06-05 20:56:18,249 : INFO : merging changes from 2000 documents into a model of 246175 documents\n",
      "2017-06-05 20:56:18,444 : INFO : topic #10 (0.067): 0.005*\"really\" + 0.005*\"way\" + 0.005*\"just\" + 0.004*\"https\" + 0.004*\"use\" + 0.004*\"com\" + 0.003*\"want\" + 0.003*\"like\" + 0.003*\"time\" + 0.003*\"right\"\n",
      "2017-06-05 20:56:18,446 : INFO : topic #7 (0.067): 0.006*\"just\" + 0.005*\"like\" + 0.005*\"https\" + 0.004*\"don\" + 0.004*\"people\" + 0.004*\"use\" + 0.004*\"way\" + 0.003*\"com\" + 0.003*\"better\" + 0.003*\"work\"\n",
      "2017-06-05 20:56:18,448 : INFO : topic #1 (0.067): 0.009*\"people\" + 0.007*\"like\" + 0.006*\"just\" + 0.005*\"don\" + 0.005*\"make\" + 0.004*\"really\" + 0.004*\"com\" + 0.003*\"know\" + 0.003*\"way\" + 0.003*\"tax\"\n",
      "2017-06-05 20:56:18,450 : INFO : topic #9 (0.067): 0.007*\"tax\" + 0.006*\"just\" + 0.006*\"like\" + 0.005*\"good\" + 0.005*\"time\" + 0.005*\"think\" + 0.005*\"don\" + 0.004*\"taxes\" + 0.004*\"people\" + 0.003*\"work\"\n",
      "2017-06-05 20:56:18,452 : INFO : topic #8 (0.067): 0.008*\"like\" + 0.006*\"https\" + 0.006*\"just\" + 0.006*\"com\" + 0.005*\"google\" + 0.005*\"think\" + 0.004*\"http\" + 0.004*\"people\" + 0.004*\"don\" + 0.004*\"www\"\n",
      "2017-06-05 20:56:18,459 : INFO : topic diff=15.483290, rho=1.000000\n",
      "2017-06-05 20:56:18,506 : INFO : PROGRESS: pass 0, at document #4000/246175\n",
      "2017-06-05 20:56:20,801 : INFO : merging changes from 2000 documents into a model of 246175 documents\n",
      "2017-06-05 20:56:21,032 : INFO : topic #3 (0.067): 0.006*\"people\" + 0.006*\"money\" + 0.005*\"don\" + 0.005*\"just\" + 0.005*\"doesn\" + 0.005*\"work\" + 0.004*\"use\" + 0.004*\"does\" + 0.004*\"ve\" + 0.004*\"think\"\n",
      "2017-06-05 20:56:21,033 : INFO : topic #5 (0.067): 0.008*\"just\" + 0.008*\"https\" + 0.008*\"like\" + 0.006*\"com\" + 0.005*\"browser\" + 0.005*\"really\" + 0.005*\"windows\" + 0.004*\"people\" + 0.004*\"ve\" + 0.004*\"time\"\n",
      "2017-06-05 20:56:21,036 : INFO : topic #4 (0.067): 0.008*\"people\" + 0.005*\"like\" + 0.005*\"don\" + 0.004*\"think\" + 0.004*\"time\" + 0.004*\"way\" + 0.004*\"just\" + 0.004*\"use\" + 0.003*\"power\" + 0.003*\"point\"\n",
      "2017-06-05 20:56:21,038 : INFO : topic #8 (0.067): 0.013*\"union\" + 0.008*\"like\" + 0.006*\"unions\" + 0.005*\"don\" + 0.005*\"people\" + 0.005*\"think\" + 0.005*\"google\" + 0.005*\"just\" + 0.005*\"workers\" + 0.005*\"https\"\n",
      "2017-06-05 20:56:21,040 : INFO : topic #6 (0.067): 0.013*\"people\" + 0.011*\"just\" + 0.010*\"think\" + 0.008*\"don\" + 0.007*\"like\" + 0.006*\"blockchain\" + 0.006*\"way\" + 0.005*\"really\" + 0.005*\"make\" + 0.004*\"using\"\n",
      "2017-06-05 20:56:21,047 : INFO : topic diff=1.096247, rho=0.707107\n",
      "2017-06-05 20:56:21,084 : INFO : PROGRESS: pass 0, at document #6000/246175\n",
      "2017-06-05 20:56:23,219 : INFO : merging changes from 2000 documents into a model of 246175 documents\n",
      "2017-06-05 20:56:23,567 : INFO : topic #14 (0.067): 0.009*\"like\" + 0.006*\"use\" + 0.005*\"don\" + 0.005*\"just\" + 0.005*\"used\" + 0.005*\"java\" + 0.004*\"archive\" + 0.004*\"change\" + 0.003*\"really\" + 0.003*\"ve\"\n",
      "2017-06-05 20:56:23,569 : INFO : topic #13 (0.067): 0.009*\"don\" + 0.007*\"just\" + 0.006*\"people\" + 0.006*\"problem\" + 0.005*\"survivorship\" + 0.005*\"things\" + 0.005*\"bias\" + 0.005*\"survivorship bias\" + 0.005*\"like\" + 0.005*\"think\"\n",
      "2017-06-05 20:56:23,571 : INFO : topic #2 (0.067): 0.008*\"just\" + 0.007*\"don\" + 0.006*\"people\" + 0.005*\"money\" + 0.005*\"work\" + 0.005*\"make\" + 0.005*\"use\" + 0.005*\"doesn\" + 0.005*\"time\" + 0.004*\"good\"\n",
      "2017-06-05 20:56:23,574 : INFO : topic #1 (0.067): 0.012*\"people\" + 0.007*\"don\" + 0.006*\"just\" + 0.005*\"make\" + 0.005*\"like\" + 0.004*\"think\" + 0.004*\"doesn\" + 0.004*\"stem\" + 0.004*\"bitcoin\" + 0.004*\"really\"\n",
      "2017-06-05 20:56:23,576 : INFO : topic #9 (0.067): 0.007*\"good\" + 0.007*\"gender\" + 0.006*\"just\" + 0.006*\"don\" + 0.006*\"id\" + 0.005*\"item\" + 0.005*\"ycombinator com\" + 0.005*\"people\" + 0.005*\"ycombinator\" + 0.005*\"news ycombinator\"\n",
      "2017-06-05 20:56:23,584 : INFO : topic diff=0.784957, rho=0.577350\n",
      "2017-06-05 20:56:23,609 : INFO : PROGRESS: pass 0, at document #8000/246175\n",
      "2017-06-05 20:56:25,686 : INFO : merging changes from 2000 documents into a model of 246175 documents\n",
      "2017-06-05 20:56:26,131 : INFO : topic #6 (0.067): 0.013*\"just\" + 0.012*\"people\" + 0.010*\"think\" + 0.009*\"don\" + 0.007*\"like\" + 0.007*\"way\" + 0.006*\"really\" + 0.005*\"using\" + 0.005*\"work\" + 0.004*\"make\"\n",
      "2017-06-05 20:56:26,133 : INFO : topic #11 (0.067): 0.016*\"svg\" + 0.007*\"http\" + 0.007*\"com\" + 0.006*\"people\" + 0.006*\"like\" + 0.006*\"www\" + 0.005*\"clothes\" + 0.005*\"think\" + 0.005*\"just\" + 0.005*\"https\"\n",
      "2017-06-05 20:56:26,135 : INFO : topic #10 (0.067): 0.007*\"use\" + 0.007*\"really\" + 0.005*\"just\" + 0.005*\"pain\" + 0.005*\"code\" + 0.005*\"book\" + 0.005*\"way\" + 0.004*\"want\" + 0.004*\"different\" + 0.004*\"like\"\n",
      "2017-06-05 20:56:26,137 : INFO : topic #7 (0.067): 0.013*\"women\" + 0.005*\"like\" + 0.005*\"just\" + 0.004*\"say\" + 0.004*\"don\" + 0.004*\"society\" + 0.004*\"think\" + 0.003*\"years\" + 0.003*\"people\" + 0.003*\"https\"\n",
      "2017-06-05 20:56:26,140 : INFO : topic #12 (0.067): 0.014*\"com\" + 0.013*\"like\" + 0.011*\"https\" + 0.009*\"www\" + 0.006*\"https www\" + 0.006*\"time\" + 0.005*\"google\" + 0.005*\"ago\" + 0.005*\"just\" + 0.004*\"think\"\n",
      "2017-06-05 20:56:26,147 : INFO : topic diff=0.716134, rho=0.500000\n",
      "2017-06-05 20:56:26,176 : INFO : PROGRESS: pass 0, at document #10000/246175\n",
      "2017-06-05 20:56:28,265 : INFO : merging changes from 2000 documents into a model of 246175 documents\n",
      "2017-06-05 20:56:28,838 : INFO : topic #12 (0.067): 0.015*\"com\" + 0.013*\"like\" + 0.012*\"https\" + 0.010*\"www\" + 0.007*\"vim\" + 0.007*\"https www\" + 0.006*\"google\" + 0.006*\"time\" + 0.005*\"ago\" + 0.005*\"years\"\n",
      "2017-06-05 20:56:28,841 : INFO : topic #1 (0.067): 0.014*\"people\" + 0.008*\"don\" + 0.007*\"card\" + 0.007*\"like\" + 0.006*\"just\" + 0.005*\"make\" + 0.005*\"cards\" + 0.004*\"really\" + 0.004*\"doesn\" + 0.004*\"know\"\n",
      "2017-06-05 20:56:28,843 : INFO : topic #3 (0.067): 0.017*\"docker\" + 0.006*\"work\" + 0.006*\"use\" + 0.006*\"just\" + 0.006*\"don\" + 0.005*\"accounts\" + 0.005*\"different\" + 0.005*\"people\" + 0.004*\"does\" + 0.004*\"need\"\n",
      "2017-06-05 20:56:28,846 : INFO : topic #4 (0.067): 0.007*\"people\" + 0.006*\"facebook\" + 0.006*\"social\" + 0.005*\"like\" + 0.005*\"don\" + 0.005*\"movie\" + 0.004*\"think\" + 0.004*\"just\" + 0.004*\"use\" + 0.004*\"way\"\n",
      "2017-06-05 20:56:28,848 : INFO : topic #6 (0.067): 0.013*\"just\" + 0.013*\"people\" + 0.010*\"think\" + 0.010*\"don\" + 0.007*\"like\" + 0.007*\"way\" + 0.006*\"really\" + 0.005*\"work\" + 0.005*\"python\" + 0.005*\"using\"\n",
      "2017-06-05 20:56:28,855 : INFO : topic diff=0.728102, rho=0.447214\n",
      "2017-06-05 20:56:28,882 : INFO : PROGRESS: pass 0, at document #12000/246175\n",
      "2017-06-05 20:56:30,914 : INFO : merging changes from 2000 documents into a model of 246175 documents\n",
      "2017-06-05 20:56:31,600 : INFO : topic #8 (0.067): 0.009*\"like\" + 0.006*\"google\" + 0.005*\"people\" + 0.005*\"don\" + 0.005*\"just\" + 0.004*\"think\" + 0.004*\"good\" + 0.004*\"bad\" + 0.004*\"really\" + 0.003*\"https\"\n",
      "2017-06-05 20:56:31,602 : INFO : topic #7 (0.067): 0.005*\"like\" + 0.005*\"women\" + 0.004*\"united\" + 0.004*\"just\" + 0.004*\"say\" + 0.004*\"don\" + 0.004*\"people\" + 0.004*\"use\" + 0.004*\"comment\" + 0.004*\"think\"\n",
      "2017-06-05 20:56:31,605 : INFO : topic #11 (0.067): 0.008*\"dune\" + 0.007*\"http\" + 0.007*\"like\" + 0.006*\"people\" + 0.006*\"www\" + 0.006*\"http www\" + 0.005*\"svg\" + 0.005*\"com\" + 0.005*\"think\" + 0.005*\"just\"\n",
      "2017-06-05 20:56:31,607 : INFO : topic #0 (0.067): 0.009*\"people\" + 0.007*\"drugs\" + 0.007*\"com\" + 0.006*\"https\" + 0.005*\"airline\" + 0.005*\"don\" + 0.005*\"just\" + 0.004*\"point\" + 0.004*\"business\" + 0.004*\"blog\"\n",
      "2017-06-05 20:56:31,609 : INFO : topic #6 (0.067): 0.013*\"just\" + 0.013*\"people\" + 0.011*\"think\" + 0.010*\"don\" + 0.008*\"like\" + 0.007*\"way\" + 0.007*\"really\" + 0.006*\"work\" + 0.005*\"using\" + 0.005*\"need\"\n",
      "2017-06-05 20:56:31,616 : INFO : topic diff=0.586344, rho=0.408248\n",
      "2017-06-05 20:56:31,642 : INFO : PROGRESS: pass 0, at document #14000/246175\n",
      "2017-06-05 20:56:33,672 : INFO : merging changes from 2000 documents into a model of 246175 documents\n",
      "2017-06-05 20:56:34,446 : INFO : topic #14 (0.067): 0.011*\"like\" + 0.008*\"use\" + 0.008*\"java\" + 0.005*\"just\" + 0.004*\"don\" + 0.004*\"code\" + 0.004*\"language\" + 0.004*\"change\" + 0.004*\"ve\" + 0.004*\"data\"\n",
      "2017-06-05 20:56:34,448 : INFO : topic #10 (0.067): 0.009*\"use\" + 0.008*\"code\" + 0.007*\"really\" + 0.006*\"just\" + 0.005*\"js\" + 0.005*\"want\" + 0.004*\"javascript\" + 0.004*\"like\" + 0.004*\"way\" + 0.004*\"need\"\n",
      "2017-06-05 20:56:34,450 : INFO : topic #8 (0.067): 0.009*\"like\" + 0.007*\"google\" + 0.005*\"people\" + 0.005*\"don\" + 0.005*\"think\" + 0.004*\"just\" + 0.004*\"bad\" + 0.004*\"good\" + 0.004*\"airlines\" + 0.004*\"really\"\n",
      "2017-06-05 20:56:34,452 : INFO : topic #12 (0.067): 0.017*\"com\" + 0.014*\"like\" + 0.012*\"https\" + 0.011*\"www\" + 0.011*\"vim\" + 0.008*\"https www\" + 0.006*\"time\" + 0.006*\"years\" + 0.006*\"google\" + 0.005*\"lidar\"\n",
      "2017-06-05 20:56:34,454 : INFO : topic #4 (0.067): 0.007*\"people\" + 0.006*\"laptop\" + 0.005*\"like\" + 0.005*\"don\" + 0.004*\"facebook\" + 0.004*\"source\" + 0.004*\"use\" + 0.004*\"think\" + 0.004*\"social\" + 0.004*\"movie\"\n",
      "2017-06-05 20:56:34,461 : INFO : topic diff=0.581639, rho=0.377964\n",
      "2017-06-05 20:56:34,487 : INFO : PROGRESS: pass 0, at document #16000/246175\n",
      "2017-06-05 20:56:36,409 : INFO : merging changes from 2000 documents into a model of 246175 documents\n",
      "2017-06-05 20:56:37,213 : INFO : topic #12 (0.067): 0.019*\"com\" + 0.014*\"like\" + 0.014*\"https\" + 0.013*\"www\" + 0.010*\"https www\" + 0.008*\"vim\" + 0.007*\"years\" + 0.007*\"time\" + 0.006*\"http\" + 0.006*\"google\"\n",
      "2017-06-05 20:56:37,215 : INFO : topic #3 (0.067): 0.012*\"docker\" + 0.006*\"use\" + 0.006*\"work\" + 0.006*\"don\" + 0.006*\"just\" + 0.005*\"does\" + 0.005*\"need\" + 0.005*\"linux\" + 0.004*\"google\" + 0.004*\"want\"\n",
      "2017-06-05 20:56:37,218 : INFO : topic #13 (0.067): 0.008*\"don\" + 0.007*\"just\" + 0.007*\"problem\" + 0.006*\"like\" + 0.006*\"people\" + 0.005*\"things\" + 0.005*\"google\" + 0.005*\"software\" + 0.004*\"code\" + 0.004*\"bbs\"\n",
      "2017-06-05 20:56:37,219 : INFO : topic #5 (0.067): 0.017*\"https\" + 0.010*\"org\" + 0.009*\"like\" + 0.009*\"just\" + 0.008*\"com\" + 0.008*\"github\" + 0.007*\"wikipedia\" + 0.006*\"use\" + 0.006*\"web\" + 0.006*\"windows\"\n",
      "2017-06-05 20:56:37,221 : INFO : topic #1 (0.067): 0.015*\"people\" + 0.008*\"don\" + 0.006*\"like\" + 0.005*\"make\" + 0.005*\"just\" + 0.004*\"know\" + 0.004*\"really\" + 0.004*\"think\" + 0.004*\"doesn\" + 0.004*\"understand\"\n",
      "2017-06-05 20:56:37,229 : INFO : topic diff=0.537071, rho=0.353553\n",
      "2017-06-05 20:56:37,257 : INFO : PROGRESS: pass 0, at document #18000/246175\n",
      "2017-06-05 20:56:39,265 : INFO : merging changes from 2000 documents into a model of 246175 documents\n",
      "2017-06-05 20:56:40,076 : INFO : topic #14 (0.067): 0.012*\"like\" + 0.008*\"use\" + 0.006*\"java\" + 0.006*\"data\" + 0.005*\"just\" + 0.004*\"code\" + 0.004*\"don\" + 0.004*\"language\" + 0.004*\"used\" + 0.004*\"change\"\n",
      "2017-06-05 20:56:40,079 : INFO : topic #1 (0.067): 0.018*\"people\" + 0.009*\"don\" + 0.006*\"like\" + 0.006*\"make\" + 0.005*\"just\" + 0.005*\"know\" + 0.005*\"think\" + 0.005*\"really\" + 0.004*\"understand\" + 0.004*\"doesn\"\n",
      "2017-06-05 20:56:40,081 : INFO : topic #11 (0.067): 0.008*\"http\" + 0.006*\"like\" + 0.006*\"www\" + 0.006*\"http www\" + 0.005*\"people\" + 0.005*\"police\" + 0.005*\"article\" + 0.005*\"think\" + 0.004*\"com\" + 0.004*\"just\"\n",
      "2017-06-05 20:56:40,083 : INFO : topic #5 (0.067): 0.018*\"https\" + 0.010*\"org\" + 0.009*\"just\" + 0.009*\"com\" + 0.009*\"like\" + 0.008*\"github\" + 0.008*\"windows\" + 0.006*\"wikipedia\" + 0.006*\"use\" + 0.006*\"github com\"\n",
      "2017-06-05 20:56:40,085 : INFO : topic #6 (0.067): 0.014*\"just\" + 0.013*\"people\" + 0.012*\"think\" + 0.012*\"don\" + 0.008*\"like\" + 0.007*\"work\" + 0.007*\"really\" + 0.007*\"need\" + 0.007*\"way\" + 0.006*\"language\"\n",
      "2017-06-05 20:56:40,091 : INFO : topic diff=0.560788, rho=0.333333\n",
      "2017-06-05 20:56:44,726 : INFO : -10.289 per-word bound, 1250.9 perplexity estimate based on a held-out corpus of 2000 documents with 68894 words\n",
      "2017-06-05 20:56:44,727 : INFO : PROGRESS: pass 0, at document #20000/246175\n",
      "2017-06-05 20:56:46,632 : INFO : merging changes from 2000 documents into a model of 246175 documents\n",
      "2017-06-05 20:56:47,451 : INFO : topic #7 (0.067): 0.015*\"war\" + 0.005*\"labour\" + 0.005*\"like\" + 0.004*\"years\" + 0.004*\"france\" + 0.004*\"just\" + 0.004*\"say\" + 0.004*\"united\" + 0.004*\"did\" + 0.003*\"people\"\n",
      "2017-06-05 20:56:47,453 : INFO : topic #10 (0.067): 0.009*\"use\" + 0.008*\"code\" + 0.006*\"really\" + 0.006*\"just\" + 0.005*\"js\" + 0.004*\"want\" + 0.004*\"ipv\" + 0.004*\"like\" + 0.004*\"memory\" + 0.004*\"ve\"\n",
      "2017-06-05 20:56:47,455 : INFO : topic #6 (0.067): 0.014*\"just\" + 0.014*\"people\" + 0.012*\"think\" + 0.012*\"don\" + 0.008*\"like\" + 0.008*\"work\" + 0.007*\"really\" + 0.007*\"need\" + 0.007*\"way\" + 0.006*\"language\"\n",
      "2017-06-05 20:56:47,456 : INFO : topic #12 (0.067): 0.022*\"com\" + 0.015*\"https\" + 0.015*\"www\" + 0.015*\"like\" + 0.011*\"https www\" + 0.007*\"time\" + 0.007*\"years\" + 0.007*\"http\" + 0.007*\"ago\" + 0.005*\"day\"\n",
      "2017-06-05 20:56:47,458 : INFO : topic #1 (0.067): 0.019*\"people\" + 0.008*\"don\" + 0.006*\"like\" + 0.006*\"make\" + 0.005*\"know\" + 0.005*\"just\" + 0.005*\"think\" + 0.005*\"really\" + 0.005*\"understand\" + 0.004*\"doesn\"\n",
      "2017-06-05 20:56:47,465 : INFO : topic diff=0.494955, rho=0.316228\n",
      "2017-06-05 20:56:47,490 : INFO : PROGRESS: pass 0, at document #22000/246175\n",
      "2017-06-05 20:56:49,243 : INFO : merging changes from 2000 documents into a model of 246175 documents\n",
      "2017-06-05 20:56:50,084 : INFO : topic #6 (0.067): 0.015*\"just\" + 0.014*\"people\" + 0.013*\"think\" + 0.012*\"don\" + 0.008*\"like\" + 0.008*\"work\" + 0.007*\"really\" + 0.007*\"need\" + 0.007*\"way\" + 0.006*\"language\"\n",
      "2017-06-05 20:56:50,085 : INFO : topic #12 (0.067): 0.024*\"com\" + 0.017*\"https\" + 0.017*\"www\" + 0.015*\"like\" + 0.012*\"https www\" + 0.008*\"http\" + 0.008*\"years\" + 0.007*\"ago\" + 0.007*\"time\" + 0.005*\"day\"\n",
      "2017-06-05 20:56:50,087 : INFO : topic #10 (0.067): 0.009*\"use\" + 0.007*\"code\" + 0.007*\"js\" + 0.006*\"really\" + 0.006*\"just\" + 0.005*\"want\" + 0.004*\"like\" + 0.004*\"memory\" + 0.004*\"ve\" + 0.004*\"way\"\n",
      "2017-06-05 20:56:50,089 : INFO : topic #0 (0.067): 0.011*\"people\" + 0.008*\"companies\" + 0.005*\"business\" + 0.005*\"just\" + 0.005*\"indian\" + 0.005*\"active\" + 0.005*\"index\" + 0.004*\"point\" + 0.004*\"don\" + 0.004*\"stock\"\n",
      "2017-06-05 20:56:50,091 : INFO : topic #7 (0.067): 0.012*\"war\" + 0.005*\"labour\" + 0.004*\"like\" + 0.004*\"say\" + 0.004*\"just\" + 0.004*\"women\" + 0.004*\"years\" + 0.004*\"united\" + 0.004*\"did\" + 0.004*\"think\"\n",
      "2017-06-05 20:56:50,098 : INFO : topic diff=0.434326, rho=0.301511\n",
      "2017-06-05 20:56:50,123 : INFO : PROGRESS: pass 0, at document #24000/246175\n",
      "2017-06-05 20:56:51,884 : INFO : merging changes from 2000 documents into a model of 246175 documents\n",
      "2017-06-05 20:56:52,703 : INFO : topic #14 (0.067): 0.013*\"like\" + 0.010*\"data\" + 0.008*\"use\" + 0.005*\"java\" + 0.005*\"just\" + 0.004*\"code\" + 0.004*\"change\" + 0.004*\"don\" + 0.004*\"things\" + 0.004*\"used\"\n",
      "2017-06-05 20:56:52,705 : INFO : topic #3 (0.067): 0.008*\"docker\" + 0.007*\"funds\" + 0.006*\"work\" + 0.006*\"does\" + 0.006*\"don\" + 0.006*\"just\" + 0.005*\"use\" + 0.005*\"vanguard\" + 0.005*\"need\" + 0.005*\"different\"\n",
      "2017-06-05 20:56:52,707 : INFO : topic #13 (0.067): 0.008*\"just\" + 0.008*\"don\" + 0.008*\"things\" + 0.008*\"problem\" + 0.007*\"like\" + 0.006*\"people\" + 0.005*\"time\" + 0.005*\"thanks\" + 0.005*\"software\" + 0.004*\"work\"\n",
      "2017-06-05 20:56:52,710 : INFO : topic #8 (0.067): 0.008*\"like\" + 0.006*\"people\" + 0.005*\"think\" + 0.005*\"bad\" + 0.004*\"workers\" + 0.004*\"just\" + 0.004*\"don\" + 0.004*\"age\" + 0.004*\"power\" + 0.004*\"good\"\n",
      "2017-06-05 20:56:52,712 : INFO : topic #1 (0.067): 0.020*\"people\" + 0.008*\"don\" + 0.006*\"make\" + 0.006*\"like\" + 0.005*\"know\" + 0.005*\"just\" + 0.005*\"understand\" + 0.005*\"think\" + 0.005*\"doesn\" + 0.004*\"really\"\n",
      "2017-06-05 20:56:52,719 : INFO : topic diff=0.424270, rho=0.288675\n",
      "2017-06-05 20:56:52,744 : INFO : PROGRESS: pass 0, at document #26000/246175\n",
      "2017-06-05 20:56:54,552 : INFO : merging changes from 2000 documents into a model of 246175 documents\n",
      "2017-06-05 20:56:55,354 : INFO : topic #1 (0.067): 0.022*\"people\" + 0.009*\"don\" + 0.006*\"make\" + 0.006*\"like\" + 0.006*\"know\" + 0.005*\"think\" + 0.005*\"just\" + 0.005*\"understand\" + 0.005*\"doesn\" + 0.004*\"really\"\n",
      "2017-06-05 20:56:55,356 : INFO : topic #7 (0.067): 0.009*\"war\" + 0.008*\"women\" + 0.005*\"backblaze\" + 0.004*\"did\" + 0.004*\"labour\" + 0.004*\"say\" + 0.004*\"like\" + 0.004*\"just\" + 0.004*\"years\" + 0.004*\"world\"\n",
      "2017-06-05 20:56:55,358 : INFO : topic #11 (0.067): 0.010*\"food\" + 0.008*\"http\" + 0.006*\"like\" + 0.005*\"article\" + 0.005*\"police\" + 0.005*\"think\" + 0.005*\"people\" + 0.004*\"www\" + 0.004*\"http www\" + 0.004*\"just\"\n",
      "2017-06-05 20:56:55,361 : INFO : topic #14 (0.067): 0.014*\"like\" + 0.013*\"data\" + 0.008*\"use\" + 0.005*\"java\" + 0.005*\"code\" + 0.005*\"just\" + 0.004*\"change\" + 0.004*\"things\" + 0.004*\"storage\" + 0.004*\"cases\"\n",
      "2017-06-05 20:56:55,363 : INFO : topic #6 (0.067): 0.015*\"just\" + 0.014*\"think\" + 0.013*\"people\" + 0.012*\"don\" + 0.009*\"like\" + 0.008*\"really\" + 0.007*\"work\" + 0.007*\"way\" + 0.007*\"need\" + 0.006*\"language\"\n",
      "2017-06-05 20:56:55,370 : INFO : topic diff=0.421542, rho=0.277350\n",
      "2017-06-05 20:56:55,394 : INFO : PROGRESS: pass 0, at document #28000/246175\n",
      "2017-06-05 20:56:57,121 : INFO : merging changes from 2000 documents into a model of 246175 documents\n",
      "2017-06-05 20:56:57,900 : INFO : topic #13 (0.067): 0.008*\"just\" + 0.008*\"don\" + 0.008*\"things\" + 0.007*\"problem\" + 0.007*\"like\" + 0.006*\"time\" + 0.006*\"ai\" + 0.006*\"good\" + 0.005*\"google\" + 0.005*\"thanks\"\n",
      "2017-06-05 20:56:57,902 : INFO : topic #3 (0.067): 0.008*\"docker\" + 0.006*\"does\" + 0.006*\"don\" + 0.006*\"just\" + 0.006*\"work\" + 0.006*\"use\" + 0.005*\"want\" + 0.004*\"different\" + 0.004*\"need\" + 0.004*\"linux\"\n",
      "2017-06-05 20:56:57,905 : INFO : topic #4 (0.067): 0.009*\"people\" + 0.007*\"life\" + 0.006*\"like\" + 0.006*\"facebook\" + 0.005*\"don\" + 0.005*\"social\" + 0.004*\"think\" + 0.004*\"way\" + 0.004*\"time\" + 0.004*\"point\"\n",
      "2017-06-05 20:56:57,906 : INFO : topic #6 (0.067): 0.014*\"just\" + 0.014*\"think\" + 0.013*\"people\" + 0.012*\"don\" + 0.009*\"like\" + 0.008*\"really\" + 0.008*\"work\" + 0.007*\"programming\" + 0.007*\"way\" + 0.007*\"language\"\n",
      "2017-06-05 20:56:57,908 : INFO : topic #5 (0.067): 0.025*\"https\" + 0.014*\"org\" + 0.012*\"com\" + 0.010*\"github\" + 0.009*\"just\" + 0.008*\"web\" + 0.008*\"like\" + 0.007*\"using\" + 0.007*\"windows\" + 0.007*\"github com\"\n",
      "2017-06-05 20:56:57,915 : INFO : topic diff=0.383983, rho=0.267261\n",
      "2017-06-05 20:56:57,940 : INFO : PROGRESS: pass 0, at document #30000/246175\n",
      "2017-06-05 20:56:59,727 : INFO : merging changes from 2000 documents into a model of 246175 documents\n",
      "2017-06-05 20:57:00,550 : INFO : topic #11 (0.067): 0.008*\"http\" + 0.007*\"food\" + 0.006*\"article\" + 0.006*\"like\" + 0.005*\"http www\" + 0.005*\"www\" + 0.004*\"police\" + 0.004*\"think\" + 0.004*\"people\" + 0.004*\"just\"\n",
      "2017-06-05 20:57:00,552 : INFO : topic #9 (0.067): 0.011*\"tax\" + 0.009*\"work\" + 0.008*\"pay\" + 0.007*\"year\" + 0.007*\"time\" + 0.006*\"news\" + 0.006*\"money\" + 0.006*\"people\" + 0.005*\"government\" + 0.005*\"don\"\n",
      "2017-06-05 20:57:00,553 : INFO : topic #12 (0.067): 0.031*\"com\" + 0.023*\"www\" + 0.021*\"https\" + 0.016*\"like\" + 0.015*\"https www\" + 0.012*\"http\" + 0.009*\"ago\" + 0.007*\"http www\" + 0.007*\"years\" + 0.006*\"time\"\n",
      "2017-06-05 20:57:00,555 : INFO : topic #2 (0.067): 0.009*\"make\" + 0.008*\"just\" + 0.008*\"google\" + 0.007*\"don\" + 0.007*\"time\" + 0.007*\"app\" + 0.007*\"react\" + 0.006*\"free\" + 0.006*\"money\" + 0.006*\"good\"\n",
      "2017-06-05 20:57:00,557 : INFO : topic #7 (0.067): 0.008*\"war\" + 0.006*\"labour\" + 0.005*\"women\" + 0.005*\"did\" + 0.004*\"just\" + 0.004*\"say\" + 0.004*\"like\" + 0.004*\"years\" + 0.003*\"think\" + 0.003*\"monero\"\n",
      "2017-06-05 20:57:00,564 : INFO : topic diff=0.402631, rho=0.258199\n",
      "2017-06-05 20:57:00,587 : INFO : PROGRESS: pass 0, at document #32000/246175\n",
      "2017-06-05 20:57:02,422 : INFO : merging changes from 2000 documents into a model of 246175 documents\n",
      "2017-06-05 20:57:03,195 : INFO : topic #14 (0.067): 0.014*\"like\" + 0.012*\"data\" + 0.008*\"use\" + 0.006*\"games\" + 0.005*\"java\" + 0.004*\"just\" + 0.004*\"change\" + 0.004*\"used\" + 0.004*\"code\" + 0.004*\"don\"\n",
      "2017-06-05 20:57:03,197 : INFO : topic #8 (0.067): 0.008*\"like\" + 0.007*\"government\" + 0.007*\"airlines\" + 0.006*\"regulation\" + 0.006*\"people\" + 0.005*\"power\" + 0.005*\"bad\" + 0.005*\"think\" + 0.004*\"regulations\" + 0.004*\"just\"\n",
      "2017-06-05 20:57:03,199 : INFO : topic #7 (0.067): 0.009*\"openstack\" + 0.006*\"war\" + 0.005*\"did\" + 0.005*\"labour\" + 0.005*\"united\" + 0.004*\"just\" + 0.004*\"say\" + 0.004*\"women\" + 0.004*\"like\" + 0.004*\"years\"\n",
      "2017-06-05 20:57:03,201 : INFO : topic #5 (0.067): 0.023*\"https\" + 0.014*\"org\" + 0.011*\"com\" + 0.010*\"github\" + 0.009*\"just\" + 0.008*\"wikipedia\" + 0.007*\"like\" + 0.007*\"en\" + 0.007*\"using\" + 0.007*\"wiki\"\n",
      "2017-06-05 20:57:03,203 : INFO : topic #4 (0.067): 0.008*\"people\" + 0.007*\"life\" + 0.006*\"like\" + 0.005*\"don\" + 0.005*\"social\" + 0.004*\"think\" + 0.004*\"facebook\" + 0.004*\"way\" + 0.004*\"time\" + 0.004*\"just\"\n",
      "2017-06-05 20:57:03,210 : INFO : topic diff=0.387487, rho=0.250000\n",
      "2017-06-05 20:57:03,243 : INFO : PROGRESS: pass 0, at document #34000/246175\n",
      "2017-06-05 20:57:05,249 : INFO : merging changes from 2000 documents into a model of 246175 documents\n",
      "2017-06-05 20:57:06,026 : INFO : topic #2 (0.067): 0.009*\"make\" + 0.008*\"just\" + 0.008*\"don\" + 0.007*\"google\" + 0.007*\"time\" + 0.006*\"money\" + 0.006*\"facebook\" + 0.006*\"free\" + 0.006*\"good\" + 0.005*\"app\"\n",
      "2017-06-05 20:57:06,028 : INFO : topic #9 (0.067): 0.009*\"pay\" + 0.008*\"tax\" + 0.008*\"work\" + 0.007*\"money\" + 0.007*\"news\" + 0.006*\"time\" + 0.006*\"year\" + 0.006*\"people\" + 0.006*\"country\" + 0.005*\"don\"\n",
      "2017-06-05 20:57:06,030 : INFO : topic #3 (0.067): 0.007*\"does\" + 0.006*\"don\" + 0.006*\"use\" + 0.006*\"just\" + 0.006*\"work\" + 0.005*\"docker\" + 0.005*\"want\" + 0.005*\"different\" + 0.004*\"need\" + 0.004*\"ve\"\n",
      "2017-06-05 20:57:06,032 : INFO : topic #1 (0.067): 0.022*\"people\" + 0.010*\"don\" + 0.007*\"make\" + 0.007*\"like\" + 0.006*\"know\" + 0.006*\"think\" + 0.006*\"just\" + 0.005*\"doesn\" + 0.005*\"understand\" + 0.004*\"say\"\n",
      "2017-06-05 20:57:06,035 : INFO : topic #6 (0.067): 0.016*\"think\" + 0.015*\"just\" + 0.013*\"don\" + 0.012*\"people\" + 0.009*\"like\" + 0.009*\"really\" + 0.009*\"work\" + 0.008*\"way\" + 0.007*\"need\" + 0.006*\"time\"\n",
      "2017-06-05 20:57:06,042 : INFO : topic diff=0.394325, rho=0.242536\n",
      "2017-06-05 20:57:06,070 : INFO : PROGRESS: pass 0, at document #36000/246175\n",
      "2017-06-05 20:57:08,040 : INFO : merging changes from 2000 documents into a model of 246175 documents\n",
      "2017-06-05 20:57:08,784 : INFO : topic #10 (0.067): 0.010*\"code\" + 0.010*\"use\" + 0.008*\"php\" + 0.006*\"just\" + 0.006*\"really\" + 0.005*\"memory\" + 0.004*\"want\" + 0.004*\"like\" + 0.004*\"way\" + 0.004*\"used\"\n",
      "2017-06-05 20:57:08,786 : INFO : topic #0 (0.067): 0.010*\"people\" + 0.008*\"airbnb\" + 0.006*\"twitter\" + 0.006*\"companies\" + 0.006*\"business\" + 0.006*\"hotel\" + 0.005*\"just\" + 0.004*\"don\" + 0.004*\"price\" + 0.004*\"point\"\n",
      "2017-06-05 20:57:08,789 : INFO : topic #2 (0.067): 0.009*\"make\" + 0.008*\"facebook\" + 0.008*\"just\" + 0.008*\"don\" + 0.007*\"google\" + 0.006*\"time\" + 0.006*\"money\" + 0.006*\"good\" + 0.006*\"free\" + 0.005*\"app\"\n",
      "2017-06-05 20:57:08,791 : INFO : topic #3 (0.067): 0.007*\"does\" + 0.006*\"don\" + 0.006*\"use\" + 0.006*\"just\" + 0.006*\"work\" + 0.006*\"want\" + 0.005*\"need\" + 0.004*\"different\" + 0.004*\"docker\" + 0.004*\"ve\"\n",
      "2017-06-05 20:57:08,793 : INFO : topic #8 (0.067): 0.008*\"like\" + 0.006*\"people\" + 0.006*\"government\" + 0.005*\"think\" + 0.005*\"power\" + 0.005*\"regulation\" + 0.005*\"bad\" + 0.004*\"airlines\" + 0.004*\"age\" + 0.004*\"good\"\n",
      "2017-06-05 20:57:08,802 : INFO : topic diff=0.384131, rho=0.235702\n",
      "2017-06-05 20:57:08,830 : INFO : PROGRESS: pass 0, at document #38000/246175\n",
      "2017-06-05 20:57:10,758 : INFO : merging changes from 2000 documents into a model of 246175 documents\n",
      "2017-06-05 20:57:11,541 : INFO : topic #2 (0.067): 0.010*\"facebook\" + 0.009*\"make\" + 0.009*\"just\" + 0.008*\"don\" + 0.006*\"google\" + 0.006*\"users\" + 0.006*\"time\" + 0.006*\"money\" + 0.006*\"good\" + 0.005*\"use\"\n",
      "2017-06-05 20:57:11,543 : INFO : topic #1 (0.067): 0.023*\"people\" + 0.010*\"don\" + 0.007*\"like\" + 0.006*\"make\" + 0.006*\"know\" + 0.006*\"think\" + 0.006*\"just\" + 0.005*\"doesn\" + 0.005*\"understand\" + 0.005*\"say\"\n",
      "2017-06-05 20:57:11,545 : INFO : topic #8 (0.067): 0.008*\"like\" + 0.006*\"people\" + 0.005*\"power\" + 0.005*\"government\" + 0.005*\"think\" + 0.005*\"bad\" + 0.004*\"age\" + 0.004*\"regulation\" + 0.004*\"political\" + 0.004*\"good\"\n",
      "2017-06-05 20:57:11,548 : INFO : topic #14 (0.067): 0.015*\"like\" + 0.012*\"data\" + 0.009*\"use\" + 0.004*\"cases\" + 0.004*\"used\" + 0.004*\"just\" + 0.004*\"change\" + 0.004*\"latin\" + 0.004*\"games\" + 0.004*\"things\"\n",
      "2017-06-05 20:57:11,549 : INFO : topic #12 (0.067): 0.032*\"com\" + 0.025*\"www\" + 0.022*\"https\" + 0.016*\"https www\" + 0.015*\"like\" + 0.014*\"http\" + 0.009*\"http www\" + 0.008*\"ago\" + 0.007*\"years\" + 0.007*\"apple\"\n",
      "2017-06-05 20:57:11,556 : INFO : topic diff=0.353853, rho=0.229416\n",
      "2017-06-05 20:57:16,170 : INFO : -9.847 per-word bound, 920.7 perplexity estimate based on a held-out corpus of 2000 documents with 62852 words\n",
      "2017-06-05 20:57:16,171 : INFO : PROGRESS: pass 0, at document #40000/246175\n",
      "2017-06-05 20:57:18,004 : INFO : merging changes from 2000 documents into a model of 246175 documents\n",
      "2017-06-05 20:57:18,746 : INFO : topic #4 (0.067): 0.009*\"people\" + 0.008*\"life\" + 0.006*\"like\" + 0.006*\"don\" + 0.006*\"facebook\" + 0.005*\"social\" + 0.005*\"think\" + 0.004*\"post\" + 0.004*\"hn\" + 0.004*\"way\"\n",
      "2017-06-05 20:57:18,748 : INFO : topic #9 (0.067): 0.017*\"tax\" + 0.010*\"money\" + 0.010*\"income\" + 0.010*\"pay\" + 0.010*\"taxes\" + 0.008*\"work\" + 0.007*\"news\" + 0.006*\"country\" + 0.006*\"countries\" + 0.006*\"rate\"\n",
      "2017-06-05 20:57:18,750 : INFO : topic #11 (0.067): 0.007*\"bull\" + 0.006*\"article\" + 0.006*\"http\" + 0.006*\"like\" + 0.005*\"food\" + 0.004*\"think\" + 0.004*\"http www\" + 0.004*\"just\" + 0.003*\"www\" + 0.003*\"radio\"\n",
      "2017-06-05 20:57:18,752 : INFO : topic #3 (0.067): 0.007*\"does\" + 0.007*\"use\" + 0.006*\"don\" + 0.006*\"just\" + 0.006*\"work\" + 0.005*\"want\" + 0.005*\"different\" + 0.005*\"need\" + 0.004*\"share\" + 0.004*\"ve\"\n",
      "2017-06-05 20:57:18,754 : INFO : topic #8 (0.067): 0.008*\"like\" + 0.006*\"people\" + 0.005*\"think\" + 0.005*\"government\" + 0.005*\"power\" + 0.005*\"age\" + 0.004*\"bad\" + 0.004*\"good\" + 0.004*\"political\" + 0.004*\"just\"\n",
      "2017-06-05 20:57:18,761 : INFO : topic diff=0.332383, rho=0.223607\n",
      "2017-06-05 20:57:18,788 : INFO : PROGRESS: pass 0, at document #42000/246175\n",
      "2017-06-05 20:57:20,683 : INFO : merging changes from 2000 documents into a model of 246175 documents\n",
      "2017-06-05 20:57:21,381 : INFO : topic #6 (0.067): 0.015*\"think\" + 0.015*\"just\" + 0.013*\"don\" + 0.012*\"people\" + 0.010*\"like\" + 0.010*\"really\" + 0.009*\"work\" + 0.008*\"way\" + 0.007*\"need\" + 0.006*\"language\"\n",
      "2017-06-05 20:57:21,384 : INFO : topic #1 (0.067): 0.023*\"people\" + 0.009*\"don\" + 0.007*\"know\" + 0.007*\"like\" + 0.006*\"make\" + 0.006*\"think\" + 0.006*\"card\" + 0.006*\"just\" + 0.005*\"doesn\" + 0.005*\"say\"\n",
      "2017-06-05 20:57:21,386 : INFO : topic #4 (0.067): 0.009*\"people\" + 0.008*\"life\" + 0.006*\"like\" + 0.006*\"don\" + 0.005*\"social\" + 0.005*\"facebook\" + 0.004*\"think\" + 0.004*\"post\" + 0.004*\"hn\" + 0.004*\"way\"\n",
      "2017-06-05 20:57:21,388 : INFO : topic #3 (0.067): 0.007*\"use\" + 0.007*\"does\" + 0.006*\"just\" + 0.006*\"don\" + 0.006*\"work\" + 0.005*\"want\" + 0.005*\"different\" + 0.005*\"need\" + 0.004*\"ve\" + 0.004*\"make\"\n",
      "2017-06-05 20:57:21,390 : INFO : topic #10 (0.067): 0.011*\"code\" + 0.011*\"use\" + 0.006*\"just\" + 0.006*\"really\" + 0.005*\"memory\" + 0.004*\"php\" + 0.004*\"used\" + 0.004*\"like\" + 0.004*\"way\" + 0.004*\"js\"\n",
      "2017-06-05 20:57:21,397 : INFO : topic diff=0.337685, rho=0.218218\n",
      "2017-06-05 20:57:21,424 : INFO : PROGRESS: pass 0, at document #44000/246175\n",
      "2017-06-05 20:57:23,225 : INFO : merging changes from 2000 documents into a model of 246175 documents\n",
      "2017-06-05 20:57:23,926 : INFO : topic #5 (0.067): 0.024*\"https\" + 0.015*\"org\" + 0.012*\"com\" + 0.010*\"windows\" + 0.010*\"en\" + 0.009*\"wikipedia\" + 0.009*\"web\" + 0.009*\"wiki\" + 0.008*\"org wiki\" + 0.008*\"wikipedia org\"\n",
      "2017-06-05 20:57:23,928 : INFO : topic #3 (0.067): 0.007*\"use\" + 0.006*\"does\" + 0.006*\"just\" + 0.006*\"don\" + 0.006*\"want\" + 0.005*\"work\" + 0.004*\"different\" + 0.004*\"need\" + 0.004*\"ve\" + 0.004*\"make\"\n",
      "2017-06-05 20:57:23,930 : INFO : topic #11 (0.067): 0.006*\"article\" + 0.006*\"like\" + 0.005*\"http\" + 0.005*\"food\" + 0.005*\"nz\" + 0.004*\"bull\" + 0.004*\"water\" + 0.004*\"police\" + 0.003*\"think\" + 0.003*\"just\"\n",
      "2017-06-05 20:57:23,933 : INFO : topic #14 (0.067): 0.015*\"like\" + 0.012*\"data\" + 0.009*\"use\" + 0.005*\"cases\" + 0.005*\"used\" + 0.004*\"change\" + 0.004*\"just\" + 0.004*\"code\" + 0.004*\"type\" + 0.004*\"latin\"\n",
      "2017-06-05 20:57:23,935 : INFO : topic #7 (0.067): 0.006*\"did\" + 0.005*\"war\" + 0.005*\"united\" + 0.005*\"russian\" + 0.004*\"say\" + 0.004*\"author\" + 0.004*\"reddit\" + 0.004*\"patent\" + 0.004*\"history\" + 0.004*\"world\"\n",
      "2017-06-05 20:57:23,942 : INFO : topic diff=0.323983, rho=0.213201\n",
      "2017-06-05 20:57:23,970 : INFO : PROGRESS: pass 0, at document #46000/246175\n",
      "2017-06-05 20:57:25,862 : INFO : merging changes from 2000 documents into a model of 246175 documents\n",
      "2017-06-05 20:57:26,535 : INFO : topic #9 (0.067): 0.017*\"tax\" + 0.011*\"pay\" + 0.011*\"money\" + 0.009*\"taxes\" + 0.008*\"income\" + 0.008*\"work\" + 0.008*\"year\" + 0.006*\"news\" + 0.006*\"country\" + 0.006*\"people\"\n",
      "2017-06-05 20:57:26,537 : INFO : topic #0 (0.067): 0.009*\"people\" + 0.007*\"business\" + 0.007*\"companies\" + 0.005*\"uber\" + 0.005*\"just\" + 0.005*\"price\" + 0.004*\"point\" + 0.004*\"twitter\" + 0.004*\"cars\" + 0.004*\"airline\"\n",
      "2017-06-05 20:57:26,540 : INFO : topic #7 (0.067): 0.007*\"united\" + 0.006*\"did\" + 0.005*\"war\" + 0.004*\"reddit\" + 0.004*\"say\" + 0.004*\"russian\" + 0.004*\"history\" + 0.004*\"author\" + 0.004*\"just\" + 0.004*\"world\"\n",
      "2017-06-05 20:57:26,541 : INFO : topic #12 (0.067): 0.034*\"com\" + 0.026*\"www\" + 0.023*\"https\" + 0.018*\"apple\" + 0.016*\"https www\" + 0.014*\"http\" + 0.013*\"like\" + 0.009*\"http www\" + 0.009*\"ago\" + 0.007*\"years\"\n",
      "2017-06-05 20:57:26,543 : INFO : topic #10 (0.067): 0.012*\"code\" + 0.010*\"use\" + 0.007*\"memory\" + 0.006*\"just\" + 0.005*\"really\" + 0.004*\"used\" + 0.004*\"machine\" + 0.004*\"like\" + 0.004*\"easy\" + 0.004*\"want\"\n",
      "2017-06-05 20:57:26,550 : INFO : topic diff=0.323374, rho=0.208514\n",
      "2017-06-05 20:57:26,579 : INFO : PROGRESS: pass 0, at document #48000/246175\n",
      "2017-06-05 20:57:28,451 : INFO : merging changes from 2000 documents into a model of 246175 documents\n",
      "2017-06-05 20:57:29,114 : INFO : topic #9 (0.067): 0.020*\"tax\" + 0.011*\"pay\" + 0.011*\"money\" + 0.010*\"taxes\" + 0.008*\"income\" + 0.008*\"year\" + 0.008*\"work\" + 0.006*\"news\" + 0.006*\"people\" + 0.005*\"country\"\n",
      "2017-06-05 20:57:29,117 : INFO : topic #10 (0.067): 0.013*\"code\" + 0.010*\"use\" + 0.008*\"memory\" + 0.005*\"just\" + 0.005*\"really\" + 0.004*\"machine\" + 0.004*\"like\" + 0.004*\"used\" + 0.004*\"time\" + 0.004*\"easy\"\n",
      "2017-06-05 20:57:29,119 : INFO : topic #5 (0.067): 0.024*\"https\" + 0.015*\"org\" + 0.012*\"com\" + 0.010*\"windows\" + 0.009*\"en\" + 0.009*\"wikipedia\" + 0.008*\"wiki\" + 0.008*\"github\" + 0.008*\"web\" + 0.008*\"org wiki\"\n",
      "2017-06-05 20:57:29,122 : INFO : topic #8 (0.067): 0.008*\"like\" + 0.006*\"people\" + 0.006*\"power\" + 0.005*\"government\" + 0.005*\"flight\" + 0.004*\"think\" + 0.004*\"bad\" + 0.004*\"good\" + 0.004*\"rights\" + 0.004*\"just\"\n",
      "2017-06-05 20:57:29,124 : INFO : topic #3 (0.067): 0.007*\"use\" + 0.007*\"just\" + 0.006*\"does\" + 0.006*\"don\" + 0.005*\"want\" + 0.005*\"work\" + 0.004*\"ve\" + 0.004*\"different\" + 0.004*\"need\" + 0.004*\"information\"\n",
      "2017-06-05 20:57:29,132 : INFO : topic diff=0.306811, rho=0.204124\n",
      "2017-06-05 20:57:29,159 : INFO : PROGRESS: pass 0, at document #50000/246175\n",
      "2017-06-05 20:57:30,984 : INFO : merging changes from 2000 documents into a model of 246175 documents\n",
      "2017-06-05 20:57:31,616 : INFO : topic #14 (0.067): 0.015*\"like\" + 0.011*\"data\" + 0.009*\"use\" + 0.005*\"games\" + 0.005*\"cases\" + 0.005*\"used\" + 0.004*\"code\" + 0.004*\"looks\" + 0.004*\"just\" + 0.004*\"bit\"\n",
      "2017-06-05 20:57:31,617 : INFO : topic #0 (0.067): 0.009*\"people\" + 0.007*\"business\" + 0.006*\"companies\" + 0.005*\"just\" + 0.005*\"price\" + 0.004*\"point\" + 0.004*\"cars\" + 0.004*\"twitter\" + 0.004*\"uber\" + 0.004*\"tech\"\n",
      "2017-06-05 20:57:31,620 : INFO : topic #6 (0.067): 0.016*\"just\" + 0.015*\"think\" + 0.014*\"don\" + 0.013*\"people\" + 0.011*\"like\" + 0.010*\"really\" + 0.010*\"work\" + 0.009*\"way\" + 0.006*\"need\" + 0.006*\"time\"\n",
      "2017-06-05 20:57:31,622 : INFO : topic #2 (0.067): 0.010*\"make\" + 0.008*\"just\" + 0.008*\"google\" + 0.008*\"don\" + 0.007*\"ad\" + 0.006*\"users\" + 0.006*\"ads\" + 0.006*\"time\" + 0.006*\"use\" + 0.005*\"money\"\n",
      "2017-06-05 20:57:31,623 : INFO : topic #3 (0.067): 0.007*\"use\" + 0.007*\"just\" + 0.006*\"does\" + 0.006*\"don\" + 0.005*\"want\" + 0.005*\"work\" + 0.005*\"ve\" + 0.004*\"need\" + 0.004*\"desktop\" + 0.004*\"different\"\n",
      "2017-06-05 20:57:31,630 : INFO : topic diff=0.292780, rho=0.200000\n",
      "2017-06-05 20:57:31,659 : INFO : PROGRESS: pass 0, at document #52000/246175\n",
      "2017-06-05 20:57:33,525 : INFO : merging changes from 2000 documents into a model of 246175 documents\n",
      "2017-06-05 20:57:34,157 : INFO : topic #2 (0.067): 0.010*\"make\" + 0.008*\"google\" + 0.008*\"just\" + 0.008*\"don\" + 0.007*\"content\" + 0.006*\"users\" + 0.006*\"money\" + 0.006*\"time\" + 0.006*\"ad\" + 0.006*\"free\"\n",
      "2017-06-05 20:57:34,160 : INFO : topic #4 (0.067): 0.013*\"life\" + 0.010*\"people\" + 0.007*\"snapchat\" + 0.007*\"social\" + 0.007*\"like\" + 0.005*\"don\" + 0.004*\"facebook\" + 0.004*\"laptop\" + 0.004*\"think\" + 0.004*\"way\"\n",
      "2017-06-05 20:57:34,162 : INFO : topic #14 (0.067): 0.016*\"like\" + 0.011*\"data\" + 0.009*\"use\" + 0.005*\"games\" + 0.005*\"cases\" + 0.004*\"used\" + 0.004*\"looks\" + 0.004*\"type\" + 0.004*\"just\" + 0.004*\"code\"\n",
      "2017-06-05 20:57:34,165 : INFO : topic #8 (0.067): 0.009*\"like\" + 0.006*\"people\" + 0.006*\"flight\" + 0.006*\"power\" + 0.005*\"airlines\" + 0.005*\"rights\" + 0.004*\"think\" + 0.004*\"bad\" + 0.004*\"united\" + 0.004*\"government\"\n",
      "2017-06-05 20:57:34,167 : INFO : topic #7 (0.067): 0.008*\"united\" + 0.007*\"did\" + 0.006*\"history\" + 0.006*\"reddit\" + 0.005*\"war\" + 0.004*\"say\" + 0.004*\"art\" + 0.004*\"just\" + 0.004*\"like\" + 0.004*\"years\"\n",
      "2017-06-05 20:57:34,175 : INFO : topic diff=0.296875, rho=0.196116\n",
      "2017-06-05 20:57:34,203 : INFO : PROGRESS: pass 0, at document #54000/246175\n",
      "2017-06-05 20:57:35,965 : INFO : merging changes from 2000 documents into a model of 246175 documents\n",
      "2017-06-05 20:57:36,581 : INFO : topic #6 (0.067): 0.016*\"just\" + 0.015*\"think\" + 0.014*\"don\" + 0.013*\"people\" + 0.012*\"like\" + 0.011*\"work\" + 0.011*\"really\" + 0.008*\"way\" + 0.007*\"need\" + 0.006*\"time\"\n",
      "2017-06-05 20:57:36,583 : INFO : topic #1 (0.067): 0.024*\"people\" + 0.010*\"don\" + 0.007*\"like\" + 0.007*\"know\" + 0.006*\"think\" + 0.006*\"just\" + 0.006*\"make\" + 0.006*\"doesn\" + 0.005*\"card\" + 0.005*\"say\"\n",
      "2017-06-05 20:57:36,586 : INFO : topic #0 (0.067): 0.009*\"people\" + 0.007*\"business\" + 0.006*\"companies\" + 0.005*\"airline\" + 0.005*\"just\" + 0.005*\"price\" + 0.004*\"point\" + 0.004*\"ve\" + 0.004*\"uber\" + 0.004*\"cost\"\n",
      "2017-06-05 20:57:36,588 : INFO : topic #13 (0.067): 0.011*\"problem\" + 0.008*\"things\" + 0.008*\"time\" + 0.008*\"just\" + 0.007*\"good\" + 0.006*\"lot\" + 0.006*\"don\" + 0.006*\"like\" + 0.006*\"software\" + 0.005*\"real\"\n",
      "2017-06-05 20:57:36,590 : INFO : topic #11 (0.067): 0.009*\"police\" + 0.005*\"article\" + 0.005*\"like\" + 0.005*\"city\" + 0.005*\"energy\" + 0.005*\"water\" + 0.005*\"boarding\" + 0.004*\"food\" + 0.004*\"http\" + 0.004*\"nz\"\n",
      "2017-06-05 20:57:36,597 : INFO : topic diff=0.269220, rho=0.192450\n",
      "2017-06-05 20:57:36,624 : INFO : PROGRESS: pass 0, at document #56000/246175\n",
      "2017-06-05 20:57:38,381 : INFO : merging changes from 2000 documents into a model of 246175 documents\n",
      "2017-06-05 20:57:38,981 : INFO : topic #10 (0.067): 0.013*\"code\" + 0.011*\"use\" + 0.007*\"memory\" + 0.005*\"just\" + 0.005*\"really\" + 0.004*\"js\" + 0.004*\"time\" + 0.004*\"like\" + 0.004*\"using\" + 0.004*\"used\"\n",
      "2017-06-05 20:57:38,983 : INFO : topic #2 (0.067): 0.012*\"google\" + 0.010*\"make\" + 0.009*\"don\" + 0.008*\"just\" + 0.006*\"users\" + 0.006*\"time\" + 0.006*\"content\" + 0.006*\"free\" + 0.006*\"use\" + 0.006*\"phone\"\n",
      "2017-06-05 20:57:38,985 : INFO : topic #11 (0.067): 0.010*\"police\" + 0.005*\"boarding\" + 0.005*\"article\" + 0.005*\"food\" + 0.005*\"like\" + 0.005*\"water\" + 0.004*\"city\" + 0.004*\"energy\" + 0.004*\"http\" + 0.003*\"just\"\n",
      "2017-06-05 20:57:38,988 : INFO : topic #13 (0.067): 0.011*\"problem\" + 0.008*\"things\" + 0.008*\"time\" + 0.008*\"just\" + 0.007*\"good\" + 0.006*\"don\" + 0.006*\"lot\" + 0.006*\"software\" + 0.006*\"like\" + 0.005*\"real\"\n",
      "2017-06-05 20:57:38,990 : INFO : topic #4 (0.067): 0.012*\"life\" + 0.010*\"people\" + 0.006*\"like\" + 0.005*\"don\" + 0.005*\"social\" + 0.005*\"snapchat\" + 0.004*\"way\" + 0.004*\"think\" + 0.004*\"laptop\" + 0.004*\"hn\"\n",
      "2017-06-05 20:57:38,996 : INFO : topic diff=0.258275, rho=0.188982\n",
      "2017-06-05 20:57:39,025 : INFO : PROGRESS: pass 0, at document #58000/246175\n",
      "2017-06-05 20:57:40,778 : INFO : merging changes from 2000 documents into a model of 246175 documents\n",
      "2017-06-05 20:57:41,367 : INFO : topic #1 (0.067): 0.025*\"people\" + 0.011*\"don\" + 0.008*\"card\" + 0.007*\"know\" + 0.007*\"like\" + 0.006*\"think\" + 0.006*\"just\" + 0.006*\"make\" + 0.006*\"doesn\" + 0.005*\"say\"\n",
      "2017-06-05 20:57:41,370 : INFO : topic #10 (0.067): 0.013*\"code\" + 0.011*\"use\" + 0.008*\"memory\" + 0.005*\"just\" + 0.005*\"really\" + 0.005*\"time\" + 0.004*\"js\" + 0.004*\"like\" + 0.004*\"using\" + 0.004*\"performance\"\n",
      "2017-06-05 20:57:41,372 : INFO : topic #14 (0.067): 0.016*\"like\" + 0.012*\"data\" + 0.009*\"use\" + 0.006*\"type\" + 0.005*\"cases\" + 0.004*\"case\" + 0.004*\"used\" + 0.004*\"looks\" + 0.004*\"read\" + 0.004*\"just\"\n",
      "2017-06-05 20:57:41,375 : INFO : topic #0 (0.067): 0.010*\"people\" + 0.008*\"business\" + 0.006*\"companies\" + 0.006*\"airline\" + 0.005*\"just\" + 0.005*\"uber\" + 0.004*\"cost\" + 0.004*\"price\" + 0.004*\"ve\" + 0.004*\"point\"\n",
      "2017-06-05 20:57:41,377 : INFO : topic #12 (0.067): 0.038*\"com\" + 0.028*\"www\" + 0.026*\"https\" + 0.018*\"https www\" + 0.017*\"http\" + 0.013*\"like\" + 0.011*\"apple\" + 0.009*\"ago\" + 0.009*\"http www\" + 0.009*\"watch\"\n",
      "2017-06-05 20:57:41,385 : INFO : topic diff=0.244278, rho=0.185695\n",
      "2017-06-05 20:57:46,242 : INFO : -9.695 per-word bound, 829.1 perplexity estimate based on a held-out corpus of 2000 documents with 72122 words\n",
      "2017-06-05 20:57:46,243 : INFO : PROGRESS: pass 0, at document #60000/246175\n",
      "2017-06-05 20:57:48,076 : INFO : merging changes from 2000 documents into a model of 246175 documents\n",
      "2017-06-05 20:57:48,652 : INFO : topic #1 (0.067): 0.026*\"people\" + 0.011*\"don\" + 0.007*\"know\" + 0.007*\"card\" + 0.007*\"like\" + 0.006*\"doesn\" + 0.006*\"think\" + 0.006*\"just\" + 0.006*\"make\" + 0.006*\"understand\"\n",
      "2017-06-05 20:57:48,655 : INFO : topic #10 (0.067): 0.014*\"code\" + 0.011*\"use\" + 0.007*\"memory\" + 0.005*\"just\" + 0.005*\"really\" + 0.005*\"time\" + 0.004*\"like\" + 0.004*\"performance\" + 0.004*\"js\" + 0.004*\"using\"\n",
      "2017-06-05 20:57:48,657 : INFO : topic #8 (0.067): 0.008*\"like\" + 0.008*\"flight\" + 0.006*\"people\" + 0.005*\"united\" + 0.005*\"airlines\" + 0.005*\"power\" + 0.005*\"right\" + 0.005*\"bad\" + 0.004*\"think\" + 0.004*\"rights\"\n",
      "2017-06-05 20:57:48,660 : INFO : topic #0 (0.067): 0.010*\"people\" + 0.008*\"business\" + 0.006*\"companies\" + 0.006*\"airline\" + 0.005*\"just\" + 0.005*\"cost\" + 0.005*\"price\" + 0.004*\"ve\" + 0.004*\"uber\" + 0.004*\"point\"\n",
      "2017-06-05 20:57:48,662 : INFO : topic #7 (0.067): 0.011*\"united\" + 0.009*\"history\" + 0.007*\"did\" + 0.006*\"war\" + 0.004*\"china\" + 0.004*\"say\" + 0.004*\"reddit\" + 0.004*\"just\" + 0.003*\"lyft\" + 0.003*\"years\"\n",
      "2017-06-05 20:57:48,669 : INFO : topic diff=0.251142, rho=0.182574\n",
      "2017-06-05 20:57:48,697 : INFO : PROGRESS: pass 0, at document #62000/246175\n",
      "2017-06-05 20:57:50,435 : INFO : merging changes from 2000 documents into a model of 246175 documents\n",
      "2017-06-05 20:57:50,990 : INFO : topic #4 (0.067): 0.011*\"life\" + 0.010*\"people\" + 0.006*\"like\" + 0.006*\"social\" + 0.005*\"don\" + 0.004*\"point\" + 0.004*\"way\" + 0.004*\"think\" + 0.004*\"thing\" + 0.004*\"laptop\"\n",
      "2017-06-05 20:57:50,992 : INFO : topic #7 (0.067): 0.009*\"united\" + 0.008*\"history\" + 0.007*\"did\" + 0.006*\"war\" + 0.004*\"say\" + 0.004*\"reddit\" + 0.004*\"women\" + 0.004*\"china\" + 0.003*\"just\" + 0.003*\"like\"\n",
      "2017-06-05 20:57:50,994 : INFO : topic #14 (0.067): 0.016*\"like\" + 0.012*\"data\" + 0.009*\"use\" + 0.006*\"type\" + 0.005*\"cases\" + 0.004*\"used\" + 0.004*\"looks\" + 0.004*\"case\" + 0.004*\"read\" + 0.004*\"bit\"\n",
      "2017-06-05 20:57:50,996 : INFO : topic #2 (0.067): 0.014*\"google\" + 0.013*\"ads\" + 0.010*\"ad\" + 0.010*\"make\" + 0.009*\"don\" + 0.008*\"just\" + 0.008*\"open\" + 0.007*\"content\" + 0.007*\"users\" + 0.007*\"free\"\n",
      "2017-06-05 20:57:50,999 : INFO : topic #13 (0.067): 0.011*\"problem\" + 0.009*\"things\" + 0.008*\"time\" + 0.008*\"just\" + 0.007*\"good\" + 0.006*\"don\" + 0.006*\"software\" + 0.006*\"lot\" + 0.006*\"like\" + 0.005*\"thanks\"\n",
      "2017-06-05 20:57:51,005 : INFO : topic diff=0.233810, rho=0.179605\n",
      "2017-06-05 20:57:51,032 : INFO : PROGRESS: pass 0, at document #64000/246175\n",
      "2017-06-05 20:57:52,765 : INFO : merging changes from 2000 documents into a model of 246175 documents\n",
      "2017-06-05 20:57:53,309 : INFO : topic #0 (0.067): 0.010*\"uber\" + 0.010*\"people\" + 0.008*\"business\" + 0.006*\"companies\" + 0.006*\"airline\" + 0.005*\"price\" + 0.005*\"just\" + 0.005*\"ve\" + 0.004*\"cost\" + 0.004*\"point\"\n",
      "2017-06-05 20:57:53,311 : INFO : topic #3 (0.067): 0.007*\"use\" + 0.007*\"linux\" + 0.007*\"just\" + 0.006*\"desktop\" + 0.006*\"don\" + 0.006*\"does\" + 0.006*\"want\" + 0.005*\"ve\" + 0.005*\"work\" + 0.004*\"user\"\n",
      "2017-06-05 20:57:53,314 : INFO : topic #1 (0.067): 0.026*\"people\" + 0.011*\"don\" + 0.007*\"know\" + 0.007*\"like\" + 0.006*\"think\" + 0.006*\"doesn\" + 0.006*\"just\" + 0.006*\"make\" + 0.006*\"card\" + 0.005*\"say\"\n",
      "2017-06-05 20:57:53,316 : INFO : topic #5 (0.067): 0.024*\"https\" + 0.016*\"windows\" + 0.013*\"org\" + 0.011*\"com\" + 0.009*\"use\" + 0.009*\"github\" + 0.009*\"en\" + 0.008*\"wikipedia\" + 0.008*\"linux\" + 0.008*\"wiki\"\n",
      "2017-06-05 20:57:53,318 : INFO : topic #8 (0.067): 0.007*\"like\" + 0.007*\"flight\" + 0.007*\"people\" + 0.005*\"right\" + 0.005*\"airlines\" + 0.005*\"united\" + 0.005*\"bad\" + 0.004*\"power\" + 0.004*\"think\" + 0.004*\"government\"\n",
      "2017-06-05 20:57:53,325 : INFO : topic diff=0.224254, rho=0.176777\n",
      "2017-06-05 20:57:53,352 : INFO : PROGRESS: pass 0, at document #66000/246175\n",
      "2017-06-05 20:57:55,079 : INFO : merging changes from 2000 documents into a model of 246175 documents\n",
      "2017-06-05 20:57:55,612 : INFO : topic #12 (0.067): 0.042*\"com\" + 0.029*\"https\" + 0.027*\"www\" + 0.020*\"http\" + 0.018*\"https www\" + 0.013*\"like\" + 0.011*\"ago\" + 0.009*\"years\" + 0.009*\"http www\" + 0.008*\"youtube\"\n",
      "2017-06-05 20:57:55,615 : INFO : topic #7 (0.067): 0.010*\"united\" + 0.007*\"did\" + 0.007*\"history\" + 0.004*\"war\" + 0.004*\"lyft\" + 0.004*\"say\" + 0.004*\"reddit\" + 0.004*\"comment\" + 0.004*\"just\" + 0.003*\"women\"\n",
      "2017-06-05 20:57:55,617 : INFO : topic #6 (0.067): 0.016*\"just\" + 0.016*\"think\" + 0.016*\"don\" + 0.014*\"people\" + 0.012*\"like\" + 0.011*\"really\" + 0.010*\"work\" + 0.009*\"way\" + 0.008*\"need\" + 0.006*\"time\"\n",
      "2017-06-05 20:57:55,619 : INFO : topic #3 (0.067): 0.008*\"desktop\" + 0.008*\"use\" + 0.007*\"just\" + 0.006*\"linux\" + 0.006*\"does\" + 0.006*\"don\" + 0.006*\"want\" + 0.005*\"ve\" + 0.005*\"work\" + 0.005*\"android\"\n",
      "2017-06-05 20:57:55,622 : INFO : topic #1 (0.067): 0.026*\"people\" + 0.011*\"don\" + 0.007*\"know\" + 0.007*\"like\" + 0.006*\"think\" + 0.006*\"doesn\" + 0.006*\"just\" + 0.006*\"make\" + 0.005*\"card\" + 0.005*\"say\"\n",
      "2017-06-05 20:57:55,629 : INFO : topic diff=0.212453, rho=0.174078\n",
      "2017-06-05 20:57:55,656 : INFO : PROGRESS: pass 0, at document #68000/246175\n",
      "2017-06-05 20:57:57,359 : INFO : merging changes from 2000 documents into a model of 246175 documents\n",
      "2017-06-05 20:57:57,874 : INFO : topic #8 (0.067): 0.009*\"flight\" + 0.007*\"like\" + 0.006*\"people\" + 0.006*\"plane\" + 0.006*\"united\" + 0.006*\"airlines\" + 0.005*\"right\" + 0.005*\"bad\" + 0.005*\"power\" + 0.004*\"government\"\n",
      "2017-06-05 20:57:57,876 : INFO : topic #7 (0.067): 0.011*\"united\" + 0.007*\"did\" + 0.007*\"history\" + 0.005*\"war\" + 0.004*\"reddit\" + 0.004*\"say\" + 0.003*\"lyft\" + 0.003*\"just\" + 0.003*\"comment\" + 0.003*\"time\"\n",
      "2017-06-05 20:57:57,879 : INFO : topic #2 (0.067): 0.014*\"ads\" + 0.013*\"google\" + 0.010*\"ad\" + 0.009*\"don\" + 0.009*\"open\" + 0.008*\"make\" + 0.008*\"content\" + 0.008*\"users\" + 0.008*\"just\" + 0.008*\"free\"\n",
      "2017-06-05 20:57:57,881 : INFO : topic #14 (0.067): 0.017*\"like\" + 0.013*\"irc\" + 0.011*\"data\" + 0.009*\"use\" + 0.008*\"sick\" + 0.006*\"type\" + 0.005*\"cases\" + 0.005*\"used\" + 0.004*\"case\" + 0.004*\"looks\"\n",
      "2017-06-05 20:57:57,884 : INFO : topic #1 (0.067): 0.026*\"people\" + 0.011*\"don\" + 0.007*\"know\" + 0.007*\"like\" + 0.006*\"think\" + 0.006*\"doesn\" + 0.006*\"just\" + 0.006*\"make\" + 0.005*\"say\" + 0.005*\"mean\"\n",
      "2017-06-05 20:57:57,891 : INFO : topic diff=0.209971, rho=0.171499\n",
      "2017-06-05 20:57:57,918 : INFO : PROGRESS: pass 0, at document #70000/246175\n",
      "2017-06-05 20:57:59,632 : INFO : merging changes from 2000 documents into a model of 246175 documents\n",
      "2017-06-05 20:58:00,138 : INFO : topic #14 (0.067): 0.017*\"like\" + 0.012*\"irc\" + 0.011*\"data\" + 0.009*\"use\" + 0.007*\"sick\" + 0.005*\"type\" + 0.005*\"used\" + 0.004*\"cases\" + 0.004*\"case\" + 0.004*\"looks\"\n",
      "2017-06-05 20:58:00,141 : INFO : topic #5 (0.067): 0.022*\"https\" + 0.013*\"apps\" + 0.013*\"windows\" + 0.012*\"org\" + 0.011*\"web\" + 0.011*\"electron\" + 0.010*\"com\" + 0.009*\"use\" + 0.008*\"github\" + 0.008*\"using\"\n",
      "2017-06-05 20:58:00,144 : INFO : topic #7 (0.067): 0.010*\"united\" + 0.007*\"did\" + 0.006*\"history\" + 0.005*\"reddit\" + 0.005*\"war\" + 0.004*\"say\" + 0.003*\"comment\" + 0.003*\"just\" + 0.003*\"macos\" + 0.003*\"time\"\n",
      "2017-06-05 20:58:00,146 : INFO : topic #9 (0.067): 0.013*\"pay\" + 0.012*\"work\" + 0.010*\"money\" + 0.008*\"news\" + 0.007*\"year\" + 0.006*\"home\" + 0.006*\"time\" + 0.006*\"people\" + 0.006*\"paid\" + 0.006*\"item\"\n",
      "2017-06-05 20:58:00,148 : INFO : topic #10 (0.067): 0.013*\"code\" + 0.012*\"use\" + 0.007*\"js\" + 0.006*\"memory\" + 0.005*\"just\" + 0.005*\"javascript\" + 0.005*\"performance\" + 0.005*\"really\" + 0.004*\"write\" + 0.004*\"like\"\n",
      "2017-06-05 20:58:00,155 : INFO : topic diff=0.196463, rho=0.169031\n",
      "2017-06-05 20:58:00,183 : INFO : PROGRESS: pass 0, at document #72000/246175\n",
      "2017-06-05 20:58:01,907 : INFO : merging changes from 2000 documents into a model of 246175 documents\n",
      "2017-06-05 20:58:02,400 : INFO : topic #10 (0.067): 0.014*\"code\" + 0.012*\"use\" + 0.006*\"memory\" + 0.006*\"rust\" + 0.006*\"js\" + 0.005*\"just\" + 0.005*\"performance\" + 0.005*\"really\" + 0.004*\"write\" + 0.004*\"machine\"\n",
      "2017-06-05 20:58:02,402 : INFO : topic #2 (0.067): 0.013*\"google\" + 0.010*\"ads\" + 0.009*\"don\" + 0.009*\"make\" + 0.008*\"content\" + 0.008*\"open\" + 0.008*\"ad\" + 0.008*\"just\" + 0.008*\"users\" + 0.007*\"free\"\n",
      "2017-06-05 20:58:02,404 : INFO : topic #3 (0.067): 0.010*\"desktop\" + 0.008*\"use\" + 0.007*\"just\" + 0.006*\"does\" + 0.006*\"don\" + 0.006*\"want\" + 0.005*\"linux\" + 0.005*\"ve\" + 0.005*\"platform\" + 0.005*\"app\"\n",
      "2017-06-05 20:58:02,407 : INFO : topic #4 (0.067): 0.011*\"life\" + 0.009*\"people\" + 0.006*\"like\" + 0.006*\"hn\" + 0.005*\"social\" + 0.005*\"don\" + 0.004*\"post\" + 0.004*\"laptop\" + 0.004*\"way\" + 0.004*\"battery\"\n",
      "2017-06-05 20:58:02,409 : INFO : topic #6 (0.067): 0.017*\"don\" + 0.016*\"just\" + 0.016*\"think\" + 0.013*\"people\" + 0.013*\"like\" + 0.012*\"really\" + 0.010*\"work\" + 0.008*\"way\" + 0.008*\"need\" + 0.007*\"time\"\n",
      "2017-06-05 20:58:02,416 : INFO : topic diff=0.226840, rho=0.166667\n",
      "2017-06-05 20:58:02,444 : INFO : PROGRESS: pass 0, at document #74000/246175\n",
      "2017-06-05 20:58:04,180 : INFO : merging changes from 2000 documents into a model of 246175 documents\n",
      "2017-06-05 20:58:04,674 : INFO : topic #0 (0.067): 0.009*\"people\" + 0.008*\"twitter\" + 0.007*\"business\" + 0.007*\"companies\" + 0.006*\"cost\" + 0.005*\"uber\" + 0.005*\"price\" + 0.005*\"just\" + 0.005*\"airline\" + 0.005*\"ve\"\n",
      "2017-06-05 20:58:04,676 : INFO : topic #3 (0.067): 0.009*\"desktop\" + 0.008*\"use\" + 0.007*\"just\" + 0.006*\"don\" + 0.006*\"does\" + 0.006*\"want\" + 0.005*\"docker\" + 0.005*\"ve\" + 0.004*\"platform\" + 0.004*\"linux\"\n",
      "2017-06-05 20:58:04,679 : INFO : topic #6 (0.067): 0.017*\"don\" + 0.016*\"just\" + 0.016*\"think\" + 0.013*\"people\" + 0.013*\"like\" + 0.012*\"really\" + 0.011*\"work\" + 0.008*\"way\" + 0.008*\"need\" + 0.007*\"time\"\n",
      "2017-06-05 20:58:04,681 : INFO : topic #9 (0.067): 0.012*\"work\" + 0.012*\"pay\" + 0.010*\"money\" + 0.008*\"year\" + 0.007*\"news\" + 0.006*\"home\" + 0.006*\"time\" + 0.006*\"job\" + 0.006*\"hours\" + 0.006*\"people\"\n",
      "2017-06-05 20:58:04,684 : INFO : topic #4 (0.067): 0.011*\"life\" + 0.009*\"people\" + 0.006*\"social\" + 0.006*\"like\" + 0.006*\"hn\" + 0.005*\"don\" + 0.005*\"post\" + 0.004*\"way\" + 0.004*\"point\" + 0.004*\"laptop\"\n",
      "2017-06-05 20:58:04,691 : INFO : topic diff=0.200956, rho=0.164399\n",
      "2017-06-05 20:58:04,717 : INFO : PROGRESS: pass 0, at document #76000/246175\n",
      "2017-06-05 20:58:06,365 : INFO : merging changes from 2000 documents into a model of 246175 documents\n",
      "2017-06-05 20:58:06,846 : INFO : topic #4 (0.067): 0.011*\"life\" + 0.010*\"people\" + 0.006*\"like\" + 0.006*\"social\" + 0.005*\"hn\" + 0.005*\"don\" + 0.005*\"laptop\" + 0.005*\"post\" + 0.004*\"way\" + 0.004*\"pro\"\n",
      "2017-06-05 20:58:06,848 : INFO : topic #3 (0.067): 0.008*\"use\" + 0.008*\"desktop\" + 0.007*\"just\" + 0.006*\"does\" + 0.006*\"don\" + 0.006*\"want\" + 0.005*\"ve\" + 0.005*\"docker\" + 0.004*\"work\" + 0.004*\"platform\"\n",
      "2017-06-05 20:58:06,850 : INFO : topic #11 (0.067): 0.011*\"police\" + 0.006*\"nuclear\" + 0.006*\"energy\" + 0.005*\"food\" + 0.004*\"crew\" + 0.004*\"water\" + 0.004*\"boarding\" + 0.004*\"like\" + 0.004*\"article\" + 0.004*\"solar\"\n",
      "2017-06-05 20:58:06,853 : INFO : topic #6 (0.067): 0.017*\"don\" + 0.017*\"just\" + 0.016*\"think\" + 0.013*\"people\" + 0.013*\"like\" + 0.012*\"really\" + 0.011*\"work\" + 0.008*\"need\" + 0.008*\"way\" + 0.007*\"time\"\n",
      "2017-06-05 20:58:06,855 : INFO : topic #5 (0.067): 0.023*\"https\" + 0.013*\"org\" + 0.011*\"windows\" + 0.010*\"web\" + 0.010*\"com\" + 0.010*\"apps\" + 0.009*\"use\" + 0.009*\"github\" + 0.008*\"en\" + 0.008*\"wikipedia\"\n",
      "2017-06-05 20:58:06,862 : INFO : topic diff=0.187365, rho=0.162221\n",
      "2017-06-05 20:58:06,888 : INFO : PROGRESS: pass 0, at document #78000/246175\n",
      "2017-06-05 20:58:08,612 : INFO : merging changes from 2000 documents into a model of 246175 documents\n",
      "2017-06-05 20:58:09,078 : INFO : topic #0 (0.067): 0.009*\"meat\" + 0.009*\"people\" + 0.007*\"twitter\" + 0.007*\"business\" + 0.007*\"companies\" + 0.006*\"cost\" + 0.005*\"airline\" + 0.005*\"price\" + 0.005*\"just\" + 0.005*\"ve\"\n",
      "2017-06-05 20:58:09,080 : INFO : topic #5 (0.067): 0.023*\"https\" + 0.014*\"org\" + 0.010*\"com\" + 0.010*\"windows\" + 0.009*\"web\" + 0.009*\"en\" + 0.009*\"github\" + 0.009*\"use\" + 0.009*\"server\" + 0.009*\"wikipedia\"\n",
      "2017-06-05 20:58:09,082 : INFO : topic #12 (0.067): 0.044*\"com\" + 0.031*\"https\" + 0.030*\"www\" + 0.024*\"http\" + 0.018*\"https www\" + 0.012*\"like\" + 0.011*\"http www\" + 0.011*\"ago\" + 0.010*\"years\" + 0.007*\"apple\"\n",
      "2017-06-05 20:58:09,084 : INFO : topic #4 (0.067): 0.011*\"life\" + 0.010*\"people\" + 0.006*\"like\" + 0.005*\"hn\" + 0.005*\"social\" + 0.005*\"don\" + 0.004*\"post\" + 0.004*\"way\" + 0.004*\"laptop\" + 0.004*\"point\"\n",
      "2017-06-05 20:58:09,086 : INFO : topic #11 (0.067): 0.010*\"police\" + 0.005*\"energy\" + 0.005*\"nuclear\" + 0.005*\"food\" + 0.005*\"water\" + 0.004*\"article\" + 0.004*\"eat\" + 0.004*\"like\" + 0.004*\"crew\" + 0.004*\"boarding\"\n",
      "2017-06-05 20:58:09,093 : INFO : topic diff=0.174578, rho=0.160128\n",
      "2017-06-05 20:58:13,985 : INFO : -9.683 per-word bound, 822.1 perplexity estimate based on a held-out corpus of 2000 documents with 76713 words\n",
      "2017-06-05 20:58:13,987 : INFO : PROGRESS: pass 0, at document #80000/246175\n",
      "2017-06-05 20:58:15,732 : INFO : merging changes from 2000 documents into a model of 246175 documents\n",
      "2017-06-05 20:58:16,195 : INFO : topic #4 (0.067): 0.011*\"life\" + 0.010*\"people\" + 0.006*\"like\" + 0.005*\"hn\" + 0.005*\"social\" + 0.005*\"post\" + 0.004*\"don\" + 0.004*\"way\" + 0.004*\"point\" + 0.004*\"think\"\n",
      "2017-06-05 20:58:16,197 : INFO : topic #2 (0.067): 0.012*\"google\" + 0.010*\"software\" + 0.009*\"make\" + 0.009*\"don\" + 0.009*\"open\" + 0.008*\"source\" + 0.008*\"free\" + 0.008*\"just\" + 0.007*\"users\" + 0.006*\"content\"\n",
      "2017-06-05 20:58:16,199 : INFO : topic #1 (0.067): 0.026*\"people\" + 0.012*\"don\" + 0.007*\"know\" + 0.006*\"doesn\" + 0.006*\"like\" + 0.006*\"think\" + 0.006*\"say\" + 0.006*\"just\" + 0.005*\"make\" + 0.005*\"mean\"\n",
      "2017-06-05 20:58:16,201 : INFO : topic #10 (0.067): 0.014*\"code\" + 0.012*\"use\" + 0.006*\"rust\" + 0.005*\"memory\" + 0.005*\"just\" + 0.005*\"using\" + 0.004*\"performance\" + 0.004*\"really\" + 0.004*\"like\" + 0.004*\"write\"\n",
      "2017-06-05 20:58:16,204 : INFO : topic #14 (0.067): 0.017*\"like\" + 0.012*\"data\" + 0.009*\"use\" + 0.005*\"semantic\" + 0.005*\"looks\" + 0.005*\"type\" + 0.005*\"irc\" + 0.005*\"change\" + 0.005*\"used\" + 0.004*\"cases\"\n",
      "2017-06-05 20:58:16,210 : INFO : topic diff=0.191621, rho=0.158114\n",
      "2017-06-05 20:58:16,239 : INFO : PROGRESS: pass 0, at document #82000/246175\n",
      "2017-06-05 20:58:17,970 : INFO : merging changes from 2000 documents into a model of 246175 documents\n",
      "2017-06-05 20:58:18,433 : INFO : topic #3 (0.067): 0.008*\"use\" + 0.007*\"just\" + 0.007*\"desktop\" + 0.006*\"does\" + 0.005*\"want\" + 0.005*\"don\" + 0.004*\"ve\" + 0.004*\"work\" + 0.004*\"need\" + 0.004*\"different\"\n",
      "2017-06-05 20:58:18,435 : INFO : topic #2 (0.067): 0.011*\"google\" + 0.010*\"software\" + 0.009*\"open\" + 0.009*\"make\" + 0.009*\"don\" + 0.009*\"source\" + 0.008*\"free\" + 0.008*\"users\" + 0.007*\"just\" + 0.007*\"product\"\n",
      "2017-06-05 20:58:18,437 : INFO : topic #9 (0.067): 0.013*\"work\" + 0.012*\"pay\" + 0.010*\"money\" + 0.008*\"job\" + 0.007*\"news\" + 0.007*\"year\" + 0.006*\"jobs\" + 0.006*\"rate\" + 0.006*\"item\" + 0.006*\"time\"\n",
      "2017-06-05 20:58:18,440 : INFO : topic #5 (0.067): 0.024*\"https\" + 0.015*\"org\" + 0.011*\"windows\" + 0.010*\"com\" + 0.009*\"github\" + 0.009*\"use\" + 0.009*\"en\" + 0.009*\"wikipedia\" + 0.008*\"web\" + 0.008*\"server\"\n",
      "2017-06-05 20:58:18,442 : INFO : topic #0 (0.067): 0.008*\"people\" + 0.007*\"companies\" + 0.007*\"business\" + 0.006*\"meat\" + 0.006*\"cost\" + 0.006*\"twitter\" + 0.005*\"price\" + 0.005*\"market\" + 0.005*\"uber\" + 0.005*\"just\"\n",
      "2017-06-05 20:58:18,448 : INFO : topic diff=0.181305, rho=0.156174\n",
      "2017-06-05 20:58:18,475 : INFO : PROGRESS: pass 0, at document #84000/246175\n",
      "2017-06-05 20:58:20,337 : INFO : merging changes from 2000 documents into a model of 246175 documents\n",
      "2017-06-05 20:58:20,786 : INFO : topic #7 (0.067): 0.013*\"mysql\" + 0.007*\"did\" + 0.006*\"united\" + 0.005*\"history\" + 0.005*\"russian\" + 0.004*\"reddit\" + 0.004*\"war\" + 0.004*\"say\" + 0.003*\"italy\" + 0.003*\"just\"\n",
      "2017-06-05 20:58:20,788 : INFO : topic #2 (0.067): 0.010*\"google\" + 0.009*\"users\" + 0.009*\"open\" + 0.009*\"make\" + 0.009*\"software\" + 0.009*\"don\" + 0.008*\"source\" + 0.008*\"free\" + 0.008*\"product\" + 0.007*\"just\"\n",
      "2017-06-05 20:58:20,790 : INFO : topic #3 (0.067): 0.009*\"use\" + 0.007*\"just\" + 0.007*\"desktop\" + 0.006*\"does\" + 0.005*\"want\" + 0.005*\"don\" + 0.004*\"ve\" + 0.004*\"work\" + 0.004*\"need\" + 0.004*\"different\"\n",
      "2017-06-05 20:58:20,792 : INFO : topic #13 (0.067): 0.013*\"problem\" + 0.010*\"time\" + 0.009*\"good\" + 0.009*\"things\" + 0.008*\"just\" + 0.007*\"software\" + 0.007*\"lot\" + 0.006*\"better\" + 0.006*\"real\" + 0.006*\"like\"\n",
      "2017-06-05 20:58:20,795 : INFO : topic #1 (0.067): 0.024*\"people\" + 0.012*\"don\" + 0.007*\"know\" + 0.006*\"like\" + 0.006*\"doesn\" + 0.006*\"think\" + 0.006*\"say\" + 0.006*\"just\" + 0.005*\"make\" + 0.005*\"point\"\n",
      "2017-06-05 20:58:20,801 : INFO : topic diff=0.159369, rho=0.154303\n",
      "2017-06-05 20:58:20,828 : INFO : PROGRESS: pass 0, at document #86000/246175\n",
      "2017-06-05 20:58:22,482 : INFO : merging changes from 2000 documents into a model of 246175 documents\n",
      "2017-06-05 20:58:22,925 : INFO : topic #10 (0.067): 0.016*\"code\" + 0.012*\"use\" + 0.005*\"using\" + 0.005*\"python\" + 0.005*\"just\" + 0.005*\"performance\" + 0.005*\"rust\" + 0.005*\"memory\" + 0.004*\"write\" + 0.004*\"language\"\n",
      "2017-06-05 20:58:22,928 : INFO : topic #9 (0.067): 0.014*\"pay\" + 0.013*\"work\" + 0.011*\"money\" + 0.007*\"job\" + 0.007*\"news\" + 0.007*\"hours\" + 0.006*\"year\" + 0.006*\"time\" + 0.006*\"item\" + 0.006*\"people\"\n",
      "2017-06-05 20:58:22,930 : INFO : topic #7 (0.067): 0.012*\"mysql\" + 0.007*\"did\" + 0.006*\"russian\" + 0.005*\"history\" + 0.005*\"united\" + 0.004*\"women\" + 0.004*\"russia\" + 0.004*\"war\" + 0.004*\"reddit\" + 0.004*\"consciousness\"\n",
      "2017-06-05 20:58:22,933 : INFO : topic #4 (0.067): 0.011*\"life\" + 0.009*\"people\" + 0.006*\"like\" + 0.005*\"hn\" + 0.005*\"post\" + 0.004*\"social\" + 0.004*\"don\" + 0.004*\"title\" + 0.004*\"way\" + 0.004*\"point\"\n",
      "2017-06-05 20:58:22,935 : INFO : topic #8 (0.067): 0.007*\"like\" + 0.007*\"people\" + 0.005*\"power\" + 0.005*\"law\" + 0.005*\"government\" + 0.005*\"right\" + 0.005*\"bad\" + 0.004*\"flight\" + 0.004*\"think\" + 0.004*\"airlines\"\n",
      "2017-06-05 20:58:22,942 : INFO : topic diff=0.148484, rho=0.152499\n",
      "2017-06-05 20:58:22,971 : INFO : PROGRESS: pass 0, at document #88000/246175\n",
      "2017-06-05 20:58:24,582 : INFO : merging changes from 2000 documents into a model of 246175 documents\n",
      "2017-06-05 20:58:25,017 : INFO : topic #10 (0.067): 0.016*\"code\" + 0.013*\"use\" + 0.006*\"using\" + 0.005*\"python\" + 0.005*\"just\" + 0.005*\"performance\" + 0.005*\"language\" + 0.005*\"memory\" + 0.004*\"write\" + 0.004*\"js\"\n",
      "2017-06-05 20:58:25,019 : INFO : topic #1 (0.067): 0.024*\"people\" + 0.012*\"don\" + 0.008*\"know\" + 0.006*\"like\" + 0.006*\"doesn\" + 0.006*\"think\" + 0.006*\"say\" + 0.006*\"just\" + 0.005*\"mean\" + 0.005*\"make\"\n",
      "2017-06-05 20:58:25,021 : INFO : topic #5 (0.067): 0.024*\"https\" + 0.014*\"org\" + 0.011*\"use\" + 0.010*\"web\" + 0.010*\"com\" + 0.010*\"windows\" + 0.009*\"github\" + 0.008*\"wikipedia\" + 0.008*\"wiki\" + 0.008*\"using\"\n",
      "2017-06-05 20:58:25,024 : INFO : topic #0 (0.067): 0.008*\"people\" + 0.007*\"business\" + 0.007*\"uber\" + 0.006*\"companies\" + 0.006*\"cost\" + 0.005*\"twitter\" + 0.005*\"parking\" + 0.005*\"price\" + 0.005*\"just\" + 0.005*\"cars\"\n",
      "2017-06-05 20:58:25,026 : INFO : topic #13 (0.067): 0.012*\"problem\" + 0.010*\"time\" + 0.009*\"things\" + 0.009*\"good\" + 0.008*\"just\" + 0.007*\"lot\" + 0.006*\"software\" + 0.006*\"better\" + 0.006*\"like\" + 0.006*\"real\"\n",
      "2017-06-05 20:58:25,033 : INFO : topic diff=0.149680, rho=0.150756\n",
      "2017-06-05 20:58:25,060 : INFO : PROGRESS: pass 0, at document #90000/246175\n",
      "2017-06-05 20:58:26,702 : INFO : merging changes from 2000 documents into a model of 246175 documents\n",
      "2017-06-05 20:58:27,128 : INFO : topic #1 (0.067): 0.024*\"people\" + 0.012*\"don\" + 0.008*\"know\" + 0.006*\"like\" + 0.006*\"think\" + 0.006*\"doesn\" + 0.006*\"say\" + 0.006*\"just\" + 0.005*\"mean\" + 0.005*\"make\"\n",
      "2017-06-05 20:58:27,131 : INFO : topic #3 (0.067): 0.010*\"use\" + 0.007*\"just\" + 0.007*\"desktop\" + 0.006*\"does\" + 0.006*\"want\" + 0.005*\"don\" + 0.005*\"information\" + 0.004*\"ve\" + 0.004*\"work\" + 0.004*\"need\"\n",
      "2017-06-05 20:58:27,133 : INFO : topic #12 (0.067): 0.044*\"com\" + 0.032*\"https\" + 0.032*\"www\" + 0.023*\"http\" + 0.019*\"https www\" + 0.012*\"http www\" + 0.011*\"ago\" + 0.011*\"like\" + 0.010*\"years\" + 0.007*\"years ago\"\n",
      "2017-06-05 20:58:27,135 : INFO : topic #14 (0.067): 0.017*\"like\" + 0.016*\"data\" + 0.010*\"use\" + 0.006*\"type\" + 0.005*\"cases\" + 0.005*\"used\" + 0.004*\"case\" + 0.004*\"looks\" + 0.004*\"bit\" + 0.004*\"read\"\n",
      "2017-06-05 20:58:27,138 : INFO : topic #10 (0.067): 0.015*\"code\" + 0.013*\"use\" + 0.006*\"using\" + 0.005*\"python\" + 0.005*\"language\" + 0.005*\"just\" + 0.005*\"memory\" + 0.005*\"performance\" + 0.004*\"rust\" + 0.004*\"write\"\n",
      "2017-06-05 20:58:27,144 : INFO : topic diff=0.148601, rho=0.149071\n",
      "2017-06-05 20:58:27,170 : INFO : PROGRESS: pass 0, at document #92000/246175\n",
      "2017-06-05 20:58:28,796 : INFO : merging changes from 2000 documents into a model of 246175 documents\n",
      "2017-06-05 20:58:29,208 : INFO : topic #12 (0.067): 0.043*\"com\" + 0.032*\"https\" + 0.031*\"www\" + 0.023*\"http\" + 0.018*\"https www\" + 0.012*\"http www\" + 0.012*\"ago\" + 0.011*\"like\" + 0.010*\"years\" + 0.007*\"years ago\"\n",
      "2017-06-05 20:58:29,210 : INFO : topic #1 (0.067): 0.024*\"people\" + 0.012*\"don\" + 0.008*\"know\" + 0.007*\"think\" + 0.006*\"like\" + 0.006*\"doesn\" + 0.006*\"say\" + 0.006*\"just\" + 0.005*\"make\" + 0.005*\"mean\"\n",
      "2017-06-05 20:58:29,213 : INFO : topic #13 (0.067): 0.012*\"problem\" + 0.011*\"time\" + 0.009*\"things\" + 0.009*\"good\" + 0.008*\"just\" + 0.007*\"lot\" + 0.006*\"like\" + 0.006*\"better\" + 0.006*\"software\" + 0.006*\"real\"\n",
      "2017-06-05 20:58:29,214 : INFO : topic #3 (0.067): 0.009*\"use\" + 0.007*\"just\" + 0.007*\"desktop\" + 0.006*\"information\" + 0.006*\"want\" + 0.006*\"does\" + 0.005*\"don\" + 0.005*\"ve\" + 0.004*\"work\" + 0.004*\"user\"\n",
      "2017-06-05 20:58:29,217 : INFO : topic #5 (0.067): 0.024*\"https\" + 0.015*\"org\" + 0.011*\"use\" + 0.010*\"windows\" + 0.009*\"web\" + 0.009*\"com\" + 0.009*\"github\" + 0.009*\"wikipedia\" + 0.008*\"wiki\" + 0.008*\"en\"\n",
      "2017-06-05 20:58:29,224 : INFO : topic diff=0.145028, rho=0.147442\n",
      "2017-06-05 20:58:29,249 : INFO : PROGRESS: pass 0, at document #94000/246175\n",
      "2017-06-05 20:58:30,828 : INFO : merging changes from 2000 documents into a model of 246175 documents\n",
      "2017-06-05 20:58:31,230 : INFO : topic #14 (0.067): 0.018*\"data\" + 0.017*\"like\" + 0.009*\"use\" + 0.006*\"type\" + 0.005*\"looks\" + 0.005*\"used\" + 0.005*\"cases\" + 0.005*\"case\" + 0.004*\"read\" + 0.004*\"bit\"\n",
      "2017-06-05 20:58:31,233 : INFO : topic #5 (0.067): 0.024*\"https\" + 0.015*\"org\" + 0.011*\"windows\" + 0.011*\"use\" + 0.009*\"com\" + 0.009*\"web\" + 0.009*\"github\" + 0.009*\"wikipedia\" + 0.009*\"react\" + 0.008*\"en\"\n",
      "2017-06-05 20:58:31,235 : INFO : topic #9 (0.067): 0.013*\"pay\" + 0.012*\"work\" + 0.010*\"money\" + 0.010*\"salary\" + 0.008*\"job\" + 0.008*\"news\" + 0.007*\"year\" + 0.006*\"time\" + 0.006*\"company\" + 0.006*\"people\"\n",
      "2017-06-05 20:58:31,237 : INFO : topic #11 (0.067): 0.010*\"bookmarks\" + 0.009*\"nuclear\" + 0.005*\"energy\" + 0.004*\"police\" + 0.004*\"article\" + 0.004*\"food\" + 0.004*\"power\" + 0.004*\"city\" + 0.004*\"like\" + 0.003*\"water\"\n",
      "2017-06-05 20:58:31,239 : INFO : topic #7 (0.067): 0.007*\"mysql\" + 0.007*\"did\" + 0.006*\"chinese\" + 0.006*\"history\" + 0.005*\"war\" + 0.004*\"china\" + 0.004*\"reddit\" + 0.004*\"say\" + 0.004*\"women\" + 0.004*\"russian\"\n",
      "2017-06-05 20:58:31,246 : INFO : topic diff=0.131607, rho=0.145865\n",
      "2017-06-05 20:58:31,272 : INFO : PROGRESS: pass 0, at document #96000/246175\n",
      "2017-06-05 20:58:32,909 : INFO : merging changes from 2000 documents into a model of 246175 documents\n",
      "2017-06-05 20:58:33,301 : INFO : topic #3 (0.067): 0.009*\"use\" + 0.007*\"just\" + 0.007*\"desktop\" + 0.006*\"information\" + 0.006*\"want\" + 0.006*\"does\" + 0.005*\"user\" + 0.005*\"don\" + 0.005*\"account\" + 0.004*\"different\"\n",
      "2017-06-05 20:58:33,304 : INFO : topic #6 (0.067): 0.018*\"don\" + 0.016*\"just\" + 0.016*\"think\" + 0.013*\"like\" + 0.013*\"people\" + 0.012*\"really\" + 0.011*\"work\" + 0.009*\"need\" + 0.008*\"way\" + 0.007*\"time\"\n",
      "2017-06-05 20:58:33,307 : INFO : topic #11 (0.067): 0.009*\"nuclear\" + 0.008*\"bookmarks\" + 0.005*\"energy\" + 0.004*\"article\" + 0.004*\"police\" + 0.004*\"power\" + 0.004*\"like\" + 0.004*\"city\" + 0.004*\"food\" + 0.003*\"water\"\n",
      "2017-06-05 20:58:33,310 : INFO : topic #8 (0.067): 0.008*\"government\" + 0.007*\"like\" + 0.006*\"people\" + 0.006*\"power\" + 0.006*\"right\" + 0.006*\"law\" + 0.005*\"political\" + 0.005*\"trump\" + 0.005*\"bad\" + 0.004*\"free\"\n",
      "2017-06-05 20:58:33,312 : INFO : topic #4 (0.067): 0.010*\"life\" + 0.009*\"people\" + 0.008*\"pro\" + 0.006*\"hn\" + 0.006*\"like\" + 0.005*\"post\" + 0.004*\"social\" + 0.004*\"title\" + 0.004*\"don\" + 0.004*\"laptop\"\n",
      "2017-06-05 20:58:33,319 : INFO : topic diff=0.132764, rho=0.144338\n",
      "2017-06-05 20:58:33,346 : INFO : PROGRESS: pass 0, at document #98000/246175\n",
      "2017-06-05 20:58:35,040 : INFO : merging changes from 2000 documents into a model of 246175 documents\n",
      "2017-06-05 20:58:35,435 : INFO : topic #8 (0.067): 0.008*\"government\" + 0.007*\"like\" + 0.006*\"people\" + 0.006*\"right\" + 0.006*\"power\" + 0.005*\"law\" + 0.005*\"political\" + 0.005*\"trump\" + 0.004*\"bad\" + 0.004*\"free\"\n",
      "2017-06-05 20:58:35,437 : INFO : topic #14 (0.067): 0.021*\"data\" + 0.018*\"like\" + 0.009*\"use\" + 0.005*\"type\" + 0.005*\"looks\" + 0.005*\"used\" + 0.004*\"case\" + 0.004*\"read\" + 0.004*\"cases\" + 0.004*\"bit\"\n",
      "2017-06-05 20:58:35,440 : INFO : topic #0 (0.067): 0.014*\"uber\" + 0.011*\"twitter\" + 0.008*\"people\" + 0.008*\"business\" + 0.007*\"price\" + 0.006*\"companies\" + 0.005*\"cost\" + 0.005*\"market\" + 0.005*\"speech\" + 0.005*\"just\"\n",
      "2017-06-05 20:58:35,442 : INFO : topic #6 (0.067): 0.018*\"don\" + 0.017*\"just\" + 0.016*\"think\" + 0.013*\"like\" + 0.013*\"people\" + 0.012*\"really\" + 0.011*\"work\" + 0.009*\"need\" + 0.008*\"way\" + 0.007*\"time\"\n",
      "2017-06-05 20:58:35,444 : INFO : topic #13 (0.067): 0.012*\"problem\" + 0.010*\"time\" + 0.009*\"things\" + 0.009*\"good\" + 0.008*\"just\" + 0.007*\"lot\" + 0.006*\"better\" + 0.006*\"software\" + 0.006*\"like\" + 0.005*\"problems\"\n",
      "2017-06-05 20:58:35,450 : INFO : topic diff=0.134227, rho=0.142857\n",
      "2017-06-05 20:58:39,851 : INFO : -9.569 per-word bound, 759.5 perplexity estimate based on a held-out corpus of 2000 documents with 67982 words\n",
      "2017-06-05 20:58:39,852 : INFO : PROGRESS: pass 0, at document #100000/246175\n",
      "2017-06-05 20:58:41,549 : INFO : merging changes from 2000 documents into a model of 246175 documents\n",
      "2017-06-05 20:58:41,931 : INFO : topic #6 (0.067): 0.018*\"don\" + 0.017*\"just\" + 0.016*\"think\" + 0.014*\"like\" + 0.013*\"people\" + 0.012*\"really\" + 0.011*\"work\" + 0.008*\"need\" + 0.008*\"way\" + 0.007*\"time\"\n",
      "2017-06-05 20:58:41,933 : INFO : topic #8 (0.067): 0.008*\"government\" + 0.007*\"like\" + 0.006*\"people\" + 0.006*\"right\" + 0.006*\"law\" + 0.006*\"power\" + 0.005*\"political\" + 0.005*\"bad\" + 0.004*\"trump\" + 0.004*\"state\"\n",
      "2017-06-05 20:58:41,935 : INFO : topic #5 (0.067): 0.022*\"https\" + 0.014*\"org\" + 0.011*\"web\" + 0.010*\"use\" + 0.010*\"windows\" + 0.009*\"com\" + 0.009*\"github\" + 0.008*\"wikipedia\" + 0.008*\"wiki\" + 0.008*\"en\"\n",
      "2017-06-05 20:58:41,938 : INFO : topic #4 (0.067): 0.010*\"life\" + 0.009*\"people\" + 0.008*\"pro\" + 0.007*\"hn\" + 0.006*\"post\" + 0.006*\"like\" + 0.006*\"social\" + 0.004*\"laptop\" + 0.004*\"title\" + 0.004*\"don\"\n",
      "2017-06-05 20:58:41,940 : INFO : topic #10 (0.067): 0.014*\"code\" + 0.012*\"use\" + 0.005*\"using\" + 0.005*\"js\" + 0.005*\"just\" + 0.005*\"memory\" + 0.004*\"performance\" + 0.004*\"build\" + 0.004*\"write\" + 0.004*\"python\"\n",
      "2017-06-05 20:58:41,947 : INFO : topic diff=0.127421, rho=0.141421\n",
      "2017-06-05 20:58:41,974 : INFO : PROGRESS: pass 0, at document #102000/246175\n",
      "2017-06-05 20:58:43,605 : INFO : merging changes from 2000 documents into a model of 246175 documents\n",
      "2017-06-05 20:58:43,994 : INFO : topic #5 (0.067): 0.023*\"https\" + 0.014*\"org\" + 0.010*\"use\" + 0.010*\"web\" + 0.010*\"com\" + 0.010*\"windows\" + 0.009*\"github\" + 0.008*\"wikipedia\" + 0.008*\"en\" + 0.008*\"wiki\"\n",
      "2017-06-05 20:58:43,996 : INFO : topic #3 (0.067): 0.009*\"use\" + 0.007*\"just\" + 0.007*\"desktop\" + 0.006*\"android\" + 0.006*\"want\" + 0.006*\"does\" + 0.006*\"information\" + 0.005*\"user\" + 0.005*\"don\" + 0.005*\"account\"\n",
      "2017-06-05 20:58:43,999 : INFO : topic #0 (0.067): 0.013*\"uber\" + 0.013*\"twitter\" + 0.008*\"people\" + 0.007*\"price\" + 0.007*\"business\" + 0.006*\"companies\" + 0.005*\"cost\" + 0.005*\"car\" + 0.005*\"market\" + 0.005*\"just\"\n",
      "2017-06-05 20:58:44,001 : INFO : topic #12 (0.067): 0.044*\"com\" + 0.032*\"https\" + 0.031*\"www\" + 0.024*\"http\" + 0.018*\"https www\" + 0.013*\"http www\" + 0.011*\"like\" + 0.011*\"ago\" + 0.010*\"apple\" + 0.010*\"years\"\n",
      "2017-06-05 20:58:44,004 : INFO : topic #1 (0.067): 0.025*\"people\" + 0.012*\"don\" + 0.007*\"know\" + 0.007*\"think\" + 0.007*\"doesn\" + 0.007*\"like\" + 0.006*\"say\" + 0.006*\"just\" + 0.006*\"mean\" + 0.005*\"does\"\n",
      "2017-06-05 20:58:44,011 : INFO : topic diff=0.116791, rho=0.140028\n",
      "2017-06-05 20:58:44,040 : INFO : PROGRESS: pass 0, at document #104000/246175\n",
      "2017-06-05 20:58:45,654 : INFO : merging changes from 2000 documents into a model of 246175 documents\n",
      "2017-06-05 20:58:46,028 : INFO : topic #4 (0.067): 0.010*\"life\" + 0.008*\"people\" + 0.006*\"pro\" + 0.006*\"hn\" + 0.006*\"social\" + 0.006*\"like\" + 0.006*\"post\" + 0.004*\"laptop\" + 0.004*\"title\" + 0.004*\"way\"\n",
      "2017-06-05 20:58:46,030 : INFO : topic #2 (0.067): 0.016*\"google\" + 0.011*\"open\" + 0.010*\"source\" + 0.010*\"don\" + 0.009*\"make\" + 0.009*\"software\" + 0.008*\"users\" + 0.008*\"free\" + 0.007*\"just\" + 0.007*\"network\"\n",
      "2017-06-05 20:58:46,032 : INFO : topic #8 (0.067): 0.008*\"government\" + 0.007*\"like\" + 0.006*\"right\" + 0.006*\"people\" + 0.006*\"law\" + 0.005*\"power\" + 0.005*\"bad\" + 0.004*\"political\" + 0.004*\"think\" + 0.004*\"state\"\n",
      "2017-06-05 20:58:46,034 : INFO : topic #0 (0.067): 0.016*\"uber\" + 0.011*\"twitter\" + 0.008*\"people\" + 0.008*\"business\" + 0.007*\"price\" + 0.006*\"companies\" + 0.006*\"car\" + 0.005*\"driving\" + 0.005*\"cost\" + 0.005*\"market\"\n",
      "2017-06-05 20:58:46,037 : INFO : topic #6 (0.067): 0.018*\"don\" + 0.017*\"just\" + 0.016*\"think\" + 0.014*\"like\" + 0.012*\"people\" + 0.012*\"really\" + 0.011*\"work\" + 0.009*\"need\" + 0.008*\"way\" + 0.007*\"time\"\n",
      "2017-06-05 20:58:46,043 : INFO : topic diff=0.115058, rho=0.138675\n",
      "2017-06-05 20:58:46,069 : INFO : PROGRESS: pass 0, at document #106000/246175\n",
      "2017-06-05 20:58:47,660 : INFO : merging changes from 2000 documents into a model of 246175 documents\n",
      "2017-06-05 20:58:48,028 : INFO : topic #12 (0.067): 0.045*\"com\" + 0.032*\"https\" + 0.031*\"www\" + 0.024*\"http\" + 0.018*\"https www\" + 0.012*\"http www\" + 0.012*\"ago\" + 0.011*\"like\" + 0.010*\"years\" + 0.008*\"apple\"\n",
      "2017-06-05 20:58:48,030 : INFO : topic #11 (0.067): 0.006*\"nuclear\" + 0.005*\"bookmarks\" + 0.004*\"energy\" + 0.004*\"space\" + 0.004*\"food\" + 0.004*\"power\" + 0.004*\"article\" + 0.004*\"city\" + 0.004*\"like\" + 0.004*\"water\"\n",
      "2017-06-05 20:58:48,033 : INFO : topic #2 (0.067): 0.015*\"google\" + 0.011*\"open\" + 0.010*\"source\" + 0.010*\"don\" + 0.010*\"make\" + 0.009*\"software\" + 0.009*\"users\" + 0.008*\"free\" + 0.007*\"just\" + 0.007*\"product\"\n",
      "2017-06-05 20:58:48,036 : INFO : topic #7 (0.067): 0.007*\"did\" + 0.007*\"war\" + 0.007*\"history\" + 0.004*\"say\" + 0.004*\"mysql\" + 0.004*\"wasn\" + 0.004*\"origin\" + 0.004*\"lyft\" + 0.004*\"reddit\" + 0.004*\"world\"\n",
      "2017-06-05 20:58:48,038 : INFO : topic #14 (0.067): 0.021*\"data\" + 0.018*\"like\" + 0.008*\"use\" + 0.006*\"prolog\" + 0.005*\"looks\" + 0.005*\"case\" + 0.005*\"cases\" + 0.005*\"type\" + 0.005*\"used\" + 0.004*\"bit\"\n",
      "2017-06-05 20:58:48,046 : INFO : topic diff=0.112399, rho=0.137361\n",
      "2017-06-05 20:58:48,073 : INFO : PROGRESS: pass 0, at document #108000/246175\n",
      "2017-06-05 20:58:49,722 : INFO : merging changes from 2000 documents into a model of 246175 documents\n",
      "2017-06-05 20:58:50,087 : INFO : topic #6 (0.067): 0.018*\"don\" + 0.017*\"just\" + 0.016*\"think\" + 0.014*\"like\" + 0.013*\"really\" + 0.012*\"people\" + 0.011*\"work\" + 0.009*\"need\" + 0.008*\"way\" + 0.007*\"know\"\n",
      "2017-06-05 20:58:50,090 : INFO : topic #0 (0.067): 0.015*\"uber\" + 0.010*\"twitter\" + 0.008*\"people\" + 0.008*\"business\" + 0.007*\"price\" + 0.006*\"companies\" + 0.005*\"car\" + 0.005*\"cost\" + 0.005*\"market\" + 0.005*\"just\"\n",
      "2017-06-05 20:58:50,092 : INFO : topic #4 (0.067): 0.010*\"life\" + 0.008*\"people\" + 0.007*\"pro\" + 0.006*\"post\" + 0.006*\"like\" + 0.006*\"hn\" + 0.006*\"social\" + 0.005*\"movie\" + 0.005*\"laptop\" + 0.004*\"title\"\n",
      "2017-06-05 20:58:50,094 : INFO : topic #7 (0.067): 0.007*\"did\" + 0.007*\"war\" + 0.007*\"history\" + 0.004*\"say\" + 0.004*\"reddit\" + 0.004*\"wasn\" + 0.004*\"origin\" + 0.003*\"just\" + 0.003*\"lyft\" + 0.003*\"world\"\n",
      "2017-06-05 20:58:50,096 : INFO : topic #5 (0.067): 0.023*\"https\" + 0.015*\"org\" + 0.011*\"windows\" + 0.010*\"use\" + 0.010*\"com\" + 0.009*\"web\" + 0.009*\"github\" + 0.008*\"en\" + 0.008*\"wikipedia\" + 0.008*\"wiki\"\n",
      "2017-06-05 20:58:50,103 : INFO : topic diff=0.111235, rho=0.136083\n",
      "2017-06-05 20:58:50,130 : INFO : PROGRESS: pass 0, at document #110000/246175\n",
      "2017-06-05 20:58:51,785 : INFO : merging changes from 2000 documents into a model of 246175 documents\n",
      "2017-06-05 20:58:52,146 : INFO : topic #7 (0.067): 0.007*\"did\" + 0.006*\"war\" + 0.006*\"history\" + 0.004*\"say\" + 0.004*\"reddit\" + 0.004*\"wasn\" + 0.004*\"author\" + 0.003*\"just\" + 0.003*\"origin\" + 0.003*\"world\"\n",
      "2017-06-05 20:58:52,148 : INFO : topic #8 (0.067): 0.007*\"government\" + 0.007*\"like\" + 0.006*\"power\" + 0.006*\"right\" + 0.006*\"people\" + 0.005*\"law\" + 0.005*\"coal\" + 0.005*\"political\" + 0.005*\"bad\" + 0.004*\"public\"\n",
      "2017-06-05 20:58:52,150 : INFO : topic #6 (0.067): 0.018*\"don\" + 0.017*\"just\" + 0.016*\"think\" + 0.014*\"like\" + 0.013*\"really\" + 0.012*\"people\" + 0.011*\"work\" + 0.009*\"need\" + 0.007*\"way\" + 0.007*\"time\"\n",
      "2017-06-05 20:58:52,153 : INFO : topic #13 (0.067): 0.013*\"problem\" + 0.010*\"time\" + 0.009*\"good\" + 0.009*\"things\" + 0.008*\"just\" + 0.006*\"lot\" + 0.006*\"like\" + 0.006*\"real\" + 0.006*\"better\" + 0.006*\"problems\"\n",
      "2017-06-05 20:58:52,156 : INFO : topic #4 (0.067): 0.010*\"life\" + 0.008*\"people\" + 0.007*\"post\" + 0.006*\"movie\" + 0.006*\"like\" + 0.006*\"pro\" + 0.006*\"hn\" + 0.006*\"social\" + 0.004*\"laptop\" + 0.004*\"friends\"\n",
      "2017-06-05 20:58:52,163 : INFO : topic diff=0.108332, rho=0.134840\n",
      "2017-06-05 20:58:52,192 : INFO : PROGRESS: pass 0, at document #112000/246175\n",
      "2017-06-05 20:58:53,907 : INFO : merging changes from 2000 documents into a model of 246175 documents\n",
      "2017-06-05 20:58:54,273 : INFO : topic #0 (0.067): 0.013*\"uber\" + 0.009*\"twitter\" + 0.008*\"people\" + 0.007*\"business\" + 0.007*\"price\" + 0.006*\"companies\" + 0.006*\"car\" + 0.006*\"cost\" + 0.005*\"cars\" + 0.005*\"market\"\n",
      "2017-06-05 20:58:54,275 : INFO : topic #5 (0.067): 0.023*\"https\" + 0.014*\"org\" + 0.011*\"windows\" + 0.010*\"com\" + 0.010*\"github\" + 0.010*\"use\" + 0.009*\"web\" + 0.008*\"en\" + 0.008*\"wikipedia\" + 0.007*\"wiki\"\n",
      "2017-06-05 20:58:54,278 : INFO : topic #6 (0.067): 0.018*\"don\" + 0.017*\"just\" + 0.016*\"think\" + 0.014*\"like\" + 0.013*\"really\" + 0.012*\"people\" + 0.011*\"work\" + 0.009*\"need\" + 0.007*\"way\" + 0.007*\"time\"\n",
      "2017-06-05 20:58:54,280 : INFO : topic #9 (0.067): 0.012*\"pay\" + 0.012*\"money\" + 0.010*\"work\" + 0.008*\"news\" + 0.008*\"job\" + 0.007*\"year\" + 0.007*\"company\" + 0.007*\"id\" + 0.006*\"item\" + 0.006*\"time\"\n",
      "2017-06-05 20:58:54,282 : INFO : topic #12 (0.067): 0.047*\"com\" + 0.034*\"https\" + 0.031*\"www\" + 0.025*\"http\" + 0.018*\"https www\" + 0.012*\"http www\" + 0.011*\"ago\" + 0.011*\"like\" + 0.010*\"years\" + 0.009*\"apple\"\n",
      "2017-06-05 20:58:54,288 : INFO : topic diff=0.110168, rho=0.133631\n",
      "2017-06-05 20:58:54,316 : INFO : PROGRESS: pass 0, at document #114000/246175\n",
      "2017-06-05 20:58:56,009 : INFO : merging changes from 2000 documents into a model of 246175 documents\n",
      "2017-06-05 20:58:56,357 : INFO : topic #0 (0.067): 0.011*\"uber\" + 0.008*\"people\" + 0.008*\"twitter\" + 0.007*\"business\" + 0.007*\"price\" + 0.006*\"companies\" + 0.006*\"cost\" + 0.006*\"car\" + 0.005*\"cars\" + 0.005*\"market\"\n",
      "2017-06-05 20:58:56,358 : INFO : topic #12 (0.067): 0.048*\"com\" + 0.035*\"https\" + 0.031*\"www\" + 0.025*\"http\" + 0.018*\"https www\" + 0.012*\"http www\" + 0.011*\"ago\" + 0.011*\"like\" + 0.010*\"years\" + 0.010*\"apple\"\n",
      "2017-06-05 20:58:56,361 : INFO : topic #4 (0.067): 0.010*\"life\" + 0.009*\"pro\" + 0.008*\"people\" + 0.006*\"post\" + 0.006*\"like\" + 0.006*\"social\" + 0.006*\"hn\" + 0.005*\"movie\" + 0.005*\"laptop\" + 0.004*\"title\"\n",
      "2017-06-05 20:58:56,363 : INFO : topic #10 (0.067): 0.016*\"code\" + 0.012*\"use\" + 0.006*\"using\" + 0.005*\"build\" + 0.005*\"js\" + 0.005*\"python\" + 0.005*\"write\" + 0.005*\"just\" + 0.004*\"time\" + 0.004*\"design\"\n",
      "2017-06-05 20:58:56,365 : INFO : topic #8 (0.067): 0.007*\"like\" + 0.007*\"government\" + 0.006*\"political\" + 0.006*\"right\" + 0.006*\"power\" + 0.006*\"people\" + 0.005*\"bad\" + 0.005*\"law\" + 0.004*\"coal\" + 0.004*\"public\"\n",
      "2017-06-05 20:58:56,371 : INFO : topic diff=0.108806, rho=0.132453\n",
      "2017-06-05 20:58:56,400 : INFO : PROGRESS: pass 0, at document #116000/246175\n",
      "2017-06-05 20:58:58,022 : INFO : merging changes from 2000 documents into a model of 246175 documents\n",
      "2017-06-05 20:58:58,367 : INFO : topic #6 (0.067): 0.018*\"don\" + 0.017*\"just\" + 0.016*\"think\" + 0.014*\"like\" + 0.014*\"really\" + 0.012*\"people\" + 0.011*\"work\" + 0.009*\"need\" + 0.008*\"way\" + 0.007*\"time\"\n",
      "2017-06-05 20:58:58,370 : INFO : topic #14 (0.067): 0.025*\"data\" + 0.018*\"like\" + 0.008*\"use\" + 0.005*\"looks\" + 0.005*\"case\" + 0.005*\"type\" + 0.005*\"cases\" + 0.005*\"used\" + 0.005*\"change\" + 0.004*\"read\"\n",
      "2017-06-05 20:58:58,372 : INFO : topic #5 (0.067): 0.023*\"https\" + 0.014*\"windows\" + 0.013*\"org\" + 0.010*\"github\" + 0.010*\"com\" + 0.010*\"use\" + 0.010*\"web\" + 0.008*\"en\" + 0.008*\"wikipedia\" + 0.007*\"wiki\"\n",
      "2017-06-05 20:58:58,375 : INFO : topic #8 (0.067): 0.007*\"like\" + 0.006*\"government\" + 0.006*\"right\" + 0.006*\"people\" + 0.006*\"political\" + 0.006*\"power\" + 0.005*\"bad\" + 0.005*\"law\" + 0.004*\"coal\" + 0.004*\"think\"\n",
      "2017-06-05 20:58:58,377 : INFO : topic #13 (0.067): 0.014*\"problem\" + 0.011*\"time\" + 0.010*\"good\" + 0.009*\"things\" + 0.008*\"just\" + 0.006*\"lot\" + 0.006*\"like\" + 0.006*\"ve\" + 0.006*\"real\" + 0.005*\"game\"\n",
      "2017-06-05 20:58:58,384 : INFO : topic diff=0.103069, rho=0.131306\n",
      "2017-06-05 20:58:58,412 : INFO : PROGRESS: pass 0, at document #118000/246175\n",
      "2017-06-05 20:59:00,039 : INFO : merging changes from 2000 documents into a model of 246175 documents\n",
      "2017-06-05 20:59:00,382 : INFO : topic #7 (0.067): 0.007*\"did\" + 0.006*\"history\" + 0.006*\"gun\" + 0.005*\"reddit\" + 0.005*\"war\" + 0.005*\"macos\" + 0.004*\"notes\" + 0.004*\"say\" + 0.004*\"author\" + 0.004*\"wasn\"\n",
      "2017-06-05 20:59:00,385 : INFO : topic #1 (0.067): 0.025*\"people\" + 0.012*\"don\" + 0.007*\"know\" + 0.007*\"doesn\" + 0.007*\"think\" + 0.007*\"like\" + 0.006*\"say\" + 0.006*\"just\" + 0.006*\"make\" + 0.006*\"mean\"\n",
      "2017-06-05 20:59:00,387 : INFO : topic #10 (0.067): 0.016*\"code\" + 0.012*\"use\" + 0.005*\"using\" + 0.005*\"build\" + 0.005*\"python\" + 0.004*\"just\" + 0.004*\"js\" + 0.004*\"machine\" + 0.004*\"write\" + 0.004*\"time\"\n",
      "2017-06-05 20:59:00,390 : INFO : topic #9 (0.067): 0.014*\"money\" + 0.011*\"work\" + 0.011*\"pay\" + 0.009*\"job\" + 0.007*\"year\" + 0.007*\"company\" + 0.007*\"jobs\" + 0.007*\"people\" + 0.006*\"news\" + 0.006*\"time\"\n",
      "2017-06-05 20:59:00,392 : INFO : topic #11 (0.067): 0.006*\"city\" + 0.006*\"nuclear\" + 0.006*\"energy\" + 0.004*\"global\" + 0.004*\"power\" + 0.004*\"water\" + 0.004*\"food\" + 0.004*\"cities\" + 0.003*\"like\" + 0.003*\"space\"\n",
      "2017-06-05 20:59:00,399 : INFO : topic diff=0.113752, rho=0.130189\n",
      "2017-06-05 20:59:05,287 : INFO : -9.530 per-word bound, 739.3 perplexity estimate based on a held-out corpus of 2000 documents with 82011 words\n",
      "2017-06-05 20:59:05,288 : INFO : PROGRESS: pass 0, at document #120000/246175\n",
      "2017-06-05 20:59:06,955 : INFO : merging changes from 2000 documents into a model of 246175 documents\n",
      "2017-06-05 20:59:07,293 : INFO : topic #0 (0.067): 0.008*\"car\" + 0.008*\"people\" + 0.007*\"business\" + 0.007*\"uber\" + 0.007*\"companies\" + 0.006*\"market\" + 0.006*\"price\" + 0.006*\"company\" + 0.006*\"cars\" + 0.005*\"cost\"\n",
      "2017-06-05 20:59:07,295 : INFO : topic #12 (0.067): 0.055*\"com\" + 0.037*\"https\" + 0.032*\"www\" + 0.026*\"http\" + 0.019*\"https www\" + 0.012*\"http www\" + 0.011*\"apple\" + 0.010*\"ago\" + 0.010*\"years\" + 0.010*\"like\"\n",
      "2017-06-05 20:59:07,298 : INFO : topic #5 (0.067): 0.024*\"https\" + 0.013*\"windows\" + 0.013*\"org\" + 0.011*\"com\" + 0.010*\"web\" + 0.010*\"github\" + 0.010*\"use\" + 0.008*\"en\" + 0.008*\"wikipedia\" + 0.007*\"wiki\"\n",
      "2017-06-05 20:59:07,300 : INFO : topic #3 (0.067): 0.009*\"use\" + 0.009*\"android\" + 0.007*\"desktop\" + 0.007*\"just\" + 0.006*\"want\" + 0.006*\"does\" + 0.006*\"user\" + 0.006*\"linux\" + 0.005*\"information\" + 0.005*\"ubuntu\"\n",
      "2017-06-05 20:59:07,303 : INFO : topic #9 (0.067): 0.014*\"money\" + 0.012*\"pay\" + 0.011*\"work\" + 0.009*\"job\" + 0.009*\"jobs\" + 0.007*\"year\" + 0.007*\"company\" + 0.007*\"people\" + 0.006*\"time\" + 0.006*\"id\"\n",
      "2017-06-05 20:59:07,310 : INFO : topic diff=0.112298, rho=0.129099\n",
      "2017-06-05 20:59:07,341 : INFO : PROGRESS: pass 0, at document #122000/246175\n",
      "2017-06-05 20:59:09,009 : INFO : merging changes from 2000 documents into a model of 246175 documents\n",
      "2017-06-05 20:59:09,343 : INFO : topic #11 (0.067): 0.006*\"energy\" + 0.006*\"city\" + 0.005*\"nuclear\" + 0.005*\"power\" + 0.004*\"solar\" + 0.004*\"global\" + 0.004*\"com jobs\" + 0.003*\"food\" + 0.003*\"water\" + 0.003*\"like\"\n",
      "2017-06-05 20:59:09,345 : INFO : topic #10 (0.067): 0.015*\"code\" + 0.011*\"use\" + 0.008*\"python\" + 0.007*\"onsite\" + 0.005*\"build\" + 0.005*\"using\" + 0.005*\"systems\" + 0.005*\"js\" + 0.005*\"machine\" + 0.005*\"design\"\n",
      "2017-06-05 20:59:09,348 : INFO : topic #8 (0.067): 0.007*\"government\" + 0.007*\"like\" + 0.006*\"right\" + 0.006*\"people\" + 0.006*\"power\" + 0.005*\"san\" + 0.005*\"bad\" + 0.005*\"political\" + 0.005*\"law\" + 0.005*\"francisco\"\n",
      "2017-06-05 20:59:09,350 : INFO : topic #2 (0.067): 0.015*\"software\" + 0.014*\"google\" + 0.012*\"open\" + 0.012*\"product\" + 0.010*\"source\" + 0.009*\"users\" + 0.008*\"make\" + 0.008*\"don\" + 0.008*\"engineer\" + 0.008*\"free\"\n",
      "2017-06-05 20:59:09,353 : INFO : topic #13 (0.067): 0.013*\"problem\" + 0.012*\"time\" + 0.009*\"good\" + 0.008*\"things\" + 0.007*\"just\" + 0.007*\"software\" + 0.006*\"lot\" + 0.006*\"problems\" + 0.006*\"ai\" + 0.006*\"work\"\n",
      "2017-06-05 20:59:09,360 : INFO : topic diff=0.127168, rho=0.128037\n",
      "2017-06-05 20:59:09,395 : INFO : PROGRESS: pass 0, at document #124000/246175\n",
      "2017-06-05 20:59:11,105 : INFO : merging changes from 2000 documents into a model of 246175 documents\n",
      "2017-06-05 20:59:11,432 : INFO : topic #13 (0.067): 0.012*\"problem\" + 0.012*\"time\" + 0.009*\"good\" + 0.008*\"things\" + 0.007*\"software\" + 0.007*\"just\" + 0.006*\"work\" + 0.006*\"problems\" + 0.006*\"lot\" + 0.006*\"real\"\n",
      "2017-06-05 20:59:11,434 : INFO : topic #12 (0.067): 0.062*\"com\" + 0.039*\"https\" + 0.033*\"www\" + 0.027*\"http\" + 0.020*\"https www\" + 0.012*\"http www\" + 0.010*\"apple\" + 0.010*\"years\" + 0.009*\"ago\" + 0.009*\"like\"\n",
      "2017-06-05 20:59:11,436 : INFO : topic #6 (0.067): 0.017*\"don\" + 0.015*\"just\" + 0.015*\"think\" + 0.013*\"like\" + 0.013*\"work\" + 0.012*\"really\" + 0.012*\"people\" + 0.009*\"need\" + 0.008*\"time\" + 0.007*\"way\"\n",
      "2017-06-05 20:59:11,438 : INFO : topic #0 (0.067): 0.010*\"tesla\" + 0.009*\"car\" + 0.008*\"market\" + 0.008*\"companies\" + 0.007*\"business\" + 0.007*\"people\" + 0.006*\"cars\" + 0.006*\"company\" + 0.006*\"uber\" + 0.005*\"tech\"\n",
      "2017-06-05 20:59:11,440 : INFO : topic #11 (0.067): 0.006*\"energy\" + 0.006*\"city\" + 0.006*\"com jobs\" + 0.005*\"power\" + 0.004*\"solar\" + 0.004*\"global\" + 0.004*\"nuclear\" + 0.004*\"food\" + 0.003*\"york\" + 0.003*\"new york\"\n",
      "2017-06-05 20:59:11,447 : INFO : topic diff=0.105052, rho=0.127000\n",
      "2017-06-05 20:59:11,476 : INFO : PROGRESS: pass 0, at document #126000/246175\n",
      "2017-06-05 20:59:13,102 : INFO : merging changes from 2000 documents into a model of 246175 documents\n",
      "2017-06-05 20:59:13,425 : INFO : topic #10 (0.067): 0.016*\"code\" + 0.011*\"use\" + 0.008*\"python\" + 0.007*\"onsite\" + 0.005*\"systems\" + 0.005*\"using\" + 0.005*\"build\" + 0.005*\"js\" + 0.005*\"machine\" + 0.005*\"design\"\n",
      "2017-06-05 20:59:13,427 : INFO : topic #13 (0.067): 0.013*\"problem\" + 0.012*\"time\" + 0.009*\"good\" + 0.008*\"things\" + 0.007*\"just\" + 0.006*\"software\" + 0.006*\"work\" + 0.006*\"problems\" + 0.006*\"lot\" + 0.006*\"real\"\n",
      "2017-06-05 20:59:13,429 : INFO : topic #2 (0.067): 0.014*\"software\" + 0.014*\"google\" + 0.012*\"open\" + 0.011*\"product\" + 0.009*\"source\" + 0.008*\"engineer\" + 0.008*\"users\" + 0.008*\"don\" + 0.008*\"make\" + 0.008*\"free\"\n",
      "2017-06-05 20:59:13,431 : INFO : topic #6 (0.067): 0.017*\"don\" + 0.015*\"just\" + 0.015*\"think\" + 0.013*\"like\" + 0.012*\"work\" + 0.012*\"really\" + 0.012*\"people\" + 0.008*\"need\" + 0.008*\"time\" + 0.007*\"way\"\n",
      "2017-06-05 20:59:13,433 : INFO : topic #3 (0.067): 0.011*\"android\" + 0.009*\"use\" + 0.007*\"just\" + 0.006*\"want\" + 0.006*\"desktop\" + 0.006*\"does\" + 0.006*\"phone\" + 0.006*\"ios\" + 0.005*\"user\" + 0.005*\"information\"\n",
      "2017-06-05 20:59:13,440 : INFO : topic diff=0.090951, rho=0.125988\n",
      "2017-06-05 20:59:13,469 : INFO : PROGRESS: pass 0, at document #128000/246175\n",
      "2017-06-05 20:59:15,063 : INFO : merging changes from 2000 documents into a model of 246175 documents\n",
      "2017-06-05 20:59:15,383 : INFO : topic #4 (0.067): 0.011*\"life\" + 0.008*\"people\" + 0.007*\"pro\" + 0.006*\"social\" + 0.006*\"like\" + 0.006*\"post\" + 0.006*\"hn\" + 0.004*\"battery\" + 0.004*\"thing\" + 0.004*\"just\"\n",
      "2017-06-05 20:59:15,385 : INFO : topic #11 (0.067): 0.005*\"city\" + 0.005*\"energy\" + 0.004*\"food\" + 0.004*\"power\" + 0.004*\"com jobs\" + 0.004*\"water\" + 0.003*\"global\" + 0.003*\"article\" + 0.003*\"solar\" + 0.003*\"like\"\n",
      "2017-06-05 20:59:15,388 : INFO : topic #1 (0.067): 0.025*\"people\" + 0.012*\"don\" + 0.008*\"think\" + 0.007*\"doesn\" + 0.007*\"like\" + 0.007*\"know\" + 0.006*\"say\" + 0.006*\"just\" + 0.006*\"point\" + 0.006*\"mean\"\n",
      "2017-06-05 20:59:15,390 : INFO : topic #12 (0.067): 0.061*\"com\" + 0.040*\"https\" + 0.035*\"www\" + 0.027*\"http\" + 0.020*\"https www\" + 0.013*\"http www\" + 0.010*\"apple\" + 0.010*\"years\" + 0.010*\"ago\" + 0.009*\"like\"\n",
      "2017-06-05 20:59:15,392 : INFO : topic #13 (0.067): 0.013*\"problem\" + 0.011*\"time\" + 0.009*\"good\" + 0.008*\"things\" + 0.007*\"just\" + 0.006*\"lot\" + 0.006*\"software\" + 0.006*\"problems\" + 0.006*\"real\" + 0.006*\"work\"\n",
      "2017-06-05 20:59:15,398 : INFO : topic diff=0.100752, rho=0.125000\n",
      "2017-06-05 20:59:15,424 : INFO : PROGRESS: pass 0, at document #130000/246175\n",
      "2017-06-05 20:59:16,987 : INFO : merging changes from 2000 documents into a model of 246175 documents\n",
      "2017-06-05 20:59:17,304 : INFO : topic #1 (0.067): 0.025*\"people\" + 0.012*\"don\" + 0.008*\"think\" + 0.007*\"doesn\" + 0.007*\"like\" + 0.007*\"know\" + 0.007*\"say\" + 0.006*\"just\" + 0.006*\"point\" + 0.006*\"mean\"\n",
      "2017-06-05 20:59:17,307 : INFO : topic #4 (0.067): 0.011*\"life\" + 0.008*\"people\" + 0.007*\"pro\" + 0.006*\"post\" + 0.006*\"like\" + 0.006*\"hn\" + 0.006*\"social\" + 0.004*\"thing\" + 0.004*\"battery\" + 0.004*\"just\"\n",
      "2017-06-05 20:59:17,309 : INFO : topic #3 (0.067): 0.011*\"android\" + 0.009*\"use\" + 0.007*\"just\" + 0.006*\"phone\" + 0.006*\"want\" + 0.006*\"user\" + 0.006*\"does\" + 0.005*\"information\" + 0.005*\"ios\" + 0.005*\"desktop\"\n",
      "2017-06-05 20:59:17,312 : INFO : topic #9 (0.067): 0.013*\"money\" + 0.012*\"jobs\" + 0.011*\"work\" + 0.011*\"pay\" + 0.009*\"job\" + 0.007*\"year\" + 0.007*\"people\" + 0.006*\"news\" + 0.006*\"id\" + 0.006*\"company\"\n",
      "2017-06-05 20:59:17,314 : INFO : topic #5 (0.067): 0.026*\"https\" + 0.015*\"org\" + 0.012*\"com\" + 0.011*\"github\" + 0.010*\"web\" + 0.010*\"windows\" + 0.010*\"en\" + 0.010*\"wikipedia\" + 0.009*\"wiki\" + 0.009*\"use\"\n",
      "2017-06-05 20:59:17,323 : INFO : topic diff=0.084965, rho=0.124035\n",
      "2017-06-05 20:59:17,966 : INFO : PROGRESS: pass 0, at document #132000/246175\n",
      "2017-06-05 20:59:19,527 : INFO : merging changes from 2000 documents into a model of 246175 documents\n",
      "2017-06-05 20:59:19,835 : INFO : topic #2 (0.067): 0.015*\"google\" + 0.013*\"software\" + 0.013*\"open\" + 0.010*\"product\" + 0.009*\"source\" + 0.008*\"don\" + 0.008*\"free\" + 0.008*\"make\" + 0.008*\"users\" + 0.007*\"engineer\"\n",
      "2017-06-05 20:59:19,837 : INFO : topic #12 (0.067): 0.060*\"com\" + 0.041*\"https\" + 0.036*\"www\" + 0.028*\"http\" + 0.021*\"https www\" + 0.013*\"http www\" + 0.010*\"years\" + 0.010*\"ago\" + 0.009*\"like\" + 0.008*\"apple\"\n",
      "2017-06-05 20:59:19,839 : INFO : topic #6 (0.067): 0.017*\"don\" + 0.016*\"just\" + 0.015*\"think\" + 0.013*\"like\" + 0.012*\"really\" + 0.012*\"people\" + 0.011*\"work\" + 0.009*\"need\" + 0.008*\"time\" + 0.007*\"way\"\n",
      "2017-06-05 20:59:19,841 : INFO : topic #5 (0.067): 0.027*\"https\" + 0.016*\"org\" + 0.012*\"com\" + 0.011*\"github\" + 0.011*\"en\" + 0.010*\"wikipedia\" + 0.010*\"windows\" + 0.010*\"wiki\" + 0.010*\"web\" + 0.009*\"org wiki\"\n",
      "2017-06-05 20:59:19,844 : INFO : topic #3 (0.067): 0.010*\"android\" + 0.010*\"use\" + 0.007*\"just\" + 0.006*\"phone\" + 0.006*\"want\" + 0.006*\"does\" + 0.006*\"user\" + 0.005*\"desktop\" + 0.005*\"information\" + 0.005*\"ios\"\n",
      "2017-06-05 20:59:19,850 : INFO : topic diff=0.078884, rho=0.123091\n",
      "2017-06-05 20:59:19,877 : INFO : PROGRESS: pass 0, at document #134000/246175\n",
      "2017-06-05 20:59:21,429 : INFO : merging changes from 2000 documents into a model of 246175 documents\n",
      "2017-06-05 20:59:21,726 : INFO : topic #13 (0.067): 0.013*\"problem\" + 0.011*\"time\" + 0.009*\"good\" + 0.008*\"things\" + 0.007*\"just\" + 0.007*\"ai\" + 0.006*\"lot\" + 0.006*\"software\" + 0.006*\"like\" + 0.006*\"problems\"\n",
      "2017-06-05 20:59:21,728 : INFO : topic #11 (0.067): 0.005*\"energy\" + 0.004*\"city\" + 0.004*\"food\" + 0.004*\"power\" + 0.004*\"water\" + 0.003*\"nuclear\" + 0.003*\"like\" + 0.003*\"article\" + 0.003*\"air\" + 0.003*\"eat\"\n",
      "2017-06-05 20:59:21,731 : INFO : topic #3 (0.067): 0.010*\"use\" + 0.009*\"android\" + 0.007*\"just\" + 0.006*\"desktop\" + 0.006*\"want\" + 0.006*\"phone\" + 0.006*\"user\" + 0.006*\"does\" + 0.005*\"information\" + 0.005*\"ubuntu\"\n",
      "2017-06-05 20:59:21,733 : INFO : topic #5 (0.067): 0.026*\"https\" + 0.016*\"org\" + 0.012*\"com\" + 0.012*\"github\" + 0.010*\"en\" + 0.010*\"windows\" + 0.009*\"wiki\" + 0.009*\"wikipedia\" + 0.009*\"web\" + 0.009*\"use\"\n",
      "2017-06-05 20:59:21,735 : INFO : topic #4 (0.067): 0.010*\"life\" + 0.008*\"people\" + 0.007*\"post\" + 0.006*\"hn\" + 0.006*\"like\" + 0.006*\"pro\" + 0.005*\"social\" + 0.005*\"cancer\" + 0.004*\"thing\" + 0.004*\"just\"\n",
      "2017-06-05 20:59:21,741 : INFO : topic diff=0.077653, rho=0.122169\n",
      "2017-06-05 20:59:21,767 : INFO : PROGRESS: pass 0, at document #136000/246175\n",
      "2017-06-05 20:59:23,351 : INFO : merging changes from 2000 documents into a model of 246175 documents\n",
      "2017-06-05 20:59:23,656 : INFO : topic #2 (0.067): 0.015*\"google\" + 0.015*\"open\" + 0.013*\"software\" + 0.010*\"source\" + 0.009*\"product\" + 0.008*\"make\" + 0.008*\"don\" + 0.008*\"users\" + 0.008*\"free\" + 0.007*\"open source\"\n",
      "2017-06-05 20:59:23,658 : INFO : topic #1 (0.067): 0.026*\"people\" + 0.012*\"don\" + 0.008*\"think\" + 0.007*\"doesn\" + 0.007*\"like\" + 0.007*\"say\" + 0.007*\"just\" + 0.007*\"know\" + 0.006*\"point\" + 0.006*\"mean\"\n",
      "2017-06-05 20:59:23,660 : INFO : topic #12 (0.067): 0.060*\"com\" + 0.041*\"https\" + 0.036*\"www\" + 0.028*\"http\" + 0.021*\"https www\" + 0.014*\"http www\" + 0.010*\"ago\" + 0.010*\"years\" + 0.008*\"like\" + 0.007*\"apple\"\n",
      "2017-06-05 20:59:23,663 : INFO : topic #13 (0.067): 0.013*\"problem\" + 0.011*\"time\" + 0.009*\"good\" + 0.008*\"things\" + 0.007*\"just\" + 0.006*\"ai\" + 0.006*\"lot\" + 0.006*\"like\" + 0.006*\"real\" + 0.006*\"software\"\n",
      "2017-06-05 20:59:23,665 : INFO : topic #14 (0.067): 0.026*\"data\" + 0.017*\"like\" + 0.008*\"use\" + 0.006*\"used\" + 0.006*\"type\" + 0.005*\"looks\" + 0.005*\"case\" + 0.005*\"cases\" + 0.005*\"read\" + 0.004*\"change\"\n",
      "2017-06-05 20:59:23,672 : INFO : topic diff=0.076399, rho=0.121268\n",
      "2017-06-05 20:59:23,699 : INFO : PROGRESS: pass 0, at document #138000/246175\n",
      "2017-06-05 20:59:25,340 : INFO : merging changes from 2000 documents into a model of 246175 documents\n",
      "2017-06-05 20:59:25,637 : INFO : topic #13 (0.067): 0.013*\"problem\" + 0.011*\"time\" + 0.009*\"good\" + 0.008*\"things\" + 0.007*\"just\" + 0.006*\"lot\" + 0.006*\"like\" + 0.006*\"ai\" + 0.006*\"real\" + 0.006*\"software\"\n",
      "2017-06-05 20:59:25,640 : INFO : topic #11 (0.067): 0.005*\"energy\" + 0.004*\"city\" + 0.004*\"military\" + 0.004*\"power\" + 0.004*\"food\" + 0.004*\"wikileaks\" + 0.003*\"water\" + 0.003*\"space\" + 0.003*\"like\" + 0.003*\"nuclear\"\n",
      "2017-06-05 20:59:25,642 : INFO : topic #10 (0.067): 0.018*\"code\" + 0.012*\"use\" + 0.007*\"python\" + 0.006*\"using\" + 0.005*\"systems\" + 0.005*\"language\" + 0.005*\"build\" + 0.004*\"memory\" + 0.004*\"write\" + 0.004*\"time\"\n",
      "2017-06-05 20:59:25,644 : INFO : topic #12 (0.067): 0.059*\"com\" + 0.041*\"https\" + 0.036*\"www\" + 0.028*\"http\" + 0.021*\"https www\" + 0.014*\"http www\" + 0.010*\"ago\" + 0.010*\"years\" + 0.008*\"like\" + 0.007*\"apple\"\n",
      "2017-06-05 20:59:25,647 : INFO : topic #14 (0.067): 0.026*\"data\" + 0.017*\"like\" + 0.008*\"use\" + 0.006*\"used\" + 0.005*\"looks\" + 0.005*\"case\" + 0.005*\"type\" + 0.005*\"cases\" + 0.005*\"read\" + 0.004*\"example\"\n",
      "2017-06-05 20:59:25,655 : INFO : topic diff=0.078169, rho=0.120386\n",
      "2017-06-05 20:59:30,251 : INFO : -9.462 per-word bound, 705.2 perplexity estimate based on a held-out corpus of 2000 documents with 74567 words\n",
      "2017-06-05 20:59:30,252 : INFO : PROGRESS: pass 0, at document #140000/246175\n",
      "2017-06-05 20:59:31,875 : INFO : merging changes from 2000 documents into a model of 246175 documents\n",
      "2017-06-05 20:59:32,168 : INFO : topic #6 (0.067): 0.017*\"don\" + 0.017*\"just\" + 0.016*\"think\" + 0.014*\"like\" + 0.012*\"really\" + 0.012*\"people\" + 0.011*\"work\" + 0.009*\"need\" + 0.008*\"way\" + 0.008*\"time\"\n",
      "2017-06-05 20:59:32,171 : INFO : topic #4 (0.067): 0.009*\"life\" + 0.008*\"post\" + 0.008*\"people\" + 0.006*\"hn\" + 0.006*\"like\" + 0.006*\"laptop\" + 0.005*\"social\" + 0.005*\"pro\" + 0.004*\"battery\" + 0.004*\"just\"\n",
      "2017-06-05 20:59:32,173 : INFO : topic #13 (0.067): 0.013*\"problem\" + 0.011*\"time\" + 0.009*\"good\" + 0.008*\"things\" + 0.007*\"just\" + 0.006*\"flavor\" + 0.006*\"lot\" + 0.006*\"like\" + 0.006*\"software\" + 0.006*\"ve\"\n",
      "2017-06-05 20:59:32,175 : INFO : topic #3 (0.067): 0.015*\"desktop\" + 0.013*\"ubuntu\" + 0.010*\"use\" + 0.007*\"android\" + 0.007*\"ubuntu desktop\" + 0.007*\"just\" + 0.007*\"user\" + 0.006*\"want\" + 0.006*\"does\" + 0.006*\"kernel\"\n",
      "2017-06-05 20:59:32,178 : INFO : topic #7 (0.067): 0.011*\"headline\" + 0.007*\"did\" + 0.007*\"war\" + 0.007*\"history\" + 0.005*\"russia\" + 0.004*\"gun\" + 0.004*\"reddit\" + 0.004*\"say\" + 0.004*\"author\" + 0.004*\"wasn\"\n",
      "2017-06-05 20:59:32,184 : INFO : topic diff=0.075002, rho=0.119523\n",
      "2017-06-05 20:59:32,212 : INFO : PROGRESS: pass 0, at document #142000/246175\n",
      "2017-06-05 20:59:33,797 : INFO : merging changes from 2000 documents into a model of 246175 documents\n",
      "2017-06-05 20:59:34,090 : INFO : topic #2 (0.067): 0.015*\"google\" + 0.014*\"open\" + 0.013*\"software\" + 0.011*\"source\" + 0.008*\"make\" + 0.008*\"product\" + 0.008*\"don\" + 0.008*\"users\" + 0.007*\"internet\" + 0.007*\"use\"\n",
      "2017-06-05 20:59:34,092 : INFO : topic #8 (0.067): 0.007*\"right\" + 0.007*\"government\" + 0.007*\"trump\" + 0.006*\"like\" + 0.006*\"political\" + 0.006*\"people\" + 0.006*\"bad\" + 0.005*\"law\" + 0.005*\"power\" + 0.005*\"state\"\n",
      "2017-06-05 20:59:34,095 : INFO : topic #10 (0.067): 0.018*\"code\" + 0.012*\"use\" + 0.006*\"python\" + 0.006*\"using\" + 0.005*\"systems\" + 0.005*\"build\" + 0.005*\"write\" + 0.005*\"language\" + 0.004*\"memory\" + 0.004*\"design\"\n",
      "2017-06-05 20:59:34,097 : INFO : topic #11 (0.067): 0.005*\"energy\" + 0.004*\"city\" + 0.004*\"space\" + 0.004*\"power\" + 0.004*\"spacex\" + 0.004*\"australia\" + 0.004*\"food\" + 0.003*\"like\" + 0.003*\"military\" + 0.003*\"global\"\n",
      "2017-06-05 20:59:34,099 : INFO : topic #5 (0.067): 0.023*\"https\" + 0.014*\"org\" + 0.011*\"ubuntu\" + 0.011*\"windows\" + 0.010*\"github\" + 0.010*\"com\" + 0.009*\"en\" + 0.009*\"wiki\" + 0.009*\"use\" + 0.009*\"wikipedia\"\n",
      "2017-06-05 20:59:34,106 : INFO : topic diff=0.077045, rho=0.118678\n",
      "2017-06-05 20:59:34,134 : INFO : PROGRESS: pass 0, at document #144000/246175\n",
      "2017-06-05 20:59:35,760 : INFO : merging changes from 2000 documents into a model of 246175 documents\n",
      "2017-06-05 20:59:36,052 : INFO : topic #2 (0.067): 0.015*\"google\" + 0.013*\"open\" + 0.013*\"software\" + 0.011*\"source\" + 0.008*\"product\" + 0.008*\"make\" + 0.008*\"don\" + 0.008*\"users\" + 0.007*\"use\" + 0.007*\"internet\"\n",
      "2017-06-05 20:59:36,054 : INFO : topic #6 (0.067): 0.017*\"just\" + 0.017*\"don\" + 0.016*\"think\" + 0.014*\"like\" + 0.013*\"really\" + 0.012*\"people\" + 0.011*\"work\" + 0.009*\"need\" + 0.008*\"time\" + 0.008*\"way\"\n",
      "2017-06-05 20:59:36,057 : INFO : topic #0 (0.067): 0.009*\"business\" + 0.007*\"people\" + 0.007*\"companies\" + 0.007*\"market\" + 0.006*\"cost\" + 0.006*\"tech\" + 0.005*\"company\" + 0.005*\"price\" + 0.005*\"car\" + 0.004*\"just\"\n",
      "2017-06-05 20:59:36,059 : INFO : topic #14 (0.067): 0.024*\"data\" + 0.018*\"like\" + 0.008*\"use\" + 0.006*\"used\" + 0.006*\"description\" + 0.006*\"case\" + 0.006*\"looks\" + 0.005*\"type\" + 0.005*\"cases\" + 0.005*\"read\"\n",
      "2017-06-05 20:59:36,061 : INFO : topic #5 (0.067): 0.023*\"https\" + 0.014*\"org\" + 0.011*\"ubuntu\" + 0.010*\"windows\" + 0.010*\"github\" + 0.010*\"com\" + 0.009*\"en\" + 0.009*\"wikipedia\" + 0.009*\"wiki\" + 0.009*\"use\"\n",
      "2017-06-05 20:59:36,068 : INFO : topic diff=0.071491, rho=0.117851\n",
      "2017-06-05 20:59:36,095 : INFO : PROGRESS: pass 0, at document #146000/246175\n",
      "2017-06-05 20:59:37,709 : INFO : merging changes from 2000 documents into a model of 246175 documents\n",
      "2017-06-05 20:59:37,992 : INFO : topic #5 (0.067): 0.023*\"https\" + 0.015*\"org\" + 0.010*\"github\" + 0.010*\"windows\" + 0.010*\"com\" + 0.010*\"en\" + 0.010*\"ubuntu\" + 0.009*\"wikipedia\" + 0.009*\"wiki\" + 0.009*\"use\"\n",
      "2017-06-05 20:59:37,994 : INFO : topic #13 (0.067): 0.014*\"problem\" + 0.012*\"time\" + 0.009*\"good\" + 0.009*\"things\" + 0.007*\"just\" + 0.006*\"lot\" + 0.006*\"problems\" + 0.006*\"like\" + 0.006*\"real\" + 0.006*\"ve\"\n",
      "2017-06-05 20:59:37,996 : INFO : topic #3 (0.067): 0.012*\"desktop\" + 0.010*\"use\" + 0.010*\"ubuntu\" + 0.007*\"just\" + 0.006*\"user\" + 0.006*\"want\" + 0.006*\"android\" + 0.006*\"does\" + 0.005*\"ubuntu desktop\" + 0.005*\"information\"\n",
      "2017-06-05 20:59:37,999 : INFO : topic #2 (0.067): 0.015*\"google\" + 0.013*\"open\" + 0.012*\"software\" + 0.011*\"source\" + 0.008*\"product\" + 0.008*\"make\" + 0.008*\"don\" + 0.008*\"users\" + 0.008*\"free\" + 0.007*\"use\"\n",
      "2017-06-05 20:59:38,001 : INFO : topic #1 (0.067): 0.026*\"people\" + 0.012*\"don\" + 0.008*\"think\" + 0.008*\"doesn\" + 0.007*\"just\" + 0.007*\"say\" + 0.007*\"like\" + 0.007*\"know\" + 0.006*\"point\" + 0.006*\"mean\"\n",
      "2017-06-05 20:59:38,009 : INFO : topic diff=0.070165, rho=0.117041\n",
      "2017-06-05 20:59:38,037 : INFO : PROGRESS: pass 0, at document #148000/246175\n",
      "2017-06-05 20:59:39,621 : INFO : merging changes from 2000 documents into a model of 246175 documents\n",
      "2017-06-05 20:59:39,903 : INFO : topic #10 (0.067): 0.020*\"code\" + 0.012*\"use\" + 0.006*\"using\" + 0.005*\"language\" + 0.005*\"python\" + 0.005*\"write\" + 0.005*\"systems\" + 0.005*\"build\" + 0.005*\"memory\" + 0.004*\"rust\"\n",
      "2017-06-05 20:59:39,905 : INFO : topic #11 (0.067): 0.007*\"energy\" + 0.006*\"spacex\" + 0.005*\"space\" + 0.005*\"power\" + 0.004*\"drug\" + 0.004*\"rocket\" + 0.004*\"nuclear\" + 0.004*\"water\" + 0.004*\"city\" + 0.003*\"food\"\n",
      "2017-06-05 20:59:39,908 : INFO : topic #9 (0.067): 0.015*\"money\" + 0.012*\"pay\" + 0.011*\"work\" + 0.008*\"year\" + 0.007*\"jobs\" + 0.007*\"job\" + 0.007*\"news\" + 0.007*\"people\" + 0.006*\"tax\" + 0.005*\"time\"\n",
      "2017-06-05 20:59:39,910 : INFO : topic #2 (0.067): 0.015*\"google\" + 0.013*\"open\" + 0.012*\"software\" + 0.011*\"source\" + 0.008*\"free\" + 0.008*\"users\" + 0.008*\"make\" + 0.008*\"don\" + 0.007*\"product\" + 0.007*\"use\"\n",
      "2017-06-05 20:59:39,912 : INFO : topic #3 (0.067): 0.011*\"desktop\" + 0.011*\"use\" + 0.009*\"ubuntu\" + 0.007*\"just\" + 0.006*\"user\" + 0.006*\"want\" + 0.006*\"does\" + 0.006*\"information\" + 0.005*\"android\" + 0.005*\"ubuntu desktop\"\n",
      "2017-06-05 20:59:39,919 : INFO : topic diff=0.066436, rho=0.116248\n",
      "2017-06-05 20:59:39,945 : INFO : PROGRESS: pass 0, at document #150000/246175\n",
      "2017-06-05 20:59:41,510 : INFO : merging changes from 2000 documents into a model of 246175 documents\n",
      "2017-06-05 20:59:41,785 : INFO : topic #12 (0.067): 0.055*\"com\" + 0.040*\"https\" + 0.036*\"www\" + 0.028*\"http\" + 0.021*\"https www\" + 0.015*\"http www\" + 0.011*\"ago\" + 0.010*\"years\" + 0.008*\"like\" + 0.007*\"watch\"\n",
      "2017-06-05 20:59:41,788 : INFO : topic #0 (0.067): 0.008*\"business\" + 0.008*\"companies\" + 0.007*\"cost\" + 0.007*\"market\" + 0.007*\"people\" + 0.007*\"price\" + 0.005*\"company\" + 0.005*\"car\" + 0.005*\"tech\" + 0.004*\"just\"\n",
      "2017-06-05 20:59:41,790 : INFO : topic #9 (0.067): 0.016*\"money\" + 0.012*\"tax\" + 0.012*\"pay\" + 0.010*\"work\" + 0.008*\"year\" + 0.007*\"jobs\" + 0.007*\"people\" + 0.006*\"job\" + 0.006*\"news\" + 0.006*\"income\"\n",
      "2017-06-05 20:59:41,792 : INFO : topic #13 (0.067): 0.014*\"problem\" + 0.011*\"time\" + 0.009*\"good\" + 0.009*\"things\" + 0.007*\"just\" + 0.006*\"problems\" + 0.006*\"lot\" + 0.006*\"like\" + 0.006*\"ve\" + 0.006*\"better\"\n",
      "2017-06-05 20:59:41,795 : INFO : topic #11 (0.067): 0.007*\"energy\" + 0.005*\"spacex\" + 0.005*\"space\" + 0.005*\"power\" + 0.004*\"nuclear\" + 0.004*\"food\" + 0.004*\"drug\" + 0.004*\"water\" + 0.004*\"rocket\" + 0.004*\"eat\"\n",
      "2017-06-05 20:59:41,801 : INFO : topic diff=0.069184, rho=0.115470\n",
      "2017-06-05 20:59:41,827 : INFO : PROGRESS: pass 0, at document #152000/246175\n",
      "2017-06-05 20:59:43,439 : INFO : merging changes from 2000 documents into a model of 246175 documents\n",
      "2017-06-05 20:59:43,712 : INFO : topic #7 (0.067): 0.008*\"history\" + 0.007*\"did\" + 0.006*\"war\" + 0.005*\"headline\" + 0.004*\"author\" + 0.004*\"wasn\" + 0.004*\"say\" + 0.004*\"russia\" + 0.004*\"women\" + 0.004*\"read\"\n",
      "2017-06-05 20:59:43,715 : INFO : topic #5 (0.067): 0.025*\"https\" + 0.017*\"org\" + 0.011*\"en\" + 0.010*\"wikipedia\" + 0.010*\"wiki\" + 0.010*\"github\" + 0.010*\"com\" + 0.009*\"windows\" + 0.009*\"org wiki\" + 0.009*\"use\"\n",
      "2017-06-05 20:59:43,717 : INFO : topic #8 (0.067): 0.008*\"government\" + 0.007*\"law\" + 0.006*\"right\" + 0.006*\"power\" + 0.006*\"people\" + 0.006*\"like\" + 0.005*\"political\" + 0.005*\"trump\" + 0.005*\"state\" + 0.005*\"bad\"\n",
      "2017-06-05 20:59:43,720 : INFO : topic #9 (0.067): 0.015*\"money\" + 0.012*\"pay\" + 0.011*\"tax\" + 0.010*\"work\" + 0.008*\"year\" + 0.007*\"people\" + 0.007*\"jobs\" + 0.006*\"job\" + 0.006*\"news\" + 0.006*\"income\"\n",
      "2017-06-05 20:59:43,723 : INFO : topic #4 (0.067): 0.011*\"life\" + 0.008*\"post\" + 0.007*\"people\" + 0.007*\"hn\" + 0.006*\"like\" + 0.005*\"privacy\" + 0.005*\"social\" + 0.004*\"just\" + 0.004*\"thing\" + 0.004*\"ve\"\n",
      "2017-06-05 20:59:43,729 : INFO : topic diff=0.071567, rho=0.114708\n",
      "2017-06-05 20:59:43,756 : INFO : PROGRESS: pass 0, at document #154000/246175\n",
      "2017-06-05 20:59:45,350 : INFO : merging changes from 2000 documents into a model of 246175 documents\n",
      "2017-06-05 20:59:45,631 : INFO : topic #5 (0.067): 0.025*\"https\" + 0.017*\"org\" + 0.011*\"en\" + 0.011*\"wikipedia\" + 0.010*\"wiki\" + 0.010*\"github\" + 0.009*\"com\" + 0.009*\"org wiki\" + 0.009*\"https en\" + 0.009*\"use\"\n",
      "2017-06-05 20:59:45,633 : INFO : topic #1 (0.067): 0.026*\"people\" + 0.012*\"don\" + 0.009*\"think\" + 0.008*\"doesn\" + 0.007*\"say\" + 0.007*\"just\" + 0.007*\"point\" + 0.006*\"like\" + 0.006*\"mean\" + 0.006*\"know\"\n",
      "2017-06-05 20:59:45,635 : INFO : topic #14 (0.067): 0.027*\"data\" + 0.017*\"like\" + 0.008*\"use\" + 0.006*\"read\" + 0.006*\"looks\" + 0.006*\"used\" + 0.005*\"case\" + 0.005*\"type\" + 0.005*\"cases\" + 0.005*\"change\"\n",
      "2017-06-05 20:59:45,637 : INFO : topic #8 (0.067): 0.008*\"government\" + 0.007*\"law\" + 0.007*\"right\" + 0.006*\"power\" + 0.006*\"people\" + 0.006*\"like\" + 0.005*\"political\" + 0.005*\"state\" + 0.005*\"trump\" + 0.005*\"bad\"\n",
      "2017-06-05 20:59:45,639 : INFO : topic #3 (0.067): 0.011*\"use\" + 0.009*\"desktop\" + 0.007*\"just\" + 0.007*\"vpn\" + 0.006*\"ubuntu\" + 0.006*\"user\" + 0.006*\"information\" + 0.006*\"want\" + 0.006*\"isp\" + 0.006*\"does\"\n",
      "2017-06-05 20:59:45,646 : INFO : topic diff=0.066863, rho=0.113961\n",
      "2017-06-05 20:59:45,672 : INFO : PROGRESS: pass 0, at document #156000/246175\n",
      "2017-06-05 20:59:47,208 : INFO : merging changes from 2000 documents into a model of 246175 documents\n",
      "2017-06-05 20:59:47,475 : INFO : topic #14 (0.067): 0.027*\"data\" + 0.017*\"like\" + 0.009*\"use\" + 0.007*\"read\" + 0.006*\"looks\" + 0.006*\"case\" + 0.006*\"used\" + 0.006*\"type\" + 0.005*\"cases\" + 0.005*\"change\"\n",
      "2017-06-05 20:59:47,478 : INFO : topic #8 (0.067): 0.009*\"government\" + 0.007*\"law\" + 0.007*\"right\" + 0.006*\"power\" + 0.006*\"people\" + 0.006*\"like\" + 0.005*\"political\" + 0.005*\"trump\" + 0.005*\"state\" + 0.005*\"bad\"\n",
      "2017-06-05 20:59:47,480 : INFO : topic #10 (0.067): 0.019*\"code\" + 0.012*\"use\" + 0.006*\"using\" + 0.005*\"language\" + 0.005*\"build\" + 0.005*\"systems\" + 0.004*\"write\" + 0.004*\"memory\" + 0.004*\"python\" + 0.004*\"machine\"\n",
      "2017-06-05 20:59:47,482 : INFO : topic #0 (0.067): 0.008*\"business\" + 0.008*\"companies\" + 0.008*\"cost\" + 0.007*\"market\" + 0.007*\"people\" + 0.006*\"price\" + 0.006*\"company\" + 0.005*\"car\" + 0.005*\"tech\" + 0.005*\"long\"\n",
      "2017-06-05 20:59:47,484 : INFO : topic #9 (0.067): 0.014*\"money\" + 0.012*\"pay\" + 0.011*\"work\" + 0.009*\"tax\" + 0.009*\"eu\" + 0.008*\"uk\" + 0.008*\"year\" + 0.007*\"people\" + 0.006*\"jobs\" + 0.006*\"job\"\n",
      "2017-06-05 20:59:47,491 : INFO : topic diff=0.065735, rho=0.113228\n",
      "2017-06-05 20:59:47,517 : INFO : PROGRESS: pass 0, at document #158000/246175\n",
      "2017-06-05 20:59:49,087 : INFO : merging changes from 2000 documents into a model of 246175 documents\n",
      "2017-06-05 20:59:49,354 : INFO : topic #14 (0.067): 0.027*\"data\" + 0.017*\"like\" + 0.008*\"use\" + 0.007*\"read\" + 0.006*\"looks\" + 0.006*\"case\" + 0.006*\"used\" + 0.005*\"cases\" + 0.005*\"type\" + 0.005*\"change\"\n",
      "2017-06-05 20:59:49,356 : INFO : topic #12 (0.067): 0.054*\"com\" + 0.042*\"https\" + 0.037*\"www\" + 0.030*\"http\" + 0.021*\"https www\" + 0.015*\"http www\" + 0.011*\"ago\" + 0.010*\"years\" + 0.008*\"like\" + 0.008*\"news\"\n",
      "2017-06-05 20:59:49,358 : INFO : topic #3 (0.067): 0.011*\"use\" + 0.008*\"vpn\" + 0.008*\"just\" + 0.007*\"desktop\" + 0.007*\"isp\" + 0.007*\"user\" + 0.006*\"information\" + 0.006*\"isps\" + 0.006*\"does\" + 0.006*\"want\"\n",
      "2017-06-05 20:59:49,360 : INFO : topic #2 (0.067): 0.015*\"google\" + 0.013*\"open\" + 0.011*\"source\" + 0.011*\"software\" + 0.008*\"users\" + 0.008*\"free\" + 0.008*\"internet\" + 0.008*\"don\" + 0.008*\"product\" + 0.008*\"make\"\n",
      "2017-06-05 20:59:49,363 : INFO : topic #11 (0.067): 0.008*\"nuclear\" + 0.007*\"energy\" + 0.006*\"power\" + 0.004*\"space\" + 0.004*\"solar\" + 0.004*\"spacex\" + 0.004*\"uk\" + 0.004*\"food\" + 0.003*\"water\" + 0.003*\"world\"\n",
      "2017-06-05 20:59:49,370 : INFO : topic diff=0.057222, rho=0.112509\n",
      "2017-06-05 20:59:53,816 : INFO : -9.458 per-word bound, 703.5 perplexity estimate based on a held-out corpus of 2000 documents with 72470 words\n",
      "2017-06-05 20:59:53,817 : INFO : PROGRESS: pass 0, at document #160000/246175\n",
      "2017-06-05 20:59:55,403 : INFO : merging changes from 2000 documents into a model of 246175 documents\n",
      "2017-06-05 20:59:55,671 : INFO : topic #0 (0.067): 0.008*\"business\" + 0.008*\"market\" + 0.008*\"companies\" + 0.008*\"cost\" + 0.007*\"people\" + 0.006*\"car\" + 0.006*\"company\" + 0.006*\"price\" + 0.006*\"tech\" + 0.005*\"tesla\"\n",
      "2017-06-05 20:59:55,673 : INFO : topic #1 (0.067): 0.026*\"people\" + 0.012*\"don\" + 0.009*\"think\" + 0.008*\"doesn\" + 0.007*\"say\" + 0.007*\"just\" + 0.007*\"point\" + 0.006*\"mean\" + 0.006*\"like\" + 0.006*\"know\"\n",
      "2017-06-05 20:59:55,676 : INFO : topic #6 (0.067): 0.019*\"don\" + 0.018*\"just\" + 0.017*\"think\" + 0.014*\"like\" + 0.013*\"really\" + 0.012*\"people\" + 0.012*\"work\" + 0.009*\"need\" + 0.008*\"time\" + 0.008*\"way\"\n",
      "2017-06-05 20:59:55,678 : INFO : topic #14 (0.067): 0.026*\"data\" + 0.017*\"like\" + 0.008*\"use\" + 0.007*\"read\" + 0.006*\"type\" + 0.006*\"used\" + 0.006*\"looks\" + 0.006*\"case\" + 0.005*\"cases\" + 0.005*\"change\"\n",
      "2017-06-05 20:59:55,680 : INFO : topic #9 (0.067): 0.013*\"money\" + 0.012*\"pay\" + 0.011*\"work\" + 0.008*\"tax\" + 0.008*\"year\" + 0.008*\"eu\" + 0.008*\"jobs\" + 0.007*\"uk\" + 0.007*\"people\" + 0.007*\"job\"\n",
      "2017-06-05 20:59:55,686 : INFO : topic diff=0.061166, rho=0.111803\n",
      "2017-06-05 20:59:55,712 : INFO : PROGRESS: pass 0, at document #162000/246175\n",
      "2017-06-05 20:59:57,290 : INFO : merging changes from 2000 documents into a model of 246175 documents\n",
      "2017-06-05 20:59:57,550 : INFO : topic #6 (0.067): 0.019*\"don\" + 0.018*\"just\" + 0.017*\"think\" + 0.015*\"like\" + 0.013*\"really\" + 0.012*\"people\" + 0.012*\"work\" + 0.009*\"need\" + 0.008*\"time\" + 0.008*\"way\"\n",
      "2017-06-05 20:59:57,553 : INFO : topic #5 (0.067): 0.025*\"https\" + 0.016*\"org\" + 0.012*\"wikipedia\" + 0.011*\"en\" + 0.011*\"github\" + 0.011*\"wiki\" + 0.010*\"com\" + 0.009*\"org wiki\" + 0.009*\"https en\" + 0.009*\"wikipedia org\"\n",
      "2017-06-05 20:59:57,555 : INFO : topic #8 (0.067): 0.008*\"government\" + 0.007*\"law\" + 0.006*\"state\" + 0.006*\"right\" + 0.006*\"people\" + 0.006*\"power\" + 0.006*\"trump\" + 0.006*\"like\" + 0.005*\"political\" + 0.005*\"vote\"\n",
      "2017-06-05 20:59:57,558 : INFO : topic #2 (0.067): 0.014*\"google\" + 0.013*\"open\" + 0.011*\"source\" + 0.010*\"software\" + 0.009*\"free\" + 0.008*\"users\" + 0.008*\"don\" + 0.008*\"use\" + 0.008*\"product\" + 0.008*\"make\"\n",
      "2017-06-05 20:59:57,559 : INFO : topic #14 (0.067): 0.026*\"data\" + 0.017*\"like\" + 0.008*\"use\" + 0.007*\"read\" + 0.006*\"type\" + 0.006*\"looks\" + 0.006*\"used\" + 0.006*\"case\" + 0.005*\"change\" + 0.005*\"cases\"\n",
      "2017-06-05 20:59:57,566 : INFO : topic diff=0.054514, rho=0.111111\n",
      "2017-06-05 20:59:57,591 : INFO : PROGRESS: pass 0, at document #164000/246175\n",
      "2017-06-05 20:59:59,112 : INFO : merging changes from 2000 documents into a model of 246175 documents\n",
      "2017-06-05 20:59:59,366 : INFO : topic #5 (0.067): 0.025*\"https\" + 0.017*\"org\" + 0.012*\"wikipedia\" + 0.011*\"en\" + 0.011*\"github\" + 0.011*\"wiki\" + 0.010*\"com\" + 0.010*\"org wiki\" + 0.009*\"wikipedia org\" + 0.009*\"https en\"\n",
      "2017-06-05 20:59:59,369 : INFO : topic #10 (0.067): 0.020*\"code\" + 0.012*\"use\" + 0.006*\"using\" + 0.006*\"language\" + 0.005*\"build\" + 0.005*\"python\" + 0.005*\"write\" + 0.005*\"memory\" + 0.004*\"machine\" + 0.004*\"systems\"\n",
      "2017-06-05 20:59:59,370 : INFO : topic #2 (0.067): 0.014*\"google\" + 0.012*\"open\" + 0.011*\"source\" + 0.010*\"software\" + 0.008*\"free\" + 0.008*\"users\" + 0.008*\"product\" + 0.008*\"don\" + 0.008*\"use\" + 0.008*\"make\"\n",
      "2017-06-05 20:59:59,373 : INFO : topic #4 (0.067): 0.011*\"life\" + 0.007*\"people\" + 0.007*\"hn\" + 0.007*\"post\" + 0.006*\"privacy\" + 0.006*\"like\" + 0.005*\"social\" + 0.005*\"friends\" + 0.004*\"ve\" + 0.004*\"just\"\n",
      "2017-06-05 20:59:59,374 : INFO : topic #12 (0.067): 0.055*\"com\" + 0.040*\"https\" + 0.037*\"www\" + 0.029*\"http\" + 0.020*\"https www\" + 0.016*\"http www\" + 0.012*\"ago\" + 0.010*\"years\" + 0.008*\"like\" + 0.008*\"news\"\n",
      "2017-06-05 20:59:59,381 : INFO : topic diff=0.054519, rho=0.110432\n",
      "2017-06-05 20:59:59,407 : INFO : PROGRESS: pass 0, at document #166000/246175\n",
      "2017-06-05 21:00:00,949 : INFO : merging changes from 2000 documents into a model of 246175 documents\n",
      "2017-06-05 21:00:01,203 : INFO : topic #6 (0.067): 0.020*\"don\" + 0.018*\"just\" + 0.017*\"think\" + 0.015*\"like\" + 0.013*\"really\" + 0.012*\"people\" + 0.012*\"work\" + 0.009*\"need\" + 0.008*\"way\" + 0.008*\"time\"\n",
      "2017-06-05 21:00:01,206 : INFO : topic #1 (0.067): 0.026*\"people\" + 0.012*\"don\" + 0.009*\"think\" + 0.008*\"doesn\" + 0.007*\"say\" + 0.007*\"just\" + 0.007*\"point\" + 0.006*\"know\" + 0.006*\"like\" + 0.006*\"mean\"\n",
      "2017-06-05 21:00:01,208 : INFO : topic #3 (0.067): 0.011*\"use\" + 0.008*\"just\" + 0.007*\"vpn\" + 0.007*\"user\" + 0.006*\"does\" + 0.006*\"information\" + 0.006*\"want\" + 0.005*\"isp\" + 0.005*\"desktop\" + 0.004*\"isps\"\n",
      "2017-06-05 21:00:01,211 : INFO : topic #4 (0.067): 0.010*\"life\" + 0.007*\"hn\" + 0.007*\"people\" + 0.007*\"post\" + 0.006*\"like\" + 0.006*\"privacy\" + 0.005*\"friends\" + 0.005*\"social\" + 0.004*\"just\" + 0.004*\"ve\"\n",
      "2017-06-05 21:00:01,213 : INFO : topic #10 (0.067): 0.020*\"code\" + 0.012*\"use\" + 0.007*\"language\" + 0.006*\"using\" + 0.005*\"memory\" + 0.005*\"build\" + 0.005*\"python\" + 0.005*\"write\" + 0.004*\"machine\" + 0.004*\"systems\"\n",
      "2017-06-05 21:00:01,220 : INFO : topic diff=0.054616, rho=0.109764\n",
      "2017-06-05 21:00:01,248 : INFO : PROGRESS: pass 0, at document #168000/246175\n",
      "2017-06-05 21:00:02,825 : INFO : merging changes from 2000 documents into a model of 246175 documents\n",
      "2017-06-05 21:00:03,082 : INFO : topic #9 (0.067): 0.013*\"money\" + 0.013*\"pay\" + 0.011*\"work\" + 0.008*\"year\" + 0.007*\"people\" + 0.007*\"job\" + 0.007*\"jobs\" + 0.007*\"tax\" + 0.006*\"uk\" + 0.006*\"news\"\n",
      "2017-06-05 21:00:03,085 : INFO : topic #8 (0.067): 0.008*\"government\" + 0.006*\"law\" + 0.006*\"right\" + 0.006*\"state\" + 0.006*\"people\" + 0.006*\"power\" + 0.005*\"like\" + 0.005*\"political\" + 0.005*\"bad\" + 0.005*\"trump\"\n",
      "2017-06-05 21:00:03,087 : INFO : topic #7 (0.067): 0.012*\"women\" + 0.008*\"war\" + 0.007*\"history\" + 0.007*\"did\" + 0.004*\"male\" + 0.004*\"read\" + 0.004*\"say\" + 0.004*\"wasn\" + 0.004*\"reddit\" + 0.004*\"female\"\n",
      "2017-06-05 21:00:03,089 : INFO : topic #11 (0.067): 0.007*\"drug\" + 0.006*\"energy\" + 0.006*\"nuclear\" + 0.005*\"power\" + 0.004*\"space\" + 0.004*\"water\" + 0.004*\"food\" + 0.004*\"solar\" + 0.003*\"world\" + 0.003*\"new\"\n",
      "2017-06-05 21:00:03,092 : INFO : topic #5 (0.067): 0.025*\"https\" + 0.016*\"org\" + 0.012*\"wikipedia\" + 0.011*\"en\" + 0.011*\"github\" + 0.010*\"wiki\" + 0.010*\"com\" + 0.009*\"org wiki\" + 0.009*\"windows\" + 0.009*\"https en\"\n",
      "2017-06-05 21:00:03,098 : INFO : topic diff=0.061646, rho=0.109109\n",
      "2017-06-05 21:00:03,126 : INFO : PROGRESS: pass 0, at document #170000/246175\n",
      "2017-06-05 21:00:04,841 : INFO : merging changes from 2000 documents into a model of 246175 documents\n",
      "2017-06-05 21:00:05,098 : INFO : topic #2 (0.067): 0.014*\"google\" + 0.012*\"open\" + 0.010*\"content\" + 0.010*\"facebook\" + 0.010*\"software\" + 0.009*\"source\" + 0.008*\"free\" + 0.008*\"don\" + 0.008*\"users\" + 0.008*\"make\"\n",
      "2017-06-05 21:00:05,100 : INFO : topic #14 (0.067): 0.023*\"data\" + 0.017*\"like\" + 0.008*\"use\" + 0.007*\"read\" + 0.007*\"type\" + 0.006*\"looks\" + 0.006*\"used\" + 0.006*\"case\" + 0.005*\"change\" + 0.005*\"cases\"\n",
      "2017-06-05 21:00:05,102 : INFO : topic #11 (0.067): 0.006*\"drug\" + 0.006*\"energy\" + 0.005*\"power\" + 0.005*\"nuclear\" + 0.004*\"water\" + 0.004*\"space\" + 0.004*\"food\" + 0.004*\"world\" + 0.003*\"solar\" + 0.003*\"new\"\n",
      "2017-06-05 21:00:05,104 : INFO : topic #6 (0.067): 0.020*\"don\" + 0.018*\"just\" + 0.017*\"think\" + 0.015*\"like\" + 0.013*\"really\" + 0.012*\"people\" + 0.011*\"work\" + 0.008*\"need\" + 0.008*\"way\" + 0.008*\"time\"\n",
      "2017-06-05 21:00:05,106 : INFO : topic #13 (0.067): 0.014*\"problem\" + 0.012*\"time\" + 0.010*\"good\" + 0.010*\"things\" + 0.008*\"just\" + 0.007*\"lot\" + 0.007*\"problems\" + 0.007*\"ve\" + 0.006*\"like\" + 0.006*\"better\"\n",
      "2017-06-05 21:00:05,113 : INFO : topic diff=0.052628, rho=0.108465\n",
      "2017-06-05 21:00:05,139 : INFO : PROGRESS: pass 0, at document #172000/246175\n",
      "2017-06-05 21:00:06,702 : INFO : merging changes from 2000 documents into a model of 246175 documents\n",
      "2017-06-05 21:00:06,968 : INFO : topic #13 (0.067): 0.015*\"problem\" + 0.012*\"time\" + 0.010*\"good\" + 0.010*\"things\" + 0.007*\"just\" + 0.007*\"lot\" + 0.007*\"ve\" + 0.007*\"problems\" + 0.006*\"game\" + 0.006*\"like\"\n",
      "2017-06-05 21:00:06,970 : INFO : topic #4 (0.067): 0.011*\"life\" + 0.008*\"post\" + 0.007*\"people\" + 0.007*\"hn\" + 0.006*\"like\" + 0.006*\"social\" + 0.005*\"privacy\" + 0.005*\"friends\" + 0.005*\"ve\" + 0.004*\"laptop\"\n",
      "2017-06-05 21:00:06,973 : INFO : topic #5 (0.067): 0.025*\"https\" + 0.016*\"org\" + 0.012*\"wikipedia\" + 0.011*\"en\" + 0.010*\"github\" + 0.010*\"wiki\" + 0.010*\"com\" + 0.009*\"org wiki\" + 0.009*\"https en\" + 0.009*\"wikipedia org\"\n",
      "2017-06-05 21:00:06,976 : INFO : topic #7 (0.067): 0.010*\"women\" + 0.007*\"war\" + 0.007*\"did\" + 0.007*\"coins\" + 0.007*\"history\" + 0.004*\"wasn\" + 0.004*\"chinese\" + 0.004*\"read\" + 0.004*\"reddit\" + 0.004*\"say\"\n",
      "2017-06-05 21:00:06,978 : INFO : topic #1 (0.067): 0.026*\"people\" + 0.012*\"don\" + 0.009*\"think\" + 0.008*\"doesn\" + 0.007*\"say\" + 0.007*\"point\" + 0.007*\"just\" + 0.006*\"like\" + 0.006*\"know\" + 0.006*\"mean\"\n",
      "2017-06-05 21:00:06,985 : INFO : topic diff=0.052265, rho=0.107833\n",
      "2017-06-05 21:00:07,010 : INFO : PROGRESS: pass 0, at document #174000/246175\n",
      "2017-06-05 21:00:08,610 : INFO : merging changes from 2000 documents into a model of 246175 documents\n",
      "2017-06-05 21:00:08,860 : INFO : topic #4 (0.067): 0.010*\"life\" + 0.008*\"post\" + 0.007*\"people\" + 0.007*\"hn\" + 0.006*\"like\" + 0.006*\"social\" + 0.005*\"privacy\" + 0.005*\"search\" + 0.005*\"ve\" + 0.005*\"friends\"\n",
      "2017-06-05 21:00:08,862 : INFO : topic #10 (0.067): 0.020*\"code\" + 0.012*\"use\" + 0.008*\"language\" + 0.006*\"using\" + 0.005*\"rust\" + 0.005*\"write\" + 0.005*\"memory\" + 0.005*\"python\" + 0.004*\"build\" + 0.004*\"js\"\n",
      "2017-06-05 21:00:08,865 : INFO : topic #1 (0.067): 0.026*\"people\" + 0.012*\"don\" + 0.009*\"think\" + 0.008*\"doesn\" + 0.007*\"say\" + 0.007*\"point\" + 0.007*\"just\" + 0.006*\"like\" + 0.006*\"know\" + 0.006*\"mean\"\n",
      "2017-06-05 21:00:08,867 : INFO : topic #3 (0.067): 0.011*\"use\" + 0.008*\"just\" + 0.007*\"user\" + 0.006*\"does\" + 0.006*\"information\" + 0.006*\"want\" + 0.006*\"desktop\" + 0.005*\"account\" + 0.005*\"vpn\" + 0.004*\"traffic\"\n",
      "2017-06-05 21:00:08,869 : INFO : topic #8 (0.067): 0.008*\"government\" + 0.006*\"law\" + 0.006*\"state\" + 0.006*\"right\" + 0.006*\"power\" + 0.006*\"people\" + 0.006*\"bad\" + 0.005*\"like\" + 0.005*\"political\" + 0.005*\"states\"\n",
      "2017-06-05 21:00:08,875 : INFO : topic diff=0.048228, rho=0.107211\n",
      "2017-06-05 21:00:08,902 : INFO : PROGRESS: pass 0, at document #176000/246175\n",
      "2017-06-05 21:00:10,450 : INFO : merging changes from 2000 documents into a model of 246175 documents\n",
      "2017-06-05 21:00:10,691 : INFO : topic #11 (0.067): 0.006*\"energy\" + 0.005*\"drug\" + 0.005*\"power\" + 0.005*\"nuclear\" + 0.004*\"space\" + 0.004*\"world\" + 0.004*\"water\" + 0.004*\"food\" + 0.003*\"global\" + 0.003*\"climate\"\n",
      "2017-06-05 21:00:10,694 : INFO : topic #13 (0.067): 0.014*\"problem\" + 0.012*\"time\" + 0.010*\"good\" + 0.010*\"things\" + 0.007*\"just\" + 0.007*\"ve\" + 0.007*\"lot\" + 0.007*\"problems\" + 0.006*\"game\" + 0.006*\"better\"\n",
      "2017-06-05 21:00:10,697 : INFO : topic #4 (0.067): 0.010*\"life\" + 0.008*\"post\" + 0.007*\"people\" + 0.007*\"hn\" + 0.006*\"like\" + 0.005*\"social\" + 0.005*\"search\" + 0.005*\"privacy\" + 0.005*\"ve\" + 0.005*\"friends\"\n",
      "2017-06-05 21:00:10,699 : INFO : topic #9 (0.067): 0.013*\"pay\" + 0.012*\"money\" + 0.011*\"work\" + 0.009*\"job\" + 0.008*\"year\" + 0.007*\"people\" + 0.007*\"jobs\" + 0.006*\"uk\" + 0.006*\"tax\" + 0.006*\"news\"\n",
      "2017-06-05 21:00:10,701 : INFO : topic #12 (0.067): 0.054*\"com\" + 0.041*\"https\" + 0.037*\"www\" + 0.029*\"http\" + 0.022*\"https www\" + 0.015*\"http www\" + 0.011*\"ago\" + 0.010*\"youtube\" + 0.009*\"years\" + 0.009*\"watch\"\n",
      "2017-06-05 21:00:10,707 : INFO : topic diff=0.051010, rho=0.106600\n",
      "2017-06-05 21:00:10,734 : INFO : PROGRESS: pass 0, at document #178000/246175\n",
      "2017-06-05 21:00:12,280 : INFO : merging changes from 2000 documents into a model of 246175 documents\n",
      "2017-06-05 21:00:12,517 : INFO : topic #14 (0.067): 0.023*\"data\" + 0.017*\"like\" + 0.009*\"use\" + 0.008*\"type\" + 0.007*\"read\" + 0.006*\"used\" + 0.006*\"looks\" + 0.006*\"function\" + 0.005*\"case\" + 0.005*\"example\"\n",
      "2017-06-05 21:00:12,519 : INFO : topic #12 (0.067): 0.054*\"com\" + 0.040*\"https\" + 0.036*\"www\" + 0.029*\"http\" + 0.021*\"https www\" + 0.015*\"http www\" + 0.012*\"ago\" + 0.010*\"amazon\" + 0.010*\"years\" + 0.009*\"youtube\"\n",
      "2017-06-05 21:00:12,521 : INFO : topic #1 (0.067): 0.026*\"people\" + 0.012*\"don\" + 0.009*\"think\" + 0.008*\"doesn\" + 0.008*\"say\" + 0.007*\"point\" + 0.007*\"just\" + 0.006*\"know\" + 0.006*\"like\" + 0.006*\"mean\"\n",
      "2017-06-05 21:00:12,523 : INFO : topic #9 (0.067): 0.012*\"pay\" + 0.011*\"work\" + 0.011*\"money\" + 0.010*\"job\" + 0.009*\"year\" + 0.008*\"jobs\" + 0.007*\"people\" + 0.005*\"item\" + 0.005*\"news\" + 0.005*\"tax\"\n",
      "2017-06-05 21:00:12,526 : INFO : topic #5 (0.067): 0.024*\"https\" + 0.016*\"org\" + 0.011*\"wikipedia\" + 0.011*\"en\" + 0.010*\"github\" + 0.010*\"wiki\" + 0.009*\"com\" + 0.009*\"org wiki\" + 0.009*\"https en\" + 0.009*\"web\"\n",
      "2017-06-05 21:00:12,532 : INFO : topic diff=0.047973, rho=0.106000\n",
      "2017-06-05 21:00:16,958 : INFO : -9.516 per-word bound, 732.4 perplexity estimate based on a held-out corpus of 2000 documents with 69276 words\n",
      "2017-06-05 21:00:16,959 : INFO : PROGRESS: pass 0, at document #180000/246175\n",
      "2017-06-05 21:00:18,539 : INFO : merging changes from 2000 documents into a model of 246175 documents\n",
      "2017-06-05 21:00:18,785 : INFO : topic #5 (0.067): 0.024*\"https\" + 0.016*\"org\" + 0.012*\"wikipedia\" + 0.011*\"en\" + 0.010*\"wiki\" + 0.010*\"github\" + 0.009*\"org wiki\" + 0.009*\"com\" + 0.009*\"windows\" + 0.009*\"https en\"\n",
      "2017-06-05 21:00:18,787 : INFO : topic #12 (0.067): 0.053*\"com\" + 0.040*\"https\" + 0.036*\"www\" + 0.029*\"http\" + 0.021*\"https www\" + 0.015*\"http www\" + 0.012*\"ago\" + 0.010*\"amazon\" + 0.010*\"years\" + 0.008*\"youtube\"\n",
      "2017-06-05 21:00:18,789 : INFO : topic #4 (0.067): 0.010*\"life\" + 0.007*\"post\" + 0.007*\"people\" + 0.007*\"hn\" + 0.006*\"like\" + 0.005*\"social\" + 0.005*\"battery\" + 0.005*\"ve\" + 0.005*\"laptop\" + 0.005*\"search\"\n",
      "2017-06-05 21:00:18,791 : INFO : topic #9 (0.067): 0.012*\"pay\" + 0.012*\"work\" + 0.011*\"money\" + 0.010*\"job\" + 0.009*\"year\" + 0.008*\"jobs\" + 0.007*\"people\" + 0.006*\"tax\" + 0.006*\"item\" + 0.006*\"news\"\n",
      "2017-06-05 21:00:18,794 : INFO : topic #6 (0.067): 0.020*\"don\" + 0.018*\"just\" + 0.018*\"think\" + 0.015*\"like\" + 0.013*\"really\" + 0.013*\"people\" + 0.011*\"work\" + 0.009*\"need\" + 0.008*\"know\" + 0.008*\"way\"\n",
      "2017-06-05 21:00:18,801 : INFO : topic diff=0.045592, rho=0.105409\n",
      "2017-06-05 21:00:18,829 : INFO : PROGRESS: pass 0, at document #182000/246175\n",
      "2017-06-05 21:00:20,530 : INFO : merging changes from 2000 documents into a model of 246175 documents\n",
      "2017-06-05 21:00:20,768 : INFO : topic #3 (0.067): 0.011*\"use\" + 0.008*\"just\" + 0.007*\"user\" + 0.006*\"does\" + 0.006*\"want\" + 0.006*\"phone\" + 0.006*\"desktop\" + 0.005*\"account\" + 0.005*\"information\" + 0.004*\"don\"\n",
      "2017-06-05 21:00:20,770 : INFO : topic #7 (0.067): 0.009*\"women\" + 0.008*\"did\" + 0.007*\"war\" + 0.007*\"history\" + 0.005*\"chinese\" + 0.005*\"china\" + 0.004*\"coins\" + 0.004*\"author\" + 0.004*\"say\" + 0.004*\"read\"\n",
      "2017-06-05 21:00:20,772 : INFO : topic #12 (0.067): 0.054*\"com\" + 0.040*\"https\" + 0.036*\"www\" + 0.029*\"http\" + 0.021*\"https www\" + 0.015*\"http www\" + 0.012*\"ago\" + 0.010*\"amazon\" + 0.010*\"years\" + 0.008*\"youtube\"\n",
      "2017-06-05 21:00:20,775 : INFO : topic #11 (0.067): 0.005*\"energy\" + 0.005*\"power\" + 0.005*\"drug\" + 0.004*\"space\" + 0.004*\"air\" + 0.004*\"world\" + 0.004*\"nuclear\" + 0.004*\"global\" + 0.003*\"water\" + 0.003*\"food\"\n",
      "2017-06-05 21:00:20,777 : INFO : topic #2 (0.067): 0.021*\"google\" + 0.012*\"open\" + 0.009*\"product\" + 0.009*\"software\" + 0.008*\"don\" + 0.008*\"content\" + 0.008*\"users\" + 0.008*\"use\" + 0.008*\"facebook\" + 0.008*\"source\"\n",
      "2017-06-05 21:00:20,784 : INFO : topic diff=0.050037, rho=0.104828\n",
      "2017-06-05 21:00:20,808 : INFO : PROGRESS: pass 0, at document #184000/246175\n",
      "2017-06-05 21:00:22,385 : INFO : merging changes from 2000 documents into a model of 246175 documents\n",
      "2017-06-05 21:00:22,618 : INFO : topic #9 (0.067): 0.012*\"pay\" + 0.011*\"money\" + 0.011*\"work\" + 0.010*\"job\" + 0.009*\"year\" + 0.008*\"jobs\" + 0.007*\"people\" + 0.006*\"item\" + 0.005*\"tax\" + 0.005*\"id\"\n",
      "2017-06-05 21:00:22,621 : INFO : topic #10 (0.067): 0.020*\"code\" + 0.012*\"use\" + 0.008*\"language\" + 0.006*\"using\" + 0.005*\"write\" + 0.005*\"systems\" + 0.005*\"python\" + 0.004*\"build\" + 0.004*\"js\" + 0.004*\"rust\"\n",
      "2017-06-05 21:00:22,623 : INFO : topic #3 (0.067): 0.011*\"use\" + 0.008*\"just\" + 0.007*\"user\" + 0.006*\"does\" + 0.006*\"want\" + 0.006*\"phone\" + 0.006*\"desktop\" + 0.005*\"account\" + 0.005*\"information\" + 0.005*\"android\"\n",
      "2017-06-05 21:00:22,625 : INFO : topic #14 (0.067): 0.021*\"data\" + 0.016*\"like\" + 0.009*\"use\" + 0.009*\"type\" + 0.007*\"read\" + 0.007*\"used\" + 0.006*\"case\" + 0.006*\"function\" + 0.005*\"example\" + 0.005*\"looks\"\n",
      "2017-06-05 21:00:22,628 : INFO : topic #8 (0.067): 0.007*\"government\" + 0.007*\"law\" + 0.006*\"state\" + 0.006*\"right\" + 0.006*\"power\" + 0.005*\"people\" + 0.005*\"like\" + 0.005*\"bad\" + 0.005*\"political\" + 0.004*\"states\"\n",
      "2017-06-05 21:00:22,635 : INFO : topic diff=0.048410, rho=0.104257\n",
      "2017-06-05 21:00:22,661 : INFO : PROGRESS: pass 0, at document #186000/246175\n",
      "2017-06-05 21:00:24,180 : INFO : merging changes from 2000 documents into a model of 246175 documents\n",
      "2017-06-05 21:00:24,435 : INFO : topic #12 (0.067): 0.052*\"com\" + 0.039*\"https\" + 0.035*\"www\" + 0.028*\"http\" + 0.020*\"https www\" + 0.014*\"http www\" + 0.013*\"ago\" + 0.012*\"amazon\" + 0.010*\"years\" + 0.008*\"youtube\"\n",
      "2017-06-05 21:00:24,438 : INFO : topic #1 (0.067): 0.026*\"people\" + 0.012*\"don\" + 0.009*\"think\" + 0.009*\"doesn\" + 0.008*\"say\" + 0.007*\"point\" + 0.007*\"just\" + 0.007*\"know\" + 0.006*\"like\" + 0.006*\"mean\"\n",
      "2017-06-05 21:00:24,441 : INFO : topic #8 (0.067): 0.007*\"law\" + 0.007*\"government\" + 0.006*\"state\" + 0.006*\"right\" + 0.005*\"power\" + 0.005*\"people\" + 0.005*\"bad\" + 0.005*\"like\" + 0.005*\"political\" + 0.004*\"states\"\n",
      "2017-06-05 21:00:24,443 : INFO : topic #3 (0.067): 0.011*\"use\" + 0.008*\"just\" + 0.007*\"user\" + 0.006*\"does\" + 0.006*\"desktop\" + 0.006*\"want\" + 0.006*\"phone\" + 0.005*\"account\" + 0.005*\"information\" + 0.005*\"android\"\n",
      "2017-06-05 21:00:24,445 : INFO : topic #9 (0.067): 0.012*\"pay\" + 0.011*\"money\" + 0.011*\"work\" + 0.010*\"job\" + 0.009*\"year\" + 0.008*\"jobs\" + 0.007*\"people\" + 0.006*\"item\" + 0.005*\"id\" + 0.005*\"news\"\n",
      "2017-06-05 21:00:24,452 : INFO : topic diff=0.046490, rho=0.103695\n",
      "2017-06-05 21:00:24,479 : INFO : PROGRESS: pass 0, at document #188000/246175\n",
      "2017-06-05 21:00:25,895 : INFO : merging changes from 2000 documents into a model of 246175 documents\n",
      "2017-06-05 21:00:26,125 : INFO : topic #12 (0.067): 0.052*\"com\" + 0.040*\"https\" + 0.036*\"www\" + 0.029*\"http\" + 0.020*\"https www\" + 0.014*\"http www\" + 0.013*\"ago\" + 0.011*\"amazon\" + 0.010*\"years\" + 0.008*\"youtube\"\n",
      "2017-06-05 21:00:26,127 : INFO : topic #2 (0.067): 0.021*\"google\" + 0.012*\"open\" + 0.009*\"angular\" + 0.009*\"software\" + 0.008*\"users\" + 0.008*\"don\" + 0.008*\"product\" + 0.008*\"use\" + 0.008*\"source\" + 0.008*\"content\"\n",
      "2017-06-05 21:00:26,129 : INFO : topic #4 (0.067): 0.011*\"life\" + 0.008*\"post\" + 0.007*\"hn\" + 0.007*\"people\" + 0.006*\"like\" + 0.005*\"ve\" + 0.005*\"laptop\" + 0.005*\"social\" + 0.004*\"didn\" + 0.004*\"just\"\n",
      "2017-06-05 21:00:26,132 : INFO : topic #1 (0.067): 0.026*\"people\" + 0.012*\"don\" + 0.009*\"think\" + 0.009*\"doesn\" + 0.008*\"say\" + 0.007*\"point\" + 0.007*\"just\" + 0.007*\"know\" + 0.006*\"like\" + 0.006*\"mean\"\n",
      "2017-06-05 21:00:26,135 : INFO : topic #5 (0.067): 0.023*\"https\" + 0.015*\"org\" + 0.011*\"wikipedia\" + 0.010*\"windows\" + 0.010*\"apps\" + 0.010*\"en\" + 0.010*\"web\" + 0.010*\"app\" + 0.009*\"wiki\" + 0.009*\"github\"\n",
      "2017-06-05 21:00:26,142 : INFO : topic diff=0.045929, rho=0.103142\n",
      "2017-06-05 21:00:26,170 : INFO : PROGRESS: pass 0, at document #190000/246175\n",
      "2017-06-05 21:00:27,714 : INFO : merging changes from 2000 documents into a model of 246175 documents\n",
      "2017-06-05 21:00:27,948 : INFO : topic #10 (0.067): 0.020*\"code\" + 0.013*\"use\" + 0.008*\"language\" + 0.006*\"using\" + 0.006*\"js\" + 0.005*\"javascript\" + 0.005*\"write\" + 0.004*\"build\" + 0.004*\"systems\" + 0.004*\"python\"\n",
      "2017-06-05 21:00:27,950 : INFO : topic #7 (0.067): 0.007*\"did\" + 0.007*\"women\" + 0.007*\"history\" + 0.006*\"war\" + 0.005*\"chinese\" + 0.004*\"say\" + 0.004*\"china\" + 0.004*\"author\" + 0.004*\"read\" + 0.004*\"wasn\"\n",
      "2017-06-05 21:00:27,953 : INFO : topic #2 (0.067): 0.021*\"google\" + 0.011*\"open\" + 0.009*\"users\" + 0.009*\"don\" + 0.008*\"software\" + 0.008*\"use\" + 0.008*\"angular\" + 0.008*\"source\" + 0.008*\"product\" + 0.008*\"content\"\n",
      "2017-06-05 21:00:27,955 : INFO : topic #3 (0.067): 0.012*\"use\" + 0.008*\"just\" + 0.007*\"user\" + 0.006*\"does\" + 0.006*\"want\" + 0.006*\"desktop\" + 0.006*\"phone\" + 0.005*\"password\" + 0.005*\"account\" + 0.005*\"information\"\n",
      "2017-06-05 21:00:27,957 : INFO : topic #4 (0.067): 0.011*\"life\" + 0.008*\"post\" + 0.007*\"hn\" + 0.007*\"people\" + 0.006*\"like\" + 0.005*\"ve\" + 0.005*\"laptop\" + 0.005*\"privacy\" + 0.004*\"social\" + 0.004*\"didn\"\n",
      "2017-06-05 21:00:27,964 : INFO : topic diff=0.043890, rho=0.102598\n",
      "2017-06-05 21:00:27,992 : INFO : PROGRESS: pass 0, at document #192000/246175\n",
      "2017-06-05 21:00:29,521 : INFO : merging changes from 2000 documents into a model of 246175 documents\n",
      "2017-06-05 21:00:29,748 : INFO : topic #4 (0.067): 0.011*\"life\" + 0.007*\"post\" + 0.007*\"hn\" + 0.007*\"people\" + 0.006*\"like\" + 0.005*\"laptop\" + 0.005*\"ve\" + 0.005*\"battery\" + 0.004*\"privacy\" + 0.004*\"just\"\n",
      "2017-06-05 21:00:29,750 : INFO : topic #2 (0.067): 0.021*\"google\" + 0.011*\"open\" + 0.009*\"users\" + 0.009*\"don\" + 0.008*\"use\" + 0.008*\"software\" + 0.008*\"content\" + 0.008*\"source\" + 0.008*\"product\" + 0.007*\"make\"\n",
      "2017-06-05 21:00:29,753 : INFO : topic #6 (0.067): 0.020*\"don\" + 0.019*\"just\" + 0.017*\"think\" + 0.015*\"like\" + 0.014*\"really\" + 0.013*\"people\" + 0.011*\"work\" + 0.009*\"need\" + 0.008*\"know\" + 0.008*\"way\"\n",
      "2017-06-05 21:00:29,755 : INFO : topic #0 (0.067): 0.009*\"market\" + 0.008*\"business\" + 0.008*\"uber\" + 0.008*\"companies\" + 0.007*\"cost\" + 0.007*\"company\" + 0.007*\"people\" + 0.006*\"price\" + 0.006*\"tech\" + 0.005*\"car\"\n",
      "2017-06-05 21:00:29,758 : INFO : topic #14 (0.067): 0.020*\"data\" + 0.017*\"like\" + 0.009*\"use\" + 0.008*\"type\" + 0.007*\"used\" + 0.006*\"case\" + 0.006*\"read\" + 0.006*\"function\" + 0.005*\"looks\" + 0.005*\"example\"\n",
      "2017-06-05 21:00:29,766 : INFO : topic diff=0.043726, rho=0.102062\n",
      "2017-06-05 21:00:29,793 : INFO : PROGRESS: pass 0, at document #194000/246175\n",
      "2017-06-05 21:00:31,414 : INFO : merging changes from 2000 documents into a model of 246175 documents\n",
      "2017-06-05 21:00:31,638 : INFO : topic #7 (0.067): 0.007*\"did\" + 0.007*\"history\" + 0.006*\"women\" + 0.006*\"war\" + 0.005*\"chinese\" + 0.004*\"author\" + 0.004*\"coffee\" + 0.004*\"say\" + 0.004*\"china\" + 0.004*\"reddit\"\n",
      "2017-06-05 21:00:31,640 : INFO : topic #12 (0.067): 0.052*\"com\" + 0.040*\"https\" + 0.034*\"www\" + 0.028*\"http\" + 0.020*\"https www\" + 0.014*\"http www\" + 0.013*\"ago\" + 0.010*\"years\" + 0.009*\"amazon\" + 0.008*\"youtube\"\n",
      "2017-06-05 21:00:31,643 : INFO : topic #3 (0.067): 0.012*\"use\" + 0.008*\"just\" + 0.007*\"user\" + 0.006*\"does\" + 0.006*\"want\" + 0.006*\"desktop\" + 0.005*\"phone\" + 0.005*\"account\" + 0.005*\"information\" + 0.005*\"access\"\n",
      "2017-06-05 21:00:31,645 : INFO : topic #4 (0.067): 0.011*\"life\" + 0.008*\"hn\" + 0.007*\"post\" + 0.007*\"people\" + 0.006*\"like\" + 0.005*\"ve\" + 0.005*\"laptop\" + 0.005*\"social\" + 0.004*\"didn\" + 0.004*\"battery\"\n",
      "2017-06-05 21:00:31,647 : INFO : topic #0 (0.067): 0.009*\"market\" + 0.008*\"business\" + 0.008*\"uber\" + 0.008*\"companies\" + 0.007*\"cost\" + 0.007*\"people\" + 0.007*\"company\" + 0.006*\"price\" + 0.005*\"tech\" + 0.005*\"car\"\n",
      "2017-06-05 21:00:31,654 : INFO : topic diff=0.041966, rho=0.101535\n",
      "2017-06-05 21:00:31,679 : INFO : PROGRESS: pass 0, at document #196000/246175\n",
      "2017-06-05 21:00:33,114 : INFO : merging changes from 2000 documents into a model of 246175 documents\n",
      "2017-06-05 21:00:33,339 : INFO : topic #6 (0.067): 0.020*\"don\" + 0.019*\"just\" + 0.017*\"think\" + 0.016*\"like\" + 0.014*\"really\" + 0.012*\"people\" + 0.012*\"work\" + 0.009*\"need\" + 0.008*\"know\" + 0.008*\"time\"\n",
      "2017-06-05 21:00:33,341 : INFO : topic #13 (0.067): 0.014*\"problem\" + 0.013*\"time\" + 0.011*\"good\" + 0.009*\"things\" + 0.008*\"just\" + 0.007*\"ve\" + 0.006*\"lot\" + 0.006*\"problems\" + 0.006*\"better\" + 0.006*\"like\"\n",
      "2017-06-05 21:00:33,344 : INFO : topic #10 (0.067): 0.021*\"code\" + 0.012*\"use\" + 0.007*\"language\" + 0.006*\"using\" + 0.006*\"js\" + 0.005*\"javascript\" + 0.005*\"write\" + 0.004*\"build\" + 0.004*\"memory\" + 0.004*\"machine\"\n",
      "2017-06-05 21:00:33,346 : INFO : topic #12 (0.067): 0.051*\"com\" + 0.039*\"https\" + 0.034*\"www\" + 0.028*\"http\" + 0.020*\"https www\" + 0.014*\"http www\" + 0.013*\"ago\" + 0.010*\"years\" + 0.009*\"watch\" + 0.009*\"amazon\"\n",
      "2017-06-05 21:00:33,348 : INFO : topic #3 (0.067): 0.012*\"use\" + 0.008*\"just\" + 0.007*\"user\" + 0.006*\"does\" + 0.006*\"want\" + 0.006*\"desktop\" + 0.005*\"account\" + 0.005*\"netflix\" + 0.005*\"phone\" + 0.005*\"access\"\n",
      "2017-06-05 21:00:33,355 : INFO : topic diff=0.043676, rho=0.101015\n",
      "2017-06-05 21:00:33,380 : INFO : PROGRESS: pass 0, at document #198000/246175\n",
      "2017-06-05 21:00:34,853 : INFO : merging changes from 2000 documents into a model of 246175 documents\n",
      "2017-06-05 21:00:35,070 : INFO : topic #1 (0.067): 0.026*\"people\" + 0.013*\"don\" + 0.009*\"doesn\" + 0.009*\"think\" + 0.008*\"say\" + 0.007*\"point\" + 0.007*\"just\" + 0.007*\"know\" + 0.006*\"mean\" + 0.006*\"like\"\n",
      "2017-06-05 21:00:35,072 : INFO : topic #14 (0.067): 0.019*\"data\" + 0.017*\"like\" + 0.009*\"use\" + 0.008*\"type\" + 0.007*\"used\" + 0.007*\"case\" + 0.006*\"read\" + 0.006*\"looks\" + 0.005*\"example\" + 0.005*\"function\"\n",
      "2017-06-05 21:00:35,075 : INFO : topic #13 (0.067): 0.014*\"problem\" + 0.014*\"time\" + 0.011*\"good\" + 0.009*\"things\" + 0.008*\"just\" + 0.007*\"ve\" + 0.006*\"lot\" + 0.006*\"problems\" + 0.006*\"better\" + 0.006*\"like\"\n",
      "2017-06-05 21:00:35,077 : INFO : topic #0 (0.067): 0.010*\"market\" + 0.009*\"business\" + 0.008*\"cost\" + 0.007*\"companies\" + 0.007*\"price\" + 0.007*\"uber\" + 0.007*\"company\" + 0.006*\"people\" + 0.005*\"tech\" + 0.005*\"long\"\n",
      "2017-06-05 21:00:35,079 : INFO : topic #5 (0.067): 0.021*\"https\" + 0.015*\"org\" + 0.012*\"web\" + 0.011*\"windows\" + 0.011*\"browser\" + 0.009*\"wikipedia\" + 0.009*\"en\" + 0.009*\"use\" + 0.009*\"apps\" + 0.008*\"wiki\"\n",
      "2017-06-05 21:00:35,086 : INFO : topic diff=0.042630, rho=0.100504\n",
      "2017-06-05 21:00:38,790 : INFO : -9.510 per-word bound, 729.3 perplexity estimate based on a held-out corpus of 2000 documents with 62771 words\n",
      "2017-06-05 21:00:38,791 : INFO : PROGRESS: pass 0, at document #200000/246175\n",
      "2017-06-05 21:00:40,238 : INFO : merging changes from 2000 documents into a model of 246175 documents\n",
      "2017-06-05 21:00:40,460 : INFO : topic #2 (0.067): 0.018*\"google\" + 0.013*\"open\" + 0.013*\"content\" + 0.009*\"don\" + 0.009*\"users\" + 0.008*\"use\" + 0.008*\"product\" + 0.008*\"software\" + 0.008*\"drm\" + 0.008*\"free\"\n",
      "2017-06-05 21:00:40,461 : INFO : topic #12 (0.067): 0.052*\"com\" + 0.040*\"https\" + 0.034*\"www\" + 0.029*\"http\" + 0.019*\"https www\" + 0.014*\"http www\" + 0.012*\"ago\" + 0.010*\"years\" + 0.008*\"watch\" + 0.008*\"video\"\n",
      "2017-06-05 21:00:40,464 : INFO : topic #14 (0.067): 0.020*\"data\" + 0.017*\"like\" + 0.009*\"use\" + 0.008*\"type\" + 0.007*\"used\" + 0.007*\"case\" + 0.006*\"read\" + 0.006*\"looks\" + 0.005*\"example\" + 0.005*\"function\"\n",
      "2017-06-05 21:00:40,466 : INFO : topic #11 (0.067): 0.007*\"water\" + 0.006*\"energy\" + 0.005*\"power\" + 0.004*\"drug\" + 0.004*\"city\" + 0.004*\"food\" + 0.004*\"world\" + 0.003*\"large\" + 0.003*\"new\" + 0.003*\"space\"\n",
      "2017-06-05 21:00:40,468 : INFO : topic #3 (0.067): 0.012*\"use\" + 0.008*\"just\" + 0.007*\"user\" + 0.006*\"want\" + 0.006*\"does\" + 0.006*\"desktop\" + 0.006*\"account\" + 0.005*\"netflix\" + 0.005*\"phone\" + 0.005*\"access\"\n",
      "2017-06-05 21:00:40,475 : INFO : topic diff=0.038491, rho=0.100000\n",
      "2017-06-05 21:00:40,500 : INFO : PROGRESS: pass 0, at document #202000/246175\n",
      "2017-06-05 21:00:41,944 : INFO : merging changes from 2000 documents into a model of 246175 documents\n",
      "2017-06-05 21:00:42,167 : INFO : topic #11 (0.067): 0.006*\"water\" + 0.006*\"energy\" + 0.005*\"power\" + 0.004*\"drug\" + 0.004*\"city\" + 0.004*\"police\" + 0.004*\"world\" + 0.003*\"food\" + 0.003*\"space\" + 0.003*\"large\"\n",
      "2017-06-05 21:00:42,169 : INFO : topic #5 (0.067): 0.021*\"https\" + 0.015*\"org\" + 0.011*\"web\" + 0.011*\"windows\" + 0.010*\"browser\" + 0.009*\"wikipedia\" + 0.009*\"use\" + 0.009*\"apps\" + 0.009*\"en\" + 0.008*\"wiki\"\n",
      "2017-06-05 21:00:42,171 : INFO : topic #0 (0.067): 0.010*\"market\" + 0.009*\"business\" + 0.008*\"companies\" + 0.008*\"cost\" + 0.007*\"price\" + 0.007*\"company\" + 0.006*\"people\" + 0.006*\"uber\" + 0.005*\"car\" + 0.005*\"amazon\"\n",
      "2017-06-05 21:00:42,173 : INFO : topic #7 (0.067): 0.008*\"coffee\" + 0.007*\"did\" + 0.006*\"history\" + 0.005*\"women\" + 0.005*\"war\" + 0.005*\"patent\" + 0.004*\"author\" + 0.004*\"later\" + 0.004*\"say\" + 0.004*\"wasn\"\n",
      "2017-06-05 21:00:42,175 : INFO : topic #14 (0.067): 0.020*\"data\" + 0.017*\"like\" + 0.009*\"use\" + 0.008*\"type\" + 0.007*\"used\" + 0.007*\"case\" + 0.006*\"read\" + 0.006*\"looks\" + 0.005*\"example\" + 0.005*\"function\"\n",
      "2017-06-05 21:00:42,182 : INFO : topic diff=0.037358, rho=0.099504\n",
      "2017-06-05 21:00:42,207 : INFO : PROGRESS: pass 0, at document #204000/246175\n",
      "2017-06-05 21:00:43,634 : INFO : merging changes from 2000 documents into a model of 246175 documents\n",
      "2017-06-05 21:00:43,847 : INFO : topic #1 (0.067): 0.026*\"people\" + 0.012*\"don\" + 0.009*\"doesn\" + 0.009*\"think\" + 0.008*\"say\" + 0.007*\"just\" + 0.007*\"point\" + 0.007*\"know\" + 0.006*\"like\" + 0.006*\"mean\"\n",
      "2017-06-05 21:00:43,849 : INFO : topic #5 (0.067): 0.021*\"https\" + 0.015*\"org\" + 0.011*\"web\" + 0.010*\"windows\" + 0.010*\"browser\" + 0.009*\"wikipedia\" + 0.009*\"use\" + 0.009*\"apps\" + 0.009*\"en\" + 0.009*\"github\"\n",
      "2017-06-05 21:00:43,851 : INFO : topic #10 (0.067): 0.021*\"code\" + 0.012*\"use\" + 0.007*\"using\" + 0.007*\"language\" + 0.005*\"js\" + 0.005*\"performance\" + 0.005*\"write\" + 0.005*\"javascript\" + 0.004*\"memory\" + 0.004*\"machine\"\n",
      "2017-06-05 21:00:43,854 : INFO : topic #8 (0.067): 0.008*\"law\" + 0.007*\"government\" + 0.007*\"state\" + 0.006*\"right\" + 0.005*\"power\" + 0.005*\"people\" + 0.005*\"like\" + 0.005*\"bad\" + 0.004*\"political\" + 0.004*\"states\"\n",
      "2017-06-05 21:00:43,856 : INFO : topic #14 (0.067): 0.020*\"data\" + 0.016*\"like\" + 0.009*\"use\" + 0.008*\"type\" + 0.007*\"case\" + 0.007*\"used\" + 0.006*\"read\" + 0.006*\"looks\" + 0.005*\"example\" + 0.005*\"function\"\n",
      "2017-06-05 21:00:43,863 : INFO : topic diff=0.040043, rho=0.099015\n",
      "2017-06-05 21:00:43,887 : INFO : PROGRESS: pass 0, at document #206000/246175\n",
      "2017-06-05 21:00:45,385 : INFO : merging changes from 2000 documents into a model of 246175 documents\n",
      "2017-06-05 21:00:45,602 : INFO : topic #7 (0.067): 0.008*\"did\" + 0.007*\"coffee\" + 0.005*\"history\" + 0.005*\"women\" + 0.005*\"seller\" + 0.005*\"war\" + 0.004*\"later\" + 0.004*\"patent\" + 0.004*\"author\" + 0.004*\"wasn\"\n",
      "2017-06-05 21:00:45,605 : INFO : topic #13 (0.067): 0.015*\"time\" + 0.015*\"problem\" + 0.011*\"good\" + 0.009*\"things\" + 0.008*\"just\" + 0.008*\"ve\" + 0.007*\"lot\" + 0.006*\"problems\" + 0.006*\"years\" + 0.006*\"better\"\n",
      "2017-06-05 21:00:45,608 : INFO : topic #0 (0.067): 0.010*\"business\" + 0.010*\"market\" + 0.008*\"companies\" + 0.008*\"cost\" + 0.008*\"price\" + 0.008*\"company\" + 0.006*\"people\" + 0.006*\"amazon\" + 0.005*\"uber\" + 0.005*\"buy\"\n",
      "2017-06-05 21:00:45,611 : INFO : topic #2 (0.067): 0.017*\"google\" + 0.012*\"open\" + 0.011*\"content\" + 0.009*\"product\" + 0.009*\"don\" + 0.009*\"free\" + 0.008*\"use\" + 0.008*\"software\" + 0.008*\"users\" + 0.008*\"make\"\n",
      "2017-06-05 21:00:45,613 : INFO : topic #12 (0.067): 0.051*\"com\" + 0.039*\"https\" + 0.033*\"www\" + 0.028*\"http\" + 0.018*\"https www\" + 0.014*\"http www\" + 0.012*\"ago\" + 0.010*\"years\" + 0.009*\"amazon\" + 0.009*\"apple\"\n",
      "2017-06-05 21:00:45,620 : INFO : topic diff=0.037874, rho=0.098533\n",
      "2017-06-05 21:00:45,645 : INFO : PROGRESS: pass 0, at document #208000/246175\n",
      "2017-06-05 21:00:47,043 : INFO : merging changes from 2000 documents into a model of 246175 documents\n",
      "2017-06-05 21:00:47,251 : INFO : topic #12 (0.067): 0.051*\"com\" + 0.039*\"https\" + 0.033*\"www\" + 0.028*\"http\" + 0.019*\"https www\" + 0.013*\"http www\" + 0.012*\"ago\" + 0.010*\"ipad\" + 0.010*\"years\" + 0.010*\"apple\"\n",
      "2017-06-05 21:00:47,254 : INFO : topic #13 (0.067): 0.014*\"time\" + 0.014*\"problem\" + 0.011*\"good\" + 0.009*\"things\" + 0.008*\"ve\" + 0.008*\"just\" + 0.007*\"lot\" + 0.006*\"problems\" + 0.006*\"years\" + 0.006*\"better\"\n",
      "2017-06-05 21:00:47,256 : INFO : topic #4 (0.067): 0.010*\"life\" + 0.007*\"post\" + 0.007*\"pro\" + 0.007*\"hn\" + 0.006*\"like\" + 0.006*\"laptop\" + 0.006*\"people\" + 0.005*\"ve\" + 0.005*\"battery\" + 0.004*\"social\"\n",
      "2017-06-05 21:00:47,258 : INFO : topic #9 (0.067): 0.013*\"work\" + 0.013*\"pay\" + 0.012*\"money\" + 0.009*\"job\" + 0.008*\"year\" + 0.008*\"jobs\" + 0.008*\"people\" + 0.007*\"tax\" + 0.006*\"company\" + 0.006*\"item\"\n",
      "2017-06-05 21:00:47,260 : INFO : topic #0 (0.067): 0.010*\"business\" + 0.010*\"market\" + 0.008*\"companies\" + 0.008*\"company\" + 0.008*\"price\" + 0.008*\"cost\" + 0.006*\"people\" + 0.006*\"amazon\" + 0.005*\"uber\" + 0.005*\"car\"\n",
      "2017-06-05 21:00:47,267 : INFO : topic diff=0.037417, rho=0.098058\n",
      "2017-06-05 21:00:47,294 : INFO : PROGRESS: pass 0, at document #210000/246175\n",
      "2017-06-05 21:00:48,689 : INFO : merging changes from 2000 documents into a model of 246175 documents\n",
      "2017-06-05 21:00:48,896 : INFO : topic #3 (0.067): 0.012*\"use\" + 0.008*\"just\" + 0.007*\"password\" + 0.007*\"user\" + 0.006*\"phone\" + 0.006*\"does\" + 0.006*\"want\" + 0.006*\"desktop\" + 0.006*\"android\" + 0.005*\"account\"\n",
      "2017-06-05 21:00:48,898 : INFO : topic #10 (0.067): 0.021*\"code\" + 0.012*\"use\" + 0.007*\"language\" + 0.007*\"using\" + 0.005*\"write\" + 0.005*\"machine\" + 0.004*\"js\" + 0.004*\"memory\" + 0.004*\"time\" + 0.004*\"systems\"\n",
      "2017-06-05 21:00:48,900 : INFO : topic #4 (0.067): 0.010*\"life\" + 0.008*\"post\" + 0.007*\"hn\" + 0.007*\"laptop\" + 0.006*\"like\" + 0.006*\"pro\" + 0.006*\"people\" + 0.005*\"ve\" + 0.005*\"battery\" + 0.004*\"title\"\n",
      "2017-06-05 21:00:48,902 : INFO : topic #13 (0.067): 0.014*\"time\" + 0.014*\"problem\" + 0.011*\"good\" + 0.009*\"things\" + 0.008*\"ve\" + 0.007*\"just\" + 0.007*\"lot\" + 0.006*\"problems\" + 0.006*\"years\" + 0.006*\"better\"\n",
      "2017-06-05 21:00:48,904 : INFO : topic #9 (0.067): 0.013*\"work\" + 0.013*\"pay\" + 0.012*\"money\" + 0.009*\"job\" + 0.008*\"year\" + 0.008*\"tax\" + 0.008*\"people\" + 0.007*\"jobs\" + 0.006*\"company\" + 0.006*\"hours\"\n",
      "2017-06-05 21:00:48,911 : INFO : topic diff=0.040748, rho=0.097590\n",
      "2017-06-05 21:00:48,937 : INFO : PROGRESS: pass 0, at document #212000/246175\n",
      "2017-06-05 21:00:50,369 : INFO : merging changes from 2000 documents into a model of 246175 documents\n",
      "2017-06-05 21:00:50,574 : INFO : topic #6 (0.067): 0.020*\"don\" + 0.018*\"just\" + 0.017*\"think\" + 0.016*\"like\" + 0.014*\"really\" + 0.012*\"people\" + 0.012*\"work\" + 0.009*\"need\" + 0.009*\"way\" + 0.009*\"know\"\n",
      "2017-06-05 21:00:50,576 : INFO : topic #7 (0.067): 0.009*\"art\" + 0.008*\"did\" + 0.006*\"history\" + 0.005*\"coffee\" + 0.005*\"war\" + 0.005*\"author\" + 0.004*\"wasn\" + 0.004*\"patent\" + 0.004*\"later\" + 0.004*\"women\"\n",
      "2017-06-05 21:00:50,579 : INFO : topic #8 (0.067): 0.008*\"law\" + 0.008*\"government\" + 0.007*\"state\" + 0.006*\"right\" + 0.005*\"people\" + 0.005*\"like\" + 0.005*\"power\" + 0.005*\"states\" + 0.005*\"bad\" + 0.005*\"legal\"\n",
      "2017-06-05 21:00:50,581 : INFO : topic #10 (0.067): 0.020*\"code\" + 0.012*\"use\" + 0.007*\"language\" + 0.007*\"using\" + 0.006*\"write\" + 0.005*\"machine\" + 0.004*\"memory\" + 0.004*\"js\" + 0.004*\"time\" + 0.004*\"run\"\n",
      "2017-06-05 21:00:50,583 : INFO : topic #1 (0.067): 0.024*\"people\" + 0.012*\"don\" + 0.009*\"think\" + 0.009*\"doesn\" + 0.008*\"say\" + 0.007*\"know\" + 0.007*\"point\" + 0.007*\"just\" + 0.006*\"mean\" + 0.006*\"like\"\n",
      "2017-06-05 21:00:50,589 : INFO : topic diff=0.043364, rho=0.097129\n",
      "2017-06-05 21:00:50,614 : INFO : PROGRESS: pass 0, at document #214000/246175\n",
      "2017-06-05 21:00:52,137 : INFO : merging changes from 2000 documents into a model of 246175 documents\n",
      "2017-06-05 21:00:52,355 : INFO : topic #9 (0.067): 0.013*\"money\" + 0.013*\"pay\" + 0.012*\"work\" + 0.008*\"job\" + 0.008*\"people\" + 0.008*\"year\" + 0.008*\"tax\" + 0.008*\"insurance\" + 0.007*\"jobs\" + 0.006*\"uk\"\n",
      "2017-06-05 21:00:52,358 : INFO : topic #3 (0.067): 0.012*\"use\" + 0.008*\"just\" + 0.006*\"phone\" + 0.006*\"user\" + 0.006*\"does\" + 0.006*\"password\" + 0.006*\"want\" + 0.005*\"desktop\" + 0.005*\"information\" + 0.005*\"android\"\n",
      "2017-06-05 21:00:52,360 : INFO : topic #4 (0.067): 0.011*\"life\" + 0.007*\"post\" + 0.006*\"like\" + 0.006*\"hn\" + 0.006*\"people\" + 0.006*\"pro\" + 0.006*\"laptop\" + 0.005*\"ve\" + 0.005*\"battery\" + 0.004*\"didn\"\n",
      "2017-06-05 21:00:52,362 : INFO : topic #5 (0.067): 0.022*\"https\" + 0.015*\"org\" + 0.010*\"github\" + 0.010*\"wikipedia\" + 0.010*\"en\" + 0.010*\"windows\" + 0.009*\"wiki\" + 0.009*\"web\" + 0.009*\"use\" + 0.008*\"org wiki\"\n",
      "2017-06-05 21:00:52,364 : INFO : topic #7 (0.067): 0.008*\"art\" + 0.008*\"did\" + 0.005*\"history\" + 0.005*\"patent\" + 0.005*\"war\" + 0.005*\"coffee\" + 0.004*\"author\" + 0.004*\"patents\" + 0.004*\"wasn\" + 0.004*\"years\"\n",
      "2017-06-05 21:00:52,371 : INFO : topic diff=0.044127, rho=0.096674\n",
      "2017-06-05 21:00:52,399 : INFO : PROGRESS: pass 0, at document #216000/246175\n",
      "2017-06-05 21:00:53,944 : INFO : merging changes from 2000 documents into a model of 246175 documents\n",
      "2017-06-05 21:00:54,187 : INFO : topic #8 (0.067): 0.009*\"law\" + 0.007*\"government\" + 0.006*\"state\" + 0.006*\"right\" + 0.005*\"people\" + 0.005*\"power\" + 0.005*\"states\" + 0.005*\"bad\" + 0.005*\"like\" + 0.005*\"political\"\n",
      "2017-06-05 21:00:54,189 : INFO : topic #6 (0.067): 0.020*\"don\" + 0.018*\"just\" + 0.018*\"think\" + 0.016*\"like\" + 0.014*\"really\" + 0.012*\"people\" + 0.011*\"work\" + 0.009*\"need\" + 0.009*\"way\" + 0.009*\"know\"\n",
      "2017-06-05 21:00:54,192 : INFO : topic #7 (0.067): 0.008*\"art\" + 0.008*\"did\" + 0.008*\"patent\" + 0.007*\"patents\" + 0.005*\"history\" + 0.005*\"author\" + 0.005*\"war\" + 0.004*\"years\" + 0.004*\"coffee\" + 0.004*\"wasn\"\n",
      "2017-06-05 21:00:54,194 : INFO : topic #4 (0.067): 0.011*\"life\" + 0.008*\"post\" + 0.006*\"hn\" + 0.006*\"like\" + 0.006*\"people\" + 0.006*\"pro\" + 0.005*\"laptop\" + 0.005*\"ve\" + 0.005*\"appliances\" + 0.005*\"battery\"\n",
      "2017-06-05 21:00:54,197 : INFO : topic #3 (0.067): 0.012*\"use\" + 0.008*\"just\" + 0.006*\"does\" + 0.006*\"user\" + 0.006*\"phone\" + 0.006*\"want\" + 0.005*\"password\" + 0.005*\"information\" + 0.005*\"desktop\" + 0.005*\"account\"\n",
      "2017-06-05 21:00:54,206 : INFO : topic diff=0.040223, rho=0.096225\n",
      "2017-06-05 21:00:54,234 : INFO : PROGRESS: pass 0, at document #218000/246175\n",
      "2017-06-05 21:00:55,812 : INFO : merging changes from 2000 documents into a model of 246175 documents\n",
      "2017-06-05 21:00:56,035 : INFO : topic #4 (0.067): 0.011*\"life\" + 0.008*\"post\" + 0.007*\"hn\" + 0.006*\"like\" + 0.006*\"people\" + 0.005*\"pro\" + 0.005*\"ve\" + 0.005*\"laptop\" + 0.005*\"battery\" + 0.004*\"title\"\n",
      "2017-06-05 21:00:56,037 : INFO : topic #7 (0.067): 0.008*\"did\" + 0.008*\"art\" + 0.007*\"patent\" + 0.006*\"patents\" + 0.005*\"history\" + 0.005*\"war\" + 0.005*\"author\" + 0.004*\"years\" + 0.004*\"wasn\" + 0.004*\"later\"\n",
      "2017-06-05 21:00:56,039 : INFO : topic #13 (0.067): 0.014*\"time\" + 0.014*\"problem\" + 0.011*\"good\" + 0.009*\"things\" + 0.008*\"ai\" + 0.008*\"ve\" + 0.007*\"just\" + 0.007*\"years\" + 0.007*\"lot\" + 0.007*\"problems\"\n",
      "2017-06-05 21:00:56,042 : INFO : topic #14 (0.067): 0.023*\"data\" + 0.016*\"like\" + 0.009*\"use\" + 0.008*\"type\" + 0.007*\"case\" + 0.007*\"used\" + 0.006*\"looks\" + 0.006*\"read\" + 0.005*\"function\" + 0.005*\"example\"\n",
      "2017-06-05 21:00:56,044 : INFO : topic #11 (0.067): 0.007*\"energy\" + 0.006*\"water\" + 0.005*\"power\" + 0.004*\"new\" + 0.004*\"world\" + 0.004*\"food\" + 0.003*\"air\" + 0.003*\"drug\" + 0.003*\"police\" + 0.003*\"city\"\n",
      "2017-06-05 21:00:56,052 : INFO : topic diff=0.039108, rho=0.095783\n",
      "2017-06-05 21:01:00,479 : INFO : -9.450 per-word bound, 699.6 perplexity estimate based on a held-out corpus of 2000 documents with 78734 words\n",
      "2017-06-05 21:01:00,480 : INFO : PROGRESS: pass 0, at document #220000/246175\n",
      "2017-06-05 21:01:01,996 : INFO : merging changes from 2000 documents into a model of 246175 documents\n",
      "2017-06-05 21:01:02,204 : INFO : topic #4 (0.067): 0.011*\"life\" + 0.008*\"post\" + 0.007*\"hn\" + 0.006*\"like\" + 0.006*\"people\" + 0.005*\"ve\" + 0.005*\"pro\" + 0.005*\"laptop\" + 0.004*\"social\" + 0.004*\"battery\"\n",
      "2017-06-05 21:01:02,206 : INFO : topic #14 (0.067): 0.022*\"data\" + 0.016*\"like\" + 0.009*\"use\" + 0.008*\"type\" + 0.007*\"used\" + 0.007*\"case\" + 0.006*\"looks\" + 0.006*\"read\" + 0.005*\"function\" + 0.005*\"example\"\n",
      "2017-06-05 21:01:02,208 : INFO : topic #0 (0.067): 0.009*\"business\" + 0.009*\"market\" + 0.008*\"companies\" + 0.008*\"cost\" + 0.008*\"uber\" + 0.007*\"company\" + 0.007*\"price\" + 0.006*\"people\" + 0.005*\"buy\" + 0.005*\"car\"\n",
      "2017-06-05 21:01:02,210 : INFO : topic #13 (0.067): 0.014*\"time\" + 0.014*\"problem\" + 0.011*\"good\" + 0.009*\"things\" + 0.008*\"ve\" + 0.008*\"ai\" + 0.007*\"just\" + 0.007*\"problems\" + 0.007*\"years\" + 0.007*\"lot\"\n",
      "2017-06-05 21:01:02,212 : INFO : topic #9 (0.067): 0.013*\"money\" + 0.012*\"pay\" + 0.011*\"work\" + 0.009*\"people\" + 0.008*\"job\" + 0.008*\"year\" + 0.008*\"jobs\" + 0.007*\"insurance\" + 0.007*\"tax\" + 0.005*\"country\"\n",
      "2017-06-05 21:01:02,218 : INFO : topic diff=0.039229, rho=0.095346\n",
      "2017-06-05 21:01:02,243 : INFO : PROGRESS: pass 0, at document #222000/246175\n",
      "2017-06-05 21:01:03,703 : INFO : merging changes from 2000 documents into a model of 246175 documents\n",
      "2017-06-05 21:01:03,901 : INFO : topic #11 (0.067): 0.007*\"energy\" + 0.006*\"water\" + 0.005*\"power\" + 0.004*\"drug\" + 0.004*\"world\" + 0.004*\"new\" + 0.004*\"police\" + 0.004*\"city\" + 0.003*\"food\" + 0.003*\"air\"\n",
      "2017-06-05 21:01:03,903 : INFO : topic #5 (0.067): 0.022*\"https\" + 0.015*\"org\" + 0.015*\"windows\" + 0.012*\"wikipedia\" + 0.011*\"github\" + 0.010*\"en\" + 0.010*\"wiki\" + 0.009*\"use\" + 0.009*\"linux\" + 0.009*\"web\"\n",
      "2017-06-05 21:01:03,905 : INFO : topic #12 (0.067): 0.053*\"com\" + 0.039*\"https\" + 0.036*\"www\" + 0.028*\"http\" + 0.019*\"https www\" + 0.014*\"http www\" + 0.013*\"ago\" + 0.012*\"years\" + 0.009*\"apple\" + 0.008*\"news\"\n",
      "2017-06-05 21:01:03,907 : INFO : topic #3 (0.067): 0.012*\"use\" + 0.008*\"just\" + 0.006*\"does\" + 0.006*\"want\" + 0.006*\"user\" + 0.006*\"desktop\" + 0.005*\"phone\" + 0.005*\"information\" + 0.005*\"using\" + 0.005*\"access\"\n",
      "2017-06-05 21:01:03,909 : INFO : topic #14 (0.067): 0.022*\"data\" + 0.016*\"like\" + 0.009*\"use\" + 0.008*\"type\" + 0.007*\"used\" + 0.007*\"case\" + 0.006*\"looks\" + 0.006*\"read\" + 0.005*\"example\" + 0.005*\"function\"\n",
      "2017-06-05 21:01:03,917 : INFO : topic diff=0.035958, rho=0.094916\n",
      "2017-06-05 21:01:03,942 : INFO : PROGRESS: pass 0, at document #224000/246175\n",
      "2017-06-05 21:01:05,372 : INFO : merging changes from 2000 documents into a model of 246175 documents\n",
      "2017-06-05 21:01:05,568 : INFO : topic #5 (0.067): 0.022*\"https\" + 0.015*\"org\" + 0.014*\"windows\" + 0.011*\"wikipedia\" + 0.011*\"github\" + 0.010*\"en\" + 0.009*\"use\" + 0.009*\"wiki\" + 0.009*\"linux\" + 0.009*\"web\"\n",
      "2017-06-05 21:01:05,571 : INFO : topic #13 (0.067): 0.015*\"time\" + 0.014*\"problem\" + 0.011*\"good\" + 0.009*\"things\" + 0.008*\"ve\" + 0.007*\"ai\" + 0.007*\"just\" + 0.007*\"problems\" + 0.007*\"lot\" + 0.007*\"years\"\n",
      "2017-06-05 21:01:05,572 : INFO : topic #14 (0.067): 0.021*\"data\" + 0.016*\"like\" + 0.009*\"use\" + 0.008*\"type\" + 0.007*\"used\" + 0.007*\"case\" + 0.006*\"looks\" + 0.006*\"read\" + 0.005*\"example\" + 0.005*\"function\"\n",
      "2017-06-05 21:01:05,574 : INFO : topic #12 (0.067): 0.054*\"com\" + 0.040*\"https\" + 0.037*\"www\" + 0.029*\"http\" + 0.019*\"https www\" + 0.015*\"http www\" + 0.013*\"ago\" + 0.011*\"years\" + 0.009*\"apple\" + 0.008*\"news\"\n",
      "2017-06-05 21:01:05,576 : INFO : topic #4 (0.067): 0.011*\"life\" + 0.008*\"hn\" + 0.008*\"post\" + 0.006*\"like\" + 0.006*\"people\" + 0.006*\"pro\" + 0.005*\"ve\" + 0.005*\"laptop\" + 0.004*\"social\" + 0.004*\"title\"\n",
      "2017-06-05 21:01:05,582 : INFO : topic diff=0.033820, rho=0.094491\n",
      "2017-06-05 21:01:05,606 : INFO : PROGRESS: pass 0, at document #226000/246175\n",
      "2017-06-05 21:01:07,023 : INFO : merging changes from 2000 documents into a model of 246175 documents\n",
      "2017-06-05 21:01:07,221 : INFO : topic #4 (0.067): 0.011*\"life\" + 0.008*\"post\" + 0.008*\"hn\" + 0.006*\"like\" + 0.006*\"people\" + 0.005*\"pro\" + 0.005*\"ve\" + 0.005*\"social\" + 0.004*\"title\" + 0.004*\"didn\"\n",
      "2017-06-05 21:01:07,223 : INFO : topic #11 (0.067): 0.008*\"water\" + 0.006*\"energy\" + 0.005*\"city\" + 0.004*\"food\" + 0.004*\"power\" + 0.004*\"world\" + 0.004*\"new\" + 0.003*\"drug\" + 0.003*\"space\" + 0.003*\"police\"\n",
      "2017-06-05 21:01:07,225 : INFO : topic #7 (0.067): 0.008*\"did\" + 0.007*\"art\" + 0.005*\"history\" + 0.005*\"war\" + 0.005*\"japanese\" + 0.005*\"patent\" + 0.004*\"author\" + 0.004*\"patents\" + 0.004*\"later\" + 0.004*\"wasn\"\n",
      "2017-06-05 21:01:07,227 : INFO : topic #12 (0.067): 0.054*\"com\" + 0.040*\"https\" + 0.037*\"www\" + 0.029*\"http\" + 0.019*\"https www\" + 0.015*\"http www\" + 0.013*\"ago\" + 0.011*\"years\" + 0.008*\"apple\" + 0.008*\"news\"\n",
      "2017-06-05 21:01:07,229 : INFO : topic #3 (0.067): 0.012*\"use\" + 0.008*\"just\" + 0.006*\"does\" + 0.006*\"user\" + 0.006*\"want\" + 0.006*\"desktop\" + 0.005*\"bike\" + 0.005*\"information\" + 0.005*\"phone\" + 0.005*\"access\"\n",
      "2017-06-05 21:01:07,236 : INFO : topic diff=0.032003, rho=0.094072\n",
      "2017-06-05 21:01:07,258 : INFO : PROGRESS: pass 0, at document #228000/246175\n",
      "2017-06-05 21:01:08,723 : INFO : merging changes from 2000 documents into a model of 246175 documents\n",
      "2017-06-05 21:01:08,916 : INFO : topic #4 (0.067): 0.011*\"life\" + 0.008*\"post\" + 0.007*\"hn\" + 0.006*\"like\" + 0.006*\"people\" + 0.005*\"ve\" + 0.005*\"pro\" + 0.005*\"social\" + 0.004*\"title\" + 0.004*\"didn\"\n",
      "2017-06-05 21:01:08,918 : INFO : topic #14 (0.067): 0.023*\"data\" + 0.016*\"like\" + 0.009*\"use\" + 0.007*\"type\" + 0.007*\"used\" + 0.007*\"case\" + 0.006*\"looks\" + 0.006*\"read\" + 0.005*\"example\" + 0.005*\"function\"\n",
      "2017-06-05 21:01:08,920 : INFO : topic #12 (0.067): 0.054*\"com\" + 0.040*\"https\" + 0.037*\"www\" + 0.029*\"http\" + 0.019*\"https www\" + 0.015*\"http www\" + 0.013*\"ago\" + 0.011*\"years\" + 0.008*\"apple\" + 0.008*\"news\"\n",
      "2017-06-05 21:01:08,922 : INFO : topic #0 (0.067): 0.009*\"business\" + 0.009*\"market\" + 0.008*\"cost\" + 0.008*\"companies\" + 0.007*\"company\" + 0.007*\"price\" + 0.006*\"people\" + 0.006*\"uber\" + 0.005*\"long\" + 0.005*\"buy\"\n",
      "2017-06-05 21:01:08,925 : INFO : topic #10 (0.067): 0.018*\"code\" + 0.013*\"use\" + 0.007*\"language\" + 0.007*\"using\" + 0.005*\"machine\" + 0.005*\"memory\" + 0.005*\"write\" + 0.004*\"systems\" + 0.004*\"build\" + 0.004*\"used\"\n",
      "2017-06-05 21:01:08,932 : INFO : topic diff=0.038464, rho=0.093659\n",
      "2017-06-05 21:01:08,956 : INFO : PROGRESS: pass 0, at document #230000/246175\n",
      "2017-06-05 21:01:10,424 : INFO : merging changes from 2000 documents into a model of 246175 documents\n",
      "2017-06-05 21:01:10,616 : INFO : topic #4 (0.067): 0.011*\"life\" + 0.008*\"post\" + 0.007*\"hn\" + 0.006*\"like\" + 0.006*\"people\" + 0.005*\"ve\" + 0.005*\"social\" + 0.005*\"pro\" + 0.004*\"title\" + 0.004*\"didn\"\n",
      "2017-06-05 21:01:10,618 : INFO : topic #1 (0.067): 0.026*\"people\" + 0.012*\"don\" + 0.009*\"doesn\" + 0.009*\"think\" + 0.008*\"say\" + 0.007*\"point\" + 0.007*\"just\" + 0.007*\"does\" + 0.007*\"mean\" + 0.007*\"know\"\n",
      "2017-06-05 21:01:10,621 : INFO : topic #11 (0.067): 0.008*\"water\" + 0.006*\"energy\" + 0.005*\"city\" + 0.004*\"food\" + 0.004*\"power\" + 0.004*\"new\" + 0.004*\"world\" + 0.003*\"air\" + 0.003*\"drug\" + 0.003*\"space\"\n",
      "2017-06-05 21:01:10,623 : INFO : topic #9 (0.067): 0.013*\"money\" + 0.012*\"pay\" + 0.011*\"work\" + 0.009*\"people\" + 0.008*\"job\" + 0.008*\"jobs\" + 0.007*\"year\" + 0.007*\"tax\" + 0.005*\"item\" + 0.005*\"living\"\n",
      "2017-06-05 21:01:10,625 : INFO : topic #0 (0.067): 0.009*\"business\" + 0.009*\"market\" + 0.008*\"cost\" + 0.008*\"companies\" + 0.007*\"company\" + 0.007*\"price\" + 0.006*\"people\" + 0.005*\"uber\" + 0.005*\"long\" + 0.005*\"buy\"\n",
      "2017-06-05 21:01:10,631 : INFO : topic diff=0.030996, rho=0.093250\n",
      "2017-06-05 21:01:10,653 : INFO : PROGRESS: pass 0, at document #232000/246175\n",
      "2017-06-05 21:01:12,100 : INFO : merging changes from 2000 documents into a model of 246175 documents\n",
      "2017-06-05 21:01:12,293 : INFO : topic #9 (0.067): 0.013*\"money\" + 0.012*\"pay\" + 0.011*\"work\" + 0.009*\"people\" + 0.009*\"job\" + 0.009*\"jobs\" + 0.007*\"year\" + 0.006*\"tax\" + 0.005*\"item\" + 0.005*\"living\"\n",
      "2017-06-05 21:01:12,295 : INFO : topic #7 (0.067): 0.008*\"did\" + 0.007*\"war\" + 0.007*\"patent\" + 0.006*\"art\" + 0.006*\"history\" + 0.005*\"patents\" + 0.004*\"japanese\" + 0.004*\"author\" + 0.004*\"women\" + 0.004*\"later\"\n",
      "2017-06-05 21:01:12,297 : INFO : topic #13 (0.067): 0.015*\"time\" + 0.013*\"problem\" + 0.011*\"good\" + 0.011*\"game\" + 0.008*\"things\" + 0.008*\"ve\" + 0.008*\"games\" + 0.007*\"just\" + 0.007*\"lot\" + 0.007*\"ai\"\n",
      "2017-06-05 21:01:12,299 : INFO : topic #12 (0.067): 0.052*\"com\" + 0.040*\"https\" + 0.036*\"www\" + 0.028*\"http\" + 0.019*\"https www\" + 0.015*\"http www\" + 0.013*\"ago\" + 0.011*\"years\" + 0.009*\"video\" + 0.009*\"watch\"\n",
      "2017-06-05 21:01:12,301 : INFO : topic #2 (0.067): 0.017*\"google\" + 0.011*\"open\" + 0.011*\"free\" + 0.009*\"don\" + 0.009*\"software\" + 0.009*\"product\" + 0.008*\"users\" + 0.008*\"content\" + 0.008*\"source\" + 0.008*\"use\"\n",
      "2017-06-05 21:01:12,307 : INFO : topic diff=0.030006, rho=0.092848\n",
      "2017-06-05 21:01:12,330 : INFO : PROGRESS: pass 0, at document #234000/246175\n",
      "2017-06-05 21:01:13,831 : INFO : merging changes from 2000 documents into a model of 246175 documents\n",
      "2017-06-05 21:01:14,022 : INFO : topic #11 (0.067): 0.007*\"water\" + 0.006*\"energy\" + 0.005*\"power\" + 0.005*\"air\" + 0.004*\"city\" + 0.004*\"food\" + 0.004*\"police\" + 0.003*\"world\" + 0.003*\"new\" + 0.003*\"drug\"\n",
      "2017-06-05 21:01:14,024 : INFO : topic #6 (0.067): 0.020*\"don\" + 0.018*\"just\" + 0.017*\"think\" + 0.017*\"like\" + 0.014*\"really\" + 0.012*\"people\" + 0.011*\"work\" + 0.009*\"need\" + 0.009*\"way\" + 0.008*\"time\"\n",
      "2017-06-05 21:01:14,025 : INFO : topic #9 (0.067): 0.013*\"money\" + 0.012*\"pay\" + 0.011*\"work\" + 0.009*\"job\" + 0.009*\"people\" + 0.008*\"jobs\" + 0.007*\"year\" + 0.006*\"tax\" + 0.005*\"item\" + 0.005*\"income\"\n",
      "2017-06-05 21:01:14,028 : INFO : topic #2 (0.067): 0.019*\"google\" + 0.012*\"open\" + 0.010*\"free\" + 0.009*\"software\" + 0.009*\"don\" + 0.009*\"source\" + 0.009*\"product\" + 0.008*\"users\" + 0.008*\"content\" + 0.008*\"use\"\n",
      "2017-06-05 21:01:14,030 : INFO : topic #7 (0.067): 0.008*\"did\" + 0.007*\"war\" + 0.006*\"patent\" + 0.006*\"history\" + 0.006*\"art\" + 0.005*\"patents\" + 0.004*\"author\" + 0.004*\"japanese\" + 0.004*\"later\" + 0.004*\"wasn\"\n",
      "2017-06-05 21:01:14,036 : INFO : topic diff=0.035638, rho=0.092450\n",
      "2017-06-05 21:01:14,060 : INFO : PROGRESS: pass 0, at document #236000/246175\n",
      "2017-06-05 21:01:15,521 : INFO : merging changes from 2000 documents into a model of 246175 documents\n",
      "2017-06-05 21:01:15,716 : INFO : topic #7 (0.067): 0.008*\"did\" + 0.007*\"war\" + 0.007*\"history\" + 0.006*\"patent\" + 0.005*\"art\" + 0.004*\"patents\" + 0.004*\"later\" + 0.004*\"author\" + 0.004*\"japanese\" + 0.004*\"wasn\"\n",
      "2017-06-05 21:01:15,718 : INFO : topic #12 (0.067): 0.051*\"com\" + 0.039*\"https\" + 0.035*\"www\" + 0.028*\"http\" + 0.019*\"https www\" + 0.015*\"http www\" + 0.012*\"ago\" + 0.011*\"years\" + 0.009*\"video\" + 0.008*\"news\"\n",
      "2017-06-05 21:01:15,720 : INFO : topic #3 (0.067): 0.013*\"use\" + 0.008*\"just\" + 0.007*\"information\" + 0.006*\"user\" + 0.006*\"want\" + 0.006*\"does\" + 0.006*\"access\" + 0.005*\"phone\" + 0.004*\"using\" + 0.004*\"desktop\"\n",
      "2017-06-05 21:01:15,722 : INFO : topic #14 (0.067): 0.025*\"data\" + 0.016*\"like\" + 0.010*\"use\" + 0.007*\"type\" + 0.007*\"used\" + 0.006*\"case\" + 0.006*\"read\" + 0.006*\"looks\" + 0.005*\"example\" + 0.005*\"function\"\n",
      "2017-06-05 21:01:15,724 : INFO : topic #1 (0.067): 0.026*\"people\" + 0.011*\"don\" + 0.009*\"doesn\" + 0.009*\"think\" + 0.008*\"say\" + 0.007*\"point\" + 0.007*\"just\" + 0.007*\"know\" + 0.007*\"does\" + 0.006*\"mean\"\n",
      "2017-06-05 21:01:15,731 : INFO : topic diff=0.031186, rho=0.092057\n",
      "2017-06-05 21:01:15,754 : INFO : PROGRESS: pass 0, at document #238000/246175\n",
      "2017-06-05 21:01:17,178 : INFO : merging changes from 2000 documents into a model of 246175 documents\n",
      "2017-06-05 21:01:17,376 : INFO : topic #7 (0.067): 0.008*\"did\" + 0.007*\"war\" + 0.007*\"history\" + 0.006*\"patent\" + 0.005*\"art\" + 0.004*\"japanese\" + 0.004*\"author\" + 0.004*\"later\" + 0.004*\"patents\" + 0.004*\"wasn\"\n",
      "2017-06-05 21:01:17,378 : INFO : topic #5 (0.067): 0.023*\"https\" + 0.016*\"org\" + 0.013*\"windows\" + 0.012*\"wikipedia\" + 0.012*\"github\" + 0.010*\"en\" + 0.010*\"wiki\" + 0.009*\"use\" + 0.009*\"web\" + 0.009*\"org wiki\"\n",
      "2017-06-05 21:01:17,381 : INFO : topic #10 (0.067): 0.019*\"code\" + 0.013*\"use\" + 0.007*\"using\" + 0.007*\"language\" + 0.005*\"write\" + 0.005*\"machine\" + 0.005*\"memory\" + 0.004*\"systems\" + 0.004*\"build\" + 0.004*\"time\"\n",
      "2017-06-05 21:01:17,383 : INFO : topic #11 (0.067): 0.006*\"water\" + 0.006*\"energy\" + 0.005*\"police\" + 0.005*\"power\" + 0.004*\"air\" + 0.004*\"city\" + 0.004*\"food\" + 0.004*\"world\" + 0.003*\"space\" + 0.003*\"new\"\n",
      "2017-06-05 21:01:17,385 : INFO : topic #9 (0.067): 0.014*\"money\" + 0.013*\"pay\" + 0.011*\"work\" + 0.009*\"job\" + 0.009*\"people\" + 0.008*\"jobs\" + 0.007*\"year\" + 0.007*\"tax\" + 0.005*\"income\" + 0.005*\"living\"\n",
      "2017-06-05 21:01:17,392 : INFO : topic diff=0.030586, rho=0.091670\n",
      "2017-06-05 21:01:21,595 : INFO : -9.430 per-word bound, 689.7 perplexity estimate based on a held-out corpus of 2000 documents with 69877 words\n",
      "2017-06-05 21:01:21,596 : INFO : PROGRESS: pass 0, at document #240000/246175\n",
      "2017-06-05 21:01:23,055 : INFO : merging changes from 2000 documents into a model of 246175 documents\n",
      "2017-06-05 21:01:23,243 : INFO : topic #13 (0.067): 0.015*\"time\" + 0.014*\"problem\" + 0.011*\"good\" + 0.009*\"ve\" + 0.009*\"game\" + 0.009*\"things\" + 0.007*\"just\" + 0.007*\"problems\" + 0.007*\"lot\" + 0.006*\"better\"\n",
      "2017-06-05 21:01:23,246 : INFO : topic #10 (0.067): 0.019*\"code\" + 0.014*\"use\" + 0.007*\"language\" + 0.007*\"using\" + 0.005*\"write\" + 0.005*\"memory\" + 0.004*\"machine\" + 0.004*\"systems\" + 0.004*\"java\" + 0.004*\"run\"\n",
      "2017-06-05 21:01:23,248 : INFO : topic #2 (0.067): 0.020*\"google\" + 0.011*\"open\" + 0.010*\"free\" + 0.009*\"don\" + 0.009*\"content\" + 0.009*\"source\" + 0.008*\"software\" + 0.008*\"make\" + 0.008*\"product\" + 0.008*\"use\"\n",
      "2017-06-05 21:01:23,251 : INFO : topic #11 (0.067): 0.006*\"water\" + 0.006*\"energy\" + 0.005*\"police\" + 0.005*\"power\" + 0.004*\"air\" + 0.004*\"food\" + 0.004*\"city\" + 0.004*\"world\" + 0.003*\"space\" + 0.003*\"new\"\n",
      "2017-06-05 21:01:23,253 : INFO : topic #12 (0.067): 0.052*\"com\" + 0.039*\"https\" + 0.035*\"www\" + 0.029*\"http\" + 0.018*\"https www\" + 0.015*\"http www\" + 0.013*\"ago\" + 0.011*\"years\" + 0.009*\"video\" + 0.008*\"watch\"\n",
      "2017-06-05 21:01:23,260 : INFO : topic diff=0.032567, rho=0.091287\n",
      "2017-06-05 21:01:23,282 : INFO : PROGRESS: pass 0, at document #242000/246175\n",
      "2017-06-05 21:01:24,757 : INFO : merging changes from 2000 documents into a model of 246175 documents\n",
      "2017-06-05 21:01:24,945 : INFO : topic #8 (0.067): 0.009*\"law\" + 0.008*\"government\" + 0.006*\"right\" + 0.006*\"state\" + 0.006*\"people\" + 0.005*\"trump\" + 0.005*\"bad\" + 0.005*\"power\" + 0.005*\"like\" + 0.004*\"states\"\n",
      "2017-06-05 21:01:24,947 : INFO : topic #0 (0.067): 0.009*\"uber\" + 0.008*\"market\" + 0.008*\"cost\" + 0.008*\"business\" + 0.008*\"company\" + 0.007*\"companies\" + 0.007*\"price\" + 0.007*\"car\" + 0.006*\"people\" + 0.005*\"tip\"\n",
      "2017-06-05 21:01:24,949 : INFO : topic #2 (0.067): 0.020*\"google\" + 0.011*\"open\" + 0.010*\"free\" + 0.009*\"content\" + 0.009*\"don\" + 0.008*\"source\" + 0.008*\"product\" + 0.008*\"software\" + 0.008*\"users\" + 0.008*\"make\"\n",
      "2017-06-05 21:01:24,951 : INFO : topic #1 (0.067): 0.026*\"people\" + 0.012*\"don\" + 0.009*\"think\" + 0.009*\"doesn\" + 0.008*\"say\" + 0.007*\"point\" + 0.007*\"just\" + 0.007*\"know\" + 0.007*\"mean\" + 0.006*\"does\"\n",
      "2017-06-05 21:01:24,953 : INFO : topic #6 (0.067): 0.020*\"don\" + 0.018*\"just\" + 0.018*\"like\" + 0.017*\"think\" + 0.015*\"really\" + 0.012*\"people\" + 0.010*\"work\" + 0.009*\"need\" + 0.009*\"way\" + 0.008*\"know\"\n",
      "2017-06-05 21:01:24,959 : INFO : topic diff=0.033995, rho=0.090909\n",
      "2017-06-05 21:01:24,982 : INFO : PROGRESS: pass 0, at document #244000/246175\n",
      "2017-06-05 21:01:26,440 : INFO : merging changes from 2000 documents into a model of 246175 documents\n",
      "2017-06-05 21:01:26,644 : INFO : topic #3 (0.067): 0.012*\"use\" + 0.008*\"just\" + 0.007*\"information\" + 0.006*\"user\" + 0.006*\"want\" + 0.006*\"does\" + 0.005*\"access\" + 0.005*\"phone\" + 0.005*\"using\" + 0.005*\"service\"\n",
      "2017-06-05 21:01:26,646 : INFO : topic #9 (0.067): 0.014*\"pay\" + 0.013*\"money\" + 0.010*\"work\" + 0.010*\"job\" + 0.009*\"people\" + 0.008*\"year\" + 0.007*\"jobs\" + 0.007*\"tax\" + 0.005*\"item\" + 0.005*\"income\"\n",
      "2017-06-05 21:01:26,649 : INFO : topic #10 (0.067): 0.020*\"code\" + 0.014*\"use\" + 0.007*\"language\" + 0.006*\"using\" + 0.006*\"write\" + 0.005*\"java\" + 0.004*\"memory\" + 0.004*\"systems\" + 0.004*\"run\" + 0.004*\"machine\"\n",
      "2017-06-05 21:01:26,651 : INFO : topic #11 (0.067): 0.006*\"water\" + 0.005*\"energy\" + 0.005*\"power\" + 0.004*\"police\" + 0.004*\"food\" + 0.004*\"city\" + 0.004*\"fiber\" + 0.004*\"air\" + 0.004*\"world\" + 0.003*\"space\"\n",
      "2017-06-05 21:01:26,653 : INFO : topic #7 (0.067): 0.008*\"did\" + 0.007*\"war\" + 0.006*\"history\" + 0.005*\"patent\" + 0.005*\"author\" + 0.005*\"later\" + 0.005*\"art\" + 0.004*\"corp\" + 0.004*\"wasn\" + 0.004*\"read\"\n",
      "2017-06-05 21:01:26,660 : INFO : topic diff=0.028306, rho=0.090536\n",
      "2017-06-05 21:01:26,686 : INFO : PROGRESS: pass 0, at document #246000/246175\n",
      "2017-06-05 21:01:28,173 : INFO : merging changes from 2000 documents into a model of 246175 documents\n",
      "2017-06-05 21:01:28,361 : INFO : topic #8 (0.067): 0.009*\"law\" + 0.008*\"government\" + 0.007*\"right\" + 0.006*\"state\" + 0.006*\"people\" + 0.005*\"trump\" + 0.005*\"power\" + 0.005*\"bad\" + 0.005*\"like\" + 0.005*\"legal\"\n",
      "2017-06-05 21:01:28,363 : INFO : topic #3 (0.067): 0.012*\"use\" + 0.008*\"just\" + 0.007*\"information\" + 0.006*\"user\" + 0.006*\"traffic\" + 0.006*\"does\" + 0.006*\"want\" + 0.005*\"access\" + 0.005*\"phone\" + 0.005*\"using\"\n",
      "2017-06-05 21:01:28,366 : INFO : topic #0 (0.067): 0.009*\"uber\" + 0.008*\"company\" + 0.008*\"market\" + 0.008*\"companies\" + 0.008*\"cost\" + 0.008*\"business\" + 0.006*\"price\" + 0.006*\"car\" + 0.006*\"people\" + 0.005*\"long\"\n",
      "2017-06-05 21:01:28,368 : INFO : topic #13 (0.067): 0.015*\"time\" + 0.014*\"problem\" + 0.012*\"good\" + 0.009*\"ve\" + 0.009*\"game\" + 0.008*\"things\" + 0.007*\"just\" + 0.007*\"problems\" + 0.007*\"lot\" + 0.006*\"better\"\n",
      "2017-06-05 21:01:28,370 : INFO : topic #11 (0.067): 0.006*\"water\" + 0.005*\"light\" + 0.005*\"energy\" + 0.005*\"power\" + 0.004*\"food\" + 0.004*\"police\" + 0.004*\"city\" + 0.004*\"fiber\" + 0.004*\"air\" + 0.004*\"world\"\n",
      "2017-06-05 21:01:28,377 : INFO : topic diff=0.032446, rho=0.090167\n",
      "2017-06-05 21:01:28,846 : INFO : -9.446 per-word bound, 697.5 perplexity estimate based on a held-out corpus of 175 documents with 6007 words\n",
      "2017-06-05 21:01:28,846 : INFO : PROGRESS: pass 0, at document #246175/246175\n",
      "2017-06-05 21:01:28,985 : INFO : merging changes from 175 documents into a model of 246175 documents\n",
      "2017-06-05 21:01:29,173 : INFO : topic #14 (0.067): 0.023*\"data\" + 0.017*\"like\" + 0.010*\"use\" + 0.008*\"type\" + 0.007*\"case\" + 0.007*\"used\" + 0.007*\"read\" + 0.006*\"looks\" + 0.006*\"types\" + 0.005*\"example\"\n",
      "2017-06-05 21:01:29,176 : INFO : topic #6 (0.067): 0.021*\"don\" + 0.018*\"just\" + 0.018*\"think\" + 0.017*\"like\" + 0.015*\"really\" + 0.012*\"people\" + 0.010*\"work\" + 0.009*\"need\" + 0.009*\"know\" + 0.008*\"way\"\n",
      "2017-06-05 21:01:29,178 : INFO : topic #4 (0.067): 0.011*\"life\" + 0.008*\"post\" + 0.007*\"like\" + 0.006*\"hn\" + 0.006*\"people\" + 0.006*\"ve\" + 0.006*\"social\" + 0.005*\"title\" + 0.004*\"friends\" + 0.004*\"didn\"\n",
      "2017-06-05 21:01:29,180 : INFO : topic #1 (0.067): 0.025*\"people\" + 0.012*\"don\" + 0.009*\"think\" + 0.008*\"doesn\" + 0.008*\"say\" + 0.007*\"mean\" + 0.007*\"just\" + 0.007*\"point\" + 0.007*\"know\" + 0.007*\"does\"\n",
      "2017-06-05 21:01:29,182 : INFO : topic #8 (0.067): 0.009*\"government\" + 0.009*\"law\" + 0.007*\"right\" + 0.006*\"state\" + 0.006*\"power\" + 0.005*\"people\" + 0.005*\"trump\" + 0.005*\"like\" + 0.005*\"bad\" + 0.004*\"public\"\n",
      "2017-06-05 21:01:29,188 : INFO : topic diff=0.033560, rho=0.089803\n"
     ]
    }
   ],
   "source": [
    "# Create lda model (equivalent to \"fit\" in sklearn)\n",
    "# passes is the max value to keep on iterating until we converge\n",
    "lda = models.LdaModel(corpus=corpus, num_topics=15, id2word=id2word, passes=1)"
   ]
  },
  {
   "cell_type": "markdown",
   "metadata": {},
   "source": [
    "Let's see the 100 most important words for each of the topics. Below, we see the top probabilities of words that would appear in this topic. "
   ]
  },
  {
   "cell_type": "code",
   "execution_count": 117,
   "metadata": {
    "collapsed": false
   },
   "outputs": [
    {
     "name": "stderr",
     "output_type": "stream",
     "text": [
      "2017-06-05 21:01:29,212 : INFO : topic #0 (0.067): 0.008*\"companies\" + 0.008*\"uber\" + 0.008*\"cost\" + 0.008*\"company\" + 0.008*\"market\" + 0.008*\"business\" + 0.006*\"price\" + 0.006*\"people\" + 0.006*\"car\" + 0.005*\"long\" + 0.004*\"money\" + 0.004*\"tech\" + 0.004*\"tip\" + 0.004*\"high\" + 0.004*\"just\" + 0.004*\"self\" + 0.004*\"going\" + 0.004*\"buy\" + 0.003*\"term\" + 0.003*\"costs\" + 0.003*\"quality\" + 0.003*\"point\" + 0.003*\"small\" + 0.003*\"drivers\" + 0.003*\"probably\" + 0.003*\"big\" + 0.003*\"make\" + 0.003*\"model\" + 0.003*\"driving\" + 0.003*\"low\" + 0.003*\"industry\" + 0.003*\"cars\" + 0.003*\"tesla\" + 0.003*\"expensive\" + 0.003*\"time\" + 0.003*\"years\" + 0.003*\"like\" + 0.003*\"ve\" + 0.003*\"new\" + 0.003*\"million\" + 0.003*\"risk\" + 0.002*\"startup\" + 0.002*\"cheap\" + 0.002*\"prices\" + 0.002*\"stock\" + 0.002*\"supply\" + 0.002*\"large\" + 0.002*\"sell\" + 0.002*\"customers\" + 0.002*\"service\" + 0.002*\"value\" + 0.002*\"worth\" + 0.002*\"sales\" + 0.002*\"profit\" + 0.002*\"short\" + 0.002*\"startups\" + 0.002*\"businesses\" + 0.002*\"cheaper\" + 0.002*\"cash\" + 0.002*\"long term\" + 0.002*\"product\" + 0.002*\"lot\" + 0.002*\"meat\" + 0.002*\"good\" + 0.002*\"think\" + 0.002*\"twitter\" + 0.002*\"getting\" + 0.002*\"selling\" + 0.002*\"drive\" + 0.002*\"demand\" + 0.002*\"buying\" + 0.002*\"amazon\" + 0.002*\"making\" + 0.002*\"huge\" + 0.002*\"future\" + 0.002*\"investment\" + 0.002*\"pricing\" + 0.002*\"successful\" + 0.002*\"scale\" + 0.002*\"news\" + 0.002*\"tips\" + 0.002*\"medium\" + 0.002*\"products\" + 0.002*\"technology\" + 0.002*\"success\" + 0.001*\"competition\" + 0.001*\"millions\" + 0.001*\"status\" + 0.001*\"thing\" + 0.001*\"investors\" + 0.001*\"actually\" + 0.001*\"great\" + 0.001*\"growth\" + 0.001*\"hacker\" + 0.001*\"start\" + 0.001*\"dollars\" + 0.001*\"year\" + 0.001*\"right\" + 0.001*\"pretty\" + 0.001*\"day\"\n",
      "2017-06-05 21:01:29,214 : INFO : topic #1 (0.067): 0.025*\"people\" + 0.012*\"don\" + 0.009*\"think\" + 0.008*\"doesn\" + 0.008*\"say\" + 0.007*\"mean\" + 0.007*\"just\" + 0.007*\"point\" + 0.007*\"know\" + 0.007*\"does\" + 0.006*\"like\" + 0.005*\"question\" + 0.005*\"article\" + 0.005*\"person\" + 0.005*\"make\" + 0.005*\"understand\" + 0.005*\"actually\" + 0.004*\"way\" + 0.004*\"true\" + 0.004*\"fact\" + 0.004*\"wrong\" + 0.004*\"saying\" + 0.004*\"said\" + 0.004*\"believe\" + 0.004*\"evidence\" + 0.004*\"argument\" + 0.004*\"isn\" + 0.004*\"case\" + 0.003*\"human\" + 0.003*\"real\" + 0.003*\"didn\" + 0.003*\"different\" + 0.003*\"comment\" + 0.003*\"men\" + 0.003*\"means\" + 0.003*\"right\" + 0.003*\"reason\" + 0.003*\"talking\" + 0.003*\"sure\" + 0.003*\"did\" + 0.002*\"care\" + 0.002*\"things\" + 0.002*\"science\" + 0.002*\"clear\" + 0.002*\"number\" + 0.002*\"women\" + 0.002*\"answer\" + 0.002*\"really\" + 0.002*\"read\" + 0.002*\"matter\" + 0.002*\"example\" + 0.002*\"words\" + 0.002*\"given\" + 0.002*\"non\" + 0.002*\"value\" + 0.002*\"yes\" + 0.002*\"simply\" + 0.002*\"claim\" + 0.002*\"says\" + 0.002*\"credit\" + 0.002*\"reality\" + 0.002*\"good\" + 0.002*\"based\" + 0.002*\"word\" + 0.002*\"humans\" + 0.002*\"black\" + 0.002*\"aren\" + 0.002*\"agree\" + 0.002*\"exist\" + 0.002*\"change\" + 0.002*\"having\" + 0.002*\"definition\" + 0.002*\"response\" + 0.002*\"possible\" + 0.002*\"explain\" + 0.002*\"view\" + 0.002*\"mb\" + 0.002*\"statement\" + 0.002*\"argue\" + 0.002*\"correct\" + 0.002*\"don know\" + 0.002*\"study\" + 0.002*\"particular\" + 0.002*\"difference\" + 0.002*\"clearly\" + 0.002*\"discussion\" + 0.002*\"meaning\" + 0.002*\"better\" + 0.002*\"doesn mean\" + 0.002*\"general\" + 0.001*\"context\" + 0.001*\"reasonable\" + 0.001*\"life\" + 0.001*\"thought\" + 0.001*\"man\" + 0.001*\"truth\" + 0.001*\"obvious\" + 0.001*\"theory\" + 0.001*\"don think\" + 0.001*\"don understand\"\n",
      "2017-06-05 21:01:29,217 : INFO : topic #2 (0.067): 0.020*\"google\" + 0.012*\"open\" + 0.010*\"content\" + 0.009*\"free\" + 0.009*\"source\" + 0.009*\"don\" + 0.009*\"software\" + 0.008*\"product\" + 0.008*\"users\" + 0.008*\"make\" + 0.007*\"internet\" + 0.007*\"use\" + 0.007*\"facebook\" + 0.006*\"service\" + 0.006*\"want\" + 0.006*\"open source\" + 0.006*\"ads\" + 0.006*\"site\" + 0.006*\"just\" + 0.005*\"like\" + 0.005*\"security\" + 0.005*\"company\" + 0.005*\"network\" + 0.004*\"ad\" + 0.004*\"license\" + 0.004*\"sites\" + 0.004*\"email\" + 0.004*\"money\" + 0.004*\"need\" + 0.004*\"access\" + 0.004*\"business\" + 0.003*\"time\" + 0.003*\"nintendo\" + 0.003*\"app\" + 0.003*\"companies\" + 0.003*\"online\" + 0.003*\"devices\" + 0.003*\"phone\" + 0.003*\"gpl\" + 0.003*\"web\" + 0.003*\"services\" + 0.003*\"doesn\" + 0.003*\"advertising\" + 0.003*\"good\" + 0.003*\"project\" + 0.003*\"know\" + 0.003*\"device\" + 0.003*\"pay\" + 0.002*\"products\" + 0.002*\"user\" + 0.002*\"sell\" + 0.002*\"lock\" + 0.002*\"new\" + 0.002*\"let\" + 0.002*\"llc\" + 0.002*\"idea\" + 0.002*\"support\" + 0.002*\"marketing\" + 0.002*\"sure\" + 0.002*\"people\" + 0.002*\"networks\" + 0.002*\"account\" + 0.002*\"big\" + 0.002*\"angular\" + 0.002*\"ll\" + 0.002*\"website\" + 0.002*\"isn\" + 0.002*\"projects\" + 0.002*\"provide\" + 0.002*\"paid\" + 0.002*\"available\" + 0.002*\"microsoft\" + 0.002*\"did\" + 0.002*\"freebsd\" + 0.002*\"commercial\" + 0.002*\"bitcoin\" + 0.002*\"making\" + 0.002*\"won\" + 0.002*\"fake\" + 0.002*\"digital\" + 0.002*\"work\" + 0.002*\"tracking\" + 0.002*\"upgrade\" + 0.002*\"slack\" + 0.002*\"going\" + 0.002*\"community\" + 0.002*\"using\" + 0.002*\"search\" + 0.001*\"personal\" + 0.001*\"way\" + 0.001*\"founder\" + 0.001*\"websites\" + 0.001*\"offer\" + 0.001*\"non\" + 0.001*\"block\" + 0.001*\"messages\" + 0.001*\"smartphone\" + 0.001*\"customers\" + 0.001*\"drm\" + 0.001*\"create\"\n",
      "2017-06-05 21:01:29,219 : INFO : topic #3 (0.067): 0.013*\"use\" + 0.008*\"just\" + 0.007*\"user\" + 0.007*\"information\" + 0.006*\"does\" + 0.006*\"want\" + 0.006*\"traffic\" + 0.005*\"android\" + 0.005*\"phone\" + 0.005*\"using\" + 0.005*\"run\" + 0.005*\"pulseaudio\" + 0.004*\"access\" + 0.004*\"audio\" + 0.004*\"service\" + 0.004*\"need\" + 0.004*\"don\" + 0.004*\"ve\" + 0.004*\"share\" + 0.004*\"ip\" + 0.004*\"alsa\" + 0.004*\"data\" + 0.004*\"linux\" + 0.003*\"account\" + 0.003*\"desktop\" + 0.003*\"kernel\" + 0.003*\"different\" + 0.003*\"click\" + 0.003*\"doesn\" + 0.003*\"apng\" + 0.003*\"sure\" + 0.003*\"services\" + 0.003*\"like\" + 0.003*\"format\" + 0.003*\"key\" + 0.003*\"work\" + 0.003*\"ios\" + 0.003*\"address\" + 0.003*\"home\" + 0.003*\"case\" + 0.003*\"number\" + 0.002*\"having\" + 0.002*\"switch\" + 0.002*\"running\" + 0.002*\"netflix\" + 0.002*\"cloud\" + 0.002*\"party\" + 0.002*\"email\" + 0.002*\"bike\" + 0.002*\"tried\" + 0.002*\"trust\" + 0.002*\"aws\" + 0.002*\"password\" + 0.002*\"multiple\" + 0.002*\"signal\" + 0.002*\"app\" + 0.002*\"gif\" + 0.002*\"tv\" + 0.002*\"host\" + 0.002*\"connection\" + 0.002*\"way\" + 0.002*\"completely\" + 0.002*\"freedom\" + 0.002*\"able\" + 0.002*\"network\" + 0.002*\"cross\" + 0.002*\"info\" + 0.002*\"wouldn\" + 0.002*\"sent\" + 0.002*\"request\" + 0.002*\"scroll\" + 0.002*\"isp\" + 0.002*\"used\" + 0.002*\"mobile\" + 0.002*\"video\" + 0.002*\"voice\" + 0.002*\"time\" + 0.002*\"provider\" + 0.002*\"isps\" + 0.002*\"public\" + 0.002*\"single\" + 0.002*\"platform\" + 0.002*\"docker\" + 0.002*\"mail\" + 0.002*\"sign\" + 0.002*\"hosting\" + 0.002*\"make\" + 0.002*\"fb\" + 0.002*\"player\" + 0.002*\"set\" + 0.002*\"debian\" + 0.002*\"computer\" + 0.002*\"send\" + 0.002*\"hardware\" + 0.002*\"control\" + 0.002*\"music\" + 0.002*\"know\" + 0.002*\"store\" + 0.001*\"accounts\" + 0.001*\"lot\"\n",
      "2017-06-05 21:01:29,221 : INFO : topic #4 (0.067): 0.011*\"life\" + 0.008*\"post\" + 0.007*\"like\" + 0.006*\"hn\" + 0.006*\"people\" + 0.006*\"ve\" + 0.006*\"social\" + 0.005*\"title\" + 0.004*\"friends\" + 0.004*\"didn\" + 0.004*\"got\" + 0.004*\"thing\" + 0.004*\"search\" + 0.004*\"comment\" + 0.004*\"point\" + 0.004*\"just\" + 0.004*\"pro\" + 0.003*\"read\" + 0.003*\"commit\" + 0.003*\"happy\" + 0.003*\"link\" + 0.003*\"right\" + 0.003*\"think\" + 0.003*\"did\" + 0.003*\"movie\" + 0.003*\"story\" + 0.003*\"way\" + 0.003*\"thanks\" + 0.003*\"privacy\" + 0.003*\"oh\" + 0.003*\"battery\" + 0.003*\"kids\" + 0.003*\"laptop\" + 0.003*\"family\" + 0.003*\"interesting\" + 0.003*\"parent\" + 0.003*\"maybe\" + 0.002*\"ratings\" + 0.002*\"thought\" + 0.002*\"comments\" + 0.002*\"new\" + 0.002*\"away\" + 0.002*\"film\" + 0.002*\"media\" + 0.002*\"yes\" + 0.002*\"thread\" + 0.002*\"probably\" + 0.002*\"stories\" + 0.002*\"article\" + 0.002*\"ask\" + 0.002*\"bsd\" + 0.002*\"seen\" + 0.002*\"treatment\" + 0.002*\"audience\" + 0.002*\"kind\" + 0.002*\"guess\" + 0.002*\"don\" + 0.002*\"stop\" + 0.002*\"community\" + 0.002*\"child\" + 0.002*\"hope\" + 0.002*\"ll\" + 0.002*\"blog post\" + 0.002*\"star\" + 0.002*\"said\" + 0.002*\"time\" + 0.002*\"person\" + 0.002*\"ah\" + 0.002*\"movies\" + 0.002*\"aware\" + 0.002*\"wasn\" + 0.002*\"know\" + 0.002*\"good\" + 0.002*\"old\" + 0.002*\"original\" + 0.002*\"day\" + 0.002*\"defend\" + 0.002*\"networking\" + 0.001*\"sure\" + 0.001*\"page\" + 0.001*\"cells\" + 0.001*\"mention\" + 0.001*\"calling\" + 0.001*\"looking\" + 0.001*\"arrow\" + 0.001*\"care\" + 0.001*\"agents\" + 0.001*\"children\" + 0.001*\"sorry\" + 0.001*\"interaction\" + 0.001*\"agent\" + 0.001*\"edit\" + 0.001*\"seeing\" + 0.001*\"self\" + 0.001*\"proof\" + 0.001*\"editing\" + 0.001*\"reading\" + 0.001*\"links\" + 0.001*\"phrase\" + 0.001*\"taken\"\n",
      "2017-06-05 21:01:29,224 : INFO : topic #5 (0.067): 0.023*\"https\" + 0.016*\"org\" + 0.013*\"github\" + 0.011*\"windows\" + 0.011*\"wikipedia\" + 0.011*\"web\" + 0.009*\"en\" + 0.009*\"wiki\" + 0.009*\"com\" + 0.009*\"use\" + 0.008*\"github com\" + 0.008*\"org wiki\" + 0.008*\"wikipedia org\" + 0.008*\"https github\" + 0.008*\"https en\" + 0.008*\"en wikipedia\" + 0.007*\"browser\" + 0.007*\"linux\" + 0.007*\"using\" + 0.007*\"page\" + 0.006*\"server\" + 0.006*\"support\" + 0.006*\"file\" + 0.006*\"apps\" + 0.005*\"react\" + 0.005*\"app\" + 0.005*\"html\" + 0.005*\"gitlab\" + 0.005*\"version\" + 0.004*\"os\" + 0.004*\"text\" + 0.004*\"install\" + 0.004*\"just\" + 0.004*\"like\" + 0.004*\"issues\" + 0.004*\"microsoft\" + 0.004*\"files\" + 0.004*\"chrome\" + 0.004*\"firefox\" + 0.003*\"git\" + 0.003*\"io\" + 0.003*\"used\" + 0.003*\"http\" + 0.003*\"user\" + 0.003*\"ms\" + 0.003*\"running\" + 0.003*\"css\" + 0.003*\"native\" + 0.003*\"ui\" + 0.003*\"open\" + 0.003*\"release\" + 0.003*\"client\" + 0.003*\"download\" + 0.003*\"docs\" + 0.002*\"works\" + 0.002*\"mac\" + 0.002*\"default\" + 0.002*\"update\" + 0.002*\"browsers\" + 0.002*\"source\" + 0.002*\"updates\" + 0.002*\"master\" + 0.002*\"json\" + 0.002*\"run\" + 0.002*\"window\" + 0.002*\"does\" + 0.002*\"work\" + 0.002*\"add\" + 0.002*\"aframe\" + 0.002*\"bar\" + 0.002*\"jpeg\" + 0.002*\"api\" + 0.002*\"supported\" + 0.002*\"new\" + 0.002*\"nice\" + 0.002*\"users\" + 0.002*\"module\" + 0.002*\"command\" + 0.002*\"edit\" + 0.002*\"display\" + 0.002*\"site\" + 0.002*\"screen\" + 0.002*\"list\" + 0.002*\"stack\" + 0.002*\"unix\" + 0.002*\"pages\" + 0.002*\"keys\" + 0.002*\"link\" + 0.002*\"emacs\" + 0.002*\"web components\" + 0.002*\"blob\" + 0.002*\"keyboard\" + 0.001*\"based\" + 0.001*\"archive\" + 0.001*\"terminal\" + 0.001*\"released\" + 0.001*\"mobile\" + 0.001*\"example\" + 0.001*\"delaware\" + 0.001*\"roundup\"\n",
      "2017-06-05 21:01:29,227 : INFO : topic #6 (0.067): 0.021*\"don\" + 0.018*\"just\" + 0.018*\"think\" + 0.017*\"like\" + 0.015*\"really\" + 0.012*\"people\" + 0.010*\"work\" + 0.009*\"need\" + 0.009*\"know\" + 0.008*\"way\" + 0.008*\"time\" + 0.008*\"want\" + 0.007*\"make\" + 0.007*\"ve\" + 0.007*\"things\" + 0.006*\"lot\" + 0.005*\"good\" + 0.005*\"feel\" + 0.005*\"makes\" + 0.005*\"better\" + 0.005*\"doing\" + 0.005*\"hard\" + 0.004*\"thing\" + 0.004*\"going\" + 0.004*\"sense\" + 0.004*\"learn\" + 0.004*\"experience\" + 0.004*\"ll\" + 0.003*\"programming\" + 0.003*\"don think\" + 0.003*\"actually\" + 0.003*\"stuff\" + 0.003*\"probably\" + 0.003*\"years\" + 0.003*\"end\" + 0.003*\"understand\" + 0.003*\"day\" + 0.003*\"don know\" + 0.003*\"new\" + 0.003*\"learning\" + 0.003*\"right\" + 0.003*\"working\" + 0.002*\"having\" + 0.002*\"point\" + 0.002*\"math\" + 0.002*\"bit\" + 0.002*\"course\" + 0.002*\"little\" + 0.002*\"language\" + 0.002*\"job\" + 0.002*\"look\" + 0.002*\"kind\" + 0.002*\"doesn\" + 0.002*\"trying\" + 0.002*\"best\" + 0.002*\"maybe\" + 0.002*\"come\" + 0.002*\"start\" + 0.002*\"level\" + 0.002*\"help\" + 0.002*\"getting\" + 0.002*\"say\" + 0.002*\"great\" + 0.002*\"sure\" + 0.002*\"different\" + 0.002*\"scala\" + 0.002*\"able\" + 0.002*\"pretty\" + 0.002*\"try\" + 0.002*\"idea\" + 0.002*\"isn\" + 0.002*\"looking\" + 0.002*\"feel like\" + 0.002*\"skills\" + 0.002*\"book\" + 0.002*\"agree\" + 0.002*\"easy\" + 0.002*\"started\" + 0.001*\"worked\" + 0.001*\"makes sense\" + 0.001*\"knowledge\" + 0.001*\"important\" + 0.001*\"components\" + 0.001*\"love\" + 0.001*\"easier\" + 0.001*\"thinking\" + 0.001*\"simple\" + 0.001*\"mind\" + 0.001*\"got\" + 0.001*\"quite\" + 0.001*\"especially\" + 0.001*\"advice\" + 0.001*\"school\" + 0.001*\"world\" + 0.001*\"common\" + 0.001*\"problem\" + 0.001*\"making\" + 0.001*\"ideas\" + 0.001*\"don want\" + 0.001*\"instead\"\n",
      "2017-06-05 21:01:29,229 : INFO : topic #7 (0.067): 0.008*\"women\" + 0.008*\"did\" + 0.007*\"war\" + 0.006*\"history\" + 0.005*\"patent\" + 0.004*\"later\" + 0.004*\"author\" + 0.004*\"read\" + 0.004*\"years\" + 0.004*\"wasn\" + 0.004*\"art\" + 0.004*\"corp\" + 0.004*\"man\" + 0.004*\"say\" + 0.003*\"remember\" + 0.003*\"russia\" + 0.003*\"female\" + 0.003*\"japanese\" + 0.003*\"patents\" + 0.003*\"culture\" + 0.003*\"lyft\" + 0.003*\"didn\" + 0.003*\"world\" + 0.003*\"reading\" + 0.003*\"just\" + 0.003*\"said\" + 0.003*\"comments\" + 0.003*\"china\" + 0.003*\"guy\" + 0.002*\"came\" + 0.002*\"english\" + 0.002*\"god\" + 0.002*\"reddit\" + 0.002*\"male\" + 0.002*\"th\" + 0.002*\"notes\" + 0.002*\"yep\" + 0.002*\"russian\" + 0.002*\"today\" + 0.002*\"comment\" + 0.002*\"dr\" + 0.002*\"recall\" + 0.002*\"totally\" + 0.002*\"likely\" + 0.002*\"usd\" + 0.002*\"restaurant\" + 0.002*\"chinese\" + 0.002*\"remain\" + 0.002*\"wonder\" + 0.002*\"time\" + 0.002*\"gun\" + 0.002*\"original\" + 0.002*\"like\" + 0.002*\"woman\" + 0.002*\"late\" + 0.002*\"fuck\" + 0.002*\"story\" + 0.002*\"early\" + 0.002*\"coffee\" + 0.002*\"mit\" + 0.002*\"thought\" + 0.002*\"right\" + 0.002*\"got\" + 0.002*\"years later\" + 0.002*\"bias\" + 0.002*\"sum\" + 0.002*\"databases\" + 0.002*\"labour\" + 0.002*\"restrictions\" + 0.002*\"gold\" + 0.001*\"codecs\" + 0.001*\"macos\" + 0.001*\"directed\" + 0.001*\"neat\" + 0.001*\"entertainment\" + 0.001*\"section\" + 0.001*\"analytics\" + 0.001*\"origin\" + 0.001*\"going\" + 0.001*\"tl\" + 0.001*\"paper\" + 0.001*\"long\" + 0.001*\"imbalance\" + 0.001*\"internet\" + 0.001*\"onions\" + 0.001*\"agreed\" + 0.001*\"tl dr\" + 0.001*\"sticker\" + 0.001*\"honest\" + 0.001*\"headline\" + 0.001*\"mind\" + 0.001*\"pre\" + 0.001*\"century\" + 0.001*\"ass\" + 0.001*\"artificial\" + 0.001*\"referring\" + 0.001*\"sex\" + 0.001*\"far\" + 0.001*\"shock\" + 0.001*\"true\"\n",
      "2017-06-05 21:01:29,232 : INFO : topic #8 (0.067): 0.009*\"government\" + 0.009*\"law\" + 0.007*\"right\" + 0.006*\"state\" + 0.006*\"power\" + 0.005*\"people\" + 0.005*\"trump\" + 0.005*\"like\" + 0.005*\"bad\" + 0.004*\"public\" + 0.004*\"legal\" + 0.004*\"states\" + 0.004*\"political\" + 0.004*\"society\" + 0.003*\"laws\" + 0.003*\"age\" + 0.003*\"court\" + 0.003*\"policy\" + 0.003*\"think\" + 0.003*\"world\" + 0.003*\"way\" + 0.003*\"risk\" + 0.003*\"vote\" + 0.002*\"party\" + 0.002*\"dating\" + 0.002*\"rights\" + 0.002*\"free\" + 0.002*\"anti\" + 0.002*\"rules\" + 0.002*\"want\" + 0.002*\"thing\" + 0.002*\"social\" + 0.002*\"just\" + 0.002*\"best\" + 0.002*\"interests\" + 0.002*\"act\" + 0.002*\"good\" + 0.002*\"current\" + 0.002*\"change\" + 0.002*\"idea\" + 0.002*\"isn\" + 0.002*\"regulation\" + 0.002*\"case\" + 0.002*\"place\" + 0.002*\"united\" + 0.002*\"majority\" + 0.002*\"american\" + 0.002*\"economic\" + 0.002*\"win\" + 0.002*\"views\" + 0.002*\"moral\" + 0.002*\"kind\" + 0.002*\"likely\" + 0.002*\"possible\" + 0.002*\"voting\" + 0.002*\"regulations\" + 0.002*\"does\" + 0.002*\"private\" + 0.002*\"result\" + 0.002*\"wing\" + 0.002*\"human\" + 0.002*\"united states\" + 0.002*\"control\" + 0.001*\"let\" + 0.001*\"decision\" + 0.001*\"agree\" + 0.001*\"effect\" + 0.001*\"federal\" + 0.001*\"left\" + 0.001*\"san\" + 0.001*\"order\" + 0.001*\"means\" + 0.001*\"citizens\" + 0.001*\"issue\" + 0.001*\"net\" + 0.001*\"position\" + 0.001*\"making\" + 0.001*\"certain\" + 0.001*\"era\" + 0.001*\"fight\" + 0.001*\"rule\" + 0.001*\"individual\" + 0.001*\"example\" + 0.001*\"important\" + 0.001*\"policies\" + 0.001*\"property\" + 0.001*\"fly\" + 0.001*\"orders\" + 0.001*\"chance\" + 0.001*\"defense\" + 0.001*\"better\" + 0.001*\"market\" + 0.001*\"action\" + 0.001*\"support\" + 0.001*\"wouldn\" + 0.001*\"research\" + 0.001*\"democracy\" + 0.001*\"financial\" + 0.001*\"given\" + 0.001*\"culture\"\n",
      "2017-06-05 21:01:29,234 : INFO : topic #9 (0.067): 0.014*\"pay\" + 0.013*\"money\" + 0.010*\"work\" + 0.009*\"job\" + 0.009*\"people\" + 0.008*\"year\" + 0.007*\"jobs\" + 0.007*\"tax\" + 0.005*\"item\" + 0.005*\"rate\" + 0.005*\"paying\" + 0.005*\"home\" + 0.005*\"income\" + 0.005*\"ycombinator\" + 0.005*\"paid\" + 0.005*\"company\" + 0.005*\"country\" + 0.005*\"ycombinator com\" + 0.005*\"id\" + 0.005*\"https news\" + 0.005*\"living\" + 0.005*\"news ycombinator\" + 0.005*\"news\" + 0.004*\"time\" + 0.004*\"taxes\" + 0.004*\"hours\" + 0.004*\"item id\" + 0.004*\"com item\" + 0.004*\"live\" + 0.004*\"tipping\" + 0.004*\"debt\" + 0.004*\"don\" + 0.004*\"countries\" + 0.003*\"working\" + 0.003*\"driver\" + 0.003*\"health\" + 0.003*\"higher\" + 0.003*\"high\" + 0.003*\"insurance\" + 0.003*\"school\" + 0.003*\"government\" + 0.003*\"cost\" + 0.003*\"house\" + 0.003*\"poor\" + 0.003*\"education\" + 0.003*\"lower\" + 0.003*\"city\" + 0.003*\"month\" + 0.003*\"workers\" + 0.003*\"employees\" + 0.003*\"uk\" + 0.002*\"healthcare\" + 0.002*\"salary\" + 0.002*\"companies\" + 0.002*\"rates\" + 0.002*\"employee\" + 0.002*\"wage\" + 0.002*\"labor\" + 0.002*\"years\" + 0.002*\"rural\" + 0.002*\"college\" + 0.002*\"day\" + 0.002*\"class\" + 0.002*\"rating\" + 0.002*\"office\" + 0.002*\"employer\" + 0.002*\"average\" + 0.002*\"costs\" + 0.002*\"care\" + 0.002*\"getting\" + 0.002*\"spend\" + 0.002*\"america\" + 0.002*\"minimum\" + 0.002*\"hire\" + 0.002*\"family\" + 0.002*\"rent\" + 0.002*\"week\" + 0.002*\"lot\" + 0.002*\"kids\" + 0.002*\"local\" + 0.002*\"rich\" + 0.002*\"leave\" + 0.002*\"just\" + 0.002*\"low\" + 0.002*\"afford\" + 0.002*\"life\" + 0.002*\"area\" + 0.002*\"housing\" + 0.002*\"students\" + 0.002*\"capital\" + 0.002*\"places\" + 0.002*\"schools\" + 0.002*\"american\" + 0.002*\"million\" + 0.002*\"public\" + 0.002*\"wages\" + 0.002*\"middle\" + 0.002*\"remote\" + 0.002*\"free\" + 0.002*\"spending\"\n",
      "2017-06-05 21:01:29,237 : INFO : topic #10 (0.067): 0.021*\"code\" + 0.013*\"use\" + 0.007*\"java\" + 0.007*\"language\" + 0.006*\"using\" + 0.006*\"write\" + 0.004*\"memory\" + 0.004*\"systems\" + 0.004*\"time\" + 0.004*\"used\" + 0.004*\"like\" + 0.004*\"machine\" + 0.004*\"run\" + 0.003*\"build\" + 0.003*\"js\" + 0.003*\"need\" + 0.003*\"performance\" + 0.003*\"simple\" + 0.003*\"project\" + 0.003*\"library\" + 0.003*\"rust\" + 0.003*\"python\" + 0.003*\"design\" + 0.003*\"just\" + 0.003*\"easy\" + 0.003*\"tools\" + 0.003*\"features\" + 0.003*\"level\" + 0.003*\"does\" + 0.003*\"javascript\" + 0.003*\"writing\" + 0.003*\"written\" + 0.003*\"learning\" + 0.003*\"way\" + 0.003*\"api\" + 0.002*\"compiler\" + 0.002*\"program\" + 0.002*\"languages\" + 0.002*\"developers\" + 0.002*\"software\" + 0.002*\"really\" + 0.002*\"implementation\" + 0.002*\"new\" + 0.002*\"standard\" + 0.002*\"running\" + 0.002*\"development\" + 0.002*\"based\" + 0.002*\"lot\" + 0.002*\"example\" + 0.002*\"different\" + 0.002*\"hardware\" + 0.002*\"built\" + 0.002*\"support\" + 0.002*\"image\" + 0.002*\"application\" + 0.002*\"want\" + 0.002*\"possible\" + 0.002*\"great\" + 0.002*\"small\" + 0.002*\"libraries\" + 0.002*\"fast\" + 0.002*\"source\" + 0.002*\"faster\" + 0.002*\"better\" + 0.002*\"framework\" + 0.002*\"pretty\" + 0.002*\"easier\" + 0.002*\"vs\" + 0.002*\"line\" + 0.002*\"nice\" + 0.002*\"lines\" + 0.002*\"actually\" + 0.002*\"feature\" + 0.002*\"applications\" + 0.002*\"make\" + 0.002*\"set\" + 0.002*\"size\" + 0.002*\"stuff\" + 0.002*\"uses\" + 0.002*\"useful\" + 0.002*\"interesting\" + 0.002*\"dom\" + 0.002*\"core\" + 0.002*\"cpu\" + 0.002*\"test\" + 0.002*\"architecture\" + 0.002*\"single\" + 0.002*\"designed\" + 0.002*\"complex\" + 0.002*\"able\" + 0.002*\"end\" + 0.002*\"speed\" + 0.002*\"haskell\" + 0.002*\"implement\" + 0.002*\"compatible\" + 0.002*\"static\" + 0.002*\"source code\" + 0.002*\"instead\" + 0.002*\"model\" + 0.002*\"load\"\n",
      "2017-06-05 21:01:29,239 : INFO : topic #11 (0.067): 0.006*\"water\" + 0.005*\"light\" + 0.005*\"energy\" + 0.005*\"power\" + 0.004*\"police\" + 0.004*\"food\" + 0.004*\"city\" + 0.003*\"world\" + 0.003*\"fiber\" + 0.003*\"space\" + 0.003*\"air\" + 0.003*\"monsanto\" + 0.003*\"papers\" + 0.003*\"mass\" + 0.003*\"cold\" + 0.003*\"red\" + 0.003*\"new\" + 0.003*\"large\" + 0.002*\"like\" + 0.002*\"hole\" + 0.002*\"berkeley\" + 0.002*\"area\" + 0.002*\"pdf\" + 0.002*\"far\" + 0.002*\"earth\" + 0.002*\"global\" + 0.002*\"high\" + 0.002*\"drug\" + 0.002*\"times\" + 0.002*\"humanity\" + 0.002*\"military\" + 0.002*\"live\" + 0.002*\"article\" + 0.002*\"flight\" + 0.002*\"pressure\" + 0.002*\"nuclear\" + 0.002*\"body\" + 0.002*\"glyphosate\" + 0.002*\"population\" + 0.002*\"crime\" + 0.002*\"safe\" + 0.002*\"black\" + 0.002*\"small\" + 0.002*\"paper\" + 0.002*\"weight\" + 0.002*\"eat\" + 0.002*\"just\" + 0.002*\"land\" + 0.002*\"weapons\" + 0.002*\"budget\" + 0.002*\"cities\" + 0.002*\"australia\" + 0.002*\"effects\" + 0.002*\"cause\" + 0.002*\"black hole\" + 0.002*\"areas\" + 0.002*\"dangerous\" + 0.002*\"climate\" + 0.002*\"heat\" + 0.002*\"research\" + 0.002*\"speed\" + 0.002*\"scale\" + 0.002*\"quite\" + 0.002*\"place\" + 0.002*\"ideal\" + 0.002*\"near\" + 0.002*\"south\" + 0.002*\"aircraft\" + 0.002*\"comma\" + 0.002*\"case\" + 0.001*\"fear\" + 0.001*\"away\" + 0.001*\"human\" + 0.001*\"low\" + 0.001*\"lot\" + 0.001*\"german\" + 0.001*\"normal\" + 0.001*\"ground\" + 0.001*\"temperature\" + 0.001*\"north\" + 0.001*\"possible\" + 0.001*\"york\" + 0.001*\"inside\" + 0.001*\"feet\" + 0.001*\"new york\" + 0.001*\"offline\" + 0.001*\"kill\" + 0.001*\"plane\" + 0.001*\"close\" + 0.001*\"likely\" + 0.001*\"obama\" + 0.001*\"pretty\" + 0.001*\"traffic light\" + 0.001*\"probably\" + 0.001*\"french\" + 0.001*\"big\" + 0.001*\"safety\" + 0.001*\"produce\" + 0.001*\"glass\" + 0.001*\"bit\"\n",
      "2017-06-05 21:01:29,241 : INFO : topic #12 (0.067): 0.052*\"com\" + 0.038*\"https\" + 0.033*\"www\" + 0.029*\"http\" + 0.018*\"https www\" + 0.014*\"http www\" + 0.012*\"ago\" + 0.011*\"video\" + 0.011*\"years\" + 0.009*\"youtube\" + 0.009*\"news\" + 0.008*\"watch\" + 0.007*\"google\" + 0.007*\"like\" + 0.007*\"blog\" + 0.006*\"years ago\" + 0.006*\"org\" + 0.005*\"videos\" + 0.004*\"apple\" + 0.004*\"kotlin\" + 0.004*\"article\" + 0.004*\"amazon\" + 0.004*\"great\" + 0.004*\"html\" + 0.003*\"book\" + 0.003*\"youtube com\" + 0.003*\"sounds\" + 0.003*\"articles\" + 0.003*\"www youtube\" + 0.003*\"com watch\" + 0.003*\"year\" + 0.003*\"new\" + 0.003*\"day\" + 0.003*\"bay\" + 0.003*\"interesting\" + 0.002*\"yc\" + 0.002*\"google com\" + 0.002*\"net\" + 0.002*\"months\" + 0.002*\"link\" + 0.002*\"sounds like\" + 0.002*\"cloud\" + 0.002*\"aws\" + 0.002*\"looking\" + 0.002*\"gaming\" + 0.002*\"couple\" + 0.002*\"bay area\" + 0.002*\"vim\" + 0.002*\"recommend\" + 0.002*\"camera\" + 0.002*\"site\" + 0.002*\"vr\" + 0.002*\"days\" + 0.002*\"saw\" + 0.002*\"gov\" + 0.002*\"png\" + 0.002*\"page\" + 0.002*\"recently\" + 0.002*\"ipad\" + 0.002*\"time\" + 0.002*\"dropbox\" + 0.002*\"books\" + 0.002*\"edu\" + 0.002*\"ve\" + 0.002*\"archive\" + 0.002*\"launch\" + 0.002*\"bought\" + 0.002*\"week\" + 0.002*\"providers\" + 0.002*\"amazing\" + 0.002*\"good\" + 0.002*\"reading\" + 0.002*\"used\" + 0.002*\"similar\" + 0.002*\"designer\" + 0.002*\"lyrics\" + 0.002*\"jack\" + 0.001*\"drive\" + 0.001*\"search\" + 0.001*\"channel\" + 0.001*\"games\" + 0.001*\"looks\" + 0.001*\"post\" + 0.001*\"linear\" + 0.001*\"remember\" + 0.001*\"topic\" + 0.001*\"recent\" + 0.001*\"uk\" + 0.001*\"look\" + 0.001*\"gb\" + 0.001*\"check\" + 0.001*\"edit\" + 0.001*\"interested\" + 0.001*\"did\" + 0.001*\"pretty\" + 0.001*\"read\" + 0.001*\"story\" + 0.001*\"series\" + 0.001*\"got\" + 0.001*\"best\"\n",
      "2017-06-05 21:01:29,244 : INFO : topic #13 (0.067): 0.015*\"time\" + 0.014*\"problem\" + 0.012*\"good\" + 0.009*\"game\" + 0.009*\"ve\" + 0.008*\"things\" + 0.007*\"just\" + 0.007*\"problems\" + 0.007*\"lot\" + 0.007*\"years\" + 0.006*\"better\" + 0.006*\"games\" + 0.005*\"real\" + 0.005*\"like\" + 0.005*\"old\" + 0.005*\"work\" + 0.005*\"long\" + 0.005*\"thanks\" + 0.004*\"ll\" + 0.004*\"interview\" + 0.004*\"ai\" + 0.004*\"new\" + 0.004*\"sure\" + 0.004*\"questions\" + 0.004*\"maybe\" + 0.003*\"great\" + 0.003*\"solve\" + 0.003*\"software\" + 0.003*\"issues\" + 0.003*\"going\" + 0.003*\"thing\" + 0.003*\"world\" + 0.003*\"know\" + 0.003*\"play\" + 0.003*\"pretty\" + 0.003*\"way\" + 0.003*\"test\" + 0.003*\"year\" + 0.003*\"team\" + 0.003*\"really\" + 0.003*\"whiteboard\" + 0.003*\"actually\" + 0.003*\"tell\" + 0.003*\"bad\" + 0.003*\"issue\" + 0.003*\"solution\" + 0.003*\"did\" + 0.003*\"fix\" + 0.003*\"testing\" + 0.003*\"isn\" + 0.002*\"heard\" + 0.002*\"haven\" + 0.002*\"tests\" + 0.002*\"try\" + 0.002*\"definitely\" + 0.002*\"talk\" + 0.002*\"quality\" + 0.002*\"kind\" + 0.002*\"best\" + 0.002*\"process\" + 0.002*\"big\" + 0.002*\"having\" + 0.002*\"long time\" + 0.002*\"far\" + 0.002*\"got\" + 0.002*\"didn\" + 0.002*\"fun\" + 0.002*\"don\" + 0.002*\"trying\" + 0.002*\"engineering\" + 0.002*\"working\" + 0.002*\"different\" + 0.002*\"think\" + 0.002*\"candidate\" + 0.002*\"right\" + 0.002*\"idea\" + 0.002*\"seen\" + 0.002*\"luck\" + 0.002*\"playing\" + 0.002*\"thank\" + 0.002*\"hard\" + 0.002*\"probably\" + 0.002*\"algorithm\" + 0.002*\"looking\" + 0.002*\"answer\" + 0.002*\"interviews\" + 0.002*\"start\" + 0.002*\"help\" + 0.002*\"people\" + 0.002*\"technical\" + 0.002*\"cool\" + 0.002*\"developers\" + 0.002*\"works\" + 0.002*\"past\" + 0.002*\"ask\" + 0.001*\"mario\" + 0.001*\"doing\" + 0.001*\"solved\" + 0.001*\"change\" + 0.001*\"want\"\n",
      "2017-06-05 21:01:29,246 : INFO : topic #14 (0.067): 0.023*\"data\" + 0.017*\"like\" + 0.010*\"use\" + 0.008*\"type\" + 0.007*\"case\" + 0.007*\"used\" + 0.007*\"read\" + 0.006*\"looks\" + 0.006*\"types\" + 0.005*\"example\" + 0.005*\"function\" + 0.005*\"cases\" + 0.005*\"value\" + 0.004*\"bit\" + 0.004*\"list\" + 0.004*\"looks like\" + 0.004*\"error\" + 0.004*\"does\" + 0.003*\"different\" + 0.003*\"change\" + 0.003*\"object\" + 0.003*\"quite\" + 0.003*\"just\" + 0.003*\"using\" + 0.003*\"non\" + 0.003*\"return\" + 0.003*\"add\" + 0.003*\"storage\" + 0.003*\"look\" + 0.003*\"method\" + 0.002*\"instead\" + 0.002*\"syntax\" + 0.002*\"specific\" + 0.002*\"null\" + 0.002*\"style\" + 0.002*\"functions\" + 0.002*\"examples\" + 0.002*\"set\" + 0.002*\"article\" + 0.002*\"single\" + 0.002*\"multiple\" + 0.002*\"database\" + 0.002*\"common\" + 0.002*\"pattern\" + 0.002*\"similar\" + 0.002*\"state\" + 0.002*\"int\" + 0.002*\"check\" + 0.002*\"information\" + 0.002*\"string\" + 0.002*\"class\" + 0.002*\"values\" + 0.002*\"copy\" + 0.002*\"sql\" + 0.002*\"tree\" + 0.002*\"thing\" + 0.002*\"input\" + 0.002*\"macros\" + 0.002*\"errors\" + 0.002*\"ve\" + 0.002*\"reference\" + 0.002*\"idea\" + 0.002*\"standard\" + 0.002*\"order\" + 0.002*\"editor\" + 0.002*\"special\" + 0.002*\"context\" + 0.002*\"things\" + 0.002*\"rules\" + 0.002*\"variable\" + 0.002*\"exactly\" + 0.002*\"problem\" + 0.002*\"methods\" + 0.002*\"hash\" + 0.002*\"names\" + 0.002*\"forgot\" + 0.002*\"results\" + 0.001*\"structure\" + 0.001*\"lists\" + 0.001*\"correct\" + 0.001*\"ve read\" + 0.001*\"called\" + 0.001*\"result\" + 0.001*\"usage\" + 0.001*\"objects\" + 0.001*\"model\" + 0.001*\"block\" + 0.001*\"macro\" + 0.001*\"binary\" + 0.001*\"guide\" + 0.001*\"oracle\" + 0.001*\"pretty\" + 0.001*\"actually\" + 0.001*\"bytecode\" + 0.001*\"intersection\" + 0.001*\"writes\" + 0.001*\"privacy\" + 0.001*\"defined\" + 0.001*\"feature\" + 0.001*\"handle\"\n"
     ]
    },
    {
     "data": {
      "text/plain": [
       "[(0,\n",
       "  '0.008*\"companies\" + 0.008*\"uber\" + 0.008*\"cost\" + 0.008*\"company\" + 0.008*\"market\" + 0.008*\"business\" + 0.006*\"price\" + 0.006*\"people\" + 0.006*\"car\" + 0.005*\"long\" + 0.004*\"money\" + 0.004*\"tech\" + 0.004*\"tip\" + 0.004*\"high\" + 0.004*\"just\" + 0.004*\"self\" + 0.004*\"going\" + 0.004*\"buy\" + 0.003*\"term\" + 0.003*\"costs\" + 0.003*\"quality\" + 0.003*\"point\" + 0.003*\"small\" + 0.003*\"drivers\" + 0.003*\"probably\" + 0.003*\"big\" + 0.003*\"make\" + 0.003*\"model\" + 0.003*\"driving\" + 0.003*\"low\" + 0.003*\"industry\" + 0.003*\"cars\" + 0.003*\"tesla\" + 0.003*\"expensive\" + 0.003*\"time\" + 0.003*\"years\" + 0.003*\"like\" + 0.003*\"ve\" + 0.003*\"new\" + 0.003*\"million\" + 0.003*\"risk\" + 0.002*\"startup\" + 0.002*\"cheap\" + 0.002*\"prices\" + 0.002*\"stock\" + 0.002*\"supply\" + 0.002*\"large\" + 0.002*\"sell\" + 0.002*\"customers\" + 0.002*\"service\" + 0.002*\"value\" + 0.002*\"worth\" + 0.002*\"sales\" + 0.002*\"profit\" + 0.002*\"short\" + 0.002*\"startups\" + 0.002*\"businesses\" + 0.002*\"cheaper\" + 0.002*\"cash\" + 0.002*\"long term\" + 0.002*\"product\" + 0.002*\"lot\" + 0.002*\"meat\" + 0.002*\"good\" + 0.002*\"think\" + 0.002*\"twitter\" + 0.002*\"getting\" + 0.002*\"selling\" + 0.002*\"drive\" + 0.002*\"demand\" + 0.002*\"buying\" + 0.002*\"amazon\" + 0.002*\"making\" + 0.002*\"huge\" + 0.002*\"future\" + 0.002*\"investment\" + 0.002*\"pricing\" + 0.002*\"successful\" + 0.002*\"scale\" + 0.002*\"news\" + 0.002*\"tips\" + 0.002*\"medium\" + 0.002*\"products\" + 0.002*\"technology\" + 0.002*\"success\" + 0.001*\"competition\" + 0.001*\"millions\" + 0.001*\"status\" + 0.001*\"thing\" + 0.001*\"investors\" + 0.001*\"actually\" + 0.001*\"great\" + 0.001*\"growth\" + 0.001*\"hacker\" + 0.001*\"start\" + 0.001*\"dollars\" + 0.001*\"year\" + 0.001*\"right\" + 0.001*\"pretty\" + 0.001*\"day\"'),\n",
       " (1,\n",
       "  '0.025*\"people\" + 0.012*\"don\" + 0.009*\"think\" + 0.008*\"doesn\" + 0.008*\"say\" + 0.007*\"mean\" + 0.007*\"just\" + 0.007*\"point\" + 0.007*\"know\" + 0.007*\"does\" + 0.006*\"like\" + 0.005*\"question\" + 0.005*\"article\" + 0.005*\"person\" + 0.005*\"make\" + 0.005*\"understand\" + 0.005*\"actually\" + 0.004*\"way\" + 0.004*\"true\" + 0.004*\"fact\" + 0.004*\"wrong\" + 0.004*\"saying\" + 0.004*\"said\" + 0.004*\"believe\" + 0.004*\"evidence\" + 0.004*\"argument\" + 0.004*\"isn\" + 0.004*\"case\" + 0.003*\"human\" + 0.003*\"real\" + 0.003*\"didn\" + 0.003*\"different\" + 0.003*\"comment\" + 0.003*\"men\" + 0.003*\"means\" + 0.003*\"right\" + 0.003*\"reason\" + 0.003*\"talking\" + 0.003*\"sure\" + 0.003*\"did\" + 0.002*\"care\" + 0.002*\"things\" + 0.002*\"science\" + 0.002*\"clear\" + 0.002*\"number\" + 0.002*\"women\" + 0.002*\"answer\" + 0.002*\"really\" + 0.002*\"read\" + 0.002*\"matter\" + 0.002*\"example\" + 0.002*\"words\" + 0.002*\"given\" + 0.002*\"non\" + 0.002*\"value\" + 0.002*\"yes\" + 0.002*\"simply\" + 0.002*\"claim\" + 0.002*\"says\" + 0.002*\"credit\" + 0.002*\"reality\" + 0.002*\"good\" + 0.002*\"based\" + 0.002*\"word\" + 0.002*\"humans\" + 0.002*\"black\" + 0.002*\"aren\" + 0.002*\"agree\" + 0.002*\"exist\" + 0.002*\"change\" + 0.002*\"having\" + 0.002*\"definition\" + 0.002*\"response\" + 0.002*\"possible\" + 0.002*\"explain\" + 0.002*\"view\" + 0.002*\"mb\" + 0.002*\"statement\" + 0.002*\"argue\" + 0.002*\"correct\" + 0.002*\"don know\" + 0.002*\"study\" + 0.002*\"particular\" + 0.002*\"difference\" + 0.002*\"clearly\" + 0.002*\"discussion\" + 0.002*\"meaning\" + 0.002*\"better\" + 0.002*\"doesn mean\" + 0.002*\"general\" + 0.001*\"context\" + 0.001*\"reasonable\" + 0.001*\"life\" + 0.001*\"thought\" + 0.001*\"man\" + 0.001*\"truth\" + 0.001*\"obvious\" + 0.001*\"theory\" + 0.001*\"don think\" + 0.001*\"don understand\"'),\n",
       " (2,\n",
       "  '0.020*\"google\" + 0.012*\"open\" + 0.010*\"content\" + 0.009*\"free\" + 0.009*\"source\" + 0.009*\"don\" + 0.009*\"software\" + 0.008*\"product\" + 0.008*\"users\" + 0.008*\"make\" + 0.007*\"internet\" + 0.007*\"use\" + 0.007*\"facebook\" + 0.006*\"service\" + 0.006*\"want\" + 0.006*\"open source\" + 0.006*\"ads\" + 0.006*\"site\" + 0.006*\"just\" + 0.005*\"like\" + 0.005*\"security\" + 0.005*\"company\" + 0.005*\"network\" + 0.004*\"ad\" + 0.004*\"license\" + 0.004*\"sites\" + 0.004*\"email\" + 0.004*\"money\" + 0.004*\"need\" + 0.004*\"access\" + 0.004*\"business\" + 0.003*\"time\" + 0.003*\"nintendo\" + 0.003*\"app\" + 0.003*\"companies\" + 0.003*\"online\" + 0.003*\"devices\" + 0.003*\"phone\" + 0.003*\"gpl\" + 0.003*\"web\" + 0.003*\"services\" + 0.003*\"doesn\" + 0.003*\"advertising\" + 0.003*\"good\" + 0.003*\"project\" + 0.003*\"know\" + 0.003*\"device\" + 0.003*\"pay\" + 0.002*\"products\" + 0.002*\"user\" + 0.002*\"sell\" + 0.002*\"lock\" + 0.002*\"new\" + 0.002*\"let\" + 0.002*\"llc\" + 0.002*\"idea\" + 0.002*\"support\" + 0.002*\"marketing\" + 0.002*\"sure\" + 0.002*\"people\" + 0.002*\"networks\" + 0.002*\"account\" + 0.002*\"big\" + 0.002*\"angular\" + 0.002*\"ll\" + 0.002*\"website\" + 0.002*\"isn\" + 0.002*\"projects\" + 0.002*\"provide\" + 0.002*\"paid\" + 0.002*\"available\" + 0.002*\"microsoft\" + 0.002*\"did\" + 0.002*\"freebsd\" + 0.002*\"commercial\" + 0.002*\"bitcoin\" + 0.002*\"making\" + 0.002*\"won\" + 0.002*\"fake\" + 0.002*\"digital\" + 0.002*\"work\" + 0.002*\"tracking\" + 0.002*\"upgrade\" + 0.002*\"slack\" + 0.002*\"going\" + 0.002*\"community\" + 0.002*\"using\" + 0.002*\"search\" + 0.001*\"personal\" + 0.001*\"way\" + 0.001*\"founder\" + 0.001*\"websites\" + 0.001*\"offer\" + 0.001*\"non\" + 0.001*\"block\" + 0.001*\"messages\" + 0.001*\"smartphone\" + 0.001*\"customers\" + 0.001*\"drm\" + 0.001*\"create\"'),\n",
       " (3,\n",
       "  '0.013*\"use\" + 0.008*\"just\" + 0.007*\"user\" + 0.007*\"information\" + 0.006*\"does\" + 0.006*\"want\" + 0.006*\"traffic\" + 0.005*\"android\" + 0.005*\"phone\" + 0.005*\"using\" + 0.005*\"run\" + 0.005*\"pulseaudio\" + 0.004*\"access\" + 0.004*\"audio\" + 0.004*\"service\" + 0.004*\"need\" + 0.004*\"don\" + 0.004*\"ve\" + 0.004*\"share\" + 0.004*\"ip\" + 0.004*\"alsa\" + 0.004*\"data\" + 0.004*\"linux\" + 0.003*\"account\" + 0.003*\"desktop\" + 0.003*\"kernel\" + 0.003*\"different\" + 0.003*\"click\" + 0.003*\"doesn\" + 0.003*\"apng\" + 0.003*\"sure\" + 0.003*\"services\" + 0.003*\"like\" + 0.003*\"format\" + 0.003*\"key\" + 0.003*\"work\" + 0.003*\"ios\" + 0.003*\"address\" + 0.003*\"home\" + 0.003*\"case\" + 0.003*\"number\" + 0.002*\"having\" + 0.002*\"switch\" + 0.002*\"running\" + 0.002*\"netflix\" + 0.002*\"cloud\" + 0.002*\"party\" + 0.002*\"email\" + 0.002*\"bike\" + 0.002*\"tried\" + 0.002*\"trust\" + 0.002*\"aws\" + 0.002*\"password\" + 0.002*\"multiple\" + 0.002*\"signal\" + 0.002*\"app\" + 0.002*\"gif\" + 0.002*\"tv\" + 0.002*\"host\" + 0.002*\"connection\" + 0.002*\"way\" + 0.002*\"completely\" + 0.002*\"freedom\" + 0.002*\"able\" + 0.002*\"network\" + 0.002*\"cross\" + 0.002*\"info\" + 0.002*\"wouldn\" + 0.002*\"sent\" + 0.002*\"request\" + 0.002*\"scroll\" + 0.002*\"isp\" + 0.002*\"used\" + 0.002*\"mobile\" + 0.002*\"video\" + 0.002*\"voice\" + 0.002*\"time\" + 0.002*\"provider\" + 0.002*\"isps\" + 0.002*\"public\" + 0.002*\"single\" + 0.002*\"platform\" + 0.002*\"docker\" + 0.002*\"mail\" + 0.002*\"sign\" + 0.002*\"hosting\" + 0.002*\"make\" + 0.002*\"fb\" + 0.002*\"player\" + 0.002*\"set\" + 0.002*\"debian\" + 0.002*\"computer\" + 0.002*\"send\" + 0.002*\"hardware\" + 0.002*\"control\" + 0.002*\"music\" + 0.002*\"know\" + 0.002*\"store\" + 0.001*\"accounts\" + 0.001*\"lot\"'),\n",
       " (4,\n",
       "  '0.011*\"life\" + 0.008*\"post\" + 0.007*\"like\" + 0.006*\"hn\" + 0.006*\"people\" + 0.006*\"ve\" + 0.006*\"social\" + 0.005*\"title\" + 0.004*\"friends\" + 0.004*\"didn\" + 0.004*\"got\" + 0.004*\"thing\" + 0.004*\"search\" + 0.004*\"comment\" + 0.004*\"point\" + 0.004*\"just\" + 0.004*\"pro\" + 0.003*\"read\" + 0.003*\"commit\" + 0.003*\"happy\" + 0.003*\"link\" + 0.003*\"right\" + 0.003*\"think\" + 0.003*\"did\" + 0.003*\"movie\" + 0.003*\"story\" + 0.003*\"way\" + 0.003*\"thanks\" + 0.003*\"privacy\" + 0.003*\"oh\" + 0.003*\"battery\" + 0.003*\"kids\" + 0.003*\"laptop\" + 0.003*\"family\" + 0.003*\"interesting\" + 0.003*\"parent\" + 0.003*\"maybe\" + 0.002*\"ratings\" + 0.002*\"thought\" + 0.002*\"comments\" + 0.002*\"new\" + 0.002*\"away\" + 0.002*\"film\" + 0.002*\"media\" + 0.002*\"yes\" + 0.002*\"thread\" + 0.002*\"probably\" + 0.002*\"stories\" + 0.002*\"article\" + 0.002*\"ask\" + 0.002*\"bsd\" + 0.002*\"seen\" + 0.002*\"treatment\" + 0.002*\"audience\" + 0.002*\"kind\" + 0.002*\"guess\" + 0.002*\"don\" + 0.002*\"stop\" + 0.002*\"community\" + 0.002*\"child\" + 0.002*\"hope\" + 0.002*\"ll\" + 0.002*\"blog post\" + 0.002*\"star\" + 0.002*\"said\" + 0.002*\"time\" + 0.002*\"person\" + 0.002*\"ah\" + 0.002*\"movies\" + 0.002*\"aware\" + 0.002*\"wasn\" + 0.002*\"know\" + 0.002*\"good\" + 0.002*\"old\" + 0.002*\"original\" + 0.002*\"day\" + 0.002*\"defend\" + 0.002*\"networking\" + 0.001*\"sure\" + 0.001*\"page\" + 0.001*\"cells\" + 0.001*\"mention\" + 0.001*\"calling\" + 0.001*\"looking\" + 0.001*\"arrow\" + 0.001*\"care\" + 0.001*\"agents\" + 0.001*\"children\" + 0.001*\"sorry\" + 0.001*\"interaction\" + 0.001*\"agent\" + 0.001*\"edit\" + 0.001*\"seeing\" + 0.001*\"self\" + 0.001*\"proof\" + 0.001*\"editing\" + 0.001*\"reading\" + 0.001*\"links\" + 0.001*\"phrase\" + 0.001*\"taken\"'),\n",
       " (5,\n",
       "  '0.023*\"https\" + 0.016*\"org\" + 0.013*\"github\" + 0.011*\"windows\" + 0.011*\"wikipedia\" + 0.011*\"web\" + 0.009*\"en\" + 0.009*\"wiki\" + 0.009*\"com\" + 0.009*\"use\" + 0.008*\"github com\" + 0.008*\"org wiki\" + 0.008*\"wikipedia org\" + 0.008*\"https github\" + 0.008*\"https en\" + 0.008*\"en wikipedia\" + 0.007*\"browser\" + 0.007*\"linux\" + 0.007*\"using\" + 0.007*\"page\" + 0.006*\"server\" + 0.006*\"support\" + 0.006*\"file\" + 0.006*\"apps\" + 0.005*\"react\" + 0.005*\"app\" + 0.005*\"html\" + 0.005*\"gitlab\" + 0.005*\"version\" + 0.004*\"os\" + 0.004*\"text\" + 0.004*\"install\" + 0.004*\"just\" + 0.004*\"like\" + 0.004*\"issues\" + 0.004*\"microsoft\" + 0.004*\"files\" + 0.004*\"chrome\" + 0.004*\"firefox\" + 0.003*\"git\" + 0.003*\"io\" + 0.003*\"used\" + 0.003*\"http\" + 0.003*\"user\" + 0.003*\"ms\" + 0.003*\"running\" + 0.003*\"css\" + 0.003*\"native\" + 0.003*\"ui\" + 0.003*\"open\" + 0.003*\"release\" + 0.003*\"client\" + 0.003*\"download\" + 0.003*\"docs\" + 0.002*\"works\" + 0.002*\"mac\" + 0.002*\"default\" + 0.002*\"update\" + 0.002*\"browsers\" + 0.002*\"source\" + 0.002*\"updates\" + 0.002*\"master\" + 0.002*\"json\" + 0.002*\"run\" + 0.002*\"window\" + 0.002*\"does\" + 0.002*\"work\" + 0.002*\"add\" + 0.002*\"aframe\" + 0.002*\"bar\" + 0.002*\"jpeg\" + 0.002*\"api\" + 0.002*\"supported\" + 0.002*\"new\" + 0.002*\"nice\" + 0.002*\"users\" + 0.002*\"module\" + 0.002*\"command\" + 0.002*\"edit\" + 0.002*\"display\" + 0.002*\"site\" + 0.002*\"screen\" + 0.002*\"list\" + 0.002*\"stack\" + 0.002*\"unix\" + 0.002*\"pages\" + 0.002*\"keys\" + 0.002*\"link\" + 0.002*\"emacs\" + 0.002*\"web components\" + 0.002*\"blob\" + 0.002*\"keyboard\" + 0.001*\"based\" + 0.001*\"archive\" + 0.001*\"terminal\" + 0.001*\"released\" + 0.001*\"mobile\" + 0.001*\"example\" + 0.001*\"delaware\" + 0.001*\"roundup\"'),\n",
       " (6,\n",
       "  '0.021*\"don\" + 0.018*\"just\" + 0.018*\"think\" + 0.017*\"like\" + 0.015*\"really\" + 0.012*\"people\" + 0.010*\"work\" + 0.009*\"need\" + 0.009*\"know\" + 0.008*\"way\" + 0.008*\"time\" + 0.008*\"want\" + 0.007*\"make\" + 0.007*\"ve\" + 0.007*\"things\" + 0.006*\"lot\" + 0.005*\"good\" + 0.005*\"feel\" + 0.005*\"makes\" + 0.005*\"better\" + 0.005*\"doing\" + 0.005*\"hard\" + 0.004*\"thing\" + 0.004*\"going\" + 0.004*\"sense\" + 0.004*\"learn\" + 0.004*\"experience\" + 0.004*\"ll\" + 0.003*\"programming\" + 0.003*\"don think\" + 0.003*\"actually\" + 0.003*\"stuff\" + 0.003*\"probably\" + 0.003*\"years\" + 0.003*\"end\" + 0.003*\"understand\" + 0.003*\"day\" + 0.003*\"don know\" + 0.003*\"new\" + 0.003*\"learning\" + 0.003*\"right\" + 0.003*\"working\" + 0.002*\"having\" + 0.002*\"point\" + 0.002*\"math\" + 0.002*\"bit\" + 0.002*\"course\" + 0.002*\"little\" + 0.002*\"language\" + 0.002*\"job\" + 0.002*\"look\" + 0.002*\"kind\" + 0.002*\"doesn\" + 0.002*\"trying\" + 0.002*\"best\" + 0.002*\"maybe\" + 0.002*\"come\" + 0.002*\"start\" + 0.002*\"level\" + 0.002*\"help\" + 0.002*\"getting\" + 0.002*\"say\" + 0.002*\"great\" + 0.002*\"sure\" + 0.002*\"different\" + 0.002*\"scala\" + 0.002*\"able\" + 0.002*\"pretty\" + 0.002*\"try\" + 0.002*\"idea\" + 0.002*\"isn\" + 0.002*\"looking\" + 0.002*\"feel like\" + 0.002*\"skills\" + 0.002*\"book\" + 0.002*\"agree\" + 0.002*\"easy\" + 0.002*\"started\" + 0.001*\"worked\" + 0.001*\"makes sense\" + 0.001*\"knowledge\" + 0.001*\"important\" + 0.001*\"components\" + 0.001*\"love\" + 0.001*\"easier\" + 0.001*\"thinking\" + 0.001*\"simple\" + 0.001*\"mind\" + 0.001*\"got\" + 0.001*\"quite\" + 0.001*\"especially\" + 0.001*\"advice\" + 0.001*\"school\" + 0.001*\"world\" + 0.001*\"common\" + 0.001*\"problem\" + 0.001*\"making\" + 0.001*\"ideas\" + 0.001*\"don want\" + 0.001*\"instead\"'),\n",
       " (7,\n",
       "  '0.008*\"women\" + 0.008*\"did\" + 0.007*\"war\" + 0.006*\"history\" + 0.005*\"patent\" + 0.004*\"later\" + 0.004*\"author\" + 0.004*\"read\" + 0.004*\"years\" + 0.004*\"wasn\" + 0.004*\"art\" + 0.004*\"corp\" + 0.004*\"man\" + 0.004*\"say\" + 0.003*\"remember\" + 0.003*\"russia\" + 0.003*\"female\" + 0.003*\"japanese\" + 0.003*\"patents\" + 0.003*\"culture\" + 0.003*\"lyft\" + 0.003*\"didn\" + 0.003*\"world\" + 0.003*\"reading\" + 0.003*\"just\" + 0.003*\"said\" + 0.003*\"comments\" + 0.003*\"china\" + 0.003*\"guy\" + 0.002*\"came\" + 0.002*\"english\" + 0.002*\"god\" + 0.002*\"reddit\" + 0.002*\"male\" + 0.002*\"th\" + 0.002*\"notes\" + 0.002*\"yep\" + 0.002*\"russian\" + 0.002*\"today\" + 0.002*\"comment\" + 0.002*\"dr\" + 0.002*\"recall\" + 0.002*\"totally\" + 0.002*\"likely\" + 0.002*\"usd\" + 0.002*\"restaurant\" + 0.002*\"chinese\" + 0.002*\"remain\" + 0.002*\"wonder\" + 0.002*\"time\" + 0.002*\"gun\" + 0.002*\"original\" + 0.002*\"like\" + 0.002*\"woman\" + 0.002*\"late\" + 0.002*\"fuck\" + 0.002*\"story\" + 0.002*\"early\" + 0.002*\"coffee\" + 0.002*\"mit\" + 0.002*\"thought\" + 0.002*\"right\" + 0.002*\"got\" + 0.002*\"years later\" + 0.002*\"bias\" + 0.002*\"sum\" + 0.002*\"databases\" + 0.002*\"labour\" + 0.002*\"restrictions\" + 0.002*\"gold\" + 0.001*\"codecs\" + 0.001*\"macos\" + 0.001*\"directed\" + 0.001*\"neat\" + 0.001*\"entertainment\" + 0.001*\"section\" + 0.001*\"analytics\" + 0.001*\"origin\" + 0.001*\"going\" + 0.001*\"tl\" + 0.001*\"paper\" + 0.001*\"long\" + 0.001*\"imbalance\" + 0.001*\"internet\" + 0.001*\"onions\" + 0.001*\"agreed\" + 0.001*\"tl dr\" + 0.001*\"sticker\" + 0.001*\"honest\" + 0.001*\"headline\" + 0.001*\"mind\" + 0.001*\"pre\" + 0.001*\"century\" + 0.001*\"ass\" + 0.001*\"artificial\" + 0.001*\"referring\" + 0.001*\"sex\" + 0.001*\"far\" + 0.001*\"shock\" + 0.001*\"true\"'),\n",
       " (8,\n",
       "  '0.009*\"government\" + 0.009*\"law\" + 0.007*\"right\" + 0.006*\"state\" + 0.006*\"power\" + 0.005*\"people\" + 0.005*\"trump\" + 0.005*\"like\" + 0.005*\"bad\" + 0.004*\"public\" + 0.004*\"legal\" + 0.004*\"states\" + 0.004*\"political\" + 0.004*\"society\" + 0.003*\"laws\" + 0.003*\"age\" + 0.003*\"court\" + 0.003*\"policy\" + 0.003*\"think\" + 0.003*\"world\" + 0.003*\"way\" + 0.003*\"risk\" + 0.003*\"vote\" + 0.002*\"party\" + 0.002*\"dating\" + 0.002*\"rights\" + 0.002*\"free\" + 0.002*\"anti\" + 0.002*\"rules\" + 0.002*\"want\" + 0.002*\"thing\" + 0.002*\"social\" + 0.002*\"just\" + 0.002*\"best\" + 0.002*\"interests\" + 0.002*\"act\" + 0.002*\"good\" + 0.002*\"current\" + 0.002*\"change\" + 0.002*\"idea\" + 0.002*\"isn\" + 0.002*\"regulation\" + 0.002*\"case\" + 0.002*\"place\" + 0.002*\"united\" + 0.002*\"majority\" + 0.002*\"american\" + 0.002*\"economic\" + 0.002*\"win\" + 0.002*\"views\" + 0.002*\"moral\" + 0.002*\"kind\" + 0.002*\"likely\" + 0.002*\"possible\" + 0.002*\"voting\" + 0.002*\"regulations\" + 0.002*\"does\" + 0.002*\"private\" + 0.002*\"result\" + 0.002*\"wing\" + 0.002*\"human\" + 0.002*\"united states\" + 0.002*\"control\" + 0.001*\"let\" + 0.001*\"decision\" + 0.001*\"agree\" + 0.001*\"effect\" + 0.001*\"federal\" + 0.001*\"left\" + 0.001*\"san\" + 0.001*\"order\" + 0.001*\"means\" + 0.001*\"citizens\" + 0.001*\"issue\" + 0.001*\"net\" + 0.001*\"position\" + 0.001*\"making\" + 0.001*\"certain\" + 0.001*\"era\" + 0.001*\"fight\" + 0.001*\"rule\" + 0.001*\"individual\" + 0.001*\"example\" + 0.001*\"important\" + 0.001*\"policies\" + 0.001*\"property\" + 0.001*\"fly\" + 0.001*\"orders\" + 0.001*\"chance\" + 0.001*\"defense\" + 0.001*\"better\" + 0.001*\"market\" + 0.001*\"action\" + 0.001*\"support\" + 0.001*\"wouldn\" + 0.001*\"research\" + 0.001*\"democracy\" + 0.001*\"financial\" + 0.001*\"given\" + 0.001*\"culture\"'),\n",
       " (9,\n",
       "  '0.014*\"pay\" + 0.013*\"money\" + 0.010*\"work\" + 0.009*\"job\" + 0.009*\"people\" + 0.008*\"year\" + 0.007*\"jobs\" + 0.007*\"tax\" + 0.005*\"item\" + 0.005*\"rate\" + 0.005*\"paying\" + 0.005*\"home\" + 0.005*\"income\" + 0.005*\"ycombinator\" + 0.005*\"paid\" + 0.005*\"company\" + 0.005*\"country\" + 0.005*\"ycombinator com\" + 0.005*\"id\" + 0.005*\"https news\" + 0.005*\"living\" + 0.005*\"news ycombinator\" + 0.005*\"news\" + 0.004*\"time\" + 0.004*\"taxes\" + 0.004*\"hours\" + 0.004*\"item id\" + 0.004*\"com item\" + 0.004*\"live\" + 0.004*\"tipping\" + 0.004*\"debt\" + 0.004*\"don\" + 0.004*\"countries\" + 0.003*\"working\" + 0.003*\"driver\" + 0.003*\"health\" + 0.003*\"higher\" + 0.003*\"high\" + 0.003*\"insurance\" + 0.003*\"school\" + 0.003*\"government\" + 0.003*\"cost\" + 0.003*\"house\" + 0.003*\"poor\" + 0.003*\"education\" + 0.003*\"lower\" + 0.003*\"city\" + 0.003*\"month\" + 0.003*\"workers\" + 0.003*\"employees\" + 0.003*\"uk\" + 0.002*\"healthcare\" + 0.002*\"salary\" + 0.002*\"companies\" + 0.002*\"rates\" + 0.002*\"employee\" + 0.002*\"wage\" + 0.002*\"labor\" + 0.002*\"years\" + 0.002*\"rural\" + 0.002*\"college\" + 0.002*\"day\" + 0.002*\"class\" + 0.002*\"rating\" + 0.002*\"office\" + 0.002*\"employer\" + 0.002*\"average\" + 0.002*\"costs\" + 0.002*\"care\" + 0.002*\"getting\" + 0.002*\"spend\" + 0.002*\"america\" + 0.002*\"minimum\" + 0.002*\"hire\" + 0.002*\"family\" + 0.002*\"rent\" + 0.002*\"week\" + 0.002*\"lot\" + 0.002*\"kids\" + 0.002*\"local\" + 0.002*\"rich\" + 0.002*\"leave\" + 0.002*\"just\" + 0.002*\"low\" + 0.002*\"afford\" + 0.002*\"life\" + 0.002*\"area\" + 0.002*\"housing\" + 0.002*\"students\" + 0.002*\"capital\" + 0.002*\"places\" + 0.002*\"schools\" + 0.002*\"american\" + 0.002*\"million\" + 0.002*\"public\" + 0.002*\"wages\" + 0.002*\"middle\" + 0.002*\"remote\" + 0.002*\"free\" + 0.002*\"spending\"'),\n",
       " (10,\n",
       "  '0.021*\"code\" + 0.013*\"use\" + 0.007*\"java\" + 0.007*\"language\" + 0.006*\"using\" + 0.006*\"write\" + 0.004*\"memory\" + 0.004*\"systems\" + 0.004*\"time\" + 0.004*\"used\" + 0.004*\"like\" + 0.004*\"machine\" + 0.004*\"run\" + 0.003*\"build\" + 0.003*\"js\" + 0.003*\"need\" + 0.003*\"performance\" + 0.003*\"simple\" + 0.003*\"project\" + 0.003*\"library\" + 0.003*\"rust\" + 0.003*\"python\" + 0.003*\"design\" + 0.003*\"just\" + 0.003*\"easy\" + 0.003*\"tools\" + 0.003*\"features\" + 0.003*\"level\" + 0.003*\"does\" + 0.003*\"javascript\" + 0.003*\"writing\" + 0.003*\"written\" + 0.003*\"learning\" + 0.003*\"way\" + 0.003*\"api\" + 0.002*\"compiler\" + 0.002*\"program\" + 0.002*\"languages\" + 0.002*\"developers\" + 0.002*\"software\" + 0.002*\"really\" + 0.002*\"implementation\" + 0.002*\"new\" + 0.002*\"standard\" + 0.002*\"running\" + 0.002*\"development\" + 0.002*\"based\" + 0.002*\"lot\" + 0.002*\"example\" + 0.002*\"different\" + 0.002*\"hardware\" + 0.002*\"built\" + 0.002*\"support\" + 0.002*\"image\" + 0.002*\"application\" + 0.002*\"want\" + 0.002*\"possible\" + 0.002*\"great\" + 0.002*\"small\" + 0.002*\"libraries\" + 0.002*\"fast\" + 0.002*\"source\" + 0.002*\"faster\" + 0.002*\"better\" + 0.002*\"framework\" + 0.002*\"pretty\" + 0.002*\"easier\" + 0.002*\"vs\" + 0.002*\"line\" + 0.002*\"nice\" + 0.002*\"lines\" + 0.002*\"actually\" + 0.002*\"feature\" + 0.002*\"applications\" + 0.002*\"make\" + 0.002*\"set\" + 0.002*\"size\" + 0.002*\"stuff\" + 0.002*\"uses\" + 0.002*\"useful\" + 0.002*\"interesting\" + 0.002*\"dom\" + 0.002*\"core\" + 0.002*\"cpu\" + 0.002*\"test\" + 0.002*\"architecture\" + 0.002*\"single\" + 0.002*\"designed\" + 0.002*\"complex\" + 0.002*\"able\" + 0.002*\"end\" + 0.002*\"speed\" + 0.002*\"haskell\" + 0.002*\"implement\" + 0.002*\"compatible\" + 0.002*\"static\" + 0.002*\"source code\" + 0.002*\"instead\" + 0.002*\"model\" + 0.002*\"load\"'),\n",
       " (11,\n",
       "  '0.006*\"water\" + 0.005*\"light\" + 0.005*\"energy\" + 0.005*\"power\" + 0.004*\"police\" + 0.004*\"food\" + 0.004*\"city\" + 0.003*\"world\" + 0.003*\"fiber\" + 0.003*\"space\" + 0.003*\"air\" + 0.003*\"monsanto\" + 0.003*\"papers\" + 0.003*\"mass\" + 0.003*\"cold\" + 0.003*\"red\" + 0.003*\"new\" + 0.003*\"large\" + 0.002*\"like\" + 0.002*\"hole\" + 0.002*\"berkeley\" + 0.002*\"area\" + 0.002*\"pdf\" + 0.002*\"far\" + 0.002*\"earth\" + 0.002*\"global\" + 0.002*\"high\" + 0.002*\"drug\" + 0.002*\"times\" + 0.002*\"humanity\" + 0.002*\"military\" + 0.002*\"live\" + 0.002*\"article\" + 0.002*\"flight\" + 0.002*\"pressure\" + 0.002*\"nuclear\" + 0.002*\"body\" + 0.002*\"glyphosate\" + 0.002*\"population\" + 0.002*\"crime\" + 0.002*\"safe\" + 0.002*\"black\" + 0.002*\"small\" + 0.002*\"paper\" + 0.002*\"weight\" + 0.002*\"eat\" + 0.002*\"just\" + 0.002*\"land\" + 0.002*\"weapons\" + 0.002*\"budget\" + 0.002*\"cities\" + 0.002*\"australia\" + 0.002*\"effects\" + 0.002*\"cause\" + 0.002*\"black hole\" + 0.002*\"areas\" + 0.002*\"dangerous\" + 0.002*\"climate\" + 0.002*\"heat\" + 0.002*\"research\" + 0.002*\"speed\" + 0.002*\"scale\" + 0.002*\"quite\" + 0.002*\"place\" + 0.002*\"ideal\" + 0.002*\"near\" + 0.002*\"south\" + 0.002*\"aircraft\" + 0.002*\"comma\" + 0.002*\"case\" + 0.001*\"fear\" + 0.001*\"away\" + 0.001*\"human\" + 0.001*\"low\" + 0.001*\"lot\" + 0.001*\"german\" + 0.001*\"normal\" + 0.001*\"ground\" + 0.001*\"temperature\" + 0.001*\"north\" + 0.001*\"possible\" + 0.001*\"york\" + 0.001*\"inside\" + 0.001*\"feet\" + 0.001*\"new york\" + 0.001*\"offline\" + 0.001*\"kill\" + 0.001*\"plane\" + 0.001*\"close\" + 0.001*\"likely\" + 0.001*\"obama\" + 0.001*\"pretty\" + 0.001*\"traffic light\" + 0.001*\"probably\" + 0.001*\"french\" + 0.001*\"big\" + 0.001*\"safety\" + 0.001*\"produce\" + 0.001*\"glass\" + 0.001*\"bit\"'),\n",
       " (12,\n",
       "  '0.052*\"com\" + 0.038*\"https\" + 0.033*\"www\" + 0.029*\"http\" + 0.018*\"https www\" + 0.014*\"http www\" + 0.012*\"ago\" + 0.011*\"video\" + 0.011*\"years\" + 0.009*\"youtube\" + 0.009*\"news\" + 0.008*\"watch\" + 0.007*\"google\" + 0.007*\"like\" + 0.007*\"blog\" + 0.006*\"years ago\" + 0.006*\"org\" + 0.005*\"videos\" + 0.004*\"apple\" + 0.004*\"kotlin\" + 0.004*\"article\" + 0.004*\"amazon\" + 0.004*\"great\" + 0.004*\"html\" + 0.003*\"book\" + 0.003*\"youtube com\" + 0.003*\"sounds\" + 0.003*\"articles\" + 0.003*\"www youtube\" + 0.003*\"com watch\" + 0.003*\"year\" + 0.003*\"new\" + 0.003*\"day\" + 0.003*\"bay\" + 0.003*\"interesting\" + 0.002*\"yc\" + 0.002*\"google com\" + 0.002*\"net\" + 0.002*\"months\" + 0.002*\"link\" + 0.002*\"sounds like\" + 0.002*\"cloud\" + 0.002*\"aws\" + 0.002*\"looking\" + 0.002*\"gaming\" + 0.002*\"couple\" + 0.002*\"bay area\" + 0.002*\"vim\" + 0.002*\"recommend\" + 0.002*\"camera\" + 0.002*\"site\" + 0.002*\"vr\" + 0.002*\"days\" + 0.002*\"saw\" + 0.002*\"gov\" + 0.002*\"png\" + 0.002*\"page\" + 0.002*\"recently\" + 0.002*\"ipad\" + 0.002*\"time\" + 0.002*\"dropbox\" + 0.002*\"books\" + 0.002*\"edu\" + 0.002*\"ve\" + 0.002*\"archive\" + 0.002*\"launch\" + 0.002*\"bought\" + 0.002*\"week\" + 0.002*\"providers\" + 0.002*\"amazing\" + 0.002*\"good\" + 0.002*\"reading\" + 0.002*\"used\" + 0.002*\"similar\" + 0.002*\"designer\" + 0.002*\"lyrics\" + 0.002*\"jack\" + 0.001*\"drive\" + 0.001*\"search\" + 0.001*\"channel\" + 0.001*\"games\" + 0.001*\"looks\" + 0.001*\"post\" + 0.001*\"linear\" + 0.001*\"remember\" + 0.001*\"topic\" + 0.001*\"recent\" + 0.001*\"uk\" + 0.001*\"look\" + 0.001*\"gb\" + 0.001*\"check\" + 0.001*\"edit\" + 0.001*\"interested\" + 0.001*\"did\" + 0.001*\"pretty\" + 0.001*\"read\" + 0.001*\"story\" + 0.001*\"series\" + 0.001*\"got\" + 0.001*\"best\"'),\n",
       " (13,\n",
       "  '0.015*\"time\" + 0.014*\"problem\" + 0.012*\"good\" + 0.009*\"game\" + 0.009*\"ve\" + 0.008*\"things\" + 0.007*\"just\" + 0.007*\"problems\" + 0.007*\"lot\" + 0.007*\"years\" + 0.006*\"better\" + 0.006*\"games\" + 0.005*\"real\" + 0.005*\"like\" + 0.005*\"old\" + 0.005*\"work\" + 0.005*\"long\" + 0.005*\"thanks\" + 0.004*\"ll\" + 0.004*\"interview\" + 0.004*\"ai\" + 0.004*\"new\" + 0.004*\"sure\" + 0.004*\"questions\" + 0.004*\"maybe\" + 0.003*\"great\" + 0.003*\"solve\" + 0.003*\"software\" + 0.003*\"issues\" + 0.003*\"going\" + 0.003*\"thing\" + 0.003*\"world\" + 0.003*\"know\" + 0.003*\"play\" + 0.003*\"pretty\" + 0.003*\"way\" + 0.003*\"test\" + 0.003*\"year\" + 0.003*\"team\" + 0.003*\"really\" + 0.003*\"whiteboard\" + 0.003*\"actually\" + 0.003*\"tell\" + 0.003*\"bad\" + 0.003*\"issue\" + 0.003*\"solution\" + 0.003*\"did\" + 0.003*\"fix\" + 0.003*\"testing\" + 0.003*\"isn\" + 0.002*\"heard\" + 0.002*\"haven\" + 0.002*\"tests\" + 0.002*\"try\" + 0.002*\"definitely\" + 0.002*\"talk\" + 0.002*\"quality\" + 0.002*\"kind\" + 0.002*\"best\" + 0.002*\"process\" + 0.002*\"big\" + 0.002*\"having\" + 0.002*\"long time\" + 0.002*\"far\" + 0.002*\"got\" + 0.002*\"didn\" + 0.002*\"fun\" + 0.002*\"don\" + 0.002*\"trying\" + 0.002*\"engineering\" + 0.002*\"working\" + 0.002*\"different\" + 0.002*\"think\" + 0.002*\"candidate\" + 0.002*\"right\" + 0.002*\"idea\" + 0.002*\"seen\" + 0.002*\"luck\" + 0.002*\"playing\" + 0.002*\"thank\" + 0.002*\"hard\" + 0.002*\"probably\" + 0.002*\"algorithm\" + 0.002*\"looking\" + 0.002*\"answer\" + 0.002*\"interviews\" + 0.002*\"start\" + 0.002*\"help\" + 0.002*\"people\" + 0.002*\"technical\" + 0.002*\"cool\" + 0.002*\"developers\" + 0.002*\"works\" + 0.002*\"past\" + 0.002*\"ask\" + 0.001*\"mario\" + 0.001*\"doing\" + 0.001*\"solved\" + 0.001*\"change\" + 0.001*\"want\"'),\n",
       " (14,\n",
       "  '0.023*\"data\" + 0.017*\"like\" + 0.010*\"use\" + 0.008*\"type\" + 0.007*\"case\" + 0.007*\"used\" + 0.007*\"read\" + 0.006*\"looks\" + 0.006*\"types\" + 0.005*\"example\" + 0.005*\"function\" + 0.005*\"cases\" + 0.005*\"value\" + 0.004*\"bit\" + 0.004*\"list\" + 0.004*\"looks like\" + 0.004*\"error\" + 0.004*\"does\" + 0.003*\"different\" + 0.003*\"change\" + 0.003*\"object\" + 0.003*\"quite\" + 0.003*\"just\" + 0.003*\"using\" + 0.003*\"non\" + 0.003*\"return\" + 0.003*\"add\" + 0.003*\"storage\" + 0.003*\"look\" + 0.003*\"method\" + 0.002*\"instead\" + 0.002*\"syntax\" + 0.002*\"specific\" + 0.002*\"null\" + 0.002*\"style\" + 0.002*\"functions\" + 0.002*\"examples\" + 0.002*\"set\" + 0.002*\"article\" + 0.002*\"single\" + 0.002*\"multiple\" + 0.002*\"database\" + 0.002*\"common\" + 0.002*\"pattern\" + 0.002*\"similar\" + 0.002*\"state\" + 0.002*\"int\" + 0.002*\"check\" + 0.002*\"information\" + 0.002*\"string\" + 0.002*\"class\" + 0.002*\"values\" + 0.002*\"copy\" + 0.002*\"sql\" + 0.002*\"tree\" + 0.002*\"thing\" + 0.002*\"input\" + 0.002*\"macros\" + 0.002*\"errors\" + 0.002*\"ve\" + 0.002*\"reference\" + 0.002*\"idea\" + 0.002*\"standard\" + 0.002*\"order\" + 0.002*\"editor\" + 0.002*\"special\" + 0.002*\"context\" + 0.002*\"things\" + 0.002*\"rules\" + 0.002*\"variable\" + 0.002*\"exactly\" + 0.002*\"problem\" + 0.002*\"methods\" + 0.002*\"hash\" + 0.002*\"names\" + 0.002*\"forgot\" + 0.002*\"results\" + 0.001*\"structure\" + 0.001*\"lists\" + 0.001*\"correct\" + 0.001*\"ve read\" + 0.001*\"called\" + 0.001*\"result\" + 0.001*\"usage\" + 0.001*\"objects\" + 0.001*\"model\" + 0.001*\"block\" + 0.001*\"macro\" + 0.001*\"binary\" + 0.001*\"guide\" + 0.001*\"oracle\" + 0.001*\"pretty\" + 0.001*\"actually\" + 0.001*\"bytecode\" + 0.001*\"intersection\" + 0.001*\"writes\" + 0.001*\"privacy\" + 0.001*\"defined\" + 0.001*\"feature\" + 0.001*\"handle\"')]"
      ]
     },
     "execution_count": 117,
     "metadata": {},
     "output_type": "execute_result"
    }
   ],
   "source": [
    "lda.print_topics(num_words = 100)"
   ]
  },
  {
   "cell_type": "markdown",
   "metadata": {},
   "source": [
    "New LDA-learned topics after regex:\n",
    "- Workplace banter (like, life, look, old, human, time, world, women, years)\n",
    "- Talks on open knowledge (read, article, source, open, open source, book, community)\n",
    "- Data talk (gooogle, data, ai, deep, intelligence, research, networks, connection, model)\n",
    "- Software performance (memory, speed, size, math, module, infinite, papers, hash)\n",
    "- Programming languages (code, language, java, programming, javascript, js, python, api, rust)\n",
    "- Macro business/govt (wikipedia, government, countries, income, taxes, power, state, country, capital)\n",
    "- Changes in history (years, ago, city, years ago, new, later, america, times, land, happened)\n",
    "- Big software platforms (linux, windows, app, software, web, android, microsoft, aws)\n",
    "- 'Uber' effect (money, cost, uber, market, car, problem, service, self, driving, drivers, tesla)\n",
    "- Generic remarks (point, better, things, great, experiment, best, question, answers)\n",
    "- Code management (data, user, image, file, server, computer, browser, linear, kernel, source\n",
    "- Government (law, government, legal, private, public, policy, issue, patent, trust, trump)\n",
    "- Job/family concerns (people, work, want, job, money, culture, problem, poor, family)\n",
    "- Popular website links/attachments (github, google, pdf, post, page, dropbox, reddit, gitlab)\n",
    "- Job search (experience, interview, learning, school, great, company, years, skills, whiteboard, startup, technical, questions)"
   ]
  },
  {
   "cell_type": "markdown",
   "metadata": {},
   "source": [
    "This topics above are very insightful! Many have common buzzwords I've heard about the topics on Hacker News or from friends - but it's cool to all see them in one place!"
   ]
  },
  {
   "cell_type": "markdown",
   "metadata": {},
   "source": [
    "The LDA and clustering used simple bag of words approaches - so we don't know the context of words in sentences. So when we heard words like \"good\", \"bad\" and \"cars\", we don't know exactly what people generally associate cars with. Let's try to make conceptual comparisions between blocks of text."
   ]
  },
  {
   "cell_type": "markdown",
   "metadata": {},
   "source": [
    "**Word2vec**\n",
    "can create context windows like five-grams\n",
    "we need to assign each word or bigram an index from 0 - V  (v being # distinct words in corpus)\n",
    "Inputs: middle word\n",
    "Output: other words of context window\n",
    "\n",
    "Skip grams:\n",
    "We're trying to predict the words around a word.\n",
    "\n",
    "Continuous bag of words:\n",
    "given several words, can we predict the one-word associated with it"
   ]
  },
  {
   "cell_type": "code",
   "execution_count": 118,
   "metadata": {
    "collapsed": true
   },
   "outputs": [],
   "source": [
    "stop = set(['heh', 'wow', 'hah', 'hey', 'yeah','wtf', 'meh', 'oops', 'nah', 'yea','doesnt','dont',\n",
    "   'huh', 'mar', 'umm', 'like', 'think', 'duh', 'sigh', 'wheres', 'hmm','interesting','article',\n",
    "   'say', 'hello', 'yup','im', 'ltsarcasmgt', 'hehe', 'blah', 'nope', 'ouch', 'uh'] + stopwords.words('english'))"
   ]
  },
  {
   "cell_type": "code",
   "execution_count": 119,
   "metadata": {
    "collapsed": false
   },
   "outputs": [
    {
     "data": {
      "text/plain": [
       "186"
      ]
     },
     "execution_count": 119,
     "metadata": {},
     "output_type": "execute_result"
    }
   ],
   "source": [
    "len(stop)"
   ]
  },
  {
   "cell_type": "code",
   "execution_count": 120,
   "metadata": {
    "collapsed": false
   },
   "outputs": [
    {
     "name": "stderr",
     "output_type": "stream",
     "text": [
      "/Users/dan/anaconda/lib/python3.6/site-packages/ipykernel/__main__.py:1: SettingWithCopyWarning: \n",
      "A value is trying to be set on a copy of a slice from a DataFrame.\n",
      "Try using .loc[row_indexer,col_indexer] = value instead\n",
      "\n",
      "See the caveats in the documentation: http://pandas.pydata.org/pandas-docs/stable/indexing.html#indexing-view-versus-copy\n",
      "  if __name__ == '__main__':\n"
     ]
    }
   ],
   "source": [
    "df_type_comments['split_comment_words'] = df_type_comments['text'].str.lower().str.split()"
   ]
  },
  {
   "cell_type": "code",
   "execution_count": 121,
   "metadata": {
    "collapsed": false,
    "scrolled": true
   },
   "outputs": [],
   "source": [
    "texts = []\n",
    "\n",
    "for comment in df_type_comments.split_comment_words:\n",
    "    new_comment = []\n",
    "    for word in comment:\n",
    "        if word in stop:\n",
    "            pass  # we don't want to include this stop word\n",
    "        else:\n",
    "            new_comment.append(word)\n",
    "    texts.append(new_comment)"
   ]
  },
  {
   "cell_type": "code",
   "execution_count": 122,
   "metadata": {
    "collapsed": false
   },
   "outputs": [
    {
     "name": "stderr",
     "output_type": "stream",
     "text": [
      "2017-06-05 21:01:38,173 : INFO : collecting all words and their counts\n",
      "2017-06-05 21:01:38,175 : INFO : PROGRESS: at sentence #0, processed 0 words, keeping 0 word types\n",
      "2017-06-05 21:01:38,262 : INFO : PROGRESS: at sentence #10000, processed 331136 words, keeping 53803 word types\n",
      "2017-06-05 21:01:38,348 : INFO : PROGRESS: at sentence #20000, processed 673855 words, keeping 85612 word types\n",
      "2017-06-05 21:01:38,435 : INFO : PROGRESS: at sentence #30000, processed 985195 words, keeping 110268 word types\n",
      "2017-06-05 21:01:38,526 : INFO : PROGRESS: at sentence #40000, processed 1323020 words, keeping 133862 word types\n",
      "2017-06-05 21:01:38,622 : INFO : PROGRESS: at sentence #50000, processed 1667684 words, keeping 156219 word types\n",
      "2017-06-05 21:01:38,729 : INFO : PROGRESS: at sentence #60000, processed 2006941 words, keeping 175991 word types\n",
      "2017-06-05 21:01:38,823 : INFO : PROGRESS: at sentence #70000, processed 2335266 words, keeping 194175 word types\n",
      "2017-06-05 21:01:38,923 : INFO : PROGRESS: at sentence #80000, processed 2691347 words, keeping 213170 word types\n",
      "2017-06-05 21:01:39,019 : INFO : PROGRESS: at sentence #90000, processed 3032813 words, keeping 231152 word types\n",
      "2017-06-05 21:01:39,115 : INFO : PROGRESS: at sentence #100000, processed 3358023 words, keeping 246709 word types\n",
      "2017-06-05 21:01:39,216 : INFO : PROGRESS: at sentence #110000, processed 3676488 words, keeping 263220 word types\n",
      "2017-06-05 21:01:39,320 : INFO : PROGRESS: at sentence #120000, processed 4036415 words, keeping 280933 word types\n",
      "2017-06-05 21:01:39,432 : INFO : PROGRESS: at sentence #130000, processed 4420997 words, keeping 299972 word types\n",
      "2017-06-05 21:01:39,535 : INFO : PROGRESS: at sentence #140000, processed 4770116 words, keeping 316077 word types\n",
      "2017-06-05 21:01:39,638 : INFO : PROGRESS: at sentence #150000, processed 5118100 words, keeping 331234 word types\n",
      "2017-06-05 21:01:39,747 : INFO : PROGRESS: at sentence #160000, processed 5473468 words, keeping 345836 word types\n",
      "2017-06-05 21:01:39,868 : INFO : PROGRESS: at sentence #170000, processed 5812236 words, keeping 360275 word types\n",
      "2017-06-05 21:01:39,971 : INFO : PROGRESS: at sentence #180000, processed 6164583 words, keeping 374683 word types\n",
      "2017-06-05 21:01:40,066 : INFO : PROGRESS: at sentence #190000, processed 6483079 words, keeping 387719 word types\n",
      "2017-06-05 21:01:40,164 : INFO : PROGRESS: at sentence #200000, processed 6815245 words, keeping 401395 word types\n",
      "2017-06-05 21:01:40,265 : INFO : PROGRESS: at sentence #210000, processed 7146913 words, keeping 414885 word types\n",
      "2017-06-05 21:01:40,374 : INFO : PROGRESS: at sentence #220000, processed 7519412 words, keeping 429527 word types\n",
      "2017-06-05 21:01:40,473 : INFO : PROGRESS: at sentence #230000, processed 7853284 words, keeping 442511 word types\n",
      "2017-06-05 21:01:40,577 : INFO : PROGRESS: at sentence #240000, processed 8205247 words, keeping 455872 word types\n",
      "2017-06-05 21:01:40,645 : INFO : collected 464127 word types from a corpus of 8414103 raw words and 246175 sentences\n",
      "2017-06-05 21:01:40,646 : INFO : Loading a fresh vocabulary\n",
      "2017-06-05 21:01:40,919 : INFO : min_count=10 retains 46956 unique words (10% of original 464127, drops 417171)\n",
      "2017-06-05 21:01:40,920 : INFO : min_count=10 leaves 7682424 word corpus (91% of original 8414103, drops 731679)\n",
      "2017-06-05 21:01:41,044 : INFO : deleting the raw counts dictionary of 464127 items\n",
      "2017-06-05 21:01:41,055 : INFO : sample=0.001 downsamples 20 most-common words\n",
      "2017-06-05 21:01:41,056 : INFO : downsampling leaves estimated 7521808 word corpus (97.9% of prior 7682424)\n",
      "2017-06-05 21:01:41,057 : INFO : estimated required memory for 46956 words and 200 dimensions: 98607600 bytes\n",
      "2017-06-05 21:01:41,242 : INFO : resetting layer weights\n",
      "2017-06-05 21:01:41,883 : INFO : training model with 4 workers on 46956 vocabulary and 200 features, using sg=1 hs=0 sample=0.001 negative=5 window=4\n",
      "2017-06-05 21:01:42,895 : INFO : PROGRESS: at 1.07% examples, 389918 words/s, in_qsize 7, out_qsize 0\n",
      "2017-06-05 21:01:43,915 : INFO : PROGRESS: at 2.18% examples, 391615 words/s, in_qsize 7, out_qsize 0\n",
      "2017-06-05 21:01:44,923 : INFO : PROGRESS: at 3.32% examples, 399266 words/s, in_qsize 8, out_qsize 0\n",
      "2017-06-05 21:01:45,936 : INFO : PROGRESS: at 4.38% examples, 398411 words/s, in_qsize 8, out_qsize 0\n",
      "2017-06-05 21:01:46,937 : INFO : PROGRESS: at 5.51% examples, 400711 words/s, in_qsize 7, out_qsize 0\n",
      "2017-06-05 21:01:47,978 : INFO : PROGRESS: at 6.56% examples, 399618 words/s, in_qsize 8, out_qsize 0\n",
      "2017-06-05 21:01:48,985 : INFO : PROGRESS: at 7.71% examples, 401919 words/s, in_qsize 7, out_qsize 0\n",
      "2017-06-05 21:01:49,997 : INFO : PROGRESS: at 8.84% examples, 401208 words/s, in_qsize 7, out_qsize 0\n",
      "2017-06-05 21:01:51,004 : INFO : PROGRESS: at 9.86% examples, 401863 words/s, in_qsize 7, out_qsize 0\n",
      "2017-06-05 21:01:52,035 : INFO : PROGRESS: at 10.89% examples, 401207 words/s, in_qsize 8, out_qsize 0\n",
      "2017-06-05 21:01:53,047 : INFO : PROGRESS: at 11.93% examples, 401540 words/s, in_qsize 7, out_qsize 0\n",
      "2017-06-05 21:01:54,064 : INFO : PROGRESS: at 12.99% examples, 401705 words/s, in_qsize 7, out_qsize 0\n",
      "2017-06-05 21:01:55,089 : INFO : PROGRESS: at 14.08% examples, 401493 words/s, in_qsize 7, out_qsize 0\n",
      "2017-06-05 21:01:56,095 : INFO : PROGRESS: at 15.16% examples, 401262 words/s, in_qsize 8, out_qsize 0\n",
      "2017-06-05 21:01:57,096 : INFO : PROGRESS: at 16.22% examples, 400063 words/s, in_qsize 7, out_qsize 0\n",
      "2017-06-05 21:01:58,102 : INFO : PROGRESS: at 17.35% examples, 401015 words/s, in_qsize 7, out_qsize 0\n",
      "2017-06-05 21:01:59,121 : INFO : PROGRESS: at 18.35% examples, 400503 words/s, in_qsize 7, out_qsize 0\n",
      "2017-06-05 21:02:00,128 : INFO : PROGRESS: at 19.46% examples, 401340 words/s, in_qsize 7, out_qsize 0\n",
      "2017-06-05 21:02:01,136 : INFO : PROGRESS: at 20.56% examples, 401159 words/s, in_qsize 7, out_qsize 0\n",
      "2017-06-05 21:02:02,158 : INFO : PROGRESS: at 21.67% examples, 401611 words/s, in_qsize 7, out_qsize 0\n",
      "2017-06-05 21:02:03,167 : INFO : PROGRESS: at 22.78% examples, 400972 words/s, in_qsize 8, out_qsize 0\n",
      "2017-06-05 21:02:04,175 : INFO : PROGRESS: at 23.80% examples, 399998 words/s, in_qsize 7, out_qsize 0\n",
      "2017-06-05 21:02:05,187 : INFO : PROGRESS: at 24.87% examples, 399843 words/s, in_qsize 8, out_qsize 0\n",
      "2017-06-05 21:02:06,200 : INFO : PROGRESS: at 25.86% examples, 398204 words/s, in_qsize 7, out_qsize 0\n",
      "2017-06-05 21:02:07,230 : INFO : PROGRESS: at 26.86% examples, 397515 words/s, in_qsize 8, out_qsize 0\n",
      "2017-06-05 21:02:08,249 : INFO : PROGRESS: at 27.87% examples, 395670 words/s, in_qsize 7, out_qsize 0\n",
      "2017-06-05 21:02:09,271 : INFO : PROGRESS: at 28.87% examples, 393901 words/s, in_qsize 7, out_qsize 0\n",
      "2017-06-05 21:02:10,296 : INFO : PROGRESS: at 29.79% examples, 392534 words/s, in_qsize 7, out_qsize 0\n",
      "2017-06-05 21:02:11,297 : INFO : PROGRESS: at 30.73% examples, 392137 words/s, in_qsize 7, out_qsize 0\n",
      "2017-06-05 21:02:12,306 : INFO : PROGRESS: at 31.73% examples, 392007 words/s, in_qsize 7, out_qsize 0\n",
      "2017-06-05 21:02:13,336 : INFO : PROGRESS: at 32.77% examples, 391940 words/s, in_qsize 7, out_qsize 0\n",
      "2017-06-05 21:02:14,345 : INFO : PROGRESS: at 33.87% examples, 392647 words/s, in_qsize 7, out_qsize 0\n",
      "2017-06-05 21:02:15,368 : INFO : PROGRESS: at 34.90% examples, 392350 words/s, in_qsize 7, out_qsize 0\n",
      "2017-06-05 21:02:16,396 : INFO : PROGRESS: at 35.92% examples, 391256 words/s, in_qsize 7, out_qsize 0\n",
      "2017-06-05 21:02:17,397 : INFO : PROGRESS: at 37.01% examples, 391229 words/s, in_qsize 7, out_qsize 0\n",
      "2017-06-05 21:02:18,402 : INFO : PROGRESS: at 38.02% examples, 391668 words/s, in_qsize 8, out_qsize 0\n",
      "2017-06-05 21:02:19,412 : INFO : PROGRESS: at 39.09% examples, 391782 words/s, in_qsize 8, out_qsize 0\n",
      "2017-06-05 21:02:20,424 : INFO : PROGRESS: at 40.15% examples, 391862 words/s, in_qsize 8, out_qsize 0\n",
      "2017-06-05 21:02:21,468 : INFO : PROGRESS: at 41.32% examples, 392332 words/s, in_qsize 7, out_qsize 0\n",
      "2017-06-05 21:02:22,476 : INFO : PROGRESS: at 42.50% examples, 392896 words/s, in_qsize 7, out_qsize 0\n",
      "2017-06-05 21:02:23,483 : INFO : PROGRESS: at 43.58% examples, 393013 words/s, in_qsize 8, out_qsize 0\n",
      "2017-06-05 21:02:24,485 : INFO : PROGRESS: at 44.69% examples, 393603 words/s, in_qsize 7, out_qsize 0\n",
      "2017-06-05 21:02:25,498 : INFO : PROGRESS: at 45.77% examples, 393662 words/s, in_qsize 8, out_qsize 0\n",
      "2017-06-05 21:02:26,505 : INFO : PROGRESS: at 46.84% examples, 394170 words/s, in_qsize 7, out_qsize 0\n",
      "2017-06-05 21:02:27,519 : INFO : PROGRESS: at 47.96% examples, 394212 words/s, in_qsize 8, out_qsize 0\n",
      "2017-06-05 21:02:28,520 : INFO : PROGRESS: at 49.11% examples, 394512 words/s, in_qsize 8, out_qsize 0\n",
      "2017-06-05 21:02:29,567 : INFO : PROGRESS: at 50.08% examples, 394442 words/s, in_qsize 8, out_qsize 1\n",
      "2017-06-05 21:02:30,577 : INFO : PROGRESS: at 51.10% examples, 394264 words/s, in_qsize 7, out_qsize 0\n",
      "2017-06-05 21:02:31,621 : INFO : PROGRESS: at 52.10% examples, 393877 words/s, in_qsize 8, out_qsize 0\n",
      "2017-06-05 21:02:32,623 : INFO : PROGRESS: at 53.02% examples, 393135 words/s, in_qsize 7, out_qsize 0\n",
      "2017-06-05 21:02:33,625 : INFO : PROGRESS: at 53.96% examples, 392405 words/s, in_qsize 7, out_qsize 0\n",
      "2017-06-05 21:02:34,631 : INFO : PROGRESS: at 54.90% examples, 391673 words/s, in_qsize 7, out_qsize 0\n",
      "2017-06-05 21:02:35,689 : INFO : PROGRESS: at 55.99% examples, 391252 words/s, in_qsize 8, out_qsize 0\n",
      "2017-06-05 21:02:36,689 : INFO : PROGRESS: at 57.01% examples, 390767 words/s, in_qsize 7, out_qsize 0\n",
      "2017-06-05 21:02:37,752 : INFO : PROGRESS: at 57.96% examples, 390173 words/s, in_qsize 7, out_qsize 0\n",
      "2017-06-05 21:02:38,753 : INFO : PROGRESS: at 59.00% examples, 390180 words/s, in_qsize 7, out_qsize 0\n",
      "2017-06-05 21:02:39,762 : INFO : PROGRESS: at 60.01% examples, 389976 words/s, in_qsize 7, out_qsize 0\n",
      "2017-06-05 21:02:40,777 : INFO : PROGRESS: at 61.01% examples, 389461 words/s, in_qsize 8, out_qsize 0\n",
      "2017-06-05 21:02:41,788 : INFO : PROGRESS: at 62.08% examples, 389436 words/s, in_qsize 8, out_qsize 0\n",
      "2017-06-05 21:02:42,795 : INFO : PROGRESS: at 63.24% examples, 389847 words/s, in_qsize 8, out_qsize 0\n",
      "2017-06-05 21:02:43,833 : INFO : PROGRESS: at 64.29% examples, 389789 words/s, in_qsize 8, out_qsize 0\n",
      "2017-06-05 21:02:44,838 : INFO : PROGRESS: at 65.44% examples, 390223 words/s, in_qsize 8, out_qsize 0\n",
      "2017-06-05 21:02:45,854 : INFO : PROGRESS: at 66.48% examples, 390307 words/s, in_qsize 7, out_qsize 0\n",
      "2017-06-05 21:02:46,862 : INFO : PROGRESS: at 67.62% examples, 390697 words/s, in_qsize 7, out_qsize 0\n",
      "2017-06-05 21:02:47,868 : INFO : PROGRESS: at 68.73% examples, 390678 words/s, in_qsize 7, out_qsize 0\n",
      "2017-06-05 21:02:48,870 : INFO : PROGRESS: at 69.72% examples, 390545 words/s, in_qsize 7, out_qsize 0\n",
      "2017-06-05 21:02:49,876 : INFO : PROGRESS: at 70.65% examples, 390509 words/s, in_qsize 7, out_qsize 0\n",
      "2017-06-05 21:02:50,886 : INFO : PROGRESS: at 71.66% examples, 390465 words/s, in_qsize 7, out_qsize 0\n",
      "2017-06-05 21:02:51,887 : INFO : PROGRESS: at 72.66% examples, 390369 words/s, in_qsize 8, out_qsize 0\n",
      "2017-06-05 21:02:52,895 : INFO : PROGRESS: at 73.68% examples, 390339 words/s, in_qsize 7, out_qsize 0\n",
      "2017-06-05 21:02:53,913 : INFO : PROGRESS: at 74.73% examples, 390389 words/s, in_qsize 8, out_qsize 0\n",
      "2017-06-05 21:02:54,933 : INFO : PROGRESS: at 75.85% examples, 390427 words/s, in_qsize 7, out_qsize 0\n",
      "2017-06-05 21:02:55,957 : INFO : PROGRESS: at 76.90% examples, 390075 words/s, in_qsize 7, out_qsize 0\n",
      "2017-06-05 21:02:56,961 : INFO : PROGRESS: at 77.86% examples, 390060 words/s, in_qsize 7, out_qsize 0\n",
      "2017-06-05 21:02:57,971 : INFO : PROGRESS: at 78.93% examples, 390141 words/s, in_qsize 7, out_qsize 0\n",
      "2017-06-05 21:02:58,989 : INFO : PROGRESS: at 79.99% examples, 390177 words/s, in_qsize 7, out_qsize 0\n",
      "2017-06-05 21:02:59,998 : INFO : PROGRESS: at 81.10% examples, 390384 words/s, in_qsize 7, out_qsize 0\n",
      "2017-06-05 21:03:00,998 : INFO : PROGRESS: at 82.19% examples, 390404 words/s, in_qsize 7, out_qsize 0\n",
      "2017-06-05 21:03:02,020 : INFO : PROGRESS: at 83.30% examples, 390531 words/s, in_qsize 7, out_qsize 0\n",
      "2017-06-05 21:03:03,032 : INFO : PROGRESS: at 84.41% examples, 390825 words/s, in_qsize 7, out_qsize 0\n",
      "2017-06-05 21:03:04,067 : INFO : PROGRESS: at 85.51% examples, 390780 words/s, in_qsize 7, out_qsize 0\n",
      "2017-06-05 21:03:05,069 : INFO : PROGRESS: at 86.54% examples, 390902 words/s, in_qsize 7, out_qsize 0\n",
      "2017-06-05 21:03:06,070 : INFO : PROGRESS: at 87.64% examples, 391018 words/s, in_qsize 8, out_qsize 0\n",
      "2017-06-05 21:03:07,090 : INFO : PROGRESS: at 88.68% examples, 390619 words/s, in_qsize 7, out_qsize 0\n",
      "2017-06-05 21:03:08,119 : INFO : PROGRESS: at 89.72% examples, 390603 words/s, in_qsize 7, out_qsize 0\n",
      "2017-06-05 21:03:09,141 : INFO : PROGRESS: at 90.65% examples, 390497 words/s, in_qsize 7, out_qsize 0\n",
      "2017-06-05 21:03:10,159 : INFO : PROGRESS: at 91.66% examples, 390430 words/s, in_qsize 7, out_qsize 0\n",
      "2017-06-05 21:03:11,171 : INFO : PROGRESS: at 92.68% examples, 390404 words/s, in_qsize 7, out_qsize 0\n",
      "2017-06-05 21:03:12,228 : INFO : PROGRESS: at 93.81% examples, 390567 words/s, in_qsize 7, out_qsize 0\n",
      "2017-06-05 21:03:13,232 : INFO : PROGRESS: at 94.88% examples, 390756 words/s, in_qsize 8, out_qsize 0\n",
      "2017-06-05 21:03:14,234 : INFO : PROGRESS: at 95.92% examples, 390570 words/s, in_qsize 8, out_qsize 0\n",
      "2017-06-05 21:03:15,236 : INFO : PROGRESS: at 97.03% examples, 390664 words/s, in_qsize 7, out_qsize 0\n",
      "2017-06-05 21:03:16,246 : INFO : PROGRESS: at 97.98% examples, 390535 words/s, in_qsize 7, out_qsize 0\n",
      "2017-06-05 21:03:17,262 : INFO : PROGRESS: at 99.09% examples, 390751 words/s, in_qsize 7, out_qsize 0\n",
      "2017-06-05 21:03:18,040 : INFO : worker thread finished; awaiting finish of 3 more threads\n",
      "2017-06-05 21:03:18,072 : INFO : worker thread finished; awaiting finish of 2 more threads\n",
      "2017-06-05 21:03:18,090 : INFO : worker thread finished; awaiting finish of 1 more threads\n",
      "2017-06-05 21:03:18,097 : INFO : worker thread finished; awaiting finish of 0 more threads\n",
      "2017-06-05 21:03:18,098 : INFO : training on 42070515 raw words (37609839 effective words) took 96.2s, 390914 effective words/s\n"
     ]
    }
   ],
   "source": [
    "word_two_vec = models.Word2Vec(texts, size=200, window=4, min_count=10, workers=4, sg=1)"
   ]
  },
  {
   "cell_type": "code",
   "execution_count": 123,
   "metadata": {
    "collapsed": false
   },
   "outputs": [
    {
     "data": {
      "text/plain": [
       "gensim.models.word2vec.Word2Vec"
      ]
     },
     "execution_count": 123,
     "metadata": {},
     "output_type": "execute_result"
    }
   ],
   "source": [
    "type(word_two_vec)"
   ]
  },
  {
   "cell_type": "code",
   "execution_count": 124,
   "metadata": {
    "collapsed": false
   },
   "outputs": [
    {
     "name": "stdout",
     "output_type": "stream",
     "text": [
      "0.642901638534\n"
     ]
    }
   ],
   "source": [
    "print(word_two_vec.similarity('elon','tesla'))"
   ]
  },
  {
   "cell_type": "markdown",
   "metadata": {},
   "source": [
    "### Let's try some pair-wise comparisons! "
   ]
  },
  {
   "cell_type": "code",
   "execution_count": 125,
   "metadata": {
    "collapsed": false
   },
   "outputs": [
    {
     "name": "stdout",
     "output_type": "stream",
     "text": [
      "nice and linkedin: 0.20239235462425015\n",
      "helpful and linkedin: 0.3876046858402107\n",
      "awesome and linkedin: 0.3498346593234357\n",
      "jobs and linkedin: 0.29799666052627405\n",
      "good and linkedin: 0.24090598433809327\n",
      "bad and linkedin: 0.23487223532511387\n",
      "spam and linkedin: 0.5632705948911862\n",
      "advertising and linkedin: 0.3759218337755161\n",
      "ads and linkedin: 0.3505997308576099\n",
      "ad and linkedin: 0.35901339131943133\n",
      "spam and linkedin: 0.5632705948911862\n",
      "recruit and linkedin: 0.5795595281831671\n",
      "job and linkedin: 0.35215434476566415\n",
      "network and linkedin: 0.25516178153332936\n",
      "founder and linkedin: 0.49163205187247555\n"
     ]
    }
   ],
   "source": [
    "words_with_linkedin = ['nice', \"helpful\", \"awesome\", \"jobs\", 'good', 'bad', 'spam', 'advertising', 'ads', \"ad\", 'spam', \"recruit\", 'job', 'network', 'founder']\n",
    "\n",
    "for word in words_with_linkedin:\n",
    "    similarity = word_two_vec.similarity('linkedin', word)\n",
    "    print(\"{0} and linkedin: {1}\".format(word, similarity))"
   ]
  },
  {
   "cell_type": "code",
   "execution_count": 126,
   "metadata": {
    "collapsed": false
   },
   "outputs": [
    {
     "name": "stdout",
     "output_type": "stream",
     "text": [
      "nice and thiel: 0.19632102680414576\n",
      "good and thiel: 0.24903499217676953\n",
      "bad and thiel: 0.2511811258988722\n",
      "job and thiel: 0.20755877484129787\n",
      "network and thiel: 0.13711916392128082\n",
      "founder and thiel: 0.5909898758604776\n",
      "fund and thiel: 0.32248024521926766\n",
      "college and thiel: 0.3060743308021644\n"
     ]
    }
   ],
   "source": [
    "words_with_thiel = ['nice', 'good', 'bad', 'job', 'network', 'founder', 'fund', 'college']\n",
    "\n",
    "for word in words_with_thiel:\n",
    "    similarity = word_two_vec.similarity('thiel', word)\n",
    "    print(\"{0} and thiel: {1}\".format(word, similarity))"
   ]
  },
  {
   "cell_type": "code",
   "execution_count": 139,
   "metadata": {
    "collapsed": false
   },
   "outputs": [
    {
     "name": "stdout",
     "output_type": "stream",
     "text": [
      "cat and tesla: 0.21505069992285658\n",
      "cars and tesla: 0.5988400836137333\n",
      "mars and tesla: 0.3775405114799705\n",
      "musk and tesla: 0.6253844894378401\n",
      "car and tesla: 0.5526767085173219\n",
      "self and tesla: 0.38478363577643027\n",
      "three and tesla: 0.03963286818319984\n",
      "3 and tesla: 0.23641768562017917\n",
      "model and tesla: 0.3328042240316319\n",
      "spacex and tesla: 0.6253956259353688\n",
      "elon and tesla: 0.6429016385343611\n",
      "electric and tesla: 0.601355724488056\n",
      "vehicle and tesla: 0.5609685808100657\n"
     ]
    }
   ],
   "source": [
    "words_with_tesla = ['cat', 'cars', \"mars\", \"musk\", 'car', 'self', 'three', '3', 'model', 'spacex', 'elon', 'electric', 'vehicle']\n",
    "\n",
    "for word in words_with_tesla:\n",
    "    similarity = word_two_vec.similarity('tesla', word)\n",
    "    print(\"{0} and tesla: {1}\".format(word, similarity))"
   ]
  },
  {
   "cell_type": "code",
   "execution_count": 128,
   "metadata": {
    "collapsed": false
   },
   "outputs": [
    {
     "name": "stdout",
     "output_type": "stream",
     "text": [
      "science and data: 0.1616682181523955\n",
      "machine and data: 0.30986394282397633\n",
      "ai and data: 0.21883042231688965\n",
      "deep and data: 0.17386263496158044\n",
      "neural and data: 0.25426244585394137\n",
      "network and data: 0.2575073539589451\n",
      "learning and data: 0.21901204020162834\n",
      "model and data: 0.23399699345593594\n",
      "warehouse and data: 0.31522597025306526\n"
     ]
    }
   ],
   "source": [
    "words_with_data = ['science', 'machine', \"ai\", \"deep\", \"neural\", \"network\", \"learning\", \"model\", \"warehouse\"]\n",
    "\n",
    "for word in words_with_data:\n",
    "    similarity = word_two_vec.similarity('data', word)\n",
    "    print(\"{0} and data: {1}\".format(word, similarity))"
   ]
  },
  {
   "cell_type": "code",
   "execution_count": 129,
   "metadata": {
    "collapsed": false,
    "scrolled": true
   },
   "outputs": [
    {
     "name": "stdout",
     "output_type": "stream",
     "text": [
      "cars and uber: 0.4613491189487633\n",
      "drivers and uber: 0.5660130195233564\n",
      "driver and uber: 0.5198409876794874\n",
      "taxi and uber: 0.6967426203582391\n",
      "car and uber: 0.4399795883843042\n",
      "self and uber: 0.344473022757424\n",
      "travis and uber: 0.4635756352604215\n",
      "lyft and uber: 0.7824413043944751\n",
      "share and uber: 0.19054697015758365\n"
     ]
    }
   ],
   "source": [
    "words_with_uber = ['cars', \"drivers\", \"driver\", \"taxi\", 'car', 'self', 'travis', 'lyft', 'share']\n",
    "\n",
    "for word in words_with_uber:\n",
    "    similarity = word_two_vec.similarity('uber', word)\n",
    "    print(\"{0} and uber: {1}\".format(word, similarity))"
   ]
  },
  {
   "cell_type": "code",
   "execution_count": 130,
   "metadata": {
    "collapsed": false
   },
   "outputs": [
    {
     "name": "stdout",
     "output_type": "stream",
     "text": [
      "cars and apple: 0.27135330351255105\n",
      "self and apple: 0.22822908757019206\n",
      "steve and apple: 0.411437767835246\n",
      "jobs and apple: 0.16086889934329113\n",
      "ios and apple: 0.5704511588097121\n",
      "android and apple: 0.5176579568782066\n",
      "google and apple: 0.44813559423265015\n",
      "linux and apple: 0.3587924070906193\n",
      "os and apple: 0.4633175147944112\n",
      "mac and apple: 0.5665887571861825\n"
     ]
    }
   ],
   "source": [
    "words_with_apple = ['cars', 'self', 'steve', 'jobs', 'ios', 'android', 'google', 'linux', 'os', 'mac']\n",
    "\n",
    "for word in words_with_apple:\n",
    "    similarity = word_two_vec.similarity('apple', word)\n",
    "    print(\"{0} and apple: {1}\".format(word, similarity))"
   ]
  },
  {
   "cell_type": "markdown",
   "metadata": {},
   "source": [
    "With these pair-wise comparisions, we get a better understanding of "
   ]
  }
 ],
 "metadata": {
  "kernelspec": {
   "display_name": "Python 3",
   "language": "python",
   "name": "python3"
  },
  "language_info": {
   "codemirror_mode": {
    "name": "ipython",
    "version": 3.0
   },
   "file_extension": ".py",
   "mimetype": "text/x-python",
   "name": "python",
   "nbconvert_exporter": "python",
   "pygments_lexer": "ipython3",
   "version": "3.6.0"
  }
 },
 "nbformat": 4,
 "nbformat_minor": 0
}